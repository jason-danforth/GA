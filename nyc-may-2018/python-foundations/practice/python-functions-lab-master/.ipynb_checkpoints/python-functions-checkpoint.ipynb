{
 "cells": [
  {
   "cell_type": "markdown",
   "metadata": {},
   "source": [
    "<img src=\"http://imgur.com/1ZcRyrc.png\" style=\"float: left; margin: 20px; height: 55px\">\n",
    "\n",
    "## Practice Python Functions\n",
    "\n",
    "_Author: Ryan Dunlap | DSI-SF_\n",
    "\n",
    "---"
   ]
  },
  {
   "cell_type": "markdown",
   "metadata": {},
   "source": [
    "### Resources - Potentially Helpful Functions\n",
    "\n",
    "* [Dictionary Comprehension](https://docs.python.org/2/tutorial/datastructures.html#dictionaries)\n",
    "* [Enumerate](https://docs.python.org/2/library/functions.html#enumerate)\n",
    "* [Length](https://docs.python.org/2/library/functions.html#len)\n",
    "* [Int](https://docs.python.org/2/library/functions.html#int)\n",
    "* [List](https://docs.python.org/2/library/functions.html#list)"
   ]
  },
  {
   "cell_type": "markdown",
   "metadata": {},
   "source": [
    "Now-a-days, most of the components of the `String` module are already built into python however, it still has several [constant values](https://docs.python.org/2/library/string.html#string-constants) which can be useful, such as:\n",
    "```python\n",
    "string.ascii_uppercase\n",
    "```"
   ]
  },
  {
   "cell_type": "code",
   "execution_count": 1,
   "metadata": {},
   "outputs": [
    {
     "data": {
      "text/plain": [
       "'ABCDEFGHIJKLMNOPQRSTUVWXYZ'"
      ]
     },
     "execution_count": 1,
     "metadata": {},
     "output_type": "execute_result"
    }
   ],
   "source": [
    "import string\n",
    "\n",
    "string.ascii_uppercase"
   ]
  },
  {
   "cell_type": "markdown",
   "metadata": {},
   "source": [
    "---\n",
    "\n",
    "### 1. Write a function that takes the length of a side of a square as an argument and returns the area of the square."
   ]
  },
  {
   "cell_type": "code",
   "execution_count": 2,
   "metadata": {},
   "outputs": [
    {
     "data": {
      "text/plain": [
       "4"
      ]
     },
     "execution_count": 2,
     "metadata": {},
     "output_type": "execute_result"
    }
   ],
   "source": [
    "# A:\n",
    "\n",
    "def square(side):\n",
    "    return side**2\n",
    "\n",
    "square(2)"
   ]
  },
  {
   "cell_type": "markdown",
   "metadata": {},
   "source": [
    "---\n",
    "\n",
    "### 2. Write a function that takes the heigth and width of a triangle and returns the area."
   ]
  },
  {
   "cell_type": "code",
   "execution_count": 3,
   "metadata": {},
   "outputs": [
    {
     "data": {
      "text/plain": [
       "4.0"
      ]
     },
     "execution_count": 3,
     "metadata": {},
     "output_type": "execute_result"
    }
   ],
   "source": [
    "# A:\n",
    "\n",
    "def triangle(height, width):\n",
    "    return (height * width)/2\n",
    "\n",
    "triangle(4, 2)"
   ]
  },
  {
   "cell_type": "markdown",
   "metadata": {},
   "source": [
    "---\n",
    "\n",
    "### 3. Write a function that takes a string as an argument and returns a tuple consisting of two elements:\n",
    "- **A list of all the characters in the string.** \n",
    "- **A count of the number of characters in the string.**"
   ]
  },
  {
   "cell_type": "code",
   "execution_count": 6,
   "metadata": {},
   "outputs": [
    {
     "data": {
      "text/plain": [
       "({' ', 'd', 'e', 'h', 'l', 'o', 'r', 'w'}, 11)"
      ]
     },
     "execution_count": 6,
     "metadata": {},
     "output_type": "execute_result"
    }
   ],
   "source": [
    "# A:\n",
    "\n",
    "def new_func(my_str):\n",
    "    return set(my_str), len(my_str)\n",
    "\n",
    "new_func('hello world')"
   ]
  },
  {
   "cell_type": "markdown",
   "metadata": {},
   "source": [
    "---\n",
    "\n",
    "### 4. Write a function that takes two integers, passed as strings, and returns the sum, difference, and product as a tuple (all values as integers)."
   ]
  },
  {
   "cell_type": "code",
   "execution_count": 24,
   "metadata": {},
   "outputs": [
    {
     "data": {
      "text/plain": [
       "(7, 3, 10)"
      ]
     },
     "execution_count": 24,
     "metadata": {},
     "output_type": "execute_result"
    }
   ],
   "source": [
    "# A:\n",
    "\n",
    "def summary(str1, str2):\n",
    "    int1 = int(str1)\n",
    "    int2 = int(str2)\n",
    "    global my_tup\n",
    "    my_tup = (int1 + int2, int1 - int2, int1 * int2)\n",
    "    return my_tup\n",
    "\n",
    "summary('5', '2')"
   ]
  },
  {
   "cell_type": "code",
   "execution_count": 26,
   "metadata": {},
   "outputs": [
    {
     "data": {
      "text/plain": [
       "tuple"
      ]
     },
     "execution_count": 26,
     "metadata": {},
     "output_type": "execute_result"
    }
   ],
   "source": [
    "type(my_tup)"
   ]
  },
  {
   "cell_type": "markdown",
   "metadata": {},
   "source": [
    "---\n",
    "\n",
    "### 5. Write a function that takes a list as the argument and returns a tuple consisting of two elements:\n",
    "- **A list with the items in reverse order.**  \n",
    "- **A list of the items in the original list that have an odd index.**"
   ]
  },
  {
   "cell_type": "code",
   "execution_count": 98,
   "metadata": {},
   "outputs": [],
   "source": [
    "# A:\n",
    "\n",
    "def example5(my_list):\n",
    "    new_list = my_list[1::2]\n",
    "    my_list.reverse()\n",
    "    return my_list, new_list\n"
   ]
  },
  {
   "cell_type": "code",
   "execution_count": 101,
   "metadata": {},
   "outputs": [],
   "source": [
    "cray_list = [1,2,3,4,5,6]"
   ]
  },
  {
   "cell_type": "code",
   "execution_count": 102,
   "metadata": {},
   "outputs": [
    {
     "data": {
      "text/plain": [
       "([6, 5, 4, 3, 2, 1], [2, 4, 6])"
      ]
     },
     "execution_count": 102,
     "metadata": {},
     "output_type": "execute_result"
    }
   ],
   "source": [
    "example5(cray_list)"
   ]
  },
  {
   "cell_type": "code",
   "execution_count": null,
   "metadata": {},
   "outputs": [],
   "source": []
  },
  {
   "cell_type": "markdown",
   "metadata": {},
   "source": [
    "---\n",
    "\n",
    "### Challenge Problem: Write a function that returns the score for a word.  The score of the word is the sum of the scores of its letters. Each letter's score is equal to it's position in the alphabet.\n",
    "\n",
    "So, for example:\n",
    "\n",
    "* A = 1, B = 2, C = 3, D = 4, E = 5\n",
    "* abe = 8 = (1 + 2 + 5)\n",
    "\n",
    "\n",
    "_Hint: The string library has a property_ `ascii_lowercase` _that can save some typing here._\n"
   ]
  },
  {
   "cell_type": "code",
   "execution_count": 138,
   "metadata": {},
   "outputs": [],
   "source": [
    "# A:\n",
    "import string\n",
    "\n",
    "def letter_score(a_string):\n",
    "    a_string = a_string.lower()\n",
    "    points = {\n",
    "        'a':1, 'b':2, 'c':3, 'd':4, 'e':5, 'f':6, 'g':7, 'h':8, 'i':9, 'j':10, 'k':11, 'l':12, 'm':13, 'n':14, 'o':15,\n",
    "        'p':16, 'q':17, 'r':18, 's':19, 't':20, 'u':21, 'v':22, 'w':23, 'x':24, 'y':25, 'z':26\n",
    "    }\n",
    "    score = 0\n",
    "    for char in a_string:\n",
    "        if char in string.ascii_lowercase:\n",
    "            score += points[char]\n",
    "        else:\n",
    "            score = score\n",
    "    return score\n",
    "\n",
    " "
   ]
  },
  {
   "cell_type": "code",
   "execution_count": 139,
   "metadata": {},
   "outputs": [
    {
     "data": {
      "text/plain": [
       "30"
      ]
     },
     "execution_count": 139,
     "metadata": {},
     "output_type": "execute_result"
    }
   ],
   "source": [
    "letter_score('asdf')"
   ]
  },
  {
   "cell_type": "code",
   "execution_count": 140,
   "metadata": {},
   "outputs": [
    {
     "data": {
      "text/plain": [
       "6"
      ]
     },
     "execution_count": 140,
     "metadata": {},
     "output_type": "execute_result"
    }
   ],
   "source": [
    "letter_score('abc')"
   ]
  },
  {
   "cell_type": "code",
   "execution_count": null,
   "metadata": {},
   "outputs": [],
   "source": []
  }
 ],
 "metadata": {
  "anaconda-cloud": {},
  "kernelspec": {
   "display_name": "Python 3",
   "language": "python",
   "name": "python3"
  },
  "language_info": {
   "codemirror_mode": {
    "name": "ipython",
    "version": 3
   },
   "file_extension": ".py",
   "mimetype": "text/x-python",
   "name": "python",
   "nbconvert_exporter": "python",
   "pygments_lexer": "ipython3",
   "version": "3.6.4"
  }
 },
 "nbformat": 4,
 "nbformat_minor": 1
}
