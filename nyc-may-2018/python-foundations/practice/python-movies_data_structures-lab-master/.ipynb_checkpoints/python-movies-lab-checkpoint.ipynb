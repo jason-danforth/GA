{
 "cells": [
  {
   "cell_type": "markdown",
   "metadata": {},
   "source": [
    "<img src=\"http://imgur.com/1ZcRyrc.png\" style=\"float: left; margin: 20px; height: 55px\">\n",
    "\n",
    "## Python Review with Movie Data\n",
    "\n",
    "_Author: Kiefer Katovich and Dave Yerrington | DSI-SF_\n",
    "\n",
    "---\n",
    "\n",
    "In this lab you'll be using the provided imdb `movies` list below as your dataset. \n",
    "\n",
    "This lab is designed to practice iteration and funcitons in particular. The normal questions are more gentle, and the challenge questions are suitable for advanced/expert python or programming-experienced students. \n",
    "\n",
    "All the questions require writing functions and also use iteration to solve. You should print out a test of each function you write.\n",
    "\n",
    "\n",
    "### 1. Load the provided list of movies dictionaries."
   ]
  },
  {
   "cell_type": "code",
   "execution_count": 88,
   "metadata": {},
   "outputs": [],
   "source": [
    "# List of movies dictionaries:\n",
    "\n",
    "movies = [\n",
    "{\n",
    "\"name\": \"Usual Suspects\", \n",
    "\"imdb\": 7.0,\n",
    "\"category\": \"Thriller\"\n",
    "},\n",
    "{\n",
    "\"name\": \"Hitman\",\n",
    "\"imdb\": 6.3,\n",
    "\"category\": \"Action\"\n",
    "},\n",
    "{\n",
    "\"name\": \"Dark Knight\",\n",
    "\"imdb\": 9.0,\n",
    "\"category\": \"Adventure\"\n",
    "},\n",
    "{\n",
    "\"name\": \"The Help\",\n",
    "\"imdb\": 8.0,\n",
    "\"category\": \"Drama\"\n",
    "},\n",
    "{\n",
    "\"name\": \"The Choice\",\n",
    "\"imdb\": 6.2,\n",
    "\"category\": \"Romance\"\n",
    "},\n",
    "{\n",
    "\"name\": \"Colonia\",\n",
    "\"imdb\": 7.4,\n",
    "\"category\": \"Romance\"\n",
    "},\n",
    "{\n",
    "\"name\": \"Love\",\n",
    "\"imdb\": 6.0,\n",
    "\"category\": \"Romance\"\n",
    "},\n",
    "{\n",
    "\"name\": \"Bride Wars\",\n",
    "\"imdb\": 5.4,\n",
    "\"category\": \"Romance\"\n",
    "},\n",
    "{\n",
    "\"name\": \"AlphaJet\",\n",
    "\"imdb\": 3.2,\n",
    "\"category\": \"War\"\n",
    "},\n",
    "{\n",
    "\"name\": \"Ringing Crime\",\n",
    "\"imdb\": 4.0,\n",
    "\"category\": \"Crime\"\n",
    "},\n",
    "{\n",
    "\"name\": \"Joking muck\",\n",
    "\"imdb\": 7.2,\n",
    "\"category\": \"Comedy\"\n",
    "},\n",
    "{\n",
    "\"name\": \"What is the name\",\n",
    "\"imdb\": 9.2,\n",
    "\"category\": \"Suspense\"\n",
    "},\n",
    "{\n",
    "\"name\": \"Detective\",\n",
    "\"imdb\": 7.0,\n",
    "\"category\": \"Suspense\"\n",
    "},\n",
    "{\n",
    "\"name\": \"Exam\",\n",
    "\"imdb\": 4.2,\n",
    "\"category\": \"Thriller\"\n",
    "},\n",
    "{\n",
    "\"name\": \"We Two\",\n",
    "\"imdb\": 7.2,\n",
    "\"category\": \"Romance\"\n",
    "}\n",
    "]"
   ]
  },
  {
   "cell_type": "markdown",
   "metadata": {},
   "source": [
    "---\n",
    "\n",
    "### 2. Filtering data by IMDB score\n",
    "\n",
    "#### 2.1 \n",
    "\n",
    "Write a function that:\n",
    "\n",
    "1. Accepts a single movie dictionary from the `movies` list as an argument.\n",
    "2. Returns True if the IMDB score is above 5.5.\n",
    "\n",
    "#### 2.2 [Challenge] \n",
    "\n",
    "Write a function that:\n",
    "\n",
    "1. Accepts the movies list and a specified category.\n",
    "2. Returns True if the average score of the category is higher than the average score of all movies."
   ]
  },
  {
   "cell_type": "code",
   "execution_count": 4,
   "metadata": {},
   "outputs": [],
   "source": [
    "# Your code here. \n",
    "#2.1\n",
    "\n",
    "def is_ok(a_dict):\n",
    "    if a_dict['imdb'] > 5.5:\n",
    "        return a_dict['name'] + ' is ok'\n",
    "    else:\n",
    "        print('Nope')\n"
   ]
  },
  {
   "cell_type": "code",
   "execution_count": 104,
   "metadata": {},
   "outputs": [
    {
     "data": {
      "text/plain": [
       "'Hitmanis ok'"
      ]
     },
     "execution_count": 104,
     "metadata": {},
     "output_type": "execute_result"
    }
   ],
   "source": [
    "is_ok(movies[1])"
   ]
  },
  {
   "cell_type": "code",
   "execution_count": 101,
   "metadata": {},
   "outputs": [],
   "source": [
    "# 2.2\n",
    "import numpy\n",
    "\n",
    "def av_score(category, movies = movies):\n",
    "    scores_all = []\n",
    "    scores_category = []\n",
    "    for movie in movies:\n",
    "        scores_all.append(movie['imdb'])\n",
    "        if movie['category'] == category:\n",
    "            scores_category.append(movie['imdb'])\n",
    "        else:\n",
    "            pass\n",
    "    av_all = numpy.mean(scores_all)\n",
    "    av_category = numpy.mean(scores_category)\n",
    "    return av_category > av_all"
   ]
  },
  {
   "cell_type": "code",
   "execution_count": 102,
   "metadata": {},
   "outputs": [
    {
     "data": {
      "text/plain": [
       "False"
      ]
     },
     "execution_count": 102,
     "metadata": {},
     "output_type": "execute_result"
    }
   ],
   "source": [
    "av_score('Thriller')"
   ]
  },
  {
   "cell_type": "markdown",
   "metadata": {},
   "source": [
    "---\n",
    "\n",
    "### 3. Creating subsets by numeric condition\n",
    "\n",
    "#### 3.1\n",
    "\n",
    "Write a function that:\n",
    "\n",
    "1. Accepts the list of movies and a specified imdb score.\n",
    "2. Returns the sublist of movies that have a score greater than the specified score.\n",
    "\n",
    "#### 3.2 [Expert] \n",
    "\n",
    "Write a function that:\n",
    "\n",
    "1. Accepts the movies list as an argument.\n",
    "2. Returns the movies list sorted first by category and then by movie according to average score and individual score, respectively."
   ]
  },
  {
   "cell_type": "code",
   "execution_count": 15,
   "metadata": {},
   "outputs": [],
   "source": [
    "# 3.1\n",
    "\n",
    "def is_better(imdb, movies = movies):\n",
    "    good_enough = []\n",
    "    for movie in movies:\n",
    "        if movie['imdb'] > imdb:\n",
    "            good_enough.append(movie['name'])\n",
    "        else:\n",
    "            pass\n",
    "    return good_enough"
   ]
  },
  {
   "cell_type": "code",
   "execution_count": 16,
   "metadata": {},
   "outputs": [
    {
     "data": {
      "text/plain": [
       "['Usual Suspects',\n",
       " 'Hitman',\n",
       " 'Dark Knight',\n",
       " 'The Help',\n",
       " 'The Choice',\n",
       " 'Colonia',\n",
       " 'Love',\n",
       " 'Bride Wars',\n",
       " 'Joking muck',\n",
       " 'What is the name',\n",
       " 'Detective',\n",
       " 'We Two']"
      ]
     },
     "execution_count": 16,
     "metadata": {},
     "output_type": "execute_result"
    }
   ],
   "source": [
    "is_better(5.0)"
   ]
  },
  {
   "cell_type": "code",
   "execution_count": 147,
   "metadata": {},
   "outputs": [],
   "source": [
    "def all_sorts(movies = movies):\n",
    "    \n",
    "    # create a list of sorted categories\n",
    "    categories = []\n",
    "    for movie in movies:\n",
    "        categories.append(movie['category'])\n",
    "    categories = set(categories)\n",
    "    categories_list = []\n",
    "    for category in categories:\n",
    "        categories_list.append(category)\n",
    "    categories_list.sort()\n",
    "    \n",
    "    # create a list of movies for each category, and sort by score\n",
    "    movies_sorted = []\n",
    "    for category_name in categories_list:\n",
    "        \n",
    "        # create a sublist of all movies in a given category\n",
    "        movies_sublist = []\n",
    "        for movie in movies:\n",
    "            if movie['category'] == category_name:\n",
    "                movies_sublist.append(movie)\n",
    "        \n",
    "        # create a sublist of scores of movies in a given category\n",
    "        movies_sublist_scores = []\n",
    "        for movie in movies_sublist:\n",
    "            movies_sublist_scores.append(movie['imdb'])\n",
    "        movies_sublist_scores.sort()\n",
    "        \n",
    "        movies_sublist_ranked = []\n",
    "        for score in movies_sublist_scores:\n",
    "            for movie in movies_sublist:\n",
    "                if movie['imdb'] == score:\n",
    "                    movies_sublist_ranked.append(movie)\n",
    "        \n",
    "        movies_sublist_ranked.reverse()\n",
    "        movies_sorted.append(movies_sublist_ranked)\n",
    "    return movies_sorted"
   ]
  },
  {
   "cell_type": "code",
   "execution_count": 148,
   "metadata": {},
   "outputs": [
    {
     "data": {
      "text/plain": [
       "[[{'category': 'Action', 'imdb': 6.3, 'name': 'Hitman'}],\n",
       " [{'category': 'Adventure', 'imdb': 9.0, 'name': 'Dark Knight'}],\n",
       " [{'category': 'Comedy', 'imdb': 7.2, 'name': 'Joking muck'}],\n",
       " [{'category': 'Crime', 'imdb': 4.0, 'name': 'Ringing Crime'}],\n",
       " [{'category': 'Drama', 'imdb': 8.0, 'name': 'The Help'}],\n",
       " [{'category': 'Romance', 'imdb': 7.4, 'name': 'Colonia'},\n",
       "  {'category': 'Romance', 'imdb': 7.2, 'name': 'We Two'},\n",
       "  {'category': 'Romance', 'imdb': 6.2, 'name': 'The Choice'},\n",
       "  {'category': 'Romance', 'imdb': 6.0, 'name': 'Love'},\n",
       "  {'category': 'Romance', 'imdb': 5.4, 'name': 'Bride Wars'}],\n",
       " [{'category': 'Suspense', 'imdb': 9.2, 'name': 'What is the name'},\n",
       "  {'category': 'Suspense', 'imdb': 7.0, 'name': 'Detective'}],\n",
       " [{'category': 'Thriller', 'imdb': 7.0, 'name': 'Usual Suspects'},\n",
       "  {'category': 'Thriller', 'imdb': 4.2, 'name': 'Exam'}],\n",
       " [{'category': 'War', 'imdb': 3.2, 'name': 'AlphaJet'}]]"
      ]
     },
     "execution_count": 148,
     "metadata": {},
     "output_type": "execute_result"
    }
   ],
   "source": [
    "all_sorts()"
   ]
  },
  {
   "cell_type": "code",
   "execution_count": null,
   "metadata": {},
   "outputs": [],
   "source": []
  },
  {
   "cell_type": "markdown",
   "metadata": {},
   "source": [
    "---\n",
    "\n",
    "### 4. Creating subsets by string condition\n",
    "\n",
    "#### 4.1\n",
    "\n",
    "Write a function that:\n",
    "\n",
    "1. Accepts the movies list and a category name.\n",
    "2. Returns the movie names within that category (case-insensitive!)\n",
    "3. If the category is not in the data, print a message that it does not exist and return None.\n",
    "\n",
    "Recall that to convert a string to lowercase, you can use:\n",
    "\n",
    "```python\n",
    "mystring = 'Dumb and Dumber'\n",
    "lowercase_mystring = mystring.lower()\n",
    "print lowercase_mystring\n",
    "'dumb and dumber'\n",
    "```\n",
    "\n",
    "#### 4.2 [Challenge]\n",
    "\n",
    "Write a function that:\n",
    "\n",
    "1. Accepts the movies list and a \"search string\".\n",
    "2. Returns a dictionary with keys `'category'` and `'title'` whose values are lists of categories that contain the search string and titles that contain the search string, respectively (case-insensitive!)"
   ]
  },
  {
   "cell_type": "code",
   "execution_count": 60,
   "metadata": {},
   "outputs": [],
   "source": [
    "# 4.1\n",
    "\n",
    "def is_in(category, movies = movies):\n",
    "    list_of_categories = []\n",
    "    for movie in movies:\n",
    "        this_category = movie['category'].lower()\n",
    "        list_of_categories.append(this_category)\n",
    "    category = category.lower()\n",
    "    if category in list_of_categories:\n",
    "        list_of_names = []\n",
    "        for movie in movies:\n",
    "            if movie['category'].lower() == category:\n",
    "                list_of_names.append(movie['name'])\n",
    "            else:\n",
    "                pass\n",
    "        return list_of_names\n",
    "    else:\n",
    "        print('Try a different category')"
   ]
  },
  {
   "cell_type": "code",
   "execution_count": 62,
   "metadata": {},
   "outputs": [
    {
     "name": "stdout",
     "output_type": "stream",
     "text": [
      "this is a good category!\n"
     ]
    },
    {
     "data": {
      "text/plain": [
       "['The Choice', 'Colonia', 'Love', 'Bride Wars', 'We Two']"
      ]
     },
     "execution_count": 62,
     "metadata": {},
     "output_type": "execute_result"
    }
   ],
   "source": [
    "is_in('Romance')"
   ]
  },
  {
   "cell_type": "markdown",
   "metadata": {},
   "source": [
    "---\n",
    "\n",
    "### 5. Multiple conditions\n",
    "\n",
    "#### 5.1\n",
    "\n",
    "Write a function that:\n",
    "\n",
    "1. Accepts the movies list and a \"search criteria\" variable.\n",
    "2. If the criteria variable is numeric, return a list of movie titles with a score greater than or equal to the criteria.\n",
    "3. If the criteria variable is a string, return a list of movie titles that match that category (case-insensitive!). If there is no match, return an empty list and print an informative message.\n",
    "\n",
    "#### 5.2 [Expert]\n",
    "\n",
    "Write a function that:\n",
    "\n",
    "1. Accepts the movies list and a string search criteria variable.\n",
    "2. The search criteria variable can contain within it:\n",
    "  - Boolean operations: `'AND'`, `'OR'`, and `'NOT'` (can have/be lowercase as well, I just capitalized for clarity).\n",
    "  - Search criteria specified with syntax `score=...`, `category=...`, and/or `title=...`, where the `...` indicates what to look for.\n",
    "    - If `score` is present, it means scores greater than or equal to the value.\n",
    "    - For `category` and `title`, the string indicates that the category or title must _contain_ the search string (case-insensitive).\n",
    "3. Return the matches for the search criteria specified."
   ]
  },
  {
   "cell_type": "code",
   "execution_count": 85,
   "metadata": {},
   "outputs": [],
   "source": [
    "# 5.1\n",
    "\n",
    "def criteria (crit, movies = movies):\n",
    "    if type(crit) == int or type(crit) == float:\n",
    "        good_enough = []\n",
    "        for movie in movies:\n",
    "            if movie['imdb'] >= crit:\n",
    "                good_enough.append(movie['name'])\n",
    "            else:\n",
    "                pass\n",
    "        return good_enough\n",
    "    elif type(crit) == str:\n",
    "        list_of_categories = []\n",
    "        for movie in movies:\n",
    "            this_category = movie['category'].lower()\n",
    "            list_of_categories.append(this_category)\n",
    "        category = crit.lower()\n",
    "        if category in list_of_categories:\n",
    "            list_of_names = []\n",
    "            for movie in movies:\n",
    "                if movie['category'].lower() == category:\n",
    "                    list_of_names.append(movie['name'])\n",
    "                else:\n",
    "                    pass\n",
    "            return list_of_names\n",
    "        else:\n",
    "            print('Try a different category')\n",
    "    else:\n",
    "        print(\"Get it together\")"
   ]
  },
  {
   "cell_type": "code",
   "execution_count": 86,
   "metadata": {},
   "outputs": [
    {
     "data": {
      "text/plain": [
       "['Usual Suspects', 'Exam']"
      ]
     },
     "execution_count": 86,
     "metadata": {},
     "output_type": "execute_result"
    }
   ],
   "source": [
    "criteria('thriller')"
   ]
  },
  {
   "cell_type": "code",
   "execution_count": null,
   "metadata": {},
   "outputs": [],
   "source": []
  }
 ],
 "metadata": {
  "kernelspec": {
   "display_name": "Python 3",
   "language": "python",
   "name": "python3"
  },
  "language_info": {
   "codemirror_mode": {
    "name": "ipython",
    "version": 3
   },
   "file_extension": ".py",
   "mimetype": "text/x-python",
   "name": "python",
   "nbconvert_exporter": "python",
   "pygments_lexer": "ipython3",
   "version": "3.6.4"
  }
 },
 "nbformat": 4,
 "nbformat_minor": 1
}
