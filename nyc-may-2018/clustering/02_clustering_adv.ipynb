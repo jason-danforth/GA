{
 "cells": [
  {
   "cell_type": "markdown",
   "metadata": {},
   "source": [
    "<img src=\"http://imgur.com/1ZcRyrc.png\" style=\"float: left; margin: 20px; height: 55px\">\n",
    "\n",
    "# Clustering\n",
    "\n",
    "_Author: Sinan Uozdemir (San Francisco)_\n",
    "\n",
    "---"
   ]
  },
  {
   "cell_type": "markdown",
   "metadata": {},
   "source": [
    "<a id=\"learning-objectives\"></a>\n",
    "### Learning Objectives\n",
    "- Know the difference between supervised and unsupervised learning.\n",
    "- Understand and know how to apply k-means clustering.\n",
    "- Understand and know how to apply density-based clustering (DBSCAN).\n",
    "- Define the Silhouette Coefficient and how it relates to clustering."
   ]
  },
  {
   "cell_type": "markdown",
   "metadata": {},
   "source": [
    "### Lesson Guide\n",
    "- [Unsupervised Learning](#unsupervised-learning)\n",
    "\t- [Unsupervised Learning Example: Coin Clustering](#unsupervised-learning-example-coin-clustering)\n",
    "\t- [Common Types of Unsupervised Learning](#common-types-of-unsupervised-learning)\n",
    "\t- [Using Multiple Types of Learning Together](#using-multiple-types-of-learning-together)\n",
    "- [Clustering](#clustering)\n",
    "- [K-Means: Centroid Clustering](#k-means-centroid-clustering)\n",
    "\t- [Visual Demo](#visual-demo)\n",
    "\t- [K-Means Assumptions](#assumptions-are-important-k-means-assumes)\n",
    "- [K-Means Demo](#k-means-demo)\n",
    "\t- [K-Means Clustering](#k-means-clustering)\n",
    "\t- [Repeat With Scaled Data](#repeat-with-scaled-data)\n",
    "- [DBSCAN: Density-Based Clustering](#dbscan-density-based-clustering)\n",
    "\t- [Visual Demo](#visual-demo)\n",
    "- [DBSCAN Clustering Demo](#dbscan-clustering-demo)\n",
    "- [Hierarchical Clustering](#hierarchical-clustering)\n",
    "- [Clustering Metrics](#clustering-metrics)\n",
    "- [Clustering, Classification, and Regression](#clustering-classification-and-regression)\n",
    "- [Comparing Clustering Algorithms](#comparing-clustering-algorithms)\n",
    "- [Lesson Summary](#lesson-summary)"
   ]
  },
  {
   "cell_type": "markdown",
   "metadata": {},
   "source": [
    "<a id=\"unsupervised-learning\"></a>\n",
    "## Unsupervised Learning\n",
    "---"
   ]
  },
  {
   "cell_type": "markdown",
   "metadata": {},
   "source": [
    "Supervised learning focuses on finding a relationship between a matrix of features and a response variable. \n",
    "\n",
    "There is typically additional (latent) structure hiding in the feature matrix. For example, some features might be related to each other or even redundant. There also could be groups of observations that seem to be related.\n",
    "\n",
    "Taking advantage of these latent structures allows us to study data without an explicit response in mind and to find better representations for our data to improve predictive performance.\n",
    "\n",
    "**Unsupervised learning** is designed to identify these kinds of structural relationships in our data."
   ]
  },
  {
   "cell_type": "markdown",
   "metadata": {},
   "source": [
    "> **The primary goal of unsupervised learning is \"representation.\"** Unsupervised learning extracts structure from data. For example, you could segment grocery-store shoppers into \"clusters\" of shoppers who exhibit similar behaviors."
   ]
  },
  {
   "cell_type": "markdown",
   "metadata": {},
   "source": [
    "So far, we have primarily studied supervised algorithms: Each observation (row of data) comes with one or more labels -- either categorical variables (classes) or measurements (regression).\n",
    "\n",
    "Unsupervised learning has a different goal: feature discovery.\n",
    "\n",
    "> One common and fundamental example of unsupervised learning is **clustering**. Clustering algorithms are used to find meaningful groups within data."
   ]
  },
  {
   "cell_type": "markdown",
   "metadata": {},
   "source": [
    "**Unsupervised learning is clearly differentiated from supervised learning.** With unsupervised learning:\n",
    "\n",
    "- There's no clear objective.\n",
    "- There's no \"right answer\" (which means it's hard to tell how well you're doing).\n",
    "- There's no response variable — only observations with features.\n",
    "- Labeled data is not required."
   ]
  },
  {
   "cell_type": "markdown",
   "metadata": {},
   "source": [
    "<a id=\"unsupervised-learning-example-coin-clustering\"></a>\n",
    "### An Example of Unsupervised Learning: Coin Clustering"
   ]
  },
  {
   "cell_type": "markdown",
   "metadata": {},
   "source": [
    "- Observations: Coins\n",
    "- Features: Size and mass\n",
    "- Response: None (no hand-labeling required!)\n",
    "\n",
    "- Perform unsupervised learning:\n",
    "  - Cluster the coins based on “similarity.”\n",
    "  - You’re done!"
   ]
  },
  {
   "cell_type": "markdown",
   "metadata": {},
   "source": [
    "![](./assets/images/unsupervised-coin.png)"
   ]
  },
  {
   "cell_type": "markdown",
   "metadata": {},
   "source": [
    "What would you imagine a plot of US coins to look like? Are these coins likely US coins (pennies, nickels, dimes, and quarters)?\n",
    "\n",
    "**Answer:** ---\n",
    "\n",
    "What conclusions could you make about this group of coins?\n",
    "\n",
    "**Answer:** ---"
   ]
  },
  {
   "cell_type": "markdown",
   "metadata": {},
   "source": [
    "<a id=\"common-types-of-unsupervised-learning\"></a>\n",
    "### Common Types of Unsupervised Learning"
   ]
  },
  {
   "cell_type": "markdown",
   "metadata": {},
   "source": [
    "**Clustering:** Group “similar” data points together.\n",
    "\n",
    "**Dimensionality Reduction:** Reduce the dimensionality of a data set by extracting features that capture most of the variance in the data."
   ]
  },
  {
   "cell_type": "markdown",
   "metadata": {},
   "source": [
    "<a id=\"using-multiple-types-of-learning-together\"></a>\n",
    "### Using Multiple Types of Learning Together\n",
    "None of these techniques are mutually exclusive, and they can be used in combination for better results. A useful example is **transfer learning**.\n",
    "\n",
    "Imagine you have a 100,000-row data set with no response values. Your job is to create a response with hand-labels and then create an algorithm to predict the response using supervised learning. \n",
    "\n",
    "Unfortunately, you only have time to label 10,000 rows. Does that mean the rest of the data is useless?\n",
    "\n",
    "The extra 90,000 rows are very useful! We can first use unsupervised learning to identify hidden structures such as related features and groups that naturally form in our data. The unsupervised learning algorithms can transform both our unlabeled and labeled data into a form that's easier to predict from.\n",
    "\n",
    "We then use the new transformed data with supervised learning to get the predictions we were looking for."
   ]
  },
  {
   "cell_type": "markdown",
   "metadata": {},
   "source": [
    "<a id=\"clustering\"></a>\n",
    "## Clustering\n",
    "---"
   ]
  },
  {
   "cell_type": "markdown",
   "metadata": {},
   "source": [
    "![](http://img.tesco.com/Groceries/pi/476/5011546405476/IDShot_540x540.jpg)"
   ]
  },
  {
   "cell_type": "markdown",
   "metadata": {},
   "source": [
    "### Helpful uses for clustering: \n",
    "   - Find items with similar behavior (users, products, voters, etc)\n",
    "   - Market segmentation\n",
    "   - Understand complex systems\n",
    "   - Discover meaningful categories for your data\n",
    "   - Reduce the number of classes by grouping (e.g. bourbons, scotches -> whiskeys)\n",
    "   - Reduce the dimensions of your problem\n",
    "   - Pre-processing! Create labels for supervised learning"
   ]
  },
  {
   "cell_type": "markdown",
   "metadata": {},
   "source": [
    "# Great. Clustering is useful.\n",
    "\n",
    "# Any ideas how to algorithmically tell which groups are different?\n",
    "\n",
    "![](http://home.deib.polimi.it/matteucc/Clustering/tutorial_html/images/clustering.gif)"
   ]
  },
  {
   "cell_type": "markdown",
   "metadata": {},
   "source": [
    "# Hey. Don't scroll ahead. \n",
    "![](http://images-cdn.9gag.com/photo/aq2m1mY_700b.jpg)"
   ]
  },
  {
   "cell_type": "markdown",
   "metadata": {},
   "source": [
    "We're going to cover three major clustering approaches:\n",
    "\n",
    "- **Centroid clustering using k-means:** Looks for the centers of k pre-specified groups.\n",
    "\n",
    "- **Density-based clustering using DBSCAN:** Looks at gaps, or lack thereof, between datapoints.\n",
    "\n",
    "- **Hierarchical clustering using agglomerative clustering:** Forms groups of groups of groups in a hierarchy to determine clusters."
   ]
  },
  {
   "cell_type": "markdown",
   "metadata": {},
   "source": [
    "#### K-Means Clustering\n",
    "\n",
    "Similarly to k-nearest neighbors, this partitions the entire space into regions (Voronoi partitions). In k-means clustering, k refers to the number of clusters. Also, since this is unsupervised learning, the regions are determined by the k-means algorithm instead of being provided by the training data.\n",
    "\n",
    "**Question:** Why might data often appear in centered clusters?\n",
    "\n",
    "![](./assets/images/clustering-centroids.png)"
   ]
  },
  {
   "cell_type": "markdown",
   "metadata": {},
   "source": [
    "#### Density-Based Clustering\n",
    "\n",
    "In DBSCAN (Density-Based Spatial Clustering of Applications with Noise), clusters are created from areas of high density. This can lead to irregularly shaped regions. Also, many parts of space may not belong to any region.\n",
    "\n",
    "**Question:** Why might data often appear in density-based clusters?"
   ]
  },
  {
   "cell_type": "markdown",
   "metadata": {},
   "source": [
    "![](./assets/images/density-clusters.png)"
   ]
  },
  {
   "cell_type": "markdown",
   "metadata": {},
   "source": [
    "#### Hierarchical Clustering\n",
    "\n",
    "In hierarchical clustering, clusters are composed by joining two smaller clusters together.\n",
    "\n",
    "Below, we see a tree data structure that stores clusters of points:\n",
    "- Each node represents a cluster of one or more data points.\n",
    "- Each leaf represents a single data point.\n",
    "- The root is the cluster containing all data points.\n",
    "- Each parent combines its children's clusters to create a new (larger) cluster.\n",
    "\n",
    "**Question:** When might hierarchical clustering be useful?"
   ]
  },
  {
   "cell_type": "markdown",
   "metadata": {},
   "source": [
    "![](./assets/images/hierarchical-clustering.png)"
   ]
  },
  {
   "cell_type": "markdown",
   "metadata": {},
   "source": [
    "**Question:** How is unsupervised learning different from classification?"
   ]
  },
  {
   "cell_type": "markdown",
   "metadata": {},
   "source": [
    "**Question:** Can you think of real-world clustering applications?"
   ]
  },
  {
   "cell_type": "markdown",
   "metadata": {},
   "source": [
    "<a id=\"k-means-centroid-clustering\"></a>\n",
    "## K-Means: Centroid Clustering\n",
    "---"
   ]
  },
  {
   "cell_type": "markdown",
   "metadata": {},
   "source": [
    "K-means clustering is a popular centroid-based clustering algorithm.\n",
    " \n",
    "In k-means clustering, we find $k$ clusters (where $k$ is user-specified), each distributed around a single point (called a **centroid**, an imaginary \"center point\" or the cluster's \"center of mass\").\n",
    "\n",
    "> **K-means seeks to minimize the sum of squares of each point about its cluster centroid.**\n",
    "\n",
    "If we manage to minimize this, then we claim to have found good clusters.\n",
    "\n",
    "- As a class, try drawing three clusters and data points in which this constraint is met.\n",
    "- Draw another diagram where the constraint is not met.\n",
    "\n",
    "---"
   ]
  },
  {
   "cell_type": "markdown",
   "metadata": {},
   "source": [
    "This is a computationally difficult problem to solve, so we often rely on heuristics.\n",
    "\n",
    "The \"standard\" heuristic is called **Lloyd’s Algorithm**:\n",
    "1. Start with $k$ initial (random) points* (we'll call these \"centroids\").\n",
    "2. Assign each datapoint to a cluster by finding its \"closest\" centroid (e.g. using Euclidean distance).\n",
    "3. Calculate new centroids based on the datapoints assigned to each cluster.\n",
    "4. Repeat 2-4 until clusters do not change.\n",
    "\n",
    "\\* There are a number of techniques for choosing initial points. For example, see the `k-means++` technique."
   ]
  },
  {
   "cell_type": "markdown",
   "metadata": {},
   "source": [
    "<a id=\"k-means-demo\"></a>\n",
    "## K-Means Demo\n",
    "---"
   ]
  },
  {
   "cell_type": "markdown",
   "metadata": {},
   "source": [
    "<a id=\"visual-demo\"></a>\n",
    "### Visual Demo\n",
    "\n",
    "[Click through](https://www.naftaliharris.com/blog/visualizing-k-means-clustering/) for a demo of k-means clustering in action.\n",
    "\n",
    "![voronoi](assets/voronoi.png)"
   ]
  },
  {
   "cell_type": "markdown",
   "metadata": {},
   "source": [
    "<a id=\"assumptions-are-important-k-means-assumes\"></a>\n",
    "### K-Means Assumptions"
   ]
  },
  {
   "cell_type": "markdown",
   "metadata": {},
   "source": [
    "K-means assumes:\n",
    "\n",
    "- k is the correct number of clusters.\n",
    "- The data is isotropically distributed (circular/spherical distribution).\n",
    "- The variance is the same for each variable.\n",
    "- Clusters are roughly the same size.\n",
    "\n",
    "View these resources to see counterexamples/cases where assumptions are not met:\n",
    "- [Variance Explained](http://varianceexplained.org/r/kmeans-free-lunch/)\n",
    "- [Scikit-Learn](http://scikit-learn.org/stable/auto_examples/cluster/plot_kmeans_assumptions.html)"
   ]
  },
  {
   "cell_type": "markdown",
   "metadata": {},
   "source": [
    "#### How do we choose k?\n",
    "\n",
    "Finding the correct k to use for k-means clustering is not a simple task.\n",
    "\n",
    "We do not have a ground-truth we can use, so there isn't necessarily a \"correct\" number of clusters. However, we can find metrics that try to quantify the quality of our groupings.\n",
    "\n",
    "Our application is also an important consideration. For example, during customer segmentation we want clusters that are large enough to be targetable by the marketing team. In that case, even if the most natural-looking clusters are small, we may try to group several of them together so that it makes financial sense to target those groups.\n",
    "\n",
    "**Common approaches include:**\n",
    "- Figuring out the correct number of clusters from previous experience.\n",
    "- Using the elbow method to find a number of clusters that no longer seems to improve a clustering metric by a noticeable degree.\n",
    "  - The silhouette coefficient is a commonly used measure.\n",
    "  - For an example, check out this [silhouette analysis](http://scikit-learn.org/stable/auto_examples/cluster/plot_kmeans_silhouette_analysis.html) documentation on sklearn.\n",
    "  - If we're using clustering to improve performance on a supervised learning problem, then we can use our usual methods to test predictions.\n",
    "  \n",
    "Sometimes you have good context:\n",
    "   - I need to create 3 profiles for marketing to target\n",
    "\n",
    "Other times you have to figure it out:\n",
    "   - My scatter plots show 2 linearly separable clusters\n",
    "   \n",
    "   \n",
    "**It's tempting to \"tune\" k as we have in supervised learning:**\n",
    "  - If we are working on a supervised learning problem, then this is possible.\n",
    "  - If we are using clustering to explore our data, then tuning is of little benefit since we do not know precisely what we are looking for."
   ]
  },
  {
   "cell_type": "code",
<<<<<<< HEAD
   "execution_count": 1,
=======
   "execution_count": 64,
>>>>>>> 4d539547f5b560e9976431c7134674d01c5181d4
   "metadata": {},
   "outputs": [
    {
     "data": {
      "text/html": [
       "<div>\n",
       "<style scoped>\n",
       "    .dataframe tbody tr th:only-of-type {\n",
       "        vertical-align: middle;\n",
       "    }\n",
       "\n",
       "    .dataframe tbody tr th {\n",
       "        vertical-align: top;\n",
       "    }\n",
       "\n",
       "    .dataframe thead th {\n",
       "        text-align: right;\n",
       "    }\n",
       "</style>\n",
       "<table border=\"1\" class=\"dataframe\">\n",
       "  <thead>\n",
       "    <tr style=\"text-align: right;\">\n",
       "      <th></th>\n",
       "      <th>name</th>\n",
       "      <th>calories</th>\n",
       "      <th>sodium</th>\n",
       "      <th>alcohol</th>\n",
       "      <th>cost</th>\n",
       "    </tr>\n",
       "  </thead>\n",
       "  <tbody>\n",
       "    <tr>\n",
       "      <th>0</th>\n",
       "      <td>Budweiser</td>\n",
       "      <td>144</td>\n",
       "      <td>15</td>\n",
       "      <td>4.7</td>\n",
       "      <td>0.43</td>\n",
       "    </tr>\n",
       "    <tr>\n",
       "      <th>1</th>\n",
       "      <td>Schlitz</td>\n",
       "      <td>151</td>\n",
       "      <td>19</td>\n",
       "      <td>4.9</td>\n",
       "      <td>0.43</td>\n",
       "    </tr>\n",
       "    <tr>\n",
       "      <th>2</th>\n",
       "      <td>Lowenbrau</td>\n",
       "      <td>157</td>\n",
       "      <td>15</td>\n",
       "      <td>0.9</td>\n",
       "      <td>0.48</td>\n",
       "    </tr>\n",
       "    <tr>\n",
       "      <th>3</th>\n",
       "      <td>Kronenbourg</td>\n",
       "      <td>170</td>\n",
       "      <td>7</td>\n",
       "      <td>5.2</td>\n",
       "      <td>0.73</td>\n",
       "    </tr>\n",
       "    <tr>\n",
       "      <th>4</th>\n",
       "      <td>Heineken</td>\n",
       "      <td>152</td>\n",
       "      <td>11</td>\n",
       "      <td>5.0</td>\n",
       "      <td>0.77</td>\n",
       "    </tr>\n",
       "    <tr>\n",
       "      <th>5</th>\n",
       "      <td>Old_Milwaukee</td>\n",
       "      <td>145</td>\n",
       "      <td>23</td>\n",
       "      <td>4.6</td>\n",
       "      <td>0.28</td>\n",
       "    </tr>\n",
       "    <tr>\n",
       "      <th>6</th>\n",
       "      <td>Augsberger</td>\n",
       "      <td>175</td>\n",
       "      <td>24</td>\n",
       "      <td>5.5</td>\n",
       "      <td>0.40</td>\n",
       "    </tr>\n",
       "    <tr>\n",
       "      <th>7</th>\n",
       "      <td>Srohs_Bohemian_Style</td>\n",
       "      <td>149</td>\n",
       "      <td>27</td>\n",
       "      <td>4.7</td>\n",
       "      <td>0.42</td>\n",
       "    </tr>\n",
       "    <tr>\n",
       "      <th>8</th>\n",
       "      <td>Miller_Lite</td>\n",
       "      <td>99</td>\n",
       "      <td>10</td>\n",
       "      <td>4.3</td>\n",
       "      <td>0.43</td>\n",
       "    </tr>\n",
       "    <tr>\n",
       "      <th>9</th>\n",
       "      <td>Budweiser_Light</td>\n",
       "      <td>113</td>\n",
       "      <td>8</td>\n",
       "      <td>3.7</td>\n",
       "      <td>0.40</td>\n",
       "    </tr>\n",
       "    <tr>\n",
       "      <th>10</th>\n",
       "      <td>Coors</td>\n",
       "      <td>140</td>\n",
       "      <td>18</td>\n",
       "      <td>4.6</td>\n",
       "      <td>0.44</td>\n",
       "    </tr>\n",
       "    <tr>\n",
       "      <th>11</th>\n",
       "      <td>Coors_Light</td>\n",
       "      <td>102</td>\n",
       "      <td>15</td>\n",
       "      <td>4.1</td>\n",
       "      <td>0.46</td>\n",
       "    </tr>\n",
       "    <tr>\n",
       "      <th>12</th>\n",
       "      <td>Michelob_Light</td>\n",
       "      <td>135</td>\n",
       "      <td>11</td>\n",
       "      <td>4.2</td>\n",
       "      <td>0.50</td>\n",
       "    </tr>\n",
       "    <tr>\n",
       "      <th>13</th>\n",
       "      <td>Becks</td>\n",
       "      <td>150</td>\n",
       "      <td>19</td>\n",
       "      <td>4.7</td>\n",
       "      <td>0.76</td>\n",
       "    </tr>\n",
       "    <tr>\n",
       "      <th>14</th>\n",
       "      <td>Kirin</td>\n",
       "      <td>149</td>\n",
       "      <td>6</td>\n",
       "      <td>5.0</td>\n",
       "      <td>0.79</td>\n",
       "    </tr>\n",
       "    <tr>\n",
       "      <th>15</th>\n",
       "      <td>Pabst_Extra_Light</td>\n",
       "      <td>68</td>\n",
       "      <td>15</td>\n",
       "      <td>2.3</td>\n",
       "      <td>0.38</td>\n",
       "    </tr>\n",
       "    <tr>\n",
       "      <th>16</th>\n",
       "      <td>Hamms</td>\n",
       "      <td>139</td>\n",
       "      <td>19</td>\n",
       "      <td>4.4</td>\n",
       "      <td>0.43</td>\n",
       "    </tr>\n",
       "    <tr>\n",
       "      <th>17</th>\n",
       "      <td>Heilemans_Old_Style</td>\n",
       "      <td>144</td>\n",
       "      <td>24</td>\n",
       "      <td>4.9</td>\n",
       "      <td>0.43</td>\n",
       "    </tr>\n",
       "    <tr>\n",
       "      <th>18</th>\n",
       "      <td>Olympia_Goled_Light</td>\n",
       "      <td>72</td>\n",
       "      <td>6</td>\n",
       "      <td>2.9</td>\n",
       "      <td>0.46</td>\n",
       "    </tr>\n",
       "    <tr>\n",
       "      <th>19</th>\n",
       "      <td>Schlitz_Light</td>\n",
       "      <td>97</td>\n",
       "      <td>7</td>\n",
       "      <td>4.2</td>\n",
       "      <td>0.47</td>\n",
       "    </tr>\n",
       "  </tbody>\n",
       "</table>\n",
       "</div>"
      ],
      "text/plain": [
       "                    name  calories  sodium  alcohol  cost\n",
       "0              Budweiser       144      15      4.7  0.43\n",
       "1                Schlitz       151      19      4.9  0.43\n",
       "2              Lowenbrau       157      15      0.9  0.48\n",
       "3            Kronenbourg       170       7      5.2  0.73\n",
       "4               Heineken       152      11      5.0  0.77\n",
       "5          Old_Milwaukee       145      23      4.6  0.28\n",
       "6             Augsberger       175      24      5.5  0.40\n",
       "7   Srohs_Bohemian_Style       149      27      4.7  0.42\n",
       "8            Miller_Lite        99      10      4.3  0.43\n",
       "9        Budweiser_Light       113       8      3.7  0.40\n",
       "10                 Coors       140      18      4.6  0.44\n",
       "11           Coors_Light       102      15      4.1  0.46\n",
       "12        Michelob_Light       135      11      4.2  0.50\n",
       "13                 Becks       150      19      4.7  0.76\n",
       "14                 Kirin       149       6      5.0  0.79\n",
       "15     Pabst_Extra_Light        68      15      2.3  0.38\n",
       "16                 Hamms       139      19      4.4  0.43\n",
       "17   Heilemans_Old_Style       144      24      4.9  0.43\n",
       "18   Olympia_Goled_Light        72       6      2.9  0.46\n",
       "19         Schlitz_Light        97       7      4.2  0.47"
      ]
     },
<<<<<<< HEAD
     "execution_count": 1,
=======
     "execution_count": 64,
>>>>>>> 4d539547f5b560e9976431c7134674d01c5181d4
     "metadata": {},
     "output_type": "execute_result"
    }
   ],
   "source": [
    "# Beer data set\n",
    "import pandas as pd\n",
    "url = './data/beer.txt'\n",
    "beer = pd.read_csv(url, sep=' ')\n",
    "beer"
   ]
  },
  {
   "cell_type": "markdown",
   "metadata": {},
   "source": [
    "#### How would you cluster these beers?"
   ]
  },
  {
   "cell_type": "code",
<<<<<<< HEAD
   "execution_count": 2,
=======
   "execution_count": 65,
>>>>>>> 4d539547f5b560e9976431c7134674d01c5181d4
   "metadata": {},
   "outputs": [],
   "source": [
    "# Define X.\n",
    "X = beer.drop('name', axis=1)"
   ]
  },
  {
   "cell_type": "markdown",
   "metadata": {},
   "source": [
    "#### What happened to Y?"
   ]
  },
  {
   "cell_type": "markdown",
   "metadata": {},
   "source": [
    "<a id=\"k-means-clustering\"></a>\n",
    "### K-Means Clustering"
   ]
  },
  {
   "cell_type": "markdown",
   "metadata": {},
   "source": [
    "#### K-means with three clusters"
   ]
  },
  {
   "cell_type": "code",
<<<<<<< HEAD
   "execution_count": 3,
=======
   "execution_count": 66,
>>>>>>> 4d539547f5b560e9976431c7134674d01c5181d4
   "metadata": {},
   "outputs": [
    {
     "data": {
      "text/plain": [
       "KMeans(algorithm='auto', copy_x=True, init='k-means++', max_iter=300,\n",
       "    n_clusters=3, n_init=10, n_jobs=1, precompute_distances='auto',\n",
       "    random_state=1, tol=0.0001, verbose=0)"
      ]
     },
<<<<<<< HEAD
     "execution_count": 3,
=======
     "execution_count": 66,
>>>>>>> 4d539547f5b560e9976431c7134674d01c5181d4
     "metadata": {},
     "output_type": "execute_result"
    }
   ],
   "source": [
    "from sklearn.cluster import KMeans\n",
    "km = KMeans(n_clusters=3, random_state=1)\n",
    "km.fit(X)"
   ]
  },
  {
   "cell_type": "markdown",
   "metadata": {},
   "source": [
    "#### Review the cluster labels."
   ]
  },
  {
   "cell_type": "code",
<<<<<<< HEAD
   "execution_count": 4,
=======
   "execution_count": 67,
>>>>>>> 4d539547f5b560e9976431c7134674d01c5181d4
   "metadata": {},
   "outputs": [
    {
     "data": {
      "text/plain": [
<<<<<<< HEAD
       "array([0, 0, 0, 0, 0, 0, 0, 0, 1, 1, 0, 1, 0, 0, 0, 2, 0, 0, 2, 1])"
      ]
     },
     "execution_count": 4,
=======
       "array([0, 0, 0, 0, 0, 0, 0, 0, 1, 1, 0, 1, 0, 0, 0, 2, 0, 0, 2, 1],\n",
       "      dtype=int32)"
      ]
     },
     "execution_count": 67,
>>>>>>> 4d539547f5b560e9976431c7134674d01c5181d4
     "metadata": {},
     "output_type": "execute_result"
    }
   ],
   "source": [
    "km.labels_"
   ]
  },
  {
   "cell_type": "markdown",
   "metadata": {},
   "source": [
    "#### Save the cluster labels and sort by cluster."
   ]
  },
  {
   "cell_type": "code",
<<<<<<< HEAD
   "execution_count": 5,
=======
   "execution_count": 68,
>>>>>>> 4d539547f5b560e9976431c7134674d01c5181d4
   "metadata": {},
   "outputs": [
    {
     "data": {
      "text/html": [
       "<div>\n",
       "<style scoped>\n",
       "    .dataframe tbody tr th:only-of-type {\n",
       "        vertical-align: middle;\n",
       "    }\n",
       "\n",
       "    .dataframe tbody tr th {\n",
       "        vertical-align: top;\n",
       "    }\n",
       "\n",
       "    .dataframe thead th {\n",
       "        text-align: right;\n",
       "    }\n",
       "</style>\n",
       "<table border=\"1\" class=\"dataframe\">\n",
       "  <thead>\n",
       "    <tr style=\"text-align: right;\">\n",
       "      <th></th>\n",
       "      <th>name</th>\n",
       "      <th>calories</th>\n",
       "      <th>sodium</th>\n",
       "      <th>alcohol</th>\n",
       "      <th>cost</th>\n",
       "      <th>cluster</th>\n",
       "    </tr>\n",
       "  </thead>\n",
       "  <tbody>\n",
       "    <tr>\n",
       "      <th>0</th>\n",
       "      <td>Budweiser</td>\n",
       "      <td>144</td>\n",
       "      <td>15</td>\n",
       "      <td>4.7</td>\n",
       "      <td>0.43</td>\n",
       "      <td>0</td>\n",
       "    </tr>\n",
       "    <tr>\n",
       "      <th>1</th>\n",
       "      <td>Schlitz</td>\n",
       "      <td>151</td>\n",
       "      <td>19</td>\n",
       "      <td>4.9</td>\n",
       "      <td>0.43</td>\n",
       "      <td>0</td>\n",
       "    </tr>\n",
       "    <tr>\n",
       "      <th>2</th>\n",
       "      <td>Lowenbrau</td>\n",
       "      <td>157</td>\n",
       "      <td>15</td>\n",
       "      <td>0.9</td>\n",
       "      <td>0.48</td>\n",
       "      <td>0</td>\n",
       "    </tr>\n",
       "    <tr>\n",
       "      <th>3</th>\n",
       "      <td>Kronenbourg</td>\n",
       "      <td>170</td>\n",
       "      <td>7</td>\n",
       "      <td>5.2</td>\n",
       "      <td>0.73</td>\n",
       "      <td>0</td>\n",
       "    </tr>\n",
       "    <tr>\n",
       "      <th>4</th>\n",
       "      <td>Heineken</td>\n",
       "      <td>152</td>\n",
       "      <td>11</td>\n",
       "      <td>5.0</td>\n",
       "      <td>0.77</td>\n",
       "      <td>0</td>\n",
       "    </tr>\n",
       "    <tr>\n",
       "      <th>5</th>\n",
       "      <td>Old_Milwaukee</td>\n",
       "      <td>145</td>\n",
       "      <td>23</td>\n",
       "      <td>4.6</td>\n",
       "      <td>0.28</td>\n",
       "      <td>0</td>\n",
       "    </tr>\n",
       "    <tr>\n",
       "      <th>6</th>\n",
       "      <td>Augsberger</td>\n",
       "      <td>175</td>\n",
       "      <td>24</td>\n",
       "      <td>5.5</td>\n",
       "      <td>0.40</td>\n",
       "      <td>0</td>\n",
       "    </tr>\n",
       "    <tr>\n",
       "      <th>7</th>\n",
       "      <td>Srohs_Bohemian_Style</td>\n",
       "      <td>149</td>\n",
       "      <td>27</td>\n",
       "      <td>4.7</td>\n",
       "      <td>0.42</td>\n",
       "      <td>0</td>\n",
       "    </tr>\n",
       "    <tr>\n",
       "      <th>17</th>\n",
       "      <td>Heilemans_Old_Style</td>\n",
       "      <td>144</td>\n",
       "      <td>24</td>\n",
       "      <td>4.9</td>\n",
       "      <td>0.43</td>\n",
       "      <td>0</td>\n",
       "    </tr>\n",
       "    <tr>\n",
       "      <th>16</th>\n",
       "      <td>Hamms</td>\n",
       "      <td>139</td>\n",
       "      <td>19</td>\n",
       "      <td>4.4</td>\n",
       "      <td>0.43</td>\n",
       "      <td>0</td>\n",
       "    </tr>\n",
       "    <tr>\n",
       "      <th>10</th>\n",
       "      <td>Coors</td>\n",
       "      <td>140</td>\n",
       "      <td>18</td>\n",
       "      <td>4.6</td>\n",
       "      <td>0.44</td>\n",
       "      <td>0</td>\n",
       "    </tr>\n",
       "    <tr>\n",
       "      <th>14</th>\n",
       "      <td>Kirin</td>\n",
       "      <td>149</td>\n",
       "      <td>6</td>\n",
       "      <td>5.0</td>\n",
       "      <td>0.79</td>\n",
       "      <td>0</td>\n",
       "    </tr>\n",
       "    <tr>\n",
       "      <th>12</th>\n",
       "      <td>Michelob_Light</td>\n",
       "      <td>135</td>\n",
       "      <td>11</td>\n",
       "      <td>4.2</td>\n",
       "      <td>0.50</td>\n",
       "      <td>0</td>\n",
       "    </tr>\n",
       "    <tr>\n",
       "      <th>13</th>\n",
       "      <td>Becks</td>\n",
       "      <td>150</td>\n",
       "      <td>19</td>\n",
       "      <td>4.7</td>\n",
       "      <td>0.76</td>\n",
       "      <td>0</td>\n",
       "    </tr>\n",
       "    <tr>\n",
       "      <th>9</th>\n",
       "      <td>Budweiser_Light</td>\n",
       "      <td>113</td>\n",
       "      <td>8</td>\n",
       "      <td>3.7</td>\n",
       "      <td>0.40</td>\n",
       "      <td>1</td>\n",
       "    </tr>\n",
       "    <tr>\n",
       "      <th>8</th>\n",
       "      <td>Miller_Lite</td>\n",
       "      <td>99</td>\n",
       "      <td>10</td>\n",
       "      <td>4.3</td>\n",
       "      <td>0.43</td>\n",
       "      <td>1</td>\n",
       "    </tr>\n",
       "    <tr>\n",
       "      <th>11</th>\n",
       "      <td>Coors_Light</td>\n",
       "      <td>102</td>\n",
       "      <td>15</td>\n",
       "      <td>4.1</td>\n",
       "      <td>0.46</td>\n",
       "      <td>1</td>\n",
       "    </tr>\n",
       "    <tr>\n",
       "      <th>19</th>\n",
       "      <td>Schlitz_Light</td>\n",
       "      <td>97</td>\n",
       "      <td>7</td>\n",
       "      <td>4.2</td>\n",
       "      <td>0.47</td>\n",
       "      <td>1</td>\n",
       "    </tr>\n",
       "    <tr>\n",
       "      <th>15</th>\n",
       "      <td>Pabst_Extra_Light</td>\n",
       "      <td>68</td>\n",
       "      <td>15</td>\n",
       "      <td>2.3</td>\n",
       "      <td>0.38</td>\n",
       "      <td>2</td>\n",
       "    </tr>\n",
       "    <tr>\n",
       "      <th>18</th>\n",
       "      <td>Olympia_Goled_Light</td>\n",
       "      <td>72</td>\n",
       "      <td>6</td>\n",
       "      <td>2.9</td>\n",
       "      <td>0.46</td>\n",
       "      <td>2</td>\n",
       "    </tr>\n",
       "  </tbody>\n",
       "</table>\n",
       "</div>"
      ],
      "text/plain": [
       "                    name  calories  sodium  alcohol  cost  cluster\n",
       "0              Budweiser       144      15      4.7  0.43        0\n",
       "1                Schlitz       151      19      4.9  0.43        0\n",
       "2              Lowenbrau       157      15      0.9  0.48        0\n",
       "3            Kronenbourg       170       7      5.2  0.73        0\n",
       "4               Heineken       152      11      5.0  0.77        0\n",
       "5          Old_Milwaukee       145      23      4.6  0.28        0\n",
       "6             Augsberger       175      24      5.5  0.40        0\n",
       "7   Srohs_Bohemian_Style       149      27      4.7  0.42        0\n",
       "17   Heilemans_Old_Style       144      24      4.9  0.43        0\n",
       "16                 Hamms       139      19      4.4  0.43        0\n",
       "10                 Coors       140      18      4.6  0.44        0\n",
       "14                 Kirin       149       6      5.0  0.79        0\n",
       "12        Michelob_Light       135      11      4.2  0.50        0\n",
       "13                 Becks       150      19      4.7  0.76        0\n",
       "9        Budweiser_Light       113       8      3.7  0.40        1\n",
       "8            Miller_Lite        99      10      4.3  0.43        1\n",
       "11           Coors_Light       102      15      4.1  0.46        1\n",
       "19         Schlitz_Light        97       7      4.2  0.47        1\n",
       "15     Pabst_Extra_Light        68      15      2.3  0.38        2\n",
       "18   Olympia_Goled_Light        72       6      2.9  0.46        2"
      ]
     },
<<<<<<< HEAD
     "execution_count": 5,
=======
     "execution_count": 68,
>>>>>>> 4d539547f5b560e9976431c7134674d01c5181d4
     "metadata": {},
     "output_type": "execute_result"
    }
   ],
   "source": [
    "beer['cluster'] = km.labels_\n",
    "beer.sort_values('cluster')"
   ]
  },
  {
   "cell_type": "markdown",
   "metadata": {},
   "source": [
    "#### What do the clusters seem to be based on? Why?"
   ]
  },
  {
   "cell_type": "markdown",
   "metadata": {},
   "source": [
    "#### Review the cluster centers."
   ]
  },
  {
   "cell_type": "code",
<<<<<<< HEAD
   "execution_count": 6,
=======
   "execution_count": 69,
>>>>>>> 4d539547f5b560e9976431c7134674d01c5181d4
   "metadata": {},
   "outputs": [
    {
     "data": {
      "text/plain": [
       "array([[150.        ,  17.        ,   4.52142857,   0.52071429],\n",
       "       [102.75      ,  10.        ,   4.075     ,   0.44      ],\n",
       "       [ 70.        ,  10.5       ,   2.6       ,   0.42      ]])"
      ]
     },
<<<<<<< HEAD
     "execution_count": 6,
=======
     "execution_count": 69,
>>>>>>> 4d539547f5b560e9976431c7134674d01c5181d4
     "metadata": {},
     "output_type": "execute_result"
    }
   ],
   "source": [
    "km.cluster_centers_"
   ]
  },
  {
   "cell_type": "markdown",
   "metadata": {},
   "source": [
    "#### Calculate the mean of each feature for each cluster."
   ]
  },
  {
   "cell_type": "code",
   "execution_count": 7,
   "metadata": {},
   "outputs": [
    {
     "data": {
      "text/html": [
       "<div>\n",
       "<style scoped>\n",
       "    .dataframe tbody tr th:only-of-type {\n",
       "        vertical-align: middle;\n",
       "    }\n",
       "\n",
       "    .dataframe tbody tr th {\n",
       "        vertical-align: top;\n",
       "    }\n",
       "\n",
       "    .dataframe thead th {\n",
       "        text-align: right;\n",
       "    }\n",
       "</style>\n",
       "<table border=\"1\" class=\"dataframe\">\n",
       "  <thead>\n",
       "    <tr style=\"text-align: right;\">\n",
       "      <th></th>\n",
       "      <th>calories</th>\n",
       "      <th>sodium</th>\n",
       "      <th>alcohol</th>\n",
       "      <th>cost</th>\n",
       "    </tr>\n",
       "    <tr>\n",
       "      <th>cluster</th>\n",
       "      <th></th>\n",
       "      <th></th>\n",
       "      <th></th>\n",
       "      <th></th>\n",
       "    </tr>\n",
       "  </thead>\n",
       "  <tbody>\n",
       "    <tr>\n",
       "      <th>0</th>\n",
       "      <td>150.00</td>\n",
       "      <td>17.0</td>\n",
       "      <td>4.521429</td>\n",
       "      <td>0.520714</td>\n",
       "    </tr>\n",
       "    <tr>\n",
       "      <th>1</th>\n",
       "      <td>102.75</td>\n",
       "      <td>10.0</td>\n",
       "      <td>4.075000</td>\n",
       "      <td>0.440000</td>\n",
       "    </tr>\n",
       "    <tr>\n",
       "      <th>2</th>\n",
       "      <td>70.00</td>\n",
       "      <td>10.5</td>\n",
       "      <td>2.600000</td>\n",
       "      <td>0.420000</td>\n",
       "    </tr>\n",
       "  </tbody>\n",
       "</table>\n",
       "</div>"
      ],
      "text/plain": [
       "         calories  sodium   alcohol      cost\n",
       "cluster                                      \n",
       "0          150.00    17.0  4.521429  0.520714\n",
       "1          102.75    10.0  4.075000  0.440000\n",
       "2           70.00    10.5  2.600000  0.420000"
      ]
     },
     "execution_count": 7,
     "metadata": {},
     "output_type": "execute_result"
    }
   ],
   "source": [
    "beer.groupby('cluster').mean()"
   ]
  },
  {
   "cell_type": "markdown",
   "metadata": {},
   "source": [
    "#### Save the `DataFrame` of cluster centers."
   ]
  },
  {
   "cell_type": "code",
<<<<<<< HEAD
   "execution_count": 8,
=======
   "execution_count": 70,
>>>>>>> 4d539547f5b560e9976431c7134674d01c5181d4
   "metadata": {},
   "outputs": [],
   "source": [
    "centers = beer.groupby('cluster').mean()"
   ]
  },
  {
   "cell_type": "markdown",
   "metadata": {},
   "source": [
    "#### Allow plots to appear in the notebook."
   ]
  },
  {
   "cell_type": "code",
<<<<<<< HEAD
   "execution_count": 9,
=======
   "execution_count": 71,
>>>>>>> 4d539547f5b560e9976431c7134674d01c5181d4
   "metadata": {},
   "outputs": [],
   "source": [
    "%matplotlib inline\n",
    "import matplotlib.pyplot as plt\n",
    "plt.rcParams['font.size'] = 14"
   ]
  },
  {
   "cell_type": "markdown",
   "metadata": {},
   "source": [
    "#### Create a \"colors\" array for plotting."
   ]
  },
  {
   "cell_type": "code",
<<<<<<< HEAD
   "execution_count": 10,
=======
   "execution_count": 72,
>>>>>>> 4d539547f5b560e9976431c7134674d01c5181d4
   "metadata": {},
   "outputs": [],
   "source": [
    "import numpy as np\n",
    "colors = np.array(['red', 'green', 'blue', 'yellow'])"
   ]
  },
  {
   "cell_type": "markdown",
   "metadata": {},
   "source": [
    "#### Scatter plot of calories versus alcohol, colored by cluster (0=red, 1=green, 2=blue)."
   ]
  },
  {
   "cell_type": "code",
<<<<<<< HEAD
   "execution_count": 11,
=======
   "execution_count": 73,
>>>>>>> 4d539547f5b560e9976431c7134674d01c5181d4
   "metadata": {},
   "outputs": [
    {
     "data": {
      "text/plain": [
       "Text(0,0.5,'alcohol')"
      ]
     },
<<<<<<< HEAD
     "execution_count": 11,
=======
     "execution_count": 73,
>>>>>>> 4d539547f5b560e9976431c7134674d01c5181d4
     "metadata": {},
     "output_type": "execute_result"
    },
    {
     "data": {
<<<<<<< HEAD
      "image/png": "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\n",
      "text/plain": [
       "<matplotlib.figure.Figure at 0x19d8270e3c8>"
=======
      "image/png": "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\n",
      "text/plain": [
       "<matplotlib.figure.Figure at 0x1a152109e8>"
>>>>>>> 4d539547f5b560e9976431c7134674d01c5181d4
      ]
     },
     "metadata": {},
     "output_type": "display_data"
    }
   ],
   "source": [
    "plt.scatter(beer.calories, beer.alcohol, c=colors[beer.cluster], s=50);\n",
    "\n",
    "# Cluster centers, marked by \"+\"\n",
    "plt.scatter(centers.calories, centers.alcohol, linewidths=3, marker='+', s=300, c='black');\n",
    "\n",
    "# Add labels.\n",
    "plt.xlabel('calories')\n",
    "plt.ylabel('alcohol')"
   ]
  },
  {
   "cell_type": "markdown",
   "metadata": {},
   "source": [
    "#### Scatter plot matrix (0=red, 1=green, 2=blue)."
   ]
  },
  {
   "cell_type": "code",
<<<<<<< HEAD
   "execution_count": 12,
=======
   "execution_count": 74,
>>>>>>> 4d539547f5b560e9976431c7134674d01c5181d4
   "metadata": {},
   "outputs": [
    {
     "name": "stderr",
     "output_type": "stream",
     "text": [
<<<<<<< HEAD
      "C:\\Users\\jdanforth\\AppData\\Local\\Continuum\\anaconda3\\lib\\site-packages\\ipykernel_launcher.py:1: FutureWarning: pandas.scatter_matrix is deprecated. Use pandas.plotting.scatter_matrix instead\n",
=======
      "/anaconda3/lib/python3.6/site-packages/ipykernel_launcher.py:1: FutureWarning: pandas.scatter_matrix is deprecated. Use pandas.plotting.scatter_matrix instead\n",
>>>>>>> 4d539547f5b560e9976431c7134674d01c5181d4
      "  \"\"\"Entry point for launching an IPython kernel.\n"
     ]
    },
    {
     "data": {
<<<<<<< HEAD
      "image/png": "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\n",
      "text/plain": [
       "<matplotlib.figure.Figure at 0x19d826ffb38>"
=======
      "image/png": "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\n",
      "text/plain": [
       "<matplotlib.figure.Figure at 0x1a14a36b38>"
>>>>>>> 4d539547f5b560e9976431c7134674d01c5181d4
      ]
     },
     "metadata": {},
     "output_type": "display_data"
    }
   ],
   "source": [
    "pd.scatter_matrix(X, c=colors[beer.cluster], figsize=(10,10), s=100);"
   ]
  },
  {
   "cell_type": "markdown",
   "metadata": {},
   "source": [
    "<a id=\"repeat-with-scaled-data\"></a>\n",
    "### Repeat With Scaled Data\n",
    "\n",
    "Unscaled features cause most algorithms to put too much weight onto one feature. We can scale our data to make sure k-means accounts for all features.\n",
    "\n",
    "Remember that k-means is looking for isotropic groups, meaning that they disperse from the center in all directions evenly. \n",
    "\n",
    "There is more than one choice of scaling method (min/max, z-score, log, etc.), but the best choice is the one that makes your clusters isotropic."
   ]
  },
  {
   "cell_type": "markdown",
   "metadata": {},
   "source": [
    "#### Center and scale the data."
   ]
  },
  {
   "cell_type": "code",
<<<<<<< HEAD
   "execution_count": 13,
=======
   "execution_count": 75,
>>>>>>> 4d539547f5b560e9976431c7134674d01c5181d4
   "metadata": {},
   "outputs": [],
   "source": [
    "from sklearn.preprocessing import StandardScaler\n",
    "scaler = StandardScaler()\n",
    "X_scaled = scaler.fit_transform(X)"
   ]
  },
  {
   "cell_type": "markdown",
   "metadata": {},
   "source": [
    "#### K-means with three clusters on scaled data."
   ]
  },
  {
   "cell_type": "code",
<<<<<<< HEAD
   "execution_count": 14,
=======
   "execution_count": 76,
>>>>>>> 4d539547f5b560e9976431c7134674d01c5181d4
   "metadata": {},
   "outputs": [
    {
     "data": {
      "text/plain": [
       "KMeans(algorithm='auto', copy_x=True, init='k-means++', max_iter=300,\n",
       "    n_clusters=3, n_init=10, n_jobs=1, precompute_distances='auto',\n",
       "    random_state=1, tol=0.0001, verbose=0)"
      ]
     },
<<<<<<< HEAD
     "execution_count": 14,
=======
     "execution_count": 76,
>>>>>>> 4d539547f5b560e9976431c7134674d01c5181d4
     "metadata": {},
     "output_type": "execute_result"
    }
   ],
   "source": [
    "km = KMeans(n_clusters=3, random_state=1)\n",
    "km.fit(X_scaled)"
   ]
  },
  {
   "cell_type": "code",
<<<<<<< HEAD
   "execution_count": 15,
=======
   "execution_count": 77,
>>>>>>> 4d539547f5b560e9976431c7134674d01c5181d4
   "metadata": {},
   "outputs": [
    {
     "data": {
      "text/plain": [
       "array([[ 0.38791334,  0.00779468,  0.43380786, -0.45682969],\n",
       "       [ 0.6250656 ,  0.63136906,  0.62241997, -0.45682969],\n",
       "       [ 0.82833896,  0.00779468, -3.14982226, -0.10269815],\n",
       "       [ 1.26876459, -1.23935408,  0.90533814,  1.66795955],\n",
       "       [ 0.65894449, -0.6157797 ,  0.71672602,  1.95126478],\n",
       "       [ 0.42179223,  1.25494344,  0.3395018 , -1.5192243 ],\n",
       "       [ 1.43815906,  1.41083704,  1.1882563 , -0.66930861],\n",
       "       [ 0.55730781,  1.87851782,  0.43380786, -0.52765599],\n",
       "       [-1.1366369 , -0.7716733 ,  0.05658363, -0.45682969],\n",
       "       [-0.66233238, -1.08346049, -0.5092527 , -0.66930861],\n",
       "       [ 0.25239776,  0.47547547,  0.3395018 , -0.38600338],\n",
       "       [-1.03500022,  0.00779468, -0.13202848, -0.24435076],\n",
       "       [ 0.08300329, -0.6157797 , -0.03772242,  0.03895447],\n",
       "       [ 0.59118671,  0.63136906,  0.43380786,  1.88043848],\n",
       "       [ 0.55730781, -1.39524768,  0.71672602,  2.0929174 ],\n",
       "       [-2.18688263,  0.00779468, -1.82953748, -0.81096123],\n",
       "       [ 0.21851887,  0.63136906,  0.15088969, -0.45682969],\n",
       "       [ 0.38791334,  1.41083704,  0.62241997, -0.45682969],\n",
       "       [-2.05136705, -1.39524768, -1.26370115, -0.24435076],\n",
       "       [-1.20439469, -1.23935408, -0.03772242, -0.17352445]])"
      ]
     },
<<<<<<< HEAD
     "execution_count": 15,
=======
     "execution_count": 77,
>>>>>>> 4d539547f5b560e9976431c7134674d01c5181d4
     "metadata": {},
     "output_type": "execute_result"
    }
   ],
   "source": [
    "X_scaled"
   ]
  },
  {
   "cell_type": "markdown",
   "metadata": {},
   "source": [
    "#### Save the cluster labels and sort by cluster."
   ]
  },
  {
   "cell_type": "code",
<<<<<<< HEAD
   "execution_count": 16,
=======
   "execution_count": 78,
>>>>>>> 4d539547f5b560e9976431c7134674d01c5181d4
   "metadata": {},
   "outputs": [
    {
     "data": {
      "text/html": [
       "<div>\n",
       "<style scoped>\n",
       "    .dataframe tbody tr th:only-of-type {\n",
       "        vertical-align: middle;\n",
       "    }\n",
       "\n",
       "    .dataframe tbody tr th {\n",
       "        vertical-align: top;\n",
       "    }\n",
       "\n",
       "    .dataframe thead th {\n",
       "        text-align: right;\n",
       "    }\n",
       "</style>\n",
       "<table border=\"1\" class=\"dataframe\">\n",
       "  <thead>\n",
       "    <tr style=\"text-align: right;\">\n",
       "      <th></th>\n",
       "      <th>name</th>\n",
       "      <th>calories</th>\n",
       "      <th>sodium</th>\n",
       "      <th>alcohol</th>\n",
       "      <th>cost</th>\n",
       "      <th>cluster</th>\n",
       "    </tr>\n",
       "  </thead>\n",
       "  <tbody>\n",
       "    <tr>\n",
       "      <th>0</th>\n",
       "      <td>Budweiser</td>\n",
       "      <td>144</td>\n",
       "      <td>15</td>\n",
       "      <td>4.7</td>\n",
       "      <td>0.43</td>\n",
       "      <td>0</td>\n",
       "    </tr>\n",
       "    <tr>\n",
       "      <th>1</th>\n",
       "      <td>Schlitz</td>\n",
       "      <td>151</td>\n",
       "      <td>19</td>\n",
       "      <td>4.9</td>\n",
       "      <td>0.43</td>\n",
       "      <td>0</td>\n",
       "    </tr>\n",
       "    <tr>\n",
       "      <th>17</th>\n",
       "      <td>Heilemans_Old_Style</td>\n",
       "      <td>144</td>\n",
       "      <td>24</td>\n",
       "      <td>4.9</td>\n",
       "      <td>0.43</td>\n",
       "      <td>0</td>\n",
       "    </tr>\n",
       "    <tr>\n",
       "      <th>16</th>\n",
       "      <td>Hamms</td>\n",
       "      <td>139</td>\n",
       "      <td>19</td>\n",
       "      <td>4.4</td>\n",
       "      <td>0.43</td>\n",
       "      <td>0</td>\n",
       "    </tr>\n",
       "    <tr>\n",
       "      <th>5</th>\n",
       "      <td>Old_Milwaukee</td>\n",
       "      <td>145</td>\n",
       "      <td>23</td>\n",
       "      <td>4.6</td>\n",
       "      <td>0.28</td>\n",
       "      <td>0</td>\n",
       "    </tr>\n",
       "    <tr>\n",
       "      <th>6</th>\n",
       "      <td>Augsberger</td>\n",
       "      <td>175</td>\n",
       "      <td>24</td>\n",
       "      <td>5.5</td>\n",
       "      <td>0.40</td>\n",
       "      <td>0</td>\n",
       "    </tr>\n",
       "    <tr>\n",
       "      <th>7</th>\n",
       "      <td>Srohs_Bohemian_Style</td>\n",
       "      <td>149</td>\n",
       "      <td>27</td>\n",
       "      <td>4.7</td>\n",
       "      <td>0.42</td>\n",
       "      <td>0</td>\n",
       "    </tr>\n",
       "    <tr>\n",
       "      <th>10</th>\n",
       "      <td>Coors</td>\n",
       "      <td>140</td>\n",
       "      <td>18</td>\n",
       "      <td>4.6</td>\n",
       "      <td>0.44</td>\n",
       "      <td>0</td>\n",
       "    </tr>\n",
       "    <tr>\n",
       "      <th>15</th>\n",
       "      <td>Pabst_Extra_Light</td>\n",
       "      <td>68</td>\n",
       "      <td>15</td>\n",
       "      <td>2.3</td>\n",
       "      <td>0.38</td>\n",
       "      <td>1</td>\n",
       "    </tr>\n",
       "    <tr>\n",
       "      <th>12</th>\n",
       "      <td>Michelob_Light</td>\n",
       "      <td>135</td>\n",
       "      <td>11</td>\n",
       "      <td>4.2</td>\n",
       "      <td>0.50</td>\n",
       "      <td>1</td>\n",
       "    </tr>\n",
       "    <tr>\n",
       "      <th>11</th>\n",
       "      <td>Coors_Light</td>\n",
       "      <td>102</td>\n",
       "      <td>15</td>\n",
       "      <td>4.1</td>\n",
       "      <td>0.46</td>\n",
       "      <td>1</td>\n",
       "    </tr>\n",
       "    <tr>\n",
       "      <th>9</th>\n",
       "      <td>Budweiser_Light</td>\n",
       "      <td>113</td>\n",
       "      <td>8</td>\n",
       "      <td>3.7</td>\n",
       "      <td>0.40</td>\n",
       "      <td>1</td>\n",
       "    </tr>\n",
       "    <tr>\n",
       "      <th>8</th>\n",
       "      <td>Miller_Lite</td>\n",
       "      <td>99</td>\n",
       "      <td>10</td>\n",
       "      <td>4.3</td>\n",
       "      <td>0.43</td>\n",
       "      <td>1</td>\n",
       "    </tr>\n",
       "    <tr>\n",
       "      <th>2</th>\n",
       "      <td>Lowenbrau</td>\n",
       "      <td>157</td>\n",
       "      <td>15</td>\n",
       "      <td>0.9</td>\n",
       "      <td>0.48</td>\n",
       "      <td>1</td>\n",
       "    </tr>\n",
       "    <tr>\n",
       "      <th>18</th>\n",
       "      <td>Olympia_Goled_Light</td>\n",
       "      <td>72</td>\n",
       "      <td>6</td>\n",
       "      <td>2.9</td>\n",
       "      <td>0.46</td>\n",
       "      <td>1</td>\n",
       "    </tr>\n",
       "    <tr>\n",
       "      <th>19</th>\n",
       "      <td>Schlitz_Light</td>\n",
       "      <td>97</td>\n",
       "      <td>7</td>\n",
       "      <td>4.2</td>\n",
       "      <td>0.47</td>\n",
       "      <td>1</td>\n",
       "    </tr>\n",
       "    <tr>\n",
       "      <th>13</th>\n",
       "      <td>Becks</td>\n",
       "      <td>150</td>\n",
       "      <td>19</td>\n",
       "      <td>4.7</td>\n",
       "      <td>0.76</td>\n",
       "      <td>2</td>\n",
       "    </tr>\n",
       "    <tr>\n",
       "      <th>14</th>\n",
       "      <td>Kirin</td>\n",
       "      <td>149</td>\n",
       "      <td>6</td>\n",
       "      <td>5.0</td>\n",
       "      <td>0.79</td>\n",
       "      <td>2</td>\n",
       "    </tr>\n",
       "    <tr>\n",
       "      <th>4</th>\n",
       "      <td>Heineken</td>\n",
       "      <td>152</td>\n",
       "      <td>11</td>\n",
       "      <td>5.0</td>\n",
       "      <td>0.77</td>\n",
       "      <td>2</td>\n",
       "    </tr>\n",
       "    <tr>\n",
       "      <th>3</th>\n",
       "      <td>Kronenbourg</td>\n",
       "      <td>170</td>\n",
       "      <td>7</td>\n",
       "      <td>5.2</td>\n",
       "      <td>0.73</td>\n",
       "      <td>2</td>\n",
       "    </tr>\n",
       "  </tbody>\n",
       "</table>\n",
       "</div>"
      ],
      "text/plain": [
       "                    name  calories  sodium  alcohol  cost  cluster\n",
       "0              Budweiser       144      15      4.7  0.43        0\n",
       "1                Schlitz       151      19      4.9  0.43        0\n",
       "17   Heilemans_Old_Style       144      24      4.9  0.43        0\n",
       "16                 Hamms       139      19      4.4  0.43        0\n",
       "5          Old_Milwaukee       145      23      4.6  0.28        0\n",
       "6             Augsberger       175      24      5.5  0.40        0\n",
       "7   Srohs_Bohemian_Style       149      27      4.7  0.42        0\n",
       "10                 Coors       140      18      4.6  0.44        0\n",
       "15     Pabst_Extra_Light        68      15      2.3  0.38        1\n",
       "12        Michelob_Light       135      11      4.2  0.50        1\n",
       "11           Coors_Light       102      15      4.1  0.46        1\n",
       "9        Budweiser_Light       113       8      3.7  0.40        1\n",
       "8            Miller_Lite        99      10      4.3  0.43        1\n",
       "2              Lowenbrau       157      15      0.9  0.48        1\n",
       "18   Olympia_Goled_Light        72       6      2.9  0.46        1\n",
       "19         Schlitz_Light        97       7      4.2  0.47        1\n",
       "13                 Becks       150      19      4.7  0.76        2\n",
       "14                 Kirin       149       6      5.0  0.79        2\n",
       "4               Heineken       152      11      5.0  0.77        2\n",
       "3            Kronenbourg       170       7      5.2  0.73        2"
      ]
     },
<<<<<<< HEAD
     "execution_count": 16,
=======
     "execution_count": 78,
>>>>>>> 4d539547f5b560e9976431c7134674d01c5181d4
     "metadata": {},
     "output_type": "execute_result"
    }
   ],
   "source": [
    "beer['cluster'] = km.labels_\n",
    "beer.sort_values('cluster')"
   ]
  },
  {
   "cell_type": "markdown",
   "metadata": {},
   "source": [
    "#### What are the \"characteristics\" of each cluster?"
   ]
  },
  {
   "cell_type": "markdown",
   "metadata": {},
   "source": [
    "#### Review the cluster centers."
   ]
  },
  {
   "cell_type": "code",
<<<<<<< HEAD
   "execution_count": 17,
=======
   "execution_count": 79,
>>>>>>> 4d539547f5b560e9976431c7134674d01c5181d4
   "metadata": {},
   "outputs": [
    {
     "data": {
      "text/html": [
       "<div>\n",
       "<style scoped>\n",
       "    .dataframe tbody tr th:only-of-type {\n",
       "        vertical-align: middle;\n",
       "    }\n",
       "\n",
       "    .dataframe tbody tr th {\n",
       "        vertical-align: top;\n",
       "    }\n",
       "\n",
       "    .dataframe thead th {\n",
       "        text-align: right;\n",
       "    }\n",
       "</style>\n",
       "<table border=\"1\" class=\"dataframe\">\n",
       "  <thead>\n",
       "    <tr style=\"text-align: right;\">\n",
       "      <th></th>\n",
       "      <th>calories</th>\n",
       "      <th>sodium</th>\n",
       "      <th>alcohol</th>\n",
       "      <th>cost</th>\n",
       "    </tr>\n",
       "    <tr>\n",
       "      <th>cluster</th>\n",
       "      <th></th>\n",
       "      <th></th>\n",
       "      <th></th>\n",
       "      <th></th>\n",
       "    </tr>\n",
       "  </thead>\n",
       "  <tbody>\n",
       "    <tr>\n",
       "      <th>0</th>\n",
       "      <td>148.375</td>\n",
       "      <td>21.125</td>\n",
       "      <td>4.7875</td>\n",
       "      <td>0.4075</td>\n",
       "    </tr>\n",
       "    <tr>\n",
       "      <th>1</th>\n",
       "      <td>105.375</td>\n",
       "      <td>10.875</td>\n",
       "      <td>3.3250</td>\n",
       "      <td>0.4475</td>\n",
       "    </tr>\n",
       "    <tr>\n",
       "      <th>2</th>\n",
       "      <td>155.250</td>\n",
       "      <td>10.750</td>\n",
       "      <td>4.9750</td>\n",
       "      <td>0.7625</td>\n",
       "    </tr>\n",
       "  </tbody>\n",
       "</table>\n",
       "</div>"
      ],
      "text/plain": [
       "         calories  sodium  alcohol    cost\n",
       "cluster                                   \n",
       "0         148.375  21.125   4.7875  0.4075\n",
       "1         105.375  10.875   3.3250  0.4475\n",
       "2         155.250  10.750   4.9750  0.7625"
      ]
     },
<<<<<<< HEAD
     "execution_count": 17,
=======
     "execution_count": 79,
>>>>>>> 4d539547f5b560e9976431c7134674d01c5181d4
     "metadata": {},
     "output_type": "execute_result"
    }
   ],
   "source": [
    "beer.groupby('cluster').mean()"
   ]
  },
  {
   "cell_type": "markdown",
   "metadata": {},
   "source": [
    "#### Scatter plot matrix of new cluster assignments (0=red, 1=green, 2=blue)."
   ]
  },
  {
   "cell_type": "code",
<<<<<<< HEAD
   "execution_count": 18,
=======
   "execution_count": 80,
>>>>>>> 4d539547f5b560e9976431c7134674d01c5181d4
   "metadata": {},
   "outputs": [
    {
     "name": "stderr",
     "output_type": "stream",
     "text": [
<<<<<<< HEAD
      "C:\\Users\\jdanforth\\AppData\\Local\\Continuum\\anaconda3\\lib\\site-packages\\ipykernel_launcher.py:1: FutureWarning: pandas.scatter_matrix is deprecated. Use pandas.plotting.scatter_matrix instead\n",
=======
      "/anaconda3/lib/python3.6/site-packages/ipykernel_launcher.py:1: FutureWarning: pandas.scatter_matrix is deprecated. Use pandas.plotting.scatter_matrix instead\n",
>>>>>>> 4d539547f5b560e9976431c7134674d01c5181d4
      "  \"\"\"Entry point for launching an IPython kernel.\n"
     ]
    },
    {
     "data": {
<<<<<<< HEAD
      "image/png": "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\n",
      "text/plain": [
       "<matplotlib.figure.Figure at 0x19d82b46400>"
=======
      "image/png": "iVBORw0KGgoAAAANSUhEUgAAAmgAAAJZCAYAAAAdyclBAAAABHNCSVQICAgIfAhkiAAAAAlwSFlzAAALEgAACxIB0t1+/AAAADl0RVh0U29mdHdhcmUAbWF0cGxvdGxpYiB2ZXJzaW9uIDIuMS4yLCBodHRwOi8vbWF0cGxvdGxpYi5vcmcvNQv5yAAAIABJREFUeJzs3Xl8nNWd5/vPUWmXrM2S5UW2Zcu7Le8bYMDB7ItJQiA06aQhbEnoJJ307dtM35numTt3ZtJ9pyc9d3rm3mQSOvRAEiANJOAEMGYzIXjDxrvlXba8SrJl7UvVuX8cSSXJwlapSvXU8n2/XnqpzlNVz/NT6alTvzrbY6y1iIiIiEjsSPE6ABERERHpTwmaiIiISIxRgiYiIiISY5SgiYiIiMQYJWgiIiIiMUYJmoiIiEiMUYImIiIiEmOUoImIiIjEGCVoIiIiIjEm1esAwlFcXGzLy8u9DkPixLFjx9D5kkD8fvfb54v4rnWuyGey1p17Ph8YA8TI+dITV2pcf6wnvG3bttVaa0uG8ti4/k+Wl5ezdetWr8OQOLF06VKdL4nAWnj1Vdi5092eOxe++MWIJmo6V2RQx4/Diy9CczPk5MADD8Dkyd6fL/v3u/dEWxvk58NDD0FpqXfxyGcyxhwf6mPVxSki8aWqCj791CVnAHv2wN693sYkyWHdOpecgfv9+uvexgMQCLg42tpcuaEB3nzT25gkIpSgiUh8qasb2jaRSKuvv3LZC+3t0NTUf5veDwlBCZqIxJcZM/p3ZxoDM2d6F48kj1mzrlz2QlYWDBz/Nnu2J6FIZMX1GDQRSULFxW6MzUcfue6da66BceO8jkqSwT33QG4uVFfDxIlw001eR+Tcfz9s2ABnz8LUqXDjjV5HJBGgBE2kWyAAly65Mbbdk7MkVlVUuB+RCGtshPR0yMgY5M6MDLj99qjHdFU5ObB2rddRJKSuLjfcMD8/+sdWgiZhKX96XcjPOfaDu0YgkvBUV8OvfuUStIIC+PKX1Sgjkkw6OuCll+DgQbdSxerVsGqV11GJlw4cgF//GlpaYMwYePBBKCqK3vE1Bk0EeO01l5wBXLzoJmuJSPLYtMklZ+BaTd5+G2prvY1JvOP3w29+45IzgHPn4K23ohuDEjRJetZeXhGfO+dNLCLijfPnh7ZNkkNLS3BFlR7RPh+UoEnSMwamTeu/bcYMb2IREW8MfM+np18+OVKSx6hRMHZs/23R/lzQGDQR4AtfcM3XJ0/C5Mlwyy1eRyQi0TRvnmsx2b4dsrPdGLSsLK+jEi89+CCsX+96VKZNgzVront8JWgiuAr585/3OgoR8dKKFe5HBNyEsfvv9+746uIUERERiTFK0ERERERijBI0ERERkRijBE1EREQkxihBExEREYkxStBEREREYowSNBEREZEYowRNREREJMYoQRMRERGJMUrQRBKMP+Bn3/l97Dy7k/audq/DiWsX2y6y7dQ2qhuqvQ5FJKqstRy5cITtp7fT1NHkdThJSZd6Ekkg/oCfZ7Y/Q01jDQD5Gfk8vuRxctNzPY4s/hyuP8zPd/0cv/UDcN3E67ilQhdpleTw8r6X2XVuFwAZvgweXvgw40aN8ziq5KIWNJEEUlVX1ZucATS0N/DJ6U88jCh+fXD8g97kDODjkx/T2tnqYUQi0VHbUtubnAG0+9v56MRHHkaUnJSgiSSQzkDn5dv8l2+Tqxv4WgZsoF/CJpKoBqszBqtbZGQpQRNJIDNHzyQ/I7+3nO5LZ+HYhR5GFL+WT1jerzynZI66iiUpjBs1jol5E3vLBsOy8cs8jCg5aQyaSALJSM3g8SWP88npT+j0d7Jw7EJGZ4/2Oqy4tHDsQvIy8qiqq6Iku0SJriSVry74KttPb6ehvYE5JXMoyyvzOqSkowRNJIra2+HQIcjLg4kTr/744chNz+WGyTeMzM6TzNTCqUwtnOp1GBJhgQAcPQpdXVBRAan6JLxMui+dFWUrvA4jbrS3w+HDkJsLkyZFZp86LUWipLYWnnkGWlpcecEC+MIXvI0pLF1dcOkSFBaCMV5HI3J1bW34W9p59tV8qrtXTikuhkcfhawsb0Mbce3t0NoKBQVeR5Jw6upc3d7c7MqVlXDffeHvVwmaSJR89FEwOQP49FNYtQpKSryLadgOHIBXX3UV/ujR8Ed/5D7pRGLVxo3w/vscOF1Idc11MG8epKZSWws7dsA113gd4Aj6+GPYsAE6O13zzoMPQna211EljD/8IZicAeza5er20tLw9hu1BM0YMx54HZgD5AJlwCZgH9Bhrb21+3F/AdwLHAcettZq6ogkhLa2oW2LeYEA53/xNut2zORsUw7Tiuq5K3c9mY/8kdeRiXD+PKxbB2fPuu7Lu+6CrJY6eOcdsJa2rlS4eBFOnoTycsB9z0hYly7BW2+5fl2A6mr4/e/hFq3pF65Dh2D9epegWQtTpwY7EyJRt0ezBa0eWAO80mfbemvtH/cUjDElwOestauMMX8JfB54KYoxSoKrrYUPP3QV8uLFMHNm9I69eDHs2+feyOC+XZXF47jb1lZe3FzO+ZYcAHadKyX1943c+4jHcQ3XiROuhQFg5cqRGxwoUfHSzzs5t7UampvZXVVIasoEPj+3tveNN6u4llf2zeRAlQ/b7BqU5s/3OOiRYC1s2uSyh4MH3R+alubuq631NrYE0NICL7zgGiULC12PSGYmTJgAY8a4aiTcqiVqCZq1tg1oM/3HqnzOGLMReNla+0NgOfBe931vAw+hBE0ixNr+Y8AOHICvfc1964mGadPgT/4Edu+GUaNg2bL4HLrVZHM4nzoOuNS77ahvmncBhaOuDp591o2nA3dSfPOb3sYkw9bcDOfe3wf19W5DfT1H326DOye7T8+2NvwBA8aQMTqXQLqbINCZiP00778P770Hfj+cOQNNTW7gK8CMGZ6GlghOngyeN4WFsHAhZGTA5z7n6vYLF8KvWrwcg3YamAG0A782xmwACgjW+g1A4cAnGWOeAJ4AmBSpqRKSFNrb+48BA5csRStBA9ej0t2rErdycqDg2jlc3H7UVfpFRYxfXe51WMOzf3+wBgV3e98+7+KRsGSbVgpbarhAcMT/hNZDkDkdvvpVeO89DuzJwjdjGhUTgh8ve/bAuES7itGu7isB+HwuMTt6FIqKXPawZIm3sSWAceMgJSXYc1xQADff7MaeAWzfHn7V4tlCtdbadmtts7W2Czc2bR5wEcjrfkhed3ng835srV1qrV1aEpejq8UrPt/l2/LyLt8mV2YM3PeVTEavmg3LllG+poLb7xrkxY0Hg50AOinilslI54uLjlKc7b6JTc6/yO3Lu1vTJkyAr3yFvIe/6G73kZ8/cE8JoO95nJvrErNvfSvBZ0NEz6hRcO+97gtrSorrJl+5Mnh/JKoWz1rQjDGjrLWN3cXrgP8GHAW+BfwdcDPwsUfhSQJKS3NfHLdtc+WxY2H58is/RwY3cSJ8+9vuW2FcryE1Z44bPHLokCtPmwZz53obkwyfz8fEL1/Ln2a/RlenJTU3E+55qN9Dpk93//a9e1150qRgz19CueUWeO45123g88Ftt8X5mzX2LFjgErNA4PIGgEhULdGcxZkG/A5YALwJfGCMWYvr4vzQWrup+3EfGGM+BKqBf4hWfJIc7rkHrr3WzbAZPz4+x4DFkhGt7/1+ePtt1y9QVAS33uqy6kjy+eCP/9hN+YPw58WLN5qb4Xe/c6Oyy8rgiSdI7XmT9wyM72YMPPCAm+3Z1RXBrs3Dh91M0bY2NyPouusitONhGj8evvc9OHXKLYGTk+NtPAnKmMF7ZyJRtURzkkAnrlWsr383yOP+FvjbqAQlSWl0ol/5qLbWTR3q7HRNhvE6VvODD9wMNHDLIvz85/Bnf+b6E86edTPUrHVdN+PHh3csJWbx7Te/caOwwU0Q+PRT17RRUeGSJWOgoSG4GOHChZRUVETu+IEA/OIXwUFH69e7/qzKysgdYzjS0mDyZJek/cM/uNfm5pvhjju8jSuJhFO1qL1TJJG0tMBPfxpc2GnXLnj88fgcAX34cP/ypUuu2SMz0/2NHR1u+65dbnpUwmfe8pn6nit797rZuamp7nZzs2s2f+YZl6SBmx301a9GboZQe3v/EeE9MXmdoIGL6zvfCS6tsW2b+2Jz553exiVX5dkkAREZAVVV/VfdDASCs7nizcCvnhkZbj77vn3B5AzcB9CePdGNTWJLz7nS2emSs9zc4H07dsCxY8HkDFyC8umnkTv+gG7UfjF5bcuWy9c9e/NNb2KRkChBE0kkfT+YrrQtHtx0U3BNkpwc+PznIT09sf5GiYy1a904K5/PTa/ruwJ1bu7g468iec6kprpB+BkZrjt13jzX9R4LBrsEW+FlK1hJDFIXp0giqahwi1BWVblyaakbgxOPcnLg4Yddi2BGhht7BjB7NkyZ4tZ1AjcoPBa6ksQ7paXw1FPuXNmzB377W9dKlpEBa9a4Lv5Fi9ziVOASlL5rIkTCNde4pKyry3XDx4rp092XnXfeceX8fLditsQ8JWgiicQYeOghqKkJXhg5JYyG8kOH3EWmu7pgxQpvromTldW/7PO5D5gTJ9yH8MSJmo6b7Fpb3Yzf6mp3Pjz5JDQ2uts9ydK997pzuKXFDZwfbOpduFJTY3Mpi7/+a7jvPje5xudzXZw5OW7Z+7i83lxyGPKZZIy5EWjrsxzGw8BjwB7gz621TSMSoYiEbsBCnMNSX+9mpvn9rvzyy25mWnm5S9i2bHEV/rRprksn2nTNzOR06JBrJSsocAlXZia89lpwYbPz510S9uCDlz830su0xIuWFjh3zk2OOHw42MV58qRbiiOWWvykVyip/j8A/xbAGDMT+BHwU2AV8H8DuoCdSCI5fDiYnPU4eNAlaC+/HPxA3LHDzbC89tqohyhJZu9eePHFYLmqys1S7unS77tdHGvhZz9zCdreve53ZaWb9dzeDseP9x+zJzEjlL6PCqBnOth9wHpr7beAx4F7Ih2YiHhssEupFRe77qSBF5X75JPoxCTJbeB5VlPjLgQ+8FzVZQCDTpxwSRlAdrb7feaM+23M4JMIJCaEkqBZoKfTfg3wRvftM4AWIBJJNOXlbuBzSkpwZtr8+W6MzcBlBQaOExMZCQO74oxx2+6+O3hBzbw8Vxan73uzrMx1b/aMlVuzRusHxrBQuji3AP/GGLMeuB54ont7OS5JE5FEc9ttcMMNbj21nqUKfD5YvRreesuVU1PdYGORkXb99a7rvWetv2XL3Fi0ggL47nfdWmf5+eFNjEk0JSXBGaypqW4owv33u5mtGRleRydXEEqC9mfAz4F7gf9gre1Zuvl+4KNIByaSiLbUbGHn2Z3kZeSxunw1JTlx0BUzWOvYtde65TzOnnUz4rQOmUTYgdoDbKrZRIpJ4bqJ1zGlcIpbTuO734UjR1xS1vcSXykpWt/rs9x7r7vsW2OjW4onPX1Yu2ntbOXdY+9Sc6mG8oJyVpevJs03yCK9EhFDTtCstbuBwebY/2+Af5DtItLHjjM7WHdwXW+5uqGa7678LqkpMTgtfyiKizV+RUZEzaUafrn7l1gsAEcvHOWp5U9RlFXkujTnzPE4wjgUgeU0Xt3/Kgfq3DVPaxpraO1qZe3MtWHvVwYXcjuwMWapMebLxpiepZl90P0uEpHPtO98/4H1jR2NnLx00qNoRGLXgboDvckZgN/6OVh30MOIxB/wU1XXf3bswDpNImvICZoxptQYswnYjOvq7LnQ2H8B/n4EYhNJKEVZRf3KBkNhprpkRAYa+F75rG0SPb4UHwWZBf226X8yskJpQfshwRmbLX22vwTcGsmgRBLRqkmrGJc7DgCf8bFm6hryM/M9jkok9lSOqWRW8SzAfZFZOHYh04qmeRyV3DXjLrJS3ZjU3PRc7ph+h8cRJbZQBr+sAdZYay+Y/pdVOQxMimhUIgkoJz2HJ5c+SW1LLdlp2WSnZXsdkkhM8qX4eHDeg1xovYAvxUdeRp7XIQkwrWga37/m+9S31lOcXYwvZQQulyW9QknQsoCOQbaXAG2RCUck8RVna2C9yFAUZmkIQKxJ86VRmlt69QdK2ELp4vwAeLhP2RpjfMBfAhsiGZSIiIhIMgulBe1/B943xiwDMnATA+YC+cB1IxCbiIiISFIacguatXYvUIlblPYtIBM3QWBRn0VrRURERCRMIa2Qaa09A/zNCMUiIiIiIlwlQTPGLAZ2WGsD3bc/k7X2k4hGJiIiIpKkrtaCthUYC5zrvm0BM8jjLO6KAiIiIiISpqslaFOA831ui4iIiMgIu2KCZq09DmCMSQOeAv57zzYRERERGRlDmsVpre0EvsXg3ZsiIiIiEkGhLFT7JnDTSAUiIiIiIk4oy2xsAP6jMWY+sA1o7nuntfblSAYmIiIikqxCSdD+sfv3dwa5T7M4RURERCJkyAmatTaU7lARERERGSYlXSIiIiIxJqQEzRhzlzHmA2NMrTHmvDHmfWPMnSMVnIiIiEgyGnKCZox5DHgFOAz8JfA0cBR4xRjz9ZEJT0RERCT5hDJJ4C+B71tr/7HPtp8aY7bhkrVnIhqZiIiISJIKpYtzEvDGINt/B0yOTDgiIiIiEkqCVg3cMsj2WwFd/klEREQkQkLp4vzPwH8zxiwGPsKtfbYK+Crw7RGITSRm1LbUkp2WTXZattehiMSVrkAXdS11jM4eTWpKKB85EooOfwcX2y5SnF1MitECDYkglHXQfmSMOQf8OfDF7s37gAestb8eieBEvNbS2cLzO5+nprEGn/FxY/mN3DD5Bq/DEokL1Q3VvLD7BZo7m8lOy+b+OfczpXCK12ElnP21+3ll3yu0+9vJz8jnjyr/iLG5Y70OS8IUUpptrX3FWrvKWju6+2eVkjNJZB+d+IiaxhoA/NbPu0ff5ULrBY+jEokPvz34W5o73VUBWzpbWHdwnccRJZ6ADfB61eu0+9sBaGhv4K3Db3kclUSC2kFFrqC+tb5f2WIv2yYig6trqetX1nsn8tq72mnqaOq3beDrLvHpigmaMabRGHNpKD/RClgkmmYVz+pXzknLYVL+JI+iEYkvs0tm9ysPfD9J+LLSsigvKO+3beDrLvHpamPQ/jQqUYjEqPml8+nwd7Dz7E5y03O5cfKNpPnSvA5LJC7cPeNuctJyqG6opiyvjJum3OR1SAnp/jn3887RdzjTdIaKogqNk00QV0zQrLXPRisQkVi1dPxSlo5f6nUYInEn3ZfObdNu8zqMhJeTnsM9M+/xOgyJMI1BExEREYkxoVyLM90Y8++MMVXGmDZjjL/vz0gGKSIiIpJMQmlB+/fAnwB/DwSAvwD+O1AHfCvyoYmIiIgkp1AStAeAb1hrfwT4gV9ba78D/A2DXwJKRERERIYhlAStFNjbfbsJKOi+/QbuepwiIiIiEgGhXBitGhjf/fsQcBuwDbgGaI18aBJN5U9rhW8REZFYEUoL2ivAmu7b/xX4d8aYo8DPgJ9EOC4RERGRpBXKxdL/VZ/bvzLGnACuA6qsta+PRHAiErqquireP/Y+nYFOlk9YrjXcJG7sr93PxuMb6Qx0smLCCpaMX+J1SElh7/m9bDy+kYANcM3Ea1g4dqHXIQkhJGjGmP8AnLDW/n8A1tpNwCZjzDeMMf/eWvtvRipIERmaC60X+OXuXxKwAQBer3qdgswCphVN8zgykSura6njxT0v9p67r1W9RmFWIVMLp3ocWWI713yOl/a8hMUC8Or+VynMLGRywWSPI5NQuji/CmwfZPs24GtXe7IxZrwx5pPuNdRSu7f90Biz0RjzX/s87rJtIjI0Ry4c6f2A63Go/pBH0YgMnc5dbxyuP9ybnPVuu3DYo2ikr1AStDHA+UG21+FmeF5NPW4M28cAxpjFQI619nog3RizbLBtIcQnEjNaO1s5fvE4Hf6OqB63NPfyt2JpzlDeniLeutK5a62l5lIN9a310Q4rYVxsu8iJhhOXJcGqM2JXqLM4rweODNh+A3Dyak+21rYBbcaYnk3XAG93334bWIlbAHfgti0hxCjiub3n9/LKvlfoDHSSmZrJg/MepLygPCrHLssrY3X5aj6s/hB/wM/80vnML50flWOLhGNS/iRumHwDH534iIANsKB0AZWllbR0tvDsjmc523wWgGXjl3HXjLs8jja+bDiygQ+rP8RiGZ01mj9Z+CfkZeQBMLVwKtdNvI6PT36MxbJo7CLmlMzxOGKB0BK0HwE/NMakA+90b1sD/Cfgb4dx7AKgpx21AZiLWwB34LZ+jDFPAE8ATJo0aRiHFRk51lp+d/B3dAY6AWjrauPNQ2/y5NInoxbD6vLVXDvxWgI2QGZqZtSOKxKum6bcxKpJq/qdu5tObupNzgC2nNrC4nGLGTdqnFdhxpX61vre5AygrrWOD6s/5M7pd/Y+5paKW7ix/EbVGTEmlFmcf2+MKQb+HyC9e3MH8F+ttX83jGNfBPK6b+d1l/2DbBsYx4+BHwMsXbrUDrxfZDhaO1tZf2Q9NZdqmFwwmTVT1pCRmhHyfgI2QFNHU79tDe0NkQpzyNJ96Vd/kEgM6jl395zbw8cnP+bTs58CUJRV1PuYhvYGJWhD1NjeeNkYs0vtly57XLovHX/Az4YjG6iqq6Ikp4Sbp95MQWbBZY+V6AhlDFrPUhvFuK7Ha4ASa+3Twzz2Hwiuq3YzbmzaYNtERtwr+1/hk9OfcLb5LJtrNvN61fBWjvGl+C7rHqgcUxmJEEWSxomGE/xq7684cekEALvO7qKlswWAnLQczewMQVle2WVJ1rwx8wZ97LvH3mVj9UbONp9l97nd/HL3L6MRonyGULo4AbDWNjOMcWHGmDTgd8AC4E3gr3Bj0jYCn1prN3c/7rJtIiPJWsvBuoP9th2oOzDs/d07615GZ4+m5lIN5QXlXDvx2nBDFEkqVXVVva0+RVlFzB0zl9z0XBaULuC6SdephTgEvhQfDy98mI3HN9LY0UjlmMrPTNAO1Pav9840naGhrYH8zPxohCoDhJygDZe1thPXKtbXpkEe993oRCTiGGMYnT2a2pba3m0l2SXD3l+6L52bptwUidBEklJxdvFl5a9UfoWKogqPIopvBZkF3DPznqs+rji7mPMtwcUaslKzyEnPGcnQ5ApC6uIUSVT3zLiH3PRcAPIy8voNoBWR6KosraRyTCUGQ4pJYdn4ZerWjIJbKm7pTY4zUzO5Z+Y9pKZErR1HBtArLwJMLpjM91Z+j4b2BgoyC0gx+u4i4pUUk8J9c+7j1opbSTEpasWJkqKsIp5a9hQX2i4wKn0Uab40r0NKakrQRLr5Unz9ZoqJiLdGZYzyOoSkY4xRPRgj1EwgIiIiEmOUoImIiIjEmITq4ix/el3Izzn2g9AvGTKc4wz3WOLoNRcRkWSiFjQRERGRGKMETURERCTGKEETERERiTFK0ERERERijBI0ERERkRijBE1EREQkxihBExEREYkxStBEREREYowSNBEREZEYowRNREREJMYoQRMRERGJMUrQRERERGKMEjQRERGRGKMETURERCTGKEETERERiTGpXgeQTMqfXheV4xz7wV1ROc5wRet1EBERiVdqQRMRERGJMUrQRERERGKMEjQRERGRGKMETURERCTGaJKAJJXmjma2nd5Ga2crC8YuYGzuWK9DEvFUwAbYcWYHZ5rOMLVwKrOKZ3kdkkRZQ1sD205vI2ADLB63mKKsIq9DEpSgSRKxWH66/afUt9YDsLlmM48ufpTxo8Z7HJmId1478Brbz2wH3Hvi9mm3s7JspcdRSbS0dLbw420/prmzGYAtNVv45rJvUpBZ4HFkoi5OSRrtXe29yRmA3/rZfnq7hxGJeKvD38GnZz/tt21LzRaPohEv7D2/tzc5A2j3t7Pz7E4PI5IeStAkaaSYy0/3dF+6B5GIxIYUk0JqSv+OFL0nkstg/2+dA7FBCZokjXRfOhWFFb3l3PRclk9Y7mFEIt5KTUnlhsk39JZTTAqry1d7F5BE3ezi2YzLHddbHp01mgWlCzyMSHpoDJokla/M/wpHLhyhtbOVGaNnkJGa4XVIEXeq8RS/r/49nYFOlo1fxvTR070OSUZIJP7XqyatoqKwgjNNZ5hSOEVjj2JcXUsdG6s30tTRxPzS+cwvnR/W/tJ8aTy2+DEO1h8kYANML5pOmi8tQtFKOJSgSVJJMSlMK5rmdRgjpqmjiZ/t+Bkd/g4ADtYd5OuLvs7E/IkeRyaRNtj/+tHFj1KWVxbyvsaNGse4UeOu/kDxVKe/k5/t+BmNHY0AHKo/RGpKKnNK5oS1X1+KT7N3Y5C6OEUSyMG6g70f2OBmru49v9fDiGSkVNVV6X+dZKobqnuTsx57zu3xKBoZaUrQRBJIfmb+ZdvUZZWYBvu/5mdc/v+XxKH3d3JRgiaSQKYUTOk3wHdy/mQWjVvkYUQyUvS/Tj7F2cWsmrQKgwFgTM4Yrpl4jcdRyUjRGDSRBGKM4Quzv8CN5TfS6e+kNLfU65BkhOh/nZxunnozy8Yvo7mzmXG54zDGeB2SjBBjrfU6hmErLi625eXlXochg+nqAr8fMmJnluSxY8fQ+SJDoXMlzvn9rg5KT4coJDAxe75YCx0dkJoKPp/X0Qiwbds2a60dUu9lXLeglZeXs3XrVq/DkIHefBP+8Ad3u6AAHnkE8r0fG7N06VKdLzIkOlfi2LZtsG4dBAKQmQkPPQSTJo3oIWPyfDlxAp5/HtraICUF7rwTli71OqqkZ4z5ZKiP1Rg0iay6umByBnDxIvz+997FIyLJo6sL1q93yRm45GTDBm9j8sqGDe7vB/d6rF8PnZ3exiQhUYImkdXUdPm2xsbLt4mIRFpnZzAp6ZGs9c/Auri9XQlanFGCJpE1cSIUFfXfNj+8la5FRIYkKwtmzOi/LVnrn4F/97RpkJ3tTSwyLHE9Bk1iUEoKPPyw69ZsbITKSpg92+uoRCRZ3HcffPQRnDnjkpJkHXd1/fUuITt0CMaMgeuu8zoiCZESNIm8vDy44w6vo7ii8qfXhfycYz+4awQiEZGIysiAz33O6yi8Z4xLTpM1QU0A6uJ83D7gAAAgAElEQVQUERERiTFK0ERERERijBI0ERERkRijBE1EREQkxihBExEREYkxStBEREREYowSNBEREZEYowRNREREJMYoQRMRERGJMUrQRERERGKMEjQRERGRGKMETURERCTG6GLpMnxHjsBHH4G1cM01MG2a1xE5HR3w7rtw4gRMnAirV7sLKItI8jpzBj74AJqbYeFCWLQo9H3Eat3S3OziOnMGKirghhvA5wvef/48vPceNDbC/Pm6gHqcUIImw3P+PDz3HAQCrnz0KDz5JJSWehsXwGuvwa5d7vbJk65S+tKXvI1JRLzT3g7PPgutra58/LhLrObMCW0/sVq3vPQSHDvmbp886RLJ225z5a4u+Od/drECVFdDaqpLUiWmqYtThqeqKpicgbt94IB38fS1b9+VyyKSXI4fDyZnPYZTL8Ri3dLaGkzOeuzdG7zdk0j2FQtxy1UpQZPhKSoa2jYvFBb2L8dKXCLijYF1AgyvXojFuiUjA3Jy+m/rG1dBARjz2fdLzFKCJsMzcyZUVgbLc+eG3l0wUu66C7Kz3e3sbFcWkeRVUuLGZaV0f+SVlcHKlaHvJxbrlpQUuPvu4Fi4vLxg9ya4BO2mm4Jj0saNg1Wroh+nhExj0GR4UlLgvvtgzRpXLijwNp6+ysvh+9+HujoYPdqNtxCR5HbTTbB8ObS1QXHx8PYRq3XL7NlucsCFCy4ZTRnQ9nL99bB4MbS0uPslLsTI2SVxKyMDtmyBhgbXijZ1qtcROampsTFhQURGnrWwfbubXVlW5mZoDkxSAHJz3U84PqtuaWyEzZtdArhggYsjmtLTr1zn5eRc3hUqMU0JmgyftfC//hecOuXK27bBgw/CrFnexiUiyWX9erfkD7hE7fx5uP326B3fWvjpT+HiRVfetg2+/vXoJ2mSUDQGTYbvzJlgctbjk0+8iUVEktfAemfbtugev709mJyBm9W+Y0d0Y5CEowRNhm+wBRozM6Mfh4gkt4H1TlZWdI8/WHeq6kIJkxI0Gb6iov4rUmdlaXaQiETfmjXBJMmY4OSlaElPdzPbe+TnuwkJImHQGDQJz913uwG5DQ1ugoC+NYpItFVWuksvnTwJEyYMvu7ZSHvwQbcgblubm1GZlhb9GCShKEGT8E2Y4H5ERLxSUODtcj/GuGU4RCJECZpIgih/et2wnnfsBzGw2KaIiPSjMWgiIiIiMUYJmoiIiEiMUYImIiIiEmOUoImIiIjEGCVoIiIiIjFGCZqIiIhIjFGCJiIiIhJjlKCJiIiIxBglaCIiIiIxRgmaiIiISIzxNEEzxqwwxnxkjNlojPlh97a/MMZ8aIx53hijq82KiIhI0vG6Be04cJO19npgjDHmeuBz1tpVwE7g855GJyIiIuKBiFws3RhTBIxhQMJnrd17pedZa8/0KXYB84H3ustvAw8BL0UiRhEREZF4EVaCZoxZBPwTUDnwLsACviHuZz5QDFwE/N2bG4DCQR77BPAEwKRJk4YVt4iIiEgsC7cF7RmgBvgucBaXlIWku/XtH4EHgCXAhO678nAJWz/W2h8DPwZYunRpyMcTERERiXXhJmjTgfuttYeG82RjTCrwHPAX1tozxpgtwLeAvwNuBj4OMz4RERGRuBPuJIEPgdlhPP9+YBnwt8aY94AK4ANjzIfAQuDVMOMTERERiTvhtqA9CvzEGDMV2A109r3TWvvBlZ5srf0F8IsBm/8A/G2YcUmkBALwxhvw6aeQmwu33gozZ171aXV18JuXu6h5t4ryroOsXXmevPtugcmToxC0iCSkzk747W9hzx4oKIA77oApU/o95OxZeO0197uiAtauhexsYN8+WL8eWlpg4UJXl6V4vZBBlKxfDz/+MVy6BCtWwL/+15Ce7nVUcW//fvfSNjW5U+q22yJ7SoW7q+m4lq4fAutxMzB7ft4Nc98SCzZtgs2bob3dZV0vveQquKt4+WU4/sFxuk6d49C5fF77sBBeeAG6uqIQtIgkpI0bYft26OiAc+dcndLR0Xu3ta6KOnnS5XL797vvlzQ1wa9+BfX10NYGH38MW7d693dEU309/N3fwfnzrh7/4AP4yU+8jiruNTe7U6quzr2sPR+VkRRugvYjYANuFucYoKTPz5gw9y2xoLq6f7mrC2pqrvgUv7/7IQ0Nwd005LvErrZ2BIIUkaQwsD5qa3OJWrfBqpjjx3EZm9/f/46B+0pUO3e6bLWvPXu8iSWB1NRc3t4Q6VMq3AStDPgba+0ea22ttbau708kAhSPlZX1L/t8MG7cFZ/i88H48UBeXnA3eZcgKwtGjx6BIEUkKQysjzIyYEywLSA7G4qK+j9k4kRchTSw72ngvhLVvHmQOmA006xZ3sSSQMaPd591fUX6lAo3QVuPWxpDEtXKlbB4sTsT8/PhvvvcWLSr+MIXYMK1kzFjSigvbOCelefh/vshTVfvEpFhuuEGqKx0yVZRkatT+oylMga+9CUYO9bdnjYNbr8d92Xxi190v1NTYelSWLbMu78jmoqL4fvfh8JCV49fcw08/rjXUcW93Nz+p9SSJW54XySFO0ngDeDvuxea3cXlkwReDnP/4jWfz42yXbs2pKeVlMDj30qDb80F5o5MbCKSXNLT3ZfE++77zIeMHw/f+MYgd8yb536S0Z13uh+JqLlz3c9ICTdB+x/dv/9qkPuGfCUBiQNHjsCHH7pZnStWwOxwVlcREYmg9nZ45x03CGjiRLjpJsjM9Dqq2LRtG+zY4fqDV6++6pAV8U5YCZq1NknmKCe5+np4/vngINvjx+HRR5NnDIeIxLbXXoPdu93t06fdrM0HHvA2pli0Z497rXocPw7f+54byycxJyIXS5cEd/Bg/xlQ1sKBA0rQklj50+tCfs6xH9wVleMM91gSxw4c6F/ev9+bOGLdwNelrQ2OHRvS2pYSfeFeLP37V7rfWvtfwtm/xIjBZl4WF0c/DhGRwYweDWfO9C/L5QZ7XfRaxaxwW9C+PaCcBowDWoFzgBK0RFBR4aaofPKJaz2bMyd5B9uKSOy580548UXXtZmTA3ff7XVEsWnlSjh61HVt+nxuVqy+bMescMegTRm4zRhTCvwT8D/D2bfEEGPgnnvcgNJAwC23ISISKyZNcmOp6uvd8hsDF6gSJzMTHnnEvU6Zmd3XwJJYFfExaNbas8aY/wN4EXgl0vsXD40a5XUEIiKD8/nc+j5ydQNX85WYNFKzMFOA0hHat4iIiEhCC3eSwBcHbsKNQXsK2BjOvkVERESSVbhdnL8aULbAeeAd4M/D3LeIiIhIUtJCtSIiIiIxRgmWiIiISIwJuQWte3Ha/2GtbdNCtSIiIiKRN5wuzm8DzwJtXL5QbV8WLVQrIiIiErKQE7S+i9MOtlCtiIiIiIRHY9BEREREYsxwxqD99VAfa639P0Pdv4iIiEiyG84YtPsHlCcD2cCp7vJ4oAU4BihBExEREQlRyF2c1trKnh/cJIBtwFRr7SRr7SRgKrAF+IfIhvrZ2rra2F+7n7qWumgdclj8AT+H6g9x8tJJr0OJDGvh2DE4etTdHoaaSzUcqj9EV6ArsrGJREA81C3VDdUcrj9MwAa8DiVs1lqqG6o5cuFIeH/PhQuwfz+0tEQuuBhyuvE0B+sOhlZvnjkDVVXQ2XnZXdZajl88ztELR/u97mebzlJVV0WHvyMSYUuIwr2SwF8Dn7fWVvdssNZWG2P+HPg18EyY+7+qEw0neG7nc7T72zEY1kxdw6pJq0b6sCFr6mjime3PUN9aD8Cckjk8MPcBj6MKQ1cXPPssnDjhyhMmwMMPQ1rakHfx0p6X2HN+DwCFmYV8fdHXGZWhC7JLbIj1uiVgA/x81885VH8IgDE5Y3hk4SNkpWV5HNnwBGyA53Y+x5ELRwAozSnlkUWPkJmaGdqONm2CN95wXxrT0uChh2BK4sxn+/X+X7P9zHYA8jLy+Pqir1OQWXDlJ73+Omzd6m6PGgWPPNJ7wXR/wM8/f/rPHG84DsC43HE8sugRNhzZwKaaTQDkpufy8MKHKc4uHpk/SgYV7iSBUmCw2iATiMp/8r1j79HubwfAYl25qz0ahw7J5prNvckZwN7ze6luqL7CM2Lc3r3B5AygpgZ27Rry009eOtmbnAFcaLvQWxmIxIJYr1sO1R/qTc4AzjWf6/3gjkcH6w72JmcAZ5vPsv10iH9PVxe8806wRb+z05UTxNmms/3+x5faL/GHE3+48pNqa4PJGUBjI3z0UW9xf+3+3uQM4HTTaTYe38jmms2925o6mviw+sPw/wAJSbgJ2nrgfxpjVhpjfN0/K4Efdd834po7m/uVuwJdMdkc29J5eVN7c0fzII+ME82DxB5Cd8Jgf/tgr5GIV2K9bkm0OmXg6w3DqBO6uqBjwP8ogbo5B/2fD/K69X/SIH9/n/p7sOdfaLuApf+wFdXP0RdugvYYcAL4CLdwbRvwe6AGeDzMfQ/JorGL+pWnFU2LyW6yBaULSDHBl3tU+iimFU3zMKIwzZkDGRnBcno6zJ075KdPLZxKXkZeb9lgWFC6IJIRioQl1uuWmaNnkp2W3Vv2GR/zS+d7GFF4ZhXPIis12CGTmpJKZWllaDvJzIRZs/pvW7gwAtHFhkn5kyjKKuotGwwLx17l7ysrg+IBHVqLguf27OLZ/bqR01LSWD15NaU5pf2ectXjSMSFe7H088CdxpgZwCzAAPustVWRCG4oVpStIDstm6q6KkpySlhZtjJahw7JxPyJPLzwYbaf3k5maiYry1aS5hv6eK2Yk58Pjz4KW7a47oRly6CwcMhPT/Ol8eiiR9lUs4mWzhYWjV3E5ILJIxiwSGhivW7JSsviscWPsenkJjoDnSwZt4TS3NKrPzFGZadl89jix9hcs5nOQCdLxy9lTM6Y0Hf0xS+6cWhnz0JFRUIlaL4UH48sfISPT35MU0cTC8YuYGrh1Cs/KSXFjQ/++GPXvVlZCdOCjQOjMkb1vu7+gJ9lE5ZRnFPM1xZ8jU01m2hoa2DemHlMHz19ZP84uUy4kwQAsNZWGWNOuZs26m3slaWVoX/T8sCk/ElMyp/kdRiRM2YM3HXXsJ+en5nPrRW3RjAgkciK9bqlKKuIO6bf4XUYETM6e3T4f09aGqyKnckckTYqYxS3VNwS2pNyc+Hmmz/z7uLsYu6cfme/bTnpOdw05abhhCgREvaVBIwxTxljqoEG4JIx5rgx5lvhhyYiIiKSnMJqQTPG/BXwr4D/DPRM8bge+IExJs9a+4Mw4xMRERFJOuF2cX4DeMJa+4s+2zYYYw4C/xFQgiYiIiISonATtDG4qwYMtBm3RppI0it/el3Izzn2g+GP7RMRkfgX7hi0KuChQbY/BBwIc98iIiIiSSncFrR/C7xojLkBt/6ZBVYBq4EvhblvERERkaQUVguatfZlYAVwBrgbWAucBpZZa18NPzwRERGR5BNWgmaMmQM0WWv/2Fq7BHgat1jt7cYYXyQCFBEREUk24Y5B+ymwCMAYUwa8AhQBTwH/V5j7FhEREUlK4SZos4FPum/fD2y21t4JfBX4ozD3LSIiIpKUwk3QfEBH9+01wG+7bx9Gy2yIiIiIDEu4Cdpu4JvGmOtxCdob3dsnALVh7ltEREQkKYWboP0l8DjwHvALa+2u7u1rcYvVioiIiEiIwloHzVr7gTGmBMiz1l7oc9ePgJawIhMRERFJUuEuVIu11g9cGLDtWLj7FREREUlW4XZxioiIiEiEKUETERERiTFK0ERERERiTNhj0CSxHL1wlB1ndpCdls3KspXkZ+aHvc9Tp2DrVvD5YMUKKC6OQKAiktBONZ5i66mt+IyP5ROWU5JTErF919bCpk3g98OSJTBhQsR2ndD8AT+bajZxqvEUk/Mns3T8UowxXocVEw4dgp07ITcXrrkGRo0Kf59K0KTX0QtH+edP/xmLBWDv+b18e8W3SU0Z/mly/jw88wx0dbnyrl3wp3/qTmIRkcHUttTyzPZn6Aq4imPXuV08tewpRmWE/6nX3Aw/+Qm0tbnyp5/Ck0/CmDFh7zrhvVb1GjvO7ABg97ndXGy7yC0Vt3gclfcOHoTnnw+W9+93n3MpYfZRqotTeu08u7M3OQNoaG/gyIUjYe1z165gcgauUty/P6xdikiC231ud29yBtDW1cb+2shUHPv3B5MzcK1ou3Z99uPFCdgAO8/u7LetJ1lLdjsGvAz19VBdHf5+laBJr+y07Mu25aTlhLXPnEGePtg2EZEeg9ZF6ZGpOFQnDY/BXPZ/idT/JN6N1DmlBE16rSxbSWFmYW+5ckwlE/LCG5yxcCGMHRssT50KM2eGtUsRSXALShcwLndcb3lKwRRmjo5MxTFjBlRUBMtjx8KiRRHZdUIzxnDL1FtIMS5tSE1J5eapN3scVWy49lrIywuWlyyBkggMmdQYNOk1KmMUf7r8Tzl68SjZadmMHzU+7H1mZMATT8Dx45CaChMnRiBQEUloGakZPLHkCY5dPIYvxcfEvIkRG4yekgJf/SqcOOGGX0yeHP5YoWSxYOwCphRO4XTjacryytSC1q2gAL7zHTh2zI2v7tsoEQ5PEzRjzHjgdWAOkGut7TLG/BBYCnxirf2ul/GFq8Pfwa6zu2jtamXemHkUZBZ4HdJV+VJ8TCuaFtF9pqTAlCkR3aWIJDhjDFMKXcVxofUCe87vISs1i8rSStJ96WHvP5m+LHYFuth9bjeN7Y3MLplNcfbwp9LnZeSRl5F39QcmmdRUmBbZj07PW9DqgTXAKwDGmMVAjrX2emPM/2uMWWat3eJphMPkD/h5ZvsznGk6A8DG4xt5fMnjYb0xRESSzbnmc/zkk5/Q4e8AYNvpbTy2+LHerja5uud3Ps/Ri0cBeP/4+zy88GHK8so8jkquxtMz3FrbNuAi69cAb3fffhtYGf2oIuPIhSO9yRlAu7+drae2ehiRiEj82Xpqa29yBm59tKMXjnoYUXw51XiqNzkD15q26eQmDyOSoYq1ryAFwKXu2w1A4cAHGGOeMMZsNcZsPX/+fFSDC8Vg4yUMWtBPRCRcWhx16Ab73NHrFx9iLUG7CPR0bud1l/ux1v7YWrvUWru0JBLTJEbI1MKp/QbZZ6ZmsnT8Ug8jEhGJP8vGLyPDl9FbLssrY0qBBrUO1bhR46goDE5bTUtJY8WEFR5GJEPl9Ri0gf4APAm8CNwM/MzTaMKQYlJ4ZOEj7D2/l9auVuaWzI3IKtjinfKn13kdwohIxL9rOH/TsR/cNQKRSLhKckp4avlT7D2/l6zULOaOmasWoBA9VPkQ+2r30djeyKziWRRmXdY5JTHI61mcacDvgAXAm8BfAW3GmI3Ap9bazV7GF640XxoLxi7wOgwRkbiWl5HHyrK4HZLsOV+Kj3lj5nkdhoTI0wTNWtuJaynrS6MXRUREJKnF2hg0ERERkaSnBE1EREQkxihBExEREYkxStBEREREYowStDjgD/g513yOrkCX16GIiIRE9Vd0dPg7ONd8joANeB2KREisrYMmA5xoOMELe16gqaOJ7LRs7p9zf+8FhEVEYtnA+uuBuQ9QXlDudVgJZ3/tfl7d/yptXW3kZ+TzUOVDlOaWeh2WhEktaDFu3cF1NHU0AdDS2cLrVa97HJGIyNCo/hp5ARvg9arXaetqA6ChvYE3D7/pcVQSCUrQYlx9a/1lZWutR9GIiAxdXUtdv/LA+kzC197V3psE9xj4ukt8UoIW42YVz7qsrMuciEg8mF0yu195YH0m4ctKy7qs23jg6y7xSWPQYtzdM+4mJy2H4w3HKcsr46YpN3kdkojIkNw9426y07KpbqhW/TWC7p9zPxuObuBM0xkqCiu4sfxGr0OSCFCCNkKstRFp6Ur3pXPbtNsiEFHishbUqCgSe9J96dw+7fZhPz9S9Whox4y/+iQnPYe1M9dGbH9evO6xzKtzQglahLV0tvDq/lc5WHeQ0dmjWTtzLZPyJ3kdVkI6fBjWrYMLF2D2bLj3XsjI8DoqEYmEd46+w8cnP8ZnfFw/+XqunXjtiB7P74ff/Q62b4fsbLjlFpg/f0QPGXNaOlt4Zd8rHKo/RHF2MWtnrmVi/kSvw/LMyZPw619DbS1UVMAXvgA5OdE7vsagRdjbR96mqq4Ki6W2pZaX9ryEP+D3OqyE09kJv/oV1Ne7bzd798K773odlYhEwv7a/Xxw/AM6/B20drXy1uG3ONFwYkSPuXWr+/H7obERXn0VGhpG9JAx563Db3Gw/iAWy/mW87y096WkXVctEICXXoLz591nzKFD8GaUJ8cqQYuwk5dO9is3djTS0J5k7/IoqKuD1tb+206eHPyxIhJfBtajADWNNSN7zAGHDATg1KkRPWTMGfi6X2q/xKX2Sx5F462mpssT9Gh/xihBi7DJ+ZP7lfMz8inILPAomsRVXHx5U/PkyYM/VkTiy8B6FBjxoSID6w+fD8rKRvSQMWfg616QWUB+Rr5H0Xhr1CgoKuq/LdqfMUrQImzN1DXMGzOPdF86E0ZN4MvzvkyK0cscaamp8OUvw9ixbtzZwoWwerXXUYlIJEwfPZ2bp95Mbnou+Rn53D3jbsaPGj+ix1yyBK69FrKyYPRo+NKX3Id0Mrml4pb+n19zv5y0kwWMgQcecEl6ejrMmQO33hrdGDRJIMIyUzP50pwveR1GUpg0Cb7xDa+jEJGRsGrSKlZNWhW14xnjPoCj/SEcS/T51d/YsfDYY94dPyETtE5/JxuObuBQ/SFKc0q5teJW8jOTs5nWC6dOwTvvwKVLbhbUddfF37R1kWRxqf0Sbx1+q3cNrTVT15DuS/c6rBF18CBs3AhdXbBiBSxY4HVE3jpQe4APqz8kYAOsLFtJZWml1yElhL174aOP3O1rr3WtcKFIyARt/ZH1bK7ZDEBtSy0X2i7wxJInPI4qOXR2wnPPQUuLK7/9NmRmwtKl3sYlIoN7cc+LvYPDa1tq8Vs/d8+42+OoRk59PfziF24SAMArr0B+PpSXexqWZ843n+eFPS/0ztb8l33/QkFmQVIvrxEJp0+7WaA9V2Z86SV4IsQ0JCEHRx2sO9ivfKrx1GXXKpORcfJkMDnrcfDg4I8VEW+1drZeNnOvqq7Ko2ii4/DhYHLWI5nrqMMXDl+2lMbB+iR+QSLk0KFgcgbudqjnWUImaCU5Jf3Kuem5ZKdlexRNchk9GlIGnFUlJYM/VkS8lZGaQV5GXr9tY3LGeBRNdAxWHyVzHVWSffkfP9g2Cc1g59SYEN9aCZmg3VZxW+8JlpOWw70z79VMyijJy4Pbb3ezXsB1G1x3nachichnSDEp3DvzXnLTcwEozi4O69JM8aC83I0H8vnc2Nj585PvigF9TS2cyooJK0gxKRgMC8cuZO6YuV6HFfdmznRDe1JS3M+SJW5bKBJyDNro7NE8tfwpGtoayE3PxZfi8zqkpLJ8uVv2or09+aapi8SbiqIKvrfyezR1NJGXkZcUyyrceivccIO7akA0L90Ti4wx3DH9DlaXr8Zi1dsUIcbA3XfDmjWuezN7GC+rsX07SeNMcXGxLU/WkZ1yZV1d0NHhmvJS3feQY8eOofMlgbS1ud8ZGRGfJqxzRUIRE+dLZ6er99LTXfOgxKRt27ZZa+2QuvTiugWtvLycrVu3eh2GxJodO9wVbq11H9xr18KiRSxdulTnSyLo7IRnnnHTpMAN9njsMZeoRYjOFQmF5+fLhx+6KfPgkrMvfxlmzPAuHvlMxphPhvpYDcySxPPOO8HpM9a6siSOvXuDyRm4qxnv3OldPCJe6uqCDz4Ilv1+eO89z8KRyFGCJomnvb1/uaPDmzhkZAz8/37WNpFk4Pe7JK0vvR8SghI0STwDV8XVKrmJZc6c/iNuMzKgUiufS5Ia7PxXnZcQ4noMmsigbr4ZSkuhuhomTkzuOfSJKDfXLcm9bZtbcXTxYrcUvEiyWrvW1XVnzkBFBcye7XVEEgFK0CTxaHGjxFdQ4Oavi/RR/vS6kJ9z7Ad3jUAkUebzqdUsAamLU0RERCTGKEETERERiTHq4pS4dfIkvPEG1Ne7IRe33w5pacPb18WL8PrrUFMDkyfDXXfpKggiIsns3DlYt879nj4d7rwTMjOjd3wlaBKX/H745S+hqcmVt21zE/uGOyzplVfg+HF3e/9+N/b8oYciE6uIiMQXa+GFF6CuzpV37nQNAPfcE70Y1MUpcen8+WBy1uPo0eHty9pgctbj2LHh7UtEROJfY2MwOesx3M+Y4VKCJnGpqOjypuYJE4a3L2Ng3Lj+28aPH96+REQk/uXmQl5e/23D/YwZLiVoEpfS0+G++9zyV8a4y8597nPD39/nP++WTgP3JoxmM7aIiMSWlBT3GVNU5MpTpsCtt0Y3Bo1BkxFx9ixcugTl5W6JnuPH3e9JkyJ3jOnT4c/+zI1HSw3hTD51Clpbg7GBS86++U13xZRQ9hWqzk7XfZqXF0wIRUQk9kyeDN/5ztA+F7q6XN2emwtjx7pt1rr10sF99hkT2vGVoEnErVsHW7a429nZ7sS+dMmVp06FP/5j9+0kEowJLaF66SXYs8fdLiqCr3/dvaF6jGRyduEC/NM/BV+LZcvcbFEREYldV/tcuHgRnnkmWLcvWQJ33AHPPgsnTrhtEyfC174W2nHVxSkRVVsbTM4Aqqpg69Zg+cgROHAg+nGBu2Z6T3IGbnmOzZujd/zf/z74Bgb3OtXWRu/4IiISeR991L9u37YNNm4MJmfgbvf9/BkKtaDJ8LW0wK5d7nZlJWRn09LS/yGdl1rpONcEBRZKSsAYmpujHyq4pTMGimYsgx1r4OsVN6x12ffZs+7af9EePdva6s69QMCdezk50T2+SDxpa4Pf/MZ9I7zlFjc+RCJmsLq9vn5oj7sSJWgyPK2t8KMfQUODK//+9/CNb1BWlk1xcXfLUH09Y2r20xdHQ1kAACAASURBVOFPgb1tUFJC5pK5zJrlTcgZGW7x2cZGVzYGFiyI3vEXLoR9+4Ll4mIoK4ve8SPqjTdg0yZ3+9134QtfiN61T9va3Ll38aIrd597StJEPsO3vw0HD7rbL78M/+k/uTEWEhELF/ZvHSsqcpPWDhxwPTfgJrbNnRvafpWgyfDs3h1MzsC17+7cScrKlTz8MPzhD9D4+i4qF39KTnonW0+Nx2dqWPGlCeTmFngSsjHw6KPw8ccuv1y0KLKTFq5m5kz4yldcw8+oUXDNNZEbixdV7e39+62tdW380UrQ9uwJJmfgMu6dO90LKiL9ffJJMDkDN5r9xReVoEXQ9OlubPXOna5uX7nS/X700eAwmuXLoSDEjz4laDI8g01H6d6Wm+ta0Tl7Ag65dt61M7sHnhVHKb7PUFDgLgnllenT1bsgIh4LdTqhXNW0ae6nr9LS8JZsisfv7xIL5s7t/3UgL8+NBerr2mv7NxHNmxf6VwiJPRkZ/b99GwPXXRe948+dC4WFwXJeXvRa70TizeLFbqHIHmlp8MAD3sUjQ6YWNBmerCx48knX1WmtS86ysvo/ZupUt7jYgQOuU96rwWcSebfd5iYHnDnjvjYOvBTDSMrMDJ57gYBL/LOzo3d8kXjzj/8Ir73mBgffeqtbdVVinhI0Gb4jR2D7dpegZWUFW9Bqamh6/T3e3FJETfZ0Jt90HbcuMWSpvTY6Dh6E9993q+IuX+4W5Ymwiw2GNz+Zztmz05nWCDePdoNgoyYzE5Yujcy+du92Ew3AtQTOmxeZ/Yp4qbMT1q+HQ4eCC3kFAm69h/JydXNGQHU1vPOOm525YIGrPiL5sipBk+E5cwZ+9SuXnIGbGVRU5JbSeO45Xv54BkcuZAEnqW/NorNrAl/6kqcRJ4cLF+CXv3SXVwD3rTk///LBEWF64QU4fdrd3rzZnQZxuejuqVPwL/8SPI//5V+C13YRiWfr17s3p9/vZm31fKl55x33hVqTBMLS1gbPP+/mTAG8/babSL5oUeSOoTYNGTq/380AAvetrOdDzVq3/dAhqKnB39zGkQt9xgjV13PoUPTDTUpHjgSTsx7hvvh9/++4b4s9yVmkDnFFHR3Bcy3SDh/uv29rR/iPkYQWCLiWq1jQM3Pz0iX3/m1qCq75sG/f4AtDypCdOBFMznpEuupQC5oMzfvvu26gQMB9C5s61W0/d86dlR0dbgLA3Ln4Ug3F2S3UtnSPC8rJYcwY70JPKoNd4DOcF3/jRvfj97v/++23k5Vl+q0nF+4hPlNLi2vROnzYTQS4++7+g50jYbDAdZFUGY4tW2DDBlcXVlbC2rXBi/16obTUtahnZ7t+t7Q0F8/eve6ikadPu+n2ixd7F2Mc6153vd/3u0jXg2pBk6urrnaLkXZ0uG9iH3/sviUuXOhWk+/shPHj3Te17dvhrru4t/II+RltUFjI6IUT47P7Kx6VlcGNN7oxJ8a42Y3DXY335MngB47f7xam3b2blBT4/OfdOj/gPgduuy1yf0Kvd991yRm4c+vllyPfOjFjhhunl5LifpYvj3wSKImvqwt++1vX7xUIwKf/f3v3HSdHfd9//PW53nUqp1PXqSBQR9KhAgIhEAEjwAYFl9gmBoxw4p8Dxk6M04zj4GAnju3EiW1i4wLGsWnGDqYYBCoII0BCBXUJ9d7vTtfv+/vju1d1ane7O7O77+fjcY+7mdmd+czu3uxnvnVl+7ECg3DttX7W7uxsfw2YMMFX6dfX++tEdbVvAtF2TEE5Z81DNjW3vb3ggugPxagSNDm7PXtOXbd3r298Pn26X25uhBq5Kxs8YQL31NRRRT4FBWqPGlezZ/vWqo2Np/asPR8d6zGb140fz4gR8PnP++rO5kQt6joev6bGz58SzRIuM7j+erjqKr+ckxO9fUvqqK8/tRq+s/+feOrZ08+wUVHhG0c1Nfn2qW3r4Zzz7Yk1/FGXTJvmCyDr62PTkVwlaHJ2nfX4GT7c350VFrYmZ9DafTszk7TCfAoLlZwFIiure8kZdP6+t+men5YWw+Ssw7EAf7A+MRrpOCdHyZl0XXb2qdWZYRnKorDQ/7NmZMDo0e23ZWTA4MHBxJUkMjNjN8qPStDk7Pr183VazW2Rpk9vbYP2sY/BSy/5aZ/GjvWD00pyKCmBW26BRYv8LeL06fGdBmHWLF9qtm6d71l53XXBtukROZ20NPjIR3yTgJoaX6wSxsGTJ0/21+p33/WlaldfrTlsQ0wJmpxdZaVvY3HNNf4Luu3sAEOGwKc/HVxsElvjx586Q0Sz7dth/36frMeiZCsjw4/doQaMkghGjQpv+8WmJl+1eeKEH16juUpfQk0JmpzZgQPwyCP+rhB8gvbxjwcbkwTvlVd8iSr4hP3WW0+tPhGRcPj1r2H9ev/3H/4At9/ua0Yk1NQGTc7szTdbkzPwY+vs3h1cPBK8ujo/8GWzpqbWZE1EwmXfvtbkDPzgXX/8Y3DxyDlTCVoMVdRW8Naet6hpqOHifhczoHBA0CGdvzYDlJ5xnbRock2s2LuC3RW7KSsuY3zf8Vgy9ZRoajp1kEt9JkTCqbGR+sZ69lTsobaxlr75fSnW/2tCUIIWI/WN9fx4xY85VuPHmHlnzzvcOfnOxEvSysv9XIXNo9MPGODbnclp/X7T73l7jx8Dafne5RypPsKVZVcGG1Q05eT4MfCWL29dN21acPGIyGm5/v15vWk7HNsFwO7KvQy/4BaGBhyXnJ0StBjZcnRLS3IG0OgaWbF3ReIlaIMHw/z5PkkrKPBfzMlUGhRljU3+fW7rnT3vJFeCBn5U/7Iy30lgxIjWXr0iEiq7Knaz+Mph9NucS9bJWg4O68vBjH1K0BKAErQoa3JNLN6+mKW7lrLu0DqGFQ8jJ8OPr9T8O8xW7F3Bin0ryMvMY9bQWfQv7O8HBk3y6W9qGmpY8P4Cdp3YxdAeQ5k9bDZZ6VnnvZ80SyMrPYvqhuqWdW3f92W7l7F6/2oKswu5suxK+uYn6BxYaWnhHEZARNrJycihMTOd3aMHtlvXmcamRhbvWMymw5soyS/hqmFXUZRd1LK9ur6aBe8vaGm+MbtsNpnpmTE/h1SlBC3KFm5byMLtC3HOUd9Yz5oDaygfUE5RdhGXDLwk6PDOaN3BdTy74dmW5W3HtnHv9HsTIrHsrt+s/w3rD/mGtHsq9nCy/iQ3j775vPdjZlw9/Gqe2/gcDkeapTF72GzAJ7+/3/T7lsfuOL6De6ffS0aa/g1FJDZK8kuYWDqRlftXApCXmcelgzsfr3Lh9oUs2r4IgN0VuzlQdYD5U+a3bH9m/TNsPLwR8NfJ6vpqPnjRB2N8BqlL3wxR1vwlb2aM7zueYzXHuHbEtZQPKA/9nca6Q+vaLdc01LDt2DYu6nNRQBHFh3OODYc2tFvX/D52RfmAcsqKy9hTsYchPYZQnFPc6T4r6yrZdWIXZcVlXT6WiMjZ3Dz6ZqYMmEJFbQUjeo047U33uoPtvwP2VOzheM1xeuT0oLGpkU2HN7Xbvv7Qej6IErRYUYIWZb3zerO/aj/gk7R+Bf0oH1BORloGL25+keV7l5OTkcPVw69mQmm4qoh65/Y+p3XJxszomduTI9VHWtb1yu3VrX32yetDn7z2g7d23Kdh9Mzp2a3jdGb53uW8+v6r1DfVM3XgVGaXzU6uXqQict6G9Dh95643d73Jou2LWLF3BdkZ2Qwt9i3UcjJyyM/yMw2kp6VTnFPM0ZqjLc/r7nVSzkzjoEXZ1cOubvnQZqVnMXfUXDLTM1mxbwVv7HqD2sZajtce55l1z7TrRBAG0wZNY2gP/4+ZZmlcMfQKSvJLAo4qPm4cdSN5mX5CtYKsAq6/4PqoH2PmkJktnUTSLZ05w+fQI6dHVI9xoOoAv93wWyrqKqhpqGHR9kWsPbg2qscQkeSx68Qunt/8PFX1VQzqMYh9lfs4fPKw//66YG67Jhg3jLqB3Aw/x29hVmFMrpPSKrQlaGZ2H3CLc25m0LGcj955vfnc1M9x6OQhirKLyM7IBmDn8Z3tHudw7Dqxq6X6KwxyMnK4fdLtHKk+QnZ6dsudUyoY1nMY9824jyPVR+id25v0tOjP+Ziflc/8KfM5fPIweZl55GZ2czLzTnT8nIFv6za279ioH0tEEl/ba0ZeZh5TB05lQukEbhh1Q8v3V7MRvUbwhUu/ENPrpLQKZQmamWUDE4OOo6vMjJL8knYf7kFFg9o/BjtlXVj0yu2VUslZs4y0DPrm9435Rad3Xu+YJGcAg3sMPqd1IiJw6vXBzBhfOv6U5KxZvK6TEtIEDfg08LOgg4imyf0nM2PQDLLSsyjKLuLm0TeHqvRMkkPf/L7cOOpGCrMKyU7P5vIhlzO2RKVnItK5QUWDuG7kdeRn5pObkcvsstmM6h3SSd9TTOiqOM0sE5jlnPsvM/unTrbPB+YDDEmgEe3NjGtHXsu1I68NOhRJclMGTGHKgClBhyEiCWL6oOlMHzQ96DCkgzCWoH0SePx0G51zDzvnyp1z5SUlqdGAXURERFJLVErQzGw14M7lsc65s40tcSFwsZl9BhhrZp9zzv1nd2MUERERSRTRquJ8Mkr7wTn3pea/zWyJkjMRERFJNVFJ0JxzX43GfjrZb0INsSEiIiISDTHrJGBmw4Ex+KrPdc65rbE6loiIiEgyiXqCZmZFwI+BeUBT62p7CrjTOVcR7WMms4amBl7f8To7ju9gUNEgZg6ZGfo5PZPNmgNrWLV/FQVZBcwcMlPTm4hIqNQ01LB4+2L2Ve5jRK8RTB80nTQLYx9AOR+xKEH7LjABmA0sjay7DPgB8B3gzhgcM2k9v+l53tn7DgBbjm7haM1Rbhl9S8BRpY51B9fx5NrWJpabj2zmr6b9VbvpT0REgvTU2qfYdMRPZL7l6Baq66u5evjVAUcl3RWLFPsm4NPOuYXOufrIz2v4scs+FIPjJbU1B9acsuzcOXWYlShYfWB1u+UTtSfYcXxHQNGIiLRX01DTkpw163jdksQUiwQtFzjcyfojQE4MjpfUirKLTlk2s4CiST09sk+dzLzjeyIiEpTMtEzyMvParevsuiWJJxYJ2uvA18ys5RNjZvnAV2mt8pRzdN3I68hO93OiZaZl8oGRHwg4otRy6eBL6ZPXB/Dzp7ZdFhEJWnpaOteNvK6l2UVuRi7XjLgm4KgkGmLRkObzwAvAbjNbhe/FORGoAjTP0Xka0WsE9824j32V+ygtKCUnQ4WQ8VSYXchnL/ksuyt2U5BVoPlTRSR0JpROYGSvkRw6eYj+Bf3VkSxJRD1Bc86tMbMLgE8AFwEGPAb8wjlXHe3jpYLsjGyGFg8NOoyUZWYMKhoUdBgiIqeVl5nHkB6JMz+1nF1MuqJFErH/icW+RURERJJdTBI0MxsMXA70pUM7N+fcv8fimCIiIiLJIhYD1X4ceARoAA7SfhJ1ByhBExERETmDWJSg/RPwLeAfnHONMdi/iIiISFKLxTAbpcCPlJyJiIiIdE0sErTfA9NisF8RERGRlBCVKk4zazs55B+Ab5jZWGA1UN/2sc65p6NxTBEREZFkFa02aE92su5vO1nngPQoHVNEREQkKUUlQXPOxaKqVERERCQlKbESERERCZmYJGhmNtfMFpnZITM7aGYLzez6WBxLREREJNlEPUEzs08DzwBbgC8B9wPvA8+Y2R3RPp6IiIhIsonFQLVfAu5zzn2vzbofm9k7+GTtkRgcU0RERCRpxKKKcwjwQifrnweGxuB4IiIiIkklFgnaDuCaTtb/CbA9BscTERERSSqxqOL8N+A/zWwysBQ/9tlM4JPA52JwvE41NDWwv3I/vXJ7kZuZG6/DSgI4VnOMmoYa+hX0CzoUEZFQOHzyME2uiZL8kqBDkYioJ2jOuR+a2QHgC0DzDAPrgA87556N9vE6s7diL79Y/Qsq6yrJSMvgpgtvYkLphHgcWkLu+U3Ps2z3MhyOgYUD+cSETyiBF5GU1eSaeGrtU7x38D0ARvYayUfHfZSMtFiU38j5iMkwG865Z5xzM51zvSM/M+OVnAH8YesfqKyrBHxJ2vObnqehqSFeh5eQqm+q583db+JwAOyu2M2y3csCjkpEJDibDm9qSc4ANh/ZzOr9qwOMSJrFYpiNWWY26zTrr4j28TpzrOZYu+XqhmpqG2rjcWgJscamxlPWdfysiIikks6ugbouhkMsStC+DfTsZH1RZFvMjS0Z2265rLiM/Kz8eBxaQiw7PZvcjPbVmWP7jj3No0VEkt+o3qPaVWemWRqjS0YHGJE0i0Ul84XAyk7Wr45si7nZw2aTnZHNliNb6Jvfl1llpxToSQoyMz518adYsmMJ1Q3VTO4/mZG9RgYdloh0ouz+54IOISX0zO3Jn0/8c5buXEqTa2LaoGnqQBUSsUjQqoEB+NkD2hoE1MXgeKdIszRmDpnJzCEz43E4SSClBaXMGzMv6DBEREJjcI/BfKTHR4IOQzqIRRXni8BDZtZSzWlmvYCvR7aJiIiIyBnEogTti8AiYJuZrYqsmwAcAD4ag+OJiIiIJJVYjIO218wmAh8HLgYM+BnwuHPuZLSPJyIiIpJsYjISXSQR+59Y7FtEREQk2UUlQTOzW87+KM8593Q0jikiIiKSrKJVgvbkOT7OAelROqaIiIhIUopKguaci8mUUSIiIiKpKCZt0MwsA5gKDAGy2mxyzrlHY3FMERERkWQR9QTNzC4CfgcMw/fgbIwcpx6oBZSgiYiIiJxBLKomvwO8A/QATgKjgXLgXUBDuIuIiIicRSwStEuAf3bOVQFNQIZzbjnwN8C3YnA8TtafZO3BtRyoOhCL3YskFOcc7x99n42HN9LY1Bh0OCISZbtO7GL9ofXUNcZl9kQJSCzaoBm+5AzgIDAQ2ADsAqI+M/WO4zt4bNVjLR/Uq4ZdxRVDr4j2YUQSQpNr4rFVj7H16FYA+uT14Y5Jd5CXmRdwZCISDU+ve5pV+/0kPYVZhdwx6Q565vY8y7MkEcWiBG0NMDHy9zLgS2Y2C/gqsDnaB3v1/Vfb3UUs2r6I2obaaB9GJCFsPrK5JTkDOHTyEMv3Lg8wIhGJln2V+1qSM4CKugre2PVGgBFJLMUiQXsQX4oG8PfAYOBV4E+Av4r2wWoaatotNzQ1qNhXUlZ1ffU5rRORxKP/79QS9QTNOfdi82wBzrmtzrkxQB+g1Dn3WrSPN7n/5HbLo3qPojC7MNqHEUkIF/a5kPzM/JbljLQMJpROCDAiEYmWocVD6Z3bu2XZMCb1nxRgRBJLMRkHrSPn3JFY7fuSgZeQn5XPxsMbKckr4ZKBl8TqUCKhl5ORw11T7mLZ7mXUN9Yzuf9kSgtKgw5LRKIgzdK4Y9IdvLn7TSrrKplQOoGy4rKgw5IYiUuCFmtjSsYwpmRM0GGIhEJxTjF/MuJPgg5DRGIgPyufq4ZdFXQYEgeaoklEREQkZJSgiYiIiIRM6BI0M5tmZkvNbLGZfTvoeERERETiLXQJGrAduMo5dznQ18zGBx2QiIiISDyFrpOAc25fm8UG/GTrIiIiIikjjCVoAJjZBKCPc25th/XzzextM3v74MGDAUUnIiIiEjuhTNDMrBfwPeDOjtuccw8758qdc+UlJSXxD05EREQkxkKXoJlZBvAY8NcdqjtFREREUkLoEjTgVuAS4Btm9pqZzQg6IBEREZF4CmMngV8Cvww6DhEREZGghC5BExGR5FF2/3NBh3BGXY1v20NzoxyJSHthrOIUERERSWlK0ERERERCRgmaiIiISMgoQRMREREJGSVoIiIiIiGjBE1EREQkZJSgiYiIiISMEjQRERGRkFGCJiIiIhIyStBEREREQkYJmoiIiEjIKEETERERCRklaCIiIiIhkxF0ACIiYVd2/3Pn/ZxtD82NQSSd60p8XRHPcxJJdSpBExEREQkZJWgiIiIiIaMETURERCRklKCJiIiIhIwSNBEREZGQUYImIiIiEjJK0ERERERCRgmaiIiISMhooFoJzPpD63l568tU11czqf8krh52NWYWdFgJb9X+Vby27TXqGuuYOnAqVwy9IuiQRCTBvH/0fV7c8iLHa44zru84rht5Help6UGHlVKUoEkgTtSe4In3nqDRNQKwZMcSeuX2YnL/yQFHltgOVh3kmXXP4HAALHh/ASV5JYwuGR1wZCKSKOoa6/jVe7+ipqEGgLf2vEVhdqFu9uJMVZwSiF0ndrUkZ822H9seUDTJY8fxHS3JWbNtx7YFE4yIJKR9lftakrNmuj7HnxI0CcSAwgEY7aszBxYNDCia5NHZa6jXVUTOR9/8vmSmZbZbp+tI/AWSoJnZt81ssZl9t8P6W81smZm9aWYfDCI2iY/inGJuuvAm8jPzSbd0JvefzJT+U4IOK+H1K+jHB0Z+gNyMXDLSMpg+aDrj+44POiwRSSA5GTnMGzOPHtk9SLM0xpaMZeaQmUGHlXLi3gbNzCYD+c65y83s+2Z2iXPurcjmzwNXAg54AXg23vFJ/EzqP4mL+12Mw5FmKsyNlmmDpjF14FS9riLSZRf1uYgLe1+o60iAzDl39kdF84BmnwUOOud+bWbzgAHOuf+MbPsJ8DeRhz7inLuxk+fPB+YD5OfnT7noooviFLmcj+pqaGyE3FxID0nHn23btjF0aBnV1eAc5OSEJzYJl23btlFWVhZ0GBIjztFyHcjNhbRu5h/6vMi5euedd5xz7pw+cUH04iwGtkT+Pg6MbbPtaWA5vur19s6e7Jx7GHgYoLy83L399tuxi1S65NFHYUvkHc7MhNtvhwEDgo0JoLy8nLvvfpvdu/1ydjbcdRf06RNsXBI+5eXl6NqSnOrq4OGH4dAhv1xQAHffDYWFXd+nPi9yrsxs+bk+Nohyy2NAUeTvoshys6/hE7bRwD/GOS6Jgj17WpMzgPp6+OMfg4unrdpaWpKz5mVdU0VSy/r1rckZQGUlrFgRXDwipxNEgvYGcHXk7zlA26/vWuAkUAVkxTkuSUFxruEXkYDpf14SRdwTNOfccqDGzBYDTcAOM/u7yObvA68DS4lUY0piGTAAhg1rXc7IgKlTg4unrexs6N+//XJ5eXDxiEj8jR4NvXq1Lufnw8UXBxePyOkEMpOAc+6eDqsejKz/KfDTeMcj0fXxj8N778GJEzBmjG/bsXq1T9ZGjQq2Yf7tt8OaNb6B8NixUFwc3+NXVcGmTf41GT4cNLOVSHxlZcGdd8Jzz/n2aNdfD0VFZ3+eSLxpqieJuowMmDjR/33yJHz/+3D0qF/u399fHDMC+uRlZcHkgGaTOnAAHnkEaiIDdI8ZAx/+cDCxiKSqhgb4xS98e1mAn/8c5s+HvLxg4+qKsvufO+/nbHtobgwikVjQ4CYSU+++25qcAezd6xvppqKlS1uTM4C1a2H//uDiEUlFGza0JmcAx46pk4CEk0rQJCYqK+HFF+G11+DgQRg5srXUrK4u0NACU19/busSwbFj/v3dv9+/t3Pm+NJJkaAdOwYvvQT79nX+2ezs+pOq1yQJN5WgSUw8/bRvd5aX5xO0jRv9+sJC30g3FZWXtx8Qc8AAGJig09v96lewbh0cOQLLlsEf/hB0RCLer3/tS6ebP5svvdR+++jR7cc8y85ubZIhEiYqQZOoa2yErVv937m5PjE5fBhmz/btv3Jzg40vKMOG+fZ3773nvyAmT07MTgJVVb6quq3Nm4OJRaStqqr21Zdw6mczJ8e3OVu+3LdHmzSpfa9OkbBQgiZRl57uR+dvHgwyNxcuvRRmzQo2rjAYODBxS82a5eb6BLOionVd377BxSPS7Fw/m4WFuh5J+KmKU2Ligx+EHj383717w1x1HEoaaWnwoQ/5KXIASkvh2muDjUkETv1s9u0L110XbEwiXaUSNImJwYPhnnt8Z4HCwsSsypPTGzEC7rvPVyl1Zw5DkWjTZ1OShRI0iZm0NA0AmczS0vQFKOGkz6YkA1VxSkI7cQJ27PAdE7qruhq2bfOTqItI6nEOdu3yPUBFgqYSNElYr78Or7wCTU2+pO6223znhK5Yvx6eesqPS5ad7Uf4HzEiuvGKSHhVVcHPfuZn/AC45BK1nZVgqQRNElJVFSxY4JMz8CVpCxd2fX/PP986aGxtrR+EVURSx5tvtiZnAG+9depwMiLxpARNElJV1anVmidOdG1fzrXvlt+dfYlIYursf17XAQmSEjRJSCUlfniHtsaN69q+zE597vjxXduXiCSmjteAggI/uLRIUNQGTRKSGXziE7BkiW/QO3q0H5m/q268EXr2hN27YehQP7CuiKSOkSPhox/1E6fn5cHMmZpfVoKlBE0SVmEhfOAD0dlXZqafikpEUtdFF/kfkTBQFaeIiIhIyChBExEREQkZJWgiIiIiIaMETURERCRklKCJiIiIhIwSNBEREZGQUYImIiIiEjJK0ERERERCRgmaiIiISMgoQRMREREJGSVoIiIiIiGjBE1EREQkZJSgiYiIiISMEjQRERGRkFGCJiIiIhIyStBEREREQkYJmoiIiEjIKEETERERCRklaCIiIiIhowRNREREJGSUoImIiIiEjBI0ERERkZBRgiYiIiISMkrQREREREJGCZqIiIhIyChBExEREQmZQBI0M/u2mS02s+92WN/LzH5tZgvM7O+CiE1EREQkaHFP0MxsMpDvnLscyDKzS9ps/grwj865q5xzD8Y7NhEREZEwCKIEbQbwcuTvl4HpbbaNA/7WzF41sxlxj0xEREQkBDICOGYxsCXy93FgbJttlwKTgSPAU8DMjk82s/nAfIAhQ4bENFARERGRIARRgnYMKIr8XRRZbrbRObfOObcfaOrsyc65h51z5c658pKSkhiHKiIiIhJ/QSRobwBXR/6eA/yxzbaNZtbfzPIJpnRPREREJHBxT9Ccc8uBGjNbWMgm6wAAIABJREFUjC8l29Gmx+ZXgF8CC4B/jndsIiIiImEQSCmVc+6eDqsejKxfC1wZ94BERERSQNn9z533c7Y9NDcGkcjZdKkEzcweMbPCTtbnm9kj3Q9LREREJHV1tYrzz4HcTtbnArd1PRwREREROa8qTjPrBVjkp6eZNbTZnA7MBfZHLzwRERGR1HO+bdAOAS7ys7aT7Q7f0F9EREREuuh8E7TZ+NKzBcA8/ICyzeqA7c65PVGKTURERCQlnVeC5pxbCGBmw4AdzjkXk6hEREREUlhXOwmUAVObF8zsU2a2xMx+aGYFUYlMREREJEV1NUH7DtAPwMwuBH4IrMJPhP6v0QlNREREJDV1NUEbAayO/D0P+INz7i+Bu4AboxGYiIiISKrqaoLm8MNqgJ9X84XI3/uA3t0NSkRERCSVdTVBewv4BzP7JHA58HxkfRk+SRMRERGRLupqgnYvcDHwPeBB59yWyPpbgaXRCExEREQkVXVpsnTn3BpgQiebvgg0disiERERkRTXpQStmZkNB8bg26Stc85tjUpUIiIiIimsSwmamRUBP8b34GxqXW1PAXc65yqiFJ+IiIhIyulqG7Tv4qs4ZwO5kZ+rI+u+E53QRERERFJTVxO0m4BPO+cWOufqIz+vAfOBD0UtOhEREZEU1NUELRc43Mn6I0BO18MRERERka52Engd+JqZfdI5dxLAzPKBr6JhNhLakh1LWLF3BXmZeVw17CqG9RwWdEhJwznHwu0LWbV/FYVZhcwZPofBPQYHHZZIKK3Yu4I3dr1BuqVz+dDLGVMyJuiQROKqqyVo9wHTgd1mttDMXgN2RdbdG6XYJM5W7lvJy1tf5nD1YXae2Mnjqx/nZP3JoMNKGst2L+O1ba9xpPoI249v5/HVj1PXWBd0WCKhs+3YNp7d8CwHqg6wt3IvT7z3BAeqDgQdlkhcdSlBc86tBkYCfwO8DSwH/hoY6Zx7L3rhSTxtObql3XJ9Uz3bj20PKJrk0/H1rW6oZveJ3QFFIxJeW460/19xOLYe1ShOklq6OszGg8BO59wPOqz/jJkNdM79Q1Sik7gqzS9tt2wYpQWlp3m0nK/S/FI2Ht7Yspxu6ZTklwQYkUg4dXbd6Xh9Ekl2Xa3i/CSwopP1y4Hbuh6OBGnqwKmM7jMaw8hOz+bakdfSK7dX0GEljZlDZnJBrwsAyMnIYe6ouRRkFQQclUj4jC0ZS/mActIsjYy0DGYOman2sJJyutpJoC9wsJP1hwDd5iSozPRMPjLuI1TXV5OZnklGWrcmmjir3Sd2s2j7Ik7Wn2Ry/8lM6j8ppscLWnZGNh+f8PGYv77bj21n8Y7F1DfWc8nASxjXd1xMjpPsGpsaWbxjMRsPb6Qkr4Srhl1Fj5weQYeVEsyMG0bdwDXDr8HMyErPCjokkbjr6jfEDuByoGOjgCvwnQUkgeVm5sb8GNX11fx85c+pbawFYOeJneRm5nJRn4tifuygxfL1PVF7gkdXPUpDUwMA249vpyCrgLLispgdM1kt3L6QRdsXAbCnYg8Hqg5wd/ndAUeVWrIzsoMOQSQwXa3i/CHwbTO7y8xGRH7mA98CHo5eeImpvrGe94++z4naE0GHElrbjm1rSc6arT+0PqBovJP1J9l6dCs1DTWBxtEdm49sbknOmgX9uiaqjq/b3sq9HK85HlA0qWn3id3sq9wXdBgigehSCZpz7ltm1gf4D6C57LkO+K5z7pvRCi4R7avcx89X/pyT9SdJszSuHXEt0wZNCzqs0OmsbVvv3N4BROKtO7iOp9Y9RUNTA1npWXx47IcZ2WtkYPF0VWevYZCvayLrndu73dAOORk55GXmBRhR6qhvrOfRVY+y4/gOAEb1HsVHx32UNOtqmYJI4unyp90592WgD37ssxlAiXPu/mgFlqgWvL+gZeywJtfEy1tfprah9izPSj2lBaVcMfSKlgtuWXEZUwdODSyeFza/0FLyVNdYx4ubXwwslu4YWjyUaQOnYRjgv9iSvW1frMwZPqflRiI7PZu5F8wlMz0z4KhSw8r9K1uSM4CNhzey4dCGACMSib9utVJ2zlUBb0Uplqhpck28uetNthzdQt/8vlw+5PK4tKsCTqnWrG+qp6ahhuyMbDYc2sDyvcvJzczlssGXpfwQC1cNu4rpg6ZT21BLz9yecTnmwaqDvL7zdarrq5ncfzIX9rkQ5xwVdRXtHtdxOZFM6j+JIzVHqG2oZdrAaTHv7JGseuf15nNTP8fh6sMUZRclbUP1moYaluxYwr7KfQzvOZzpg6YHVlK1t2IvS3cuZeW+lRyvPd7uupDI/5MiXZGUV+6F2xaycPtCwLfJ2Ve5j9smxmf0jwmlE9q1mRjSYwg9cnqw9ehW/nfN/+JwgL8jvGfaPSnfCDYvMy9u1UbOOX7y7k9aSjg3HN7AbRNvY3jP4YzvO56V+1e2PHZC6YS4xBRtVXVV/GTFT1ra9z226jHunHwng4oGBRxZYjIz+uT1CTqMmHpq7VNsOrIJ8NfLk/UnmTN8TtzjqKit4Cfv/oS6xjqqG6pZfWA1k/pNojC7kKz0rJToQCTSVlImaGsOrGm3vPXoVk7Wn4xLIjBj0Ayy07PZeHgjffL6MHPITADeO/BeS3IGvkH6lqNbNL9cHNU21p4yddWaA2sY3nM4N154I71ye7G7YjdDewxl+qDpAUXZPRsPb2zX+cLheO/Ae0rQpFM1DTUtyVmzNQfWBJKgbTy8sWXqs/ysfCaWTiQvM4+JpROZPmg6RdlFcY9JJEhJmaAVZRdxuPpwy3JORk7cqifMjCkDpjBlwJRTYupIF5z4Srf0U9Y1vwcZaRnMKpsV75CirrPPlMbuktPJTMskLzOv3Y1LUNeljsftkdOD6y+4PtC2qSIdld3/3Hk/Z9tDc7t0rKTsEjNn+JyW0rJ0S+e6kdcF3g5n6sCp9C/o37I8pf8UlWrEWWZ6JlP6tybO/Qr6MW1gcvWwba6ubTa4aDCT+08OMCIJs/S09tfH3Ixcrhl+TSCxjOw1krElY1uWh/QYwsX9Lg4kFpEwSMoStIFFA/n89M+zt3IvvXN7k5+VH3RI5GbmMn/KfPZU7CEnI4feeQk29MGhQ7BsGTQ2Qnk59O9/9ueE0I0X3shlQy6jur6aAYUDMLOgQ4oqM2PemHnMKptFfWM9/Qu7+T4dPuzf94YGmDIFBgyITqASGhNKJzCy10gOVh1kQOGAwHqqmhm3jr2VK6uupKGp4fw+u01N8M47sGMHDB7sr1FpSVn+ICkkKRM08KUlQ3oMCTqMdsyMgUUDgw7j/FVWwo9+BDWRAVxXroTPfAb6JGbj6V65vSA+nXoDE5WG7SdP+ve9utovr1wJ8+dD377d37eESl5mHkOLhwYdBkDXere/9BL88Y/+79Wr4eBBmNu1aiWRsNAtRozVNdZRVVcVdBjds24dnDjhS8/Al6asiXTEOHYMjhw58/MrKvxzUkiTa+JE7Qmcc2d/cCzU1voEqzvWr29NzsC/h6tXty7X1cGuAGd2q6lpH58ktaq6qpZOBKdcU1asaP/g5cv9Naujyko4cODU9SIhlLQlaGGwePtiFm5fSENTAxf1uYh5o+cl3kCXtbXwyiuwdCmkp8OwYTBoEOTkwFe/Cgv9cCbMnAkPPNC+WqGyEv73f/2XeG4uXH89jB/f6WGSyY7jO3hy7ZOcqD1B79zefHjshyktKI1fAM3vV1MTjBsHH/qQf+/OV14nvZ6b173yCnz72/497tcPHnwQRozoXtznyjl44QV4KzIE48UXw403QpJVV4tX31jPk2ufZMPhDeTVOm5eVccFVdn+GnTddf79z8vz1yrwN4zbtsG//7sv7f3IR6B3b3j4YXjiCaivhzFj4JvfhIKCQM9N5ExUghYjB6oO8Mr7r7SMTr/+0Hre3vN2wFF1wdKlviSmuNiXoG3eDD16+DZpr77qk4CmJli0CH7/+/bPffXV1hKW6mr43e9aL6JJ7Nn1z7YMWHy4+jC/3/T7szwjinbuhMWL/XvlnC/xWrny7M/rzKhRPiFvVloKkyb5kovvfMcnZwD79vnleNmyBd58s/Wzt3y5L+WVpLRs9zI2HPazCAxcsZnd773he53W1MD//Z+/tlxzjb8JcQ42bPA3keBLy1580X9mfvlLn5wBrF0LP/lJQGckcm5UghYjbefwO9O60Dt40JeKTZwIx4/7C+DcufDyy6c+dssW/7u21jfYXbDAl2oURbrP19X5KtHSOJYmxVlDU0O7IV4gzu/7wYOnrutqlU5aGtx2m2943dDgk7W0NL+/ig6juu/e3bVjdEVn53PggC8V6Ypjx3ySBzB5sr8ZkdBo+/+Td8w3F6mqq/I99RsafInZmDG+c8CmTf76c/So/7tXL//Z2LjRX7va2rYtjmchcv5UghYjZcVlZKa1r868oPcFAUXTDSMjE4ab+S+u/v1h6FBfpdm2SskMLrvMXwR/9jPfaPfYMd825OhR/5jiYihJ7umtMtIyGFY8rN26uL7vw4efWp15QTeOb+bf7xEjWquv+/ZtLaFoNnFi149xvkaMOPWzN7KLE9tXVvqqr0WL/M8Pf3hq8imBavv/c2RgL9ItneKcSBJdWOir2Jv/njzZtz3bsMHfNKxe7UtZp02DrA5jYU5LriF2JPmoBC1GCrIK+LPxf8Zr216jpqGGyf0nJ+asAZMm+SqEd9/17TWuvhqys2HCBPj85+HJJ/0FcN4837V9507Ys8c/d8gQX9VWWekvhnPmpETX93lj5vHi5hfZU7GHsuIyrhkRx3GliovhYx/zbQPr62Hq1Ni0DXvwQV+tuXOn/yx88YvRP8bplJbChz8MS5b4G4IZM05NGM/VmjXtO1NUV7d2gJFQGNd3HJV1lSzfu5z0y4ZwQdk1ZG4/7D/rc+a0vyGprW29Eays9CVo6en+91e/Co884hPw2bP9Z0gkxJSgxdCwnsMY1nPY2R8YZs0lY5ddduq2m27yP221vUs18yU6kybBBz8Y2zhDpCCrgHlj5gUXwMiRXS9ROldDh/pOAkEZPdr/dFdmJ512Opa0SOCmD5reOv3amcZdTkuD/HwY2zrgLbmRMXVmzPA/Igki+YszJL5KS9u3BcrJ0UVRwmvcuPbV7iUlfp0kpsxM3/yiWVoazEr8KdwkNQVSgmZm3wbKgeXOuXs6bMsF3gc+4ZzrpCV66nn/6PtsP76dQUWDGNkrxiUj0XDrrfD++74tyKhRnQ/XEGtbt7aOKt7NKr7DJw+z9uBaCrIKGNd3XOINlZKMTp5sbV80YYIvNemK7Gy4+27fiBz85zVDFQvRtPXoVnYc38HgosGM6BWHoVhmzfIlyPv3+44tPXtGd/9RvLaInEncr0RmNhnId85dbmbfN7NLnHNvtXnIfECNQCKW7lzKS1tealmeXTY7/JN6N1dtBmXJkva9TOfMaX9XfR72VOzhkRWPtAyXsmLfCm6/+PakmyIqoVRX+8b8x4/75ddf9zNbdHVMq4yMrvcAlTPqeP26athVXDH0itgfeOBA/xNtUby2iJxNEFWcM4DmT/jLwPTmDWaWBUwDlgQQVygt3bn0jMvSiaUdXqPXX+/yrpbtXtaSnIEfhHbXiQBHzxc/hlVzcga+MfiqVcHFI6eVdNevKF5bRM4miAStGGieg+M40Lb8+Xbg0TM92czmm9nbZvb2wc7GfEoyRvuSGpXcnIOOr1E3XrOOr7/fnd6D0NF7khA6+39KKFG8toicTRAJ2jEgMnIpRZFlzCwDuNY59/yZnuyce9g5V+6cKy9J8jG1AGYOmXnGZelExyqHblRBTBs0rd14dsOKhzGoqItDOkh0jB3bvl1RUVF8x2GTc3b5kMvbLSf89SuK1xaRswmiNewbwN3Ar4E5wE8j60uBwWb2AjASmGtm7zjnjp5th0eqj7DlyBb65PVJ/GEtOpg2aBr9C/uz4/gOBhUNoqy4LOiQwm/GDBgwwI/RNXiwHxKii/oV9OOzUz/LuoPrKMgqSIix7BqaGthwaAN1jXWMLhlNTkZO0CFFV06Ob9j/3nut8402D6WQYhqaGlh/aD31jfWhfK+T7voVxWuLyNnEPUFzzi03sxozWwysBHaY2d855x4ELgEwsweAJeeSnG06vIlfrvklTa4JgBmDZnDtyGtjdwIBGNJjCEN6DAk6jMQydGjULp7FOcXMGJwYQ4U0NjXy4+U/Zm/lXgAWvL+A+VPmU5hdGHBkUZaTA1OmBB1FoBqaGtq9169ue5W7Jt8Vuvc66a5fUby2iJxJIOOgOefucc5d7pz7f865fZHkrO32B851iI3FOxa3JGcAb+5+k+r66ihHLJIYNh7e2PKFDVBRV8HyvcsDjEhipeN7faL2BCv2rQgwIhGJpoQfqLaxqbHdsnOuXcImkkra9jg90zpJfB2vfaD3WiSZJHyCNm1Q+wlvx/UdR35WFwetFElwF/a5sHUiaSA7PZtJ/ScFGJHESmfv9cX9Lg4wIhGJpoQfMntC6QR6ZPdg4+GNlOSXML7v+KBDEglMVnoW86fMZ8XeFdQ31TOxdCI9c6M8krqEQlZ6FndNvot3972r91okCSV8ggYwtHgoQ4vVaFMEIC8zj8uGdDK5vSSd/Kx8vdciSSrhqzhFREREko0SNBEREZGQUYImIiIiEjJK0ERERERCRgmaiIiISMgoQRMREREJGSVoIiIiIiGjBE1EREQkZJJioFoREZEwKLv/uaBDiLquntO2h+ZGOZLoSYT3SSVoIiIiIiGjBE1EREQkZJSgiYiIiISMEjQRERGRkFGCJiIiIhIyStBEREREQkYJmoiIiEjIKEETERERCRklaCIiIiIhowRNus85qK8POgpJVvX1/jMmcjZ1dUFHIBI1mupJumftWnj+eaishAsvhJtvhuzsoKOSZFBdDU89BZs3Q1ER3HADjBoVdFQSRgcP+s/Kvn1QWgrz5kHfvkFHJdItKkGTrquuhmeegYoKX8Kxfj0sWhR0VJIsFizwyRnAiRPw9NMqqZXO/fa3PjkD2L8fnn022HhEokAJmnTdoUOnfmHu3RtMLJJ8On6WamrgyJFgYpFw6/hZ2bMnmDhEokgJmnRdv36Qm9t+3bBhwcQiyaesrP1yYSH06RNIKBJyHT8rug5JElCCJl2XmQkf+xgMHAgFBTB9Olx6adBRSbKYNQvKyyE/HwYPho9+FNLTg45KwuiDH4SLLoK8PN8W9kMfCjoikW5TJwHpniFD4K67go5CklFmpu8YcMMNQUciYVdY6BN4kSRiLoG7r5vZQWB70HGcoz7AoaCDCECYznsysDyOxwvTuQchkc8/3p+VM0nk1/F8JPJ5huXzksiv4ekk2zld6JwrPJcHJnQJmnOuJOgYzpWZve2cKw86jnhL1fOG1D530PlHS6q8jqlynrGUjK9hsp2Tmb19ro9VGzQRERGRkFGCJiIiIhIyStDi5+GgAwhIqp43pPa5g84/WlLldUyV84ylZHwNk+2czvl8ErqTgIiIiEgyUgmaiIiISMgoQRMREREJGSVoIiIhY2ZjzeyiDuumBRVPPJjZZ4OOQSRM1AYthsxsCjAd6AkcA/7onDvnMVASkZmlAx+iw3kDv3HONQQZWzyk4nsOet+jycy+BZQCDUBv4A7n3EEzW+CcuyrY6KLDzBYDzV8+Fvk9FljjnLsimKgSn5n1cM4dDzoOiQ4laDFiZt8GsoGXgeNAETAHaHTO/VWQscWSmT0KrAJeof15T3TOfSLI2GItVd9zSO33PdrMbKFzblbk7wnAfwB/DXwjiRK0+4AJwE+dc69F1j3vnPtAoIElEDPr+Fkw4OvAl51zCwIIqdvM7MvOuX8xs+nAvwKN+AH1/9k590Kw0Z0/M7sR+AL+mvifwFeATOBh59wjZ32+ErTYMLNFnd0Jnm59sjCzxc65y891fTJJ1fccUvt9jzYzex2Y7Zyriyz3BB4Dyp1zpYEGF0VmlgV8GrgCeBz4CyVo587M9gKrgSXNq4BPAI865/4psMC6wcxeds7NMbNXgI855w6YWT7wsnNuRtDxnS8zewO4En/DuhwYDVQDS87lfBJ6qqeQe9vMfoAvTTmBf4OuJhzztcXSs2b2f8Br+PPugb8A/y7IoOIkVd9zgN92eN+LgFnAb4MMKkF9HigGDgA4546a2U3ArYFGFWWRBPS/zexh4JPAyoBDSjTDgPnANODnzrkXzWxaoiZnEYfNbBSwi9b/gUKgJtCouq65nb/r8GOnfUYbKkGLITObBMzAJynN7ZFWBBtV7JlZH2Aq/h/sGPCWc+5gsFHFR5v3vPnc3wAynHNvBRpYHJjZTGA8/ryPA28Bw51zbwYamEgSM7NM4HbgWmCQcy5hO5NESou/AowDLgU2ABuBB5xz64KMrSvM7E/xN1zrgWeAr+GTzR8453521ucrQYudSIPxGfhG00dJkQbjzcxsHP4fbUuKJCid9Yo24AXn3DXxjieeIg3b++LbjCRlw3aRMIt01Cl1zu0JOhaJDg2zESORBuN3AHuApcBu4HYz+49AA4sxM3sh8vte4F/wJUl/ZWYPBRpYfFTiqzc7/kwOMqg4KXfOfdI59yng74AnzOySgGMSSRnOuUbn3B4z+3LQsURbsp3TuZ6P2qDFzpROGoY/Y2aLAokmfrIiv2/GN3RuAn5gZkvO8JxksQ64uWM3dzP7Q0DxxFOGmWU55+qcc6vM7GZ8w/axQQcm7ZmZA251zj0Zlv2Z2QPAnzrnxkUjplTR2bA+wI8DDaqbku2cunM+StBiJ1UbjI8xs58DI/BDTlRH1ucEF1Lc3EDr+baVCj3TUqJhu0hYdBjWZz3+O+Z2fDODhBzWJ9nOqbvnowQtRpxz97VpMD4Knzk/TPK/5s0NVP8B/yHEzApIgd58zrm9p1mf9AO1OueWdbKuEfjfAMIRSQXJWEuTbOfUrfNJ9mQhMJEG4ytp33XcgBeAZG4wvrPtQuR1qAY0FpZIHJjZdfh2gOPwXfrfAu49XS84MxuAHxT0OiAX32vu8865VyPb78YPlDsE2IEfMPd/Ouyml5k9AVwP7Af+0Tn3WJtjjAe+DVyGvx78FrhHo953SzLW0iTbOXXrfNSLM0bM7CS+rrndamCCc653ACHFRZvzNtpP5ZLU5y0SFmY2L/LnKnzC9ff4jipjnHN1bduMRQYBfRdfNf1lfGemicBR59yrkbaEv8ZXYb+EH8rh34FbnHO/ixzPRZ53P/5//0786OkXOOe2m1kesAmfKP4D0Av4H2C1c25eZB8PoDZo562zYX0SfSinZDun7pyPErQYMbN3gKs6azCezEMupOp5JxIzWwM86Zx7ILK8Dfiec+7fgoxLYiOShJ0AZjnnlnRI0O7CJ1zDnHOHOnnu68AG59wdbdb9FBjpnJsZWXbAQ865L0eWMyLHm++ceyxyjH/Dj9FVEXnMlcCr+CRusxI0kVNpmI3YSdUG46l63onsEuC/gw5CosPMRpjZ42a2xcxO4Ksc0/BVlB1NAlZ1lpxFjAZe77BuCTCmw7pVzX9E2lwexI+L17yPVc3JWcRSoKmT/YhIhNqgxUiqNhhP1fNOZKkyy0MK+R2+yvHuyO8GYC2tQ+C0dS5TznRWzdJxXX0n25sLANo2dziXfYsIKkETCT0zu8LM/mhmlWZ23MzejMzSgJndYmarzazWzHaa2d+ZmbV5bl8ze9bMqs1su5nd0cn+t5nZF9ssu8gUJWd7zF9E9n3SzDaa2WwzG2RmL5pZlZm9a2apMEhvaJhZb3yJ1dedcy9HOgYUcvqb8eXAhMj0bJ1ZB8zssG4mPuE7V2uBiWZW2Gbdpfjvn4SbvkckXpSgiYRYpD3Ps/hqpYn4YUy+CzRGBkB8AngaPwfm/fiG3v+vzS5+CowE5gAfAm4DyqIU3t/jh9GYCLwN/BI/AON/46vO9kSOL/FzFDgE3GVmI81sFvADfClaZx7HdxD4jZldbmbDzOwmM5sd2f6vwCfN7LNmdoGZfQ74OPDN84jpF0AV8HMzG29mVwA/BJ52zm0+/1OUZGJmV0Zu+E53k5CylKAlEDP7lJlVRmE/ZZF/iPJoxCUxVYTv/fM759wW59x659zjkZKR+4CFzrmvOOc2Oud+gW+M/SUAMxuFb/s33zn3eqTn0J/je/ZFw8+dc790zm0Cvg6UAi865551zm3Ef4mP14U3fiIzd3wEmACsAf4L33Oy9jSPrwJm4atCfwe8B3yVSNWjc+43wOfwvTjXAvcAf9ncg/McYzqJ7/1ZBCzD33C8gZ8KT0ROQ23QUtNOoD/+TltCzDl3JNJr7kUzewV4BXjCObcTX5X1XIenLAG+YmZFke1N+C/F5v1tN7NoTaa8qs3f+yO/V3eyri/6rMWNc24Bfgy0tgrabLcOj9+FT+pOt78f4EvhTrf9lHZszrmyDsur8eM/nW4fDwAPnG67BC/SdOI+4DP4DicHgUedc18+2zh3ke3fwXdIMmArcC/wPr43L8DBSOuMn0Xm9E15KkFLMebnS2x0zu1Tw/3E4Jy7HV+1uQi4CdhoZtdy9sbX59IA/Fyfm9nJ49o2DHdnWKfrjEji+zq+NPZf8HPs3grsjIxz9wJQCUzFz8N8KfBIm+c+DuyNbJ+ET8Zr8IUFzeP2jcUXHNwT4/NIGLpwxpl5XzCzTZGG3bvM7F8i2x4ysw2RBt3bzOybZnbGOSzN7G4z22xmdZHfd3XY7iLtR542syrg651VcZrZGDN7zswqzOyAmf3SzPq12T7ezF4xsxORx6xs005FYsw5t9I59w3n3JXAa/iqyrV03oB7V2RIg3X4//FLmjea2RBgwFkOdxB/oWx+TmnbZRFJLean6/s8cL9z7hHn3Gbn3BvOuf/Gt0ksAD7pnFvtnFsIzAduMbORkV0MBf4QaaKx2Tn3TOT5jcCRyGMORAoONLtEhBK0+Ov0LiRYInPPAAADw0lEQVSyrQrfLmM08JfAR/FTtnTK/Cjf38MXHY/DNx7/bzO7scNDvwL8Ht+Q/L862U9/fOnMGvwdzhz8P9xvzU/VBKe/A5IYijTafsjMLjWzoZGkeAI+OfsWMMvMHjCzUWb2cfwI7t8EcM5twN/Z/tDMZpjZxfhG+52NU9fWAuCzZlZufhTsn6L3WiSVjcFP+v1KJ9vOZZy7fwd+ZGYLIj3NL4pptElCbdDiqM1dyL3Ouebi3834BrM4577W5uHbzOzrwBfxCV1nvohvA/C9yPLGSM++L+Eb/Db7lXPuR23iKOuwn78AVjrnvtTmMbfh72zK8W2YhgL/5pxb3yZuib2TwCh8b80++HZdv8DPh1hvZrfiG3X/bWTbQ/ikvdmn8NPqLMC3A/sqrQOIns4X8L0xX4vs82/wF2ERSU1nai5x1nHunHMPmNkv8J2WrsW3k/1Mm+9B6YQStPg6010IkbGn7sUPi1AApEd+Tmc07ev5wTcSv6nDurfPEtcU4IrT9BAdgU/Qmu+A/jwS/1NtkjWJEefcfuCWM2x/Gj/Mxpme3/Hz8KMOjynrsLyHU2d+eKrDYzo2ND9Eh4t45PPR1XZwIhIea/E9ga/Gz6vacdsdZlbYphTtlHHuIr29NwH/YWbfBz6N//6qizzkTN91KUlVnPF12i8rM5uOH1PqReBGfDXi39N54+y2zmWU76qz7CMN3xvw4g4/FwD/By29rMYAv8H/862yTgY9FRGR5BJJvL4L/IuZ3W5+OrGpZvYXnGWcOzPLNbP/iox3VmZm02g/2PF2/HfWXDMridQ0CUrQ4q3tXUhHlwG7nXNfc869FbnbGHqW/UVjlG/wo4mPBbZHGnC2/WlpV+Cc2+Sc+w/n3Fx8Fdinz/M4IiKSmL4MfAPf5GYdvlR90DmMc9cI9AR+BmwAnolsvw/AObcb3076QXyTirZNNFKaqjjjyDlXYWbNdyG1+Ib5vfFVjBuBgZGG3m/gP/AfO8su/xV4wszeAV4CrsP3qDltldhp/BdwF/ArM/sGvhffcODD+PZIDfgBUJ8AtuEHJJ0JvHmexxERkQQUGQT5ochPx22nHefOOVcH/NlZ9v014GtnekwqUgla/J3uLuR3+ITrO/gBQK8B/vFMO4rGKN+R/ezBl+A14Xv9vYdP2mojP2e8AxIREZHoMudO1/lCRERERIKgEjQRERGRkFGCJiIiIhIyStBEREREQkYJmoiIiEjIKEETERERCRklaCIiIiIhowRNREREJGSUoImIiIiEjBI0ERERkZD5/8eETK3gn15+AAAAAElFTkSuQmCC\n",
      "text/plain": [
       "<matplotlib.figure.Figure at 0x1a158b3748>"
>>>>>>> 4d539547f5b560e9976431c7134674d01c5181d4
      ]
     },
     "metadata": {},
     "output_type": "display_data"
    }
   ],
   "source": [
    "pd.scatter_matrix(X, c=colors[beer.cluster], figsize=(10,10), s=100);"
   ]
  },
  {
   "cell_type": "markdown",
   "metadata": {},
   "source": [
    "#### Do you notice any cluster assignments that seem a bit odd? How might we explain those?"
   ]
  },
  {
   "cell_type": "markdown",
   "metadata": {},
   "source": [
    "<a id=\"dbscan-density-based-clustering\"></a>\n",
    "## DBSCAN: Density-Based Clustering\n",
    "---"
   ]
  },
  {
   "cell_type": "markdown",
   "metadata": {},
   "source": [
    "![](./assets/images/dbscan.png)"
   ]
  },
  {
   "cell_type": "markdown",
   "metadata": {},
   "source": [
    "**DBSCAN: Density-Based Spatial Clustering of Applications With Noise (1996)**\n",
    "\n",
    "The main idea of DBSCAN is to group together closely packed points by identifying:\n",
    "- Core points\n",
    "- Reachable points\n",
    "- Outliers (not reachable)\n",
    "\n",
    "**Its two parameters are:**\n",
    "- `min_samples`: At least this many points are required inside a neighborhood to form a dense cluster.\n",
    "- `eps`: epsion. This is the radius of a neighborhood.\n",
    "\n",
    "**How does it work?** \n",
    "\n",
    "1. Choose a random unvisited data point.\n",
    "2. Find all points in its neighborhood (i.e. at most `eps` units away). Then:\n",
    "    - **If there are at least `min_samples` points in its neighborhood:** Add all points in the neighborhood to the current cluster. Mark them as unvisited if they have not been visited.\n",
    "    - **Otherwise:** Mark the current point as visited. If the point is not part of a cluster, label the point as noise and go to Step 1.\n",
    "3. If another point in the current cluster is unvisited, choose another point in the cluster and go to Step 2. Otherwise, start a new cluster and go to Step 1.\n",
    "\n",
    "As a class, try running the algorithm on the board."
   ]
  },
  {
   "cell_type": "markdown",
   "metadata": {},
   "source": [
    "<a id=\"visual-demo\"></a>\n",
    "### Visual Demo\n",
    "\n",
    "[Click through](https://www.naftaliharris.com/blog/visualizing-dbscan-clustering/) for a demo of DBSCAN in action."
   ]
  },
  {
   "cell_type": "markdown",
   "metadata": {},
   "source": [
    "**DBSCAN advantages**:\n",
    "- Can find arbitrarily shaped clusters.\n",
    "- Don’t have to specify number of clusters.\n",
    "- Excludes outliers automatically.\n",
    "\n",
    "**DBSCAN disadvantages**:\n",
    "- Doesn’t work well when clusters are of varying densities.\n",
    "- Hard to choose parameters that work for all clusters.\n",
    "- Can be hard to choose correct parameters."
   ]
  },
  {
   "cell_type": "markdown",
   "metadata": {},
   "source": [
    "#### How does DBSCAN differ from k-means?"
   ]
  },
  {
   "cell_type": "markdown",
   "metadata": {},
   "source": [
    "<a id=\"dbscan-clustering-demo\"></a>\n",
    "## DBSCAN Clustering Demo\n",
    "---"
   ]
  },
  {
   "cell_type": "markdown",
   "metadata": {},
   "source": [
    "#### DBSCAN with eps=1 and min_samples=3."
   ]
  },
  {
   "cell_type": "code",
<<<<<<< HEAD
   "execution_count": 19,
=======
   "execution_count": 81,
>>>>>>> 4d539547f5b560e9976431c7134674d01c5181d4
   "metadata": {},
   "outputs": [
    {
     "data": {
      "text/plain": [
       "DBSCAN(algorithm='auto', eps=1, leaf_size=30, metric='euclidean',\n",
       "    metric_params=None, min_samples=3, n_jobs=1, p=None)"
      ]
     },
<<<<<<< HEAD
     "execution_count": 19,
=======
     "execution_count": 81,
>>>>>>> 4d539547f5b560e9976431c7134674d01c5181d4
     "metadata": {},
     "output_type": "execute_result"
    }
   ],
   "source": [
    "from sklearn.cluster import DBSCAN\n",
    "db = DBSCAN(eps=1, min_samples=3)\n",
    "db.fit(X_scaled)"
   ]
  },
  {
   "cell_type": "markdown",
   "metadata": {},
   "source": [
    "#### Review the cluster labels."
   ]
  },
  {
   "cell_type": "code",
<<<<<<< HEAD
   "execution_count": 20,
=======
   "execution_count": 82,
>>>>>>> 4d539547f5b560e9976431c7134674d01c5181d4
   "metadata": {},
   "outputs": [
    {
     "data": {
      "text/plain": [
       "array([ 0,  0, -1,  1,  1, -1, -1,  0,  2,  2,  0,  2,  0, -1,  1, -1,  0,\n",
<<<<<<< HEAD
       "        0, -1,  2], dtype=int64)"
      ]
     },
     "execution_count": 20,
=======
       "        0, -1,  2])"
      ]
     },
     "execution_count": 82,
>>>>>>> 4d539547f5b560e9976431c7134674d01c5181d4
     "metadata": {},
     "output_type": "execute_result"
    }
   ],
   "source": [
    "db.labels_"
   ]
  },
  {
   "cell_type": "markdown",
   "metadata": {},
   "source": [
    "#### Save the cluster labels and sort by cluster."
   ]
  },
  {
   "cell_type": "code",
<<<<<<< HEAD
   "execution_count": 21,
=======
   "execution_count": 83,
>>>>>>> 4d539547f5b560e9976431c7134674d01c5181d4
   "metadata": {},
   "outputs": [
    {
     "data": {
      "text/html": [
       "<div>\n",
       "<style scoped>\n",
       "    .dataframe tbody tr th:only-of-type {\n",
       "        vertical-align: middle;\n",
       "    }\n",
       "\n",
       "    .dataframe tbody tr th {\n",
       "        vertical-align: top;\n",
       "    }\n",
       "\n",
       "    .dataframe thead th {\n",
       "        text-align: right;\n",
       "    }\n",
       "</style>\n",
       "<table border=\"1\" class=\"dataframe\">\n",
       "  <thead>\n",
       "    <tr style=\"text-align: right;\">\n",
       "      <th></th>\n",
       "      <th>name</th>\n",
       "      <th>calories</th>\n",
       "      <th>sodium</th>\n",
       "      <th>alcohol</th>\n",
       "      <th>cost</th>\n",
       "      <th>cluster</th>\n",
       "    </tr>\n",
       "  </thead>\n",
       "  <tbody>\n",
       "    <tr>\n",
       "      <th>2</th>\n",
       "      <td>Lowenbrau</td>\n",
       "      <td>157</td>\n",
       "      <td>15</td>\n",
       "      <td>0.9</td>\n",
       "      <td>0.48</td>\n",
       "      <td>-1</td>\n",
       "    </tr>\n",
       "    <tr>\n",
       "      <th>5</th>\n",
       "      <td>Old_Milwaukee</td>\n",
       "      <td>145</td>\n",
       "      <td>23</td>\n",
       "      <td>4.6</td>\n",
       "      <td>0.28</td>\n",
       "      <td>-1</td>\n",
       "    </tr>\n",
       "    <tr>\n",
       "      <th>6</th>\n",
       "      <td>Augsberger</td>\n",
       "      <td>175</td>\n",
       "      <td>24</td>\n",
       "      <td>5.5</td>\n",
       "      <td>0.40</td>\n",
       "      <td>-1</td>\n",
       "    </tr>\n",
       "    <tr>\n",
       "      <th>18</th>\n",
       "      <td>Olympia_Goled_Light</td>\n",
       "      <td>72</td>\n",
       "      <td>6</td>\n",
       "      <td>2.9</td>\n",
       "      <td>0.46</td>\n",
       "      <td>-1</td>\n",
       "    </tr>\n",
       "    <tr>\n",
       "      <th>13</th>\n",
       "      <td>Becks</td>\n",
       "      <td>150</td>\n",
       "      <td>19</td>\n",
       "      <td>4.7</td>\n",
       "      <td>0.76</td>\n",
       "      <td>-1</td>\n",
       "    </tr>\n",
       "    <tr>\n",
       "      <th>15</th>\n",
       "      <td>Pabst_Extra_Light</td>\n",
       "      <td>68</td>\n",
       "      <td>15</td>\n",
       "      <td>2.3</td>\n",
       "      <td>0.38</td>\n",
       "      <td>-1</td>\n",
       "    </tr>\n",
       "    <tr>\n",
       "      <th>0</th>\n",
       "      <td>Budweiser</td>\n",
       "      <td>144</td>\n",
       "      <td>15</td>\n",
       "      <td>4.7</td>\n",
       "      <td>0.43</td>\n",
       "      <td>0</td>\n",
       "    </tr>\n",
       "    <tr>\n",
       "      <th>1</th>\n",
       "      <td>Schlitz</td>\n",
       "      <td>151</td>\n",
       "      <td>19</td>\n",
       "      <td>4.9</td>\n",
       "      <td>0.43</td>\n",
       "      <td>0</td>\n",
       "    </tr>\n",
       "    <tr>\n",
       "      <th>7</th>\n",
       "      <td>Srohs_Bohemian_Style</td>\n",
       "      <td>149</td>\n",
       "      <td>27</td>\n",
       "      <td>4.7</td>\n",
       "      <td>0.42</td>\n",
       "      <td>0</td>\n",
       "    </tr>\n",
       "    <tr>\n",
       "      <th>17</th>\n",
       "      <td>Heilemans_Old_Style</td>\n",
       "      <td>144</td>\n",
       "      <td>24</td>\n",
       "      <td>4.9</td>\n",
       "      <td>0.43</td>\n",
       "      <td>0</td>\n",
       "    </tr>\n",
       "    <tr>\n",
       "      <th>10</th>\n",
       "      <td>Coors</td>\n",
       "      <td>140</td>\n",
       "      <td>18</td>\n",
       "      <td>4.6</td>\n",
       "      <td>0.44</td>\n",
       "      <td>0</td>\n",
       "    </tr>\n",
       "    <tr>\n",
       "      <th>16</th>\n",
       "      <td>Hamms</td>\n",
       "      <td>139</td>\n",
       "      <td>19</td>\n",
       "      <td>4.4</td>\n",
       "      <td>0.43</td>\n",
       "      <td>0</td>\n",
       "    </tr>\n",
       "    <tr>\n",
       "      <th>12</th>\n",
       "      <td>Michelob_Light</td>\n",
       "      <td>135</td>\n",
       "      <td>11</td>\n",
       "      <td>4.2</td>\n",
       "      <td>0.50</td>\n",
       "      <td>0</td>\n",
       "    </tr>\n",
       "    <tr>\n",
       "      <th>3</th>\n",
       "      <td>Kronenbourg</td>\n",
       "      <td>170</td>\n",
       "      <td>7</td>\n",
       "      <td>5.2</td>\n",
       "      <td>0.73</td>\n",
       "      <td>1</td>\n",
       "    </tr>\n",
       "    <tr>\n",
       "      <th>4</th>\n",
       "      <td>Heineken</td>\n",
       "      <td>152</td>\n",
       "      <td>11</td>\n",
       "      <td>5.0</td>\n",
       "      <td>0.77</td>\n",
       "      <td>1</td>\n",
       "    </tr>\n",
       "    <tr>\n",
       "      <th>14</th>\n",
       "      <td>Kirin</td>\n",
       "      <td>149</td>\n",
       "      <td>6</td>\n",
       "      <td>5.0</td>\n",
       "      <td>0.79</td>\n",
       "      <td>1</td>\n",
       "    </tr>\n",
       "    <tr>\n",
       "      <th>9</th>\n",
       "      <td>Budweiser_Light</td>\n",
       "      <td>113</td>\n",
       "      <td>8</td>\n",
       "      <td>3.7</td>\n",
       "      <td>0.40</td>\n",
       "      <td>2</td>\n",
       "    </tr>\n",
       "    <tr>\n",
       "      <th>8</th>\n",
       "      <td>Miller_Lite</td>\n",
       "      <td>99</td>\n",
       "      <td>10</td>\n",
       "      <td>4.3</td>\n",
       "      <td>0.43</td>\n",
       "      <td>2</td>\n",
       "    </tr>\n",
       "    <tr>\n",
       "      <th>11</th>\n",
       "      <td>Coors_Light</td>\n",
       "      <td>102</td>\n",
       "      <td>15</td>\n",
       "      <td>4.1</td>\n",
       "      <td>0.46</td>\n",
       "      <td>2</td>\n",
       "    </tr>\n",
       "    <tr>\n",
       "      <th>19</th>\n",
       "      <td>Schlitz_Light</td>\n",
       "      <td>97</td>\n",
       "      <td>7</td>\n",
       "      <td>4.2</td>\n",
       "      <td>0.47</td>\n",
       "      <td>2</td>\n",
       "    </tr>\n",
       "  </tbody>\n",
       "</table>\n",
       "</div>"
      ],
      "text/plain": [
       "                    name  calories  sodium  alcohol  cost  cluster\n",
       "2              Lowenbrau       157      15      0.9  0.48       -1\n",
       "5          Old_Milwaukee       145      23      4.6  0.28       -1\n",
       "6             Augsberger       175      24      5.5  0.40       -1\n",
       "18   Olympia_Goled_Light        72       6      2.9  0.46       -1\n",
       "13                 Becks       150      19      4.7  0.76       -1\n",
       "15     Pabst_Extra_Light        68      15      2.3  0.38       -1\n",
       "0              Budweiser       144      15      4.7  0.43        0\n",
       "1                Schlitz       151      19      4.9  0.43        0\n",
       "7   Srohs_Bohemian_Style       149      27      4.7  0.42        0\n",
       "17   Heilemans_Old_Style       144      24      4.9  0.43        0\n",
       "10                 Coors       140      18      4.6  0.44        0\n",
       "16                 Hamms       139      19      4.4  0.43        0\n",
       "12        Michelob_Light       135      11      4.2  0.50        0\n",
       "3            Kronenbourg       170       7      5.2  0.73        1\n",
       "4               Heineken       152      11      5.0  0.77        1\n",
       "14                 Kirin       149       6      5.0  0.79        1\n",
       "9        Budweiser_Light       113       8      3.7  0.40        2\n",
       "8            Miller_Lite        99      10      4.3  0.43        2\n",
       "11           Coors_Light       102      15      4.1  0.46        2\n",
       "19         Schlitz_Light        97       7      4.2  0.47        2"
      ]
     },
<<<<<<< HEAD
     "execution_count": 21,
=======
     "execution_count": 83,
>>>>>>> 4d539547f5b560e9976431c7134674d01c5181d4
     "metadata": {},
     "output_type": "execute_result"
    }
   ],
   "source": [
    "beer['cluster'] = db.labels_\n",
    "beer.sort_values('cluster')"
   ]
  },
  {
   "cell_type": "markdown",
   "metadata": {},
   "source": [
    "#### Review the cluster centers."
   ]
  },
  {
   "cell_type": "code",
<<<<<<< HEAD
   "execution_count": 22,
=======
   "execution_count": 84,
>>>>>>> 4d539547f5b560e9976431c7134674d01c5181d4
   "metadata": {},
   "outputs": [
    {
     "data": {
      "text/html": [
       "<div>\n",
       "<style scoped>\n",
       "    .dataframe tbody tr th:only-of-type {\n",
       "        vertical-align: middle;\n",
       "    }\n",
       "\n",
       "    .dataframe tbody tr th {\n",
       "        vertical-align: top;\n",
       "    }\n",
       "\n",
       "    .dataframe thead th {\n",
       "        text-align: right;\n",
       "    }\n",
       "</style>\n",
       "<table border=\"1\" class=\"dataframe\">\n",
       "  <thead>\n",
       "    <tr style=\"text-align: right;\">\n",
       "      <th></th>\n",
       "      <th>calories</th>\n",
       "      <th>sodium</th>\n",
       "      <th>alcohol</th>\n",
       "      <th>cost</th>\n",
       "    </tr>\n",
       "    <tr>\n",
       "      <th>cluster</th>\n",
       "      <th></th>\n",
       "      <th></th>\n",
       "      <th></th>\n",
       "      <th></th>\n",
       "    </tr>\n",
       "  </thead>\n",
       "  <tbody>\n",
       "    <tr>\n",
       "      <th>-1</th>\n",
       "      <td>127.833333</td>\n",
       "      <td>17.0</td>\n",
       "      <td>3.483333</td>\n",
       "      <td>0.460000</td>\n",
       "    </tr>\n",
       "    <tr>\n",
       "      <th>0</th>\n",
       "      <td>143.142857</td>\n",
       "      <td>19.0</td>\n",
       "      <td>4.628571</td>\n",
       "      <td>0.440000</td>\n",
       "    </tr>\n",
       "    <tr>\n",
       "      <th>1</th>\n",
       "      <td>157.000000</td>\n",
       "      <td>8.0</td>\n",
       "      <td>5.066667</td>\n",
       "      <td>0.763333</td>\n",
       "    </tr>\n",
       "    <tr>\n",
       "      <th>2</th>\n",
       "      <td>102.750000</td>\n",
       "      <td>10.0</td>\n",
       "      <td>4.075000</td>\n",
       "      <td>0.440000</td>\n",
       "    </tr>\n",
       "  </tbody>\n",
       "</table>\n",
       "</div>"
      ],
      "text/plain": [
       "           calories  sodium   alcohol      cost\n",
       "cluster                                        \n",
       "-1       127.833333    17.0  3.483333  0.460000\n",
       " 0       143.142857    19.0  4.628571  0.440000\n",
       " 1       157.000000     8.0  5.066667  0.763333\n",
       " 2       102.750000    10.0  4.075000  0.440000"
      ]
     },
<<<<<<< HEAD
     "execution_count": 22,
=======
     "execution_count": 84,
>>>>>>> 4d539547f5b560e9976431c7134674d01c5181d4
     "metadata": {},
     "output_type": "execute_result"
    }
   ],
   "source": [
    "beer.groupby('cluster').mean()"
   ]
  },
  {
   "cell_type": "markdown",
   "metadata": {},
   "source": [
    "#### Scatter plot matrix of DBSCAN cluster assignments (0=red, 1=green, 2=blue, -1=yellow)."
   ]
  },
  {
   "cell_type": "code",
<<<<<<< HEAD
   "execution_count": 23,
=======
   "execution_count": 85,
>>>>>>> 4d539547f5b560e9976431c7134674d01c5181d4
   "metadata": {},
   "outputs": [
    {
     "name": "stderr",
     "output_type": "stream",
     "text": [
<<<<<<< HEAD
      "C:\\Users\\jdanforth\\AppData\\Local\\Continuum\\anaconda3\\lib\\site-packages\\ipykernel_launcher.py:1: FutureWarning: pandas.scatter_matrix is deprecated. Use pandas.plotting.scatter_matrix instead\n",
=======
      "/anaconda3/lib/python3.6/site-packages/ipykernel_launcher.py:1: FutureWarning: pandas.scatter_matrix is deprecated. Use pandas.plotting.scatter_matrix instead\n",
>>>>>>> 4d539547f5b560e9976431c7134674d01c5181d4
      "  \"\"\"Entry point for launching an IPython kernel.\n"
     ]
    },
    {
     "data": {
<<<<<<< HEAD
      "image/png": "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\n",
      "text/plain": [
       "<matplotlib.figure.Figure at 0x19d831f1320>"
=======
      "image/png": "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\n",
      "text/plain": [
       "<matplotlib.figure.Figure at 0x1a15488710>"
>>>>>>> 4d539547f5b560e9976431c7134674d01c5181d4
      ]
     },
     "metadata": {},
     "output_type": "display_data"
    }
   ],
   "source": [
    "pd.scatter_matrix(X, c=colors[beer.cluster], figsize=(10,10), s=100);"
   ]
  },
  {
   "cell_type": "markdown",
   "metadata": {},
   "source": [
    "<a id=\"hierarchical-clustering\"></a>\n",
    "## Hierarchical Clustering\n",
    "---"
   ]
  },
  {
   "cell_type": "markdown",
   "metadata": {},
   "source": [
    "Hierarchical clustering, like k-means clustering, is another common form of clustering analysis. With this type of clustering we seek to do exactly what the name suggests:\n",
    "\n",
    "- Build hierarchies of clusters.\n",
    "- Connect the clusters in the hierarchy with links.\n",
    "\n",
    "Once the links are determined, we can display them in what is called a dendrogram — a graph that displays all of these links in their hierarchical structure.\n",
    "\n",
    "**As we described earlier:**\n",
    "\n",
    "- Each node represents a cluster of one or more data points.\n",
    "- Each leaf represents a single data point.\n",
    "- The root is the cluster containing all data points.\n",
    "- Each parent combines its children's clusters to create a new (larger) cluster.\n",
    "\n",
    "**A simple algorithm we could use to generate this tree:**\n",
    "\n",
    "1. Create a cluster for each point, containing only that point. (Create all leaf nodes.)\n",
    "2. Choose the two clusters with centroids closest to each other.\n",
    "    - Combine the two clusters into a new cluster that replaces the two individual clusters. (Create a new parent node.)\n",
    "3. Repeat Step 2 until only one cluster remains.\n",
    "\n",
    "As a class, try this algorithm on the board. Draw the graph alongside clustering the data points.\n",
    "\n",
    "Essentially we form groups of groups of groups.\n",
    "\n",
    "![](./assets/images/hierarchical-clustering.png)"
   ]
  },
  {
   "cell_type": "code",
<<<<<<< HEAD
   "execution_count": 24,
=======
   "execution_count": 86,
>>>>>>> 4d539547f5b560e9976431c7134674d01c5181d4
   "metadata": {},
   "outputs": [],
   "source": [
    "from sklearn.cluster import AgglomerativeClustering\n",
    "agg = AgglomerativeClustering(n_clusters=4)\n",
    "agg.fit(X_scaled)\n",
    "labels = agg.labels_"
   ]
  },
  {
   "cell_type": "code",
<<<<<<< HEAD
   "execution_count": 25,
=======
   "execution_count": 87,
>>>>>>> 4d539547f5b560e9976431c7134674d01c5181d4
   "metadata": {},
   "outputs": [
    {
     "data": {
      "text/html": [
       "<div>\n",
       "<style scoped>\n",
       "    .dataframe tbody tr th:only-of-type {\n",
       "        vertical-align: middle;\n",
       "    }\n",
       "\n",
       "    .dataframe tbody tr th {\n",
       "        vertical-align: top;\n",
       "    }\n",
       "\n",
       "    .dataframe thead th {\n",
       "        text-align: right;\n",
       "    }\n",
       "</style>\n",
       "<table border=\"1\" class=\"dataframe\">\n",
       "  <thead>\n",
       "    <tr style=\"text-align: right;\">\n",
       "      <th></th>\n",
       "      <th>name</th>\n",
       "      <th>calories</th>\n",
       "      <th>sodium</th>\n",
       "      <th>alcohol</th>\n",
       "      <th>cost</th>\n",
       "      <th>cluster</th>\n",
       "    </tr>\n",
       "  </thead>\n",
       "  <tbody>\n",
       "    <tr>\n",
       "      <th>9</th>\n",
       "      <td>Budweiser_Light</td>\n",
       "      <td>113</td>\n",
       "      <td>8</td>\n",
       "      <td>3.7</td>\n",
       "      <td>0.40</td>\n",
       "      <td>0</td>\n",
       "    </tr>\n",
       "    <tr>\n",
       "      <th>15</th>\n",
       "      <td>Pabst_Extra_Light</td>\n",
       "      <td>68</td>\n",
       "      <td>15</td>\n",
       "      <td>2.3</td>\n",
       "      <td>0.38</td>\n",
       "      <td>0</td>\n",
       "    </tr>\n",
       "    <tr>\n",
       "      <th>12</th>\n",
       "      <td>Michelob_Light</td>\n",
       "      <td>135</td>\n",
       "      <td>11</td>\n",
       "      <td>4.2</td>\n",
       "      <td>0.50</td>\n",
       "      <td>0</td>\n",
       "    </tr>\n",
       "    <tr>\n",
       "      <th>11</th>\n",
       "      <td>Coors_Light</td>\n",
       "      <td>102</td>\n",
       "      <td>15</td>\n",
       "      <td>4.1</td>\n",
       "      <td>0.46</td>\n",
       "      <td>0</td>\n",
       "    </tr>\n",
       "    <tr>\n",
       "      <th>18</th>\n",
       "      <td>Olympia_Goled_Light</td>\n",
       "      <td>72</td>\n",
       "      <td>6</td>\n",
       "      <td>2.9</td>\n",
       "      <td>0.46</td>\n",
       "      <td>0</td>\n",
       "    </tr>\n",
       "    <tr>\n",
       "      <th>8</th>\n",
       "      <td>Miller_Lite</td>\n",
       "      <td>99</td>\n",
       "      <td>10</td>\n",
       "      <td>4.3</td>\n",
       "      <td>0.43</td>\n",
       "      <td>0</td>\n",
       "    </tr>\n",
       "    <tr>\n",
       "      <th>19</th>\n",
       "      <td>Schlitz_Light</td>\n",
       "      <td>97</td>\n",
       "      <td>7</td>\n",
       "      <td>4.2</td>\n",
       "      <td>0.47</td>\n",
       "      <td>0</td>\n",
       "    </tr>\n",
       "    <tr>\n",
       "      <th>7</th>\n",
       "      <td>Srohs_Bohemian_Style</td>\n",
       "      <td>149</td>\n",
       "      <td>27</td>\n",
       "      <td>4.7</td>\n",
       "      <td>0.42</td>\n",
       "      <td>1</td>\n",
       "    </tr>\n",
       "    <tr>\n",
       "      <th>5</th>\n",
       "      <td>Old_Milwaukee</td>\n",
       "      <td>145</td>\n",
       "      <td>23</td>\n",
       "      <td>4.6</td>\n",
       "      <td>0.28</td>\n",
       "      <td>1</td>\n",
       "    </tr>\n",
       "    <tr>\n",
       "      <th>10</th>\n",
       "      <td>Coors</td>\n",
       "      <td>140</td>\n",
       "      <td>18</td>\n",
       "      <td>4.6</td>\n",
       "      <td>0.44</td>\n",
       "      <td>1</td>\n",
       "    </tr>\n",
       "    <tr>\n",
       "      <th>1</th>\n",
       "      <td>Schlitz</td>\n",
       "      <td>151</td>\n",
       "      <td>19</td>\n",
       "      <td>4.9</td>\n",
       "      <td>0.43</td>\n",
       "      <td>1</td>\n",
       "    </tr>\n",
       "    <tr>\n",
       "      <th>16</th>\n",
       "      <td>Hamms</td>\n",
       "      <td>139</td>\n",
       "      <td>19</td>\n",
       "      <td>4.4</td>\n",
       "      <td>0.43</td>\n",
       "      <td>1</td>\n",
       "    </tr>\n",
       "    <tr>\n",
       "      <th>17</th>\n",
       "      <td>Heilemans_Old_Style</td>\n",
       "      <td>144</td>\n",
       "      <td>24</td>\n",
       "      <td>4.9</td>\n",
       "      <td>0.43</td>\n",
       "      <td>1</td>\n",
       "    </tr>\n",
       "    <tr>\n",
       "      <th>6</th>\n",
       "      <td>Augsberger</td>\n",
       "      <td>175</td>\n",
       "      <td>24</td>\n",
       "      <td>5.5</td>\n",
       "      <td>0.40</td>\n",
       "      <td>1</td>\n",
       "    </tr>\n",
       "    <tr>\n",
       "      <th>0</th>\n",
       "      <td>Budweiser</td>\n",
       "      <td>144</td>\n",
       "      <td>15</td>\n",
       "      <td>4.7</td>\n",
       "      <td>0.43</td>\n",
       "      <td>1</td>\n",
       "    </tr>\n",
       "    <tr>\n",
       "      <th>4</th>\n",
       "      <td>Heineken</td>\n",
       "      <td>152</td>\n",
       "      <td>11</td>\n",
       "      <td>5.0</td>\n",
       "      <td>0.77</td>\n",
       "      <td>2</td>\n",
       "    </tr>\n",
       "    <tr>\n",
       "      <th>3</th>\n",
       "      <td>Kronenbourg</td>\n",
       "      <td>170</td>\n",
       "      <td>7</td>\n",
       "      <td>5.2</td>\n",
       "      <td>0.73</td>\n",
       "      <td>2</td>\n",
       "    </tr>\n",
       "    <tr>\n",
       "      <th>13</th>\n",
       "      <td>Becks</td>\n",
       "      <td>150</td>\n",
       "      <td>19</td>\n",
       "      <td>4.7</td>\n",
       "      <td>0.76</td>\n",
       "      <td>2</td>\n",
       "    </tr>\n",
       "    <tr>\n",
       "      <th>14</th>\n",
       "      <td>Kirin</td>\n",
       "      <td>149</td>\n",
       "      <td>6</td>\n",
       "      <td>5.0</td>\n",
       "      <td>0.79</td>\n",
       "      <td>2</td>\n",
       "    </tr>\n",
       "    <tr>\n",
       "      <th>2</th>\n",
       "      <td>Lowenbrau</td>\n",
       "      <td>157</td>\n",
       "      <td>15</td>\n",
       "      <td>0.9</td>\n",
       "      <td>0.48</td>\n",
       "      <td>3</td>\n",
       "    </tr>\n",
       "  </tbody>\n",
       "</table>\n",
       "</div>"
      ],
      "text/plain": [
       "                    name  calories  sodium  alcohol  cost  cluster\n",
       "9        Budweiser_Light       113       8      3.7  0.40        0\n",
       "15     Pabst_Extra_Light        68      15      2.3  0.38        0\n",
       "12        Michelob_Light       135      11      4.2  0.50        0\n",
       "11           Coors_Light       102      15      4.1  0.46        0\n",
       "18   Olympia_Goled_Light        72       6      2.9  0.46        0\n",
       "8            Miller_Lite        99      10      4.3  0.43        0\n",
       "19         Schlitz_Light        97       7      4.2  0.47        0\n",
       "7   Srohs_Bohemian_Style       149      27      4.7  0.42        1\n",
       "5          Old_Milwaukee       145      23      4.6  0.28        1\n",
       "10                 Coors       140      18      4.6  0.44        1\n",
       "1                Schlitz       151      19      4.9  0.43        1\n",
       "16                 Hamms       139      19      4.4  0.43        1\n",
       "17   Heilemans_Old_Style       144      24      4.9  0.43        1\n",
       "6             Augsberger       175      24      5.5  0.40        1\n",
       "0              Budweiser       144      15      4.7  0.43        1\n",
       "4               Heineken       152      11      5.0  0.77        2\n",
       "3            Kronenbourg       170       7      5.2  0.73        2\n",
       "13                 Becks       150      19      4.7  0.76        2\n",
       "14                 Kirin       149       6      5.0  0.79        2\n",
       "2              Lowenbrau       157      15      0.9  0.48        3"
      ]
     },
<<<<<<< HEAD
     "execution_count": 25,
=======
     "execution_count": 87,
>>>>>>> 4d539547f5b560e9976431c7134674d01c5181d4
     "metadata": {},
     "output_type": "execute_result"
    }
   ],
   "source": [
    "# Save the cluster labels and sort by cluster.\n",
    "beer['cluster'] = agg.labels_\n",
    "beer.sort_values('cluster')"
   ]
  },
  {
   "cell_type": "code",
<<<<<<< HEAD
   "execution_count": 26,
=======
   "execution_count": 88,
>>>>>>> 4d539547f5b560e9976431c7134674d01c5181d4
   "metadata": {},
   "outputs": [
    {
     "name": "stderr",
     "output_type": "stream",
     "text": [
<<<<<<< HEAD
      "C:\\Users\\jdanforth\\AppData\\Local\\Continuum\\anaconda3\\lib\\site-packages\\ipykernel_launcher.py:2: FutureWarning: pandas.scatter_matrix is deprecated. Use pandas.plotting.scatter_matrix instead\n",
=======
      "/anaconda3/lib/python3.6/site-packages/ipykernel_launcher.py:2: FutureWarning: pandas.scatter_matrix is deprecated. Use pandas.plotting.scatter_matrix instead\n",
>>>>>>> 4d539547f5b560e9976431c7134674d01c5181d4
      "  \n"
     ]
    },
    {
     "data": {
<<<<<<< HEAD
      "image/png": "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\n",
      "text/plain": [
       "<matplotlib.figure.Figure at 0x19d827504e0>"
=======
      "image/png": "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\n",
      "text/plain": [
       "<matplotlib.figure.Figure at 0x1a165159b0>"
>>>>>>> 4d539547f5b560e9976431c7134674d01c5181d4
      ]
     },
     "metadata": {},
     "output_type": "display_data"
    }
   ],
   "source": [
    "# Scatter plot matrix of DBSCAN cluster assignments (0=red, 1=green, 2=blue, -1=yellow)\n",
    "pd.scatter_matrix(X, c=colors[beer.cluster], figsize=(10,10), s=100);"
   ]
  },
  {
   "cell_type": "markdown",
   "metadata": {},
   "source": [
    "We can use clustering to discover new features, then use those features for either classification or regression.\n",
    "\n",
    "For classification, we could use clusters directly to classify new points.\n",
    "\n",
    "For regression, we could use a dummy variable for the clusters as a variable in our regression."
   ]
  },
  {
   "cell_type": "markdown",
   "metadata": {},
   "source": [
    "<a id=\"clustering-metrics\"></a>\n",
    "## Clustering Metrics\n",
    "---"
   ]
  },
  {
   "cell_type": "markdown",
   "metadata": {},
   "source": [
    "# Metrics for assessing your clusters\n",
    "\n",
    "**Inertia** -- sum of squared errors for each cluster\n",
    "- ranges from 0 to very high values\n",
    "- low inertia = dense clusters\n",
    "\n",
    "**Silhouette Score** -- measure of how far apart clusters are\n",
    "- ranges from -1 to 1\n",
    "- high silhouette Score = clusters are well separated\n"
   ]
  },
  {
   "cell_type": "markdown",
   "metadata": {},
   "source": [
    "**Inertia** -- sum of squared errors for each cluster\n",
    "- low inertia = dense cluster\n",
    "\n",
    "$$\\sum_{j=0}^{n} (x_j - \\mu_i)^2$$\n",
    "\n",
    "where $\\mu_i$ is a cluster centroid. (K-means explicitly tries to minimize this.)\n",
    "\n",
    "`.inertia_` is an attribute of sklearn's kmeans models."
   ]
  },
  {
   "cell_type": "markdown",
   "metadata": {},
   "source": [
    "As usual, we need a metric to evaluate model fit.\n",
    " \n",
    "For clustering, we often use a metric called the **Silhouette Coefficient**. There are many other approaches, but this is a good place to start. Keep in mind that \"good fit\" for clustering is often arbitrary. For example, scoring isometetry might not apply if most clusters are naturally arbitrary shapes. \n",
    "\n",
    "The Silhouette Coefficient gives a score for each sample individually. At a high level, it compares the point's cohesion to its cluster against its separation from the nearest other cluster. Ideally, you want the point to be very nearby other points in its own cluster and very far points in the nearest other cluster.\n",
    "\n",
    "Here is how the Silhouette Coefficient is measured. Keep in mind how this math definition compares to our high-level idea of a sample's cohesion vs. separation:\n",
    "\n",
    "$$\\frac {b - a} {max(a,b)}$$\n",
    "\n",
    "- $a$ is the mean distance between a sample and all other points in the cluster.\n",
    "\n",
    "- $b$ is the mean distance between a sample and all other points in the nearest cluster.\n",
    "\n",
    "The coefficient ranges between 1 and -1. The larger the coefficient, the better the clustering.\n",
    "\n",
    "To get a score for all clusters rather than for a particular point, we average over all points to judge the cluster algorithm."
   ]
  },
  {
   "cell_type": "markdown",
   "metadata": {},
   "source": [
    "### How to pick optimal K with elbow graph and evalution metric"
   ]
  },
  {
   "cell_type": "code",
<<<<<<< HEAD
   "execution_count": 27,
=======
   "execution_count": 89,
>>>>>>> 4d539547f5b560e9976431c7134674d01c5181d4
   "metadata": {},
   "outputs": [
    {
     "data": {
<<<<<<< HEAD
      "image/png": "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\n",
      "text/plain": [
       "<matplotlib.figure.Figure at 0x19d82a55048>"
=======
      "image/png": "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\n",
      "text/plain": [
       "<matplotlib.figure.Figure at 0x10a5ce668>"
>>>>>>> 4d539547f5b560e9976431c7134674d01c5181d4
      ]
     },
     "metadata": {},
     "output_type": "display_data"
    }
   ],
   "source": [
    "import pandas as pd\n",
    "from sklearn.datasets import load_iris\n",
    "from sklearn.cluster import KMeans\n",
    "import matplotlib.pyplot as plt\n",
    "\n",
    "iris = load_iris()\n",
    "X = pd.DataFrame(iris.data, columns=iris['feature_names'])\n",
    "#print(X)\n",
    "data = X[['sepal length (cm)', 'sepal width (cm)', 'petal length (cm)']]\n",
    "\n",
    "sse = {}\n",
    "for k in range(1, 10):\n",
    "    kmeans = KMeans(n_clusters=k, max_iter=1000).fit(data)\n",
    "    data[\"clusters\"] = kmeans.labels_\n",
    "    #print(data[\"clusters\"])\n",
    "    sse[k] = kmeans.inertia_ # Inertia: Sum of distances of samples to their closest cluster center\n",
    "plt.figure()\n",
    "plt.plot(list(sse.keys()), list(sse.values()))\n",
    "plt.xlabel(\"Number of cluster\")\n",
    "plt.ylabel(\"SSE\")\n",
    "plt.show()"
   ]
  },
  {
   "cell_type": "markdown",
   "metadata": {},
   "source": [
    "<a id=\"clustering-classification-and-regression\"></a>\n",
    "## Clustering, Classification, and Regression\n",
    "---"
   ]
  },
  {
   "cell_type": "markdown",
   "metadata": {},
   "source": [
    "#### Create a function to plot the data."
   ]
  },
  {
   "cell_type": "code",
   "execution_count": 90,
   "metadata": {},
   "outputs": [],
   "source": [
    "def set_colors(labels, colors='rgbykcm'):\n",
    "    colored_labels = []\n",
    "    for label in labels:\n",
    "        colored_labels.append(colors[label])\n",
    "    return colored_labels"
   ]
  },
  {
   "cell_type": "markdown",
   "metadata": {},
   "source": [
    "#### Create some synthetic data."
   ]
  },
  {
   "cell_type": "code",
   "execution_count": 91,
   "metadata": {},
   "outputs": [
    {
     "name": "stderr",
     "output_type": "stream",
     "text": [
      "/anaconda3/lib/python3.6/site-packages/scipy/stats/_multivariate.py:651: RuntimeWarning: covariance is not positive-semidefinite.\n",
      "  out = random_state.multivariate_normal(mean, cov, size)\n"
     ]
    },
    {
     "data": {
      "image/png": "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\n",
      "text/plain": [
       "<matplotlib.figure.Figure at 0x1a156fc128>"
      ]
     },
     "metadata": {},
     "output_type": "display_data"
    }
   ],
   "source": [
    "from scipy.stats import multivariate_normal\n",
    "data = []\n",
    "dist = multivariate_normal(mean=[0, 0], cov=[[0.5, 0.5],[0,0.1]])\n",
    "for i in range(150):\n",
    "    p = list(dist.rvs())\n",
    "    data.append(dist.rvs())\n",
    "dist = multivariate_normal(mean=[1, 5], cov=[[0.5, 0.5],[0,0.1]])\n",
    "for i in range(150):\n",
    "    data.append(dist.rvs())\n",
    "dist = multivariate_normal(mean=[2, 10], cov=[[0.5, 0.5],[0,0.1]])\n",
    "for i in range(150):\n",
    "    data.append(dist.rvs())\n",
    "\n",
    "    \n",
    "df = pd.DataFrame(data, columns=[\"x\", \"y\"])\n",
    "df.head()\n",
    "plt.scatter(df['x'], df['y'])\n",
    "plt.show()"
   ]
  },
  {
   "cell_type": "markdown",
   "metadata": {},
   "source": [
    "#### Find clusters."
   ]
  },
  {
   "cell_type": "code",
   "execution_count": 92,
   "metadata": {},
   "outputs": [
    {
     "data": {
      "image/png": "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\n",
      "text/plain": [
       "<matplotlib.figure.Figure at 0x1a15ac9860>"
      ]
     },
     "metadata": {},
     "output_type": "display_data"
    }
   ],
   "source": [
    "# Fit a DBSCAN estimator.\n",
    "estimator = DBSCAN(eps=0.8, min_samples=10)\n",
    "X = df[[\"x\", \"y\"]]\n",
    "estimator.fit(X)\n",
    "# Clusters are given in the labels_ attribute.\n",
    "labels = estimator.labels_\n",
    "\n",
    "colors = set_colors(labels)\n",
    "plt.scatter(df['x'], df['y'], c=colors)\n",
    "plt.xlabel(\"x\")\n",
    "plt.ylabel(\"y\")\n",
    "plt.show()"
   ]
  },
  {
   "cell_type": "markdown",
   "metadata": {},
   "source": [
    "#### Add cluster labels back to the `DataFrame`."
   ]
  },
  {
   "cell_type": "code",
   "execution_count": 93,
   "metadata": {},
   "outputs": [
    {
     "data": {
      "text/html": [
       "<div>\n",
       "<style scoped>\n",
       "    .dataframe tbody tr th:only-of-type {\n",
       "        vertical-align: middle;\n",
       "    }\n",
       "\n",
       "    .dataframe tbody tr th {\n",
       "        vertical-align: top;\n",
       "    }\n",
       "\n",
       "    .dataframe thead th {\n",
       "        text-align: right;\n",
       "    }\n",
       "</style>\n",
       "<table border=\"1\" class=\"dataframe\">\n",
       "  <thead>\n",
       "    <tr style=\"text-align: right;\">\n",
       "      <th></th>\n",
       "      <th>x</th>\n",
       "      <th>y</th>\n",
       "      <th>cluster</th>\n",
       "      <th>cluster_-1</th>\n",
       "      <th>cluster_0</th>\n",
       "      <th>cluster_1</th>\n",
       "      <th>cluster_2</th>\n",
       "    </tr>\n",
       "  </thead>\n",
       "  <tbody>\n",
       "    <tr>\n",
       "      <th>0</th>\n",
       "      <td>0.557432</td>\n",
       "      <td>0.902403</td>\n",
       "      <td>0</td>\n",
       "      <td>0</td>\n",
       "      <td>1</td>\n",
       "      <td>0</td>\n",
       "      <td>0</td>\n",
       "    </tr>\n",
       "    <tr>\n",
       "      <th>1</th>\n",
       "      <td>-0.373525</td>\n",
       "      <td>-0.169038</td>\n",
       "      <td>0</td>\n",
       "      <td>0</td>\n",
       "      <td>1</td>\n",
       "      <td>0</td>\n",
       "      <td>0</td>\n",
       "    </tr>\n",
       "    <tr>\n",
       "      <th>2</th>\n",
       "      <td>0.343327</td>\n",
       "      <td>-0.124670</td>\n",
       "      <td>0</td>\n",
       "      <td>0</td>\n",
       "      <td>1</td>\n",
       "      <td>0</td>\n",
       "      <td>0</td>\n",
       "    </tr>\n",
       "    <tr>\n",
       "      <th>3</th>\n",
       "      <td>0.362998</td>\n",
       "      <td>0.734094</td>\n",
       "      <td>0</td>\n",
       "      <td>0</td>\n",
       "      <td>1</td>\n",
       "      <td>0</td>\n",
       "      <td>0</td>\n",
       "    </tr>\n",
       "    <tr>\n",
       "      <th>4</th>\n",
       "      <td>-0.480773</td>\n",
       "      <td>-0.587646</td>\n",
       "      <td>0</td>\n",
       "      <td>0</td>\n",
       "      <td>1</td>\n",
       "      <td>0</td>\n",
       "      <td>0</td>\n",
       "    </tr>\n",
       "    <tr>\n",
       "      <th>5</th>\n",
       "      <td>-1.609938</td>\n",
       "      <td>-1.137372</td>\n",
       "      <td>0</td>\n",
       "      <td>0</td>\n",
       "      <td>1</td>\n",
       "      <td>0</td>\n",
       "      <td>0</td>\n",
       "    </tr>\n",
       "    <tr>\n",
       "      <th>6</th>\n",
       "      <td>0.188618</td>\n",
       "      <td>0.050647</td>\n",
       "      <td>0</td>\n",
       "      <td>0</td>\n",
       "      <td>1</td>\n",
       "      <td>0</td>\n",
       "      <td>0</td>\n",
       "    </tr>\n",
       "    <tr>\n",
       "      <th>7</th>\n",
       "      <td>0.322186</td>\n",
       "      <td>1.038729</td>\n",
       "      <td>0</td>\n",
       "      <td>0</td>\n",
       "      <td>1</td>\n",
       "      <td>0</td>\n",
       "      <td>0</td>\n",
       "    </tr>\n",
       "    <tr>\n",
       "      <th>8</th>\n",
       "      <td>-0.083398</td>\n",
       "      <td>0.368211</td>\n",
       "      <td>0</td>\n",
       "      <td>0</td>\n",
       "      <td>1</td>\n",
       "      <td>0</td>\n",
       "      <td>0</td>\n",
       "    </tr>\n",
       "    <tr>\n",
       "      <th>9</th>\n",
       "      <td>0.951709</td>\n",
       "      <td>0.984040</td>\n",
       "      <td>0</td>\n",
       "      <td>0</td>\n",
       "      <td>1</td>\n",
       "      <td>0</td>\n",
       "      <td>0</td>\n",
       "    </tr>\n",
       "    <tr>\n",
       "      <th>10</th>\n",
       "      <td>-0.453967</td>\n",
       "      <td>-0.651952</td>\n",
       "      <td>0</td>\n",
       "      <td>0</td>\n",
       "      <td>1</td>\n",
       "      <td>0</td>\n",
       "      <td>0</td>\n",
       "    </tr>\n",
       "    <tr>\n",
       "      <th>11</th>\n",
       "      <td>0.306250</td>\n",
       "      <td>0.728363</td>\n",
       "      <td>0</td>\n",
       "      <td>0</td>\n",
       "      <td>1</td>\n",
       "      <td>0</td>\n",
       "      <td>0</td>\n",
       "    </tr>\n",
       "    <tr>\n",
       "      <th>12</th>\n",
       "      <td>-0.124595</td>\n",
       "      <td>0.004206</td>\n",
       "      <td>0</td>\n",
       "      <td>0</td>\n",
       "      <td>1</td>\n",
       "      <td>0</td>\n",
       "      <td>0</td>\n",
       "    </tr>\n",
       "    <tr>\n",
       "      <th>13</th>\n",
       "      <td>-0.358281</td>\n",
       "      <td>-0.314457</td>\n",
       "      <td>0</td>\n",
       "      <td>0</td>\n",
       "      <td>1</td>\n",
       "      <td>0</td>\n",
       "      <td>0</td>\n",
       "    </tr>\n",
       "    <tr>\n",
       "      <th>14</th>\n",
       "      <td>0.805667</td>\n",
       "      <td>0.151633</td>\n",
       "      <td>0</td>\n",
       "      <td>0</td>\n",
       "      <td>1</td>\n",
       "      <td>0</td>\n",
       "      <td>0</td>\n",
       "    </tr>\n",
       "    <tr>\n",
       "      <th>15</th>\n",
       "      <td>-0.809081</td>\n",
       "      <td>-0.698707</td>\n",
       "      <td>0</td>\n",
       "      <td>0</td>\n",
       "      <td>1</td>\n",
       "      <td>0</td>\n",
       "      <td>0</td>\n",
       "    </tr>\n",
       "    <tr>\n",
       "      <th>16</th>\n",
       "      <td>0.134534</td>\n",
       "      <td>0.412507</td>\n",
       "      <td>0</td>\n",
       "      <td>0</td>\n",
       "      <td>1</td>\n",
       "      <td>0</td>\n",
       "      <td>0</td>\n",
       "    </tr>\n",
       "    <tr>\n",
       "      <th>17</th>\n",
       "      <td>0.478670</td>\n",
       "      <td>0.320838</td>\n",
       "      <td>0</td>\n",
       "      <td>0</td>\n",
       "      <td>1</td>\n",
       "      <td>0</td>\n",
       "      <td>0</td>\n",
       "    </tr>\n",
       "    <tr>\n",
       "      <th>18</th>\n",
       "      <td>-0.038697</td>\n",
       "      <td>-0.299953</td>\n",
       "      <td>0</td>\n",
       "      <td>0</td>\n",
       "      <td>1</td>\n",
       "      <td>0</td>\n",
       "      <td>0</td>\n",
       "    </tr>\n",
       "    <tr>\n",
       "      <th>19</th>\n",
       "      <td>1.008362</td>\n",
       "      <td>0.519857</td>\n",
       "      <td>0</td>\n",
       "      <td>0</td>\n",
       "      <td>1</td>\n",
       "      <td>0</td>\n",
       "      <td>0</td>\n",
       "    </tr>\n",
       "    <tr>\n",
       "      <th>20</th>\n",
       "      <td>0.044258</td>\n",
       "      <td>0.028430</td>\n",
       "      <td>0</td>\n",
       "      <td>0</td>\n",
       "      <td>1</td>\n",
       "      <td>0</td>\n",
       "      <td>0</td>\n",
       "    </tr>\n",
       "    <tr>\n",
       "      <th>21</th>\n",
       "      <td>0.250212</td>\n",
       "      <td>0.616770</td>\n",
       "      <td>0</td>\n",
       "      <td>0</td>\n",
       "      <td>1</td>\n",
       "      <td>0</td>\n",
       "      <td>0</td>\n",
       "    </tr>\n",
       "    <tr>\n",
       "      <th>22</th>\n",
       "      <td>0.610945</td>\n",
       "      <td>0.050171</td>\n",
       "      <td>0</td>\n",
       "      <td>0</td>\n",
       "      <td>1</td>\n",
       "      <td>0</td>\n",
       "      <td>0</td>\n",
       "    </tr>\n",
       "    <tr>\n",
       "      <th>23</th>\n",
       "      <td>0.761616</td>\n",
       "      <td>0.780709</td>\n",
       "      <td>0</td>\n",
       "      <td>0</td>\n",
       "      <td>1</td>\n",
       "      <td>0</td>\n",
       "      <td>0</td>\n",
       "    </tr>\n",
       "    <tr>\n",
       "      <th>24</th>\n",
       "      <td>0.434544</td>\n",
       "      <td>0.912627</td>\n",
       "      <td>0</td>\n",
       "      <td>0</td>\n",
       "      <td>1</td>\n",
       "      <td>0</td>\n",
       "      <td>0</td>\n",
       "    </tr>\n",
       "    <tr>\n",
       "      <th>25</th>\n",
       "      <td>0.795841</td>\n",
       "      <td>0.881611</td>\n",
       "      <td>0</td>\n",
       "      <td>0</td>\n",
       "      <td>1</td>\n",
       "      <td>0</td>\n",
       "      <td>0</td>\n",
       "    </tr>\n",
       "    <tr>\n",
       "      <th>26</th>\n",
       "      <td>0.603820</td>\n",
       "      <td>0.985242</td>\n",
       "      <td>0</td>\n",
       "      <td>0</td>\n",
       "      <td>1</td>\n",
       "      <td>0</td>\n",
       "      <td>0</td>\n",
       "    </tr>\n",
       "    <tr>\n",
       "      <th>27</th>\n",
       "      <td>-1.277846</td>\n",
       "      <td>-0.952083</td>\n",
       "      <td>0</td>\n",
       "      <td>0</td>\n",
       "      <td>1</td>\n",
       "      <td>0</td>\n",
       "      <td>0</td>\n",
       "    </tr>\n",
       "    <tr>\n",
       "      <th>28</th>\n",
       "      <td>-0.438654</td>\n",
       "      <td>0.226066</td>\n",
       "      <td>0</td>\n",
       "      <td>0</td>\n",
       "      <td>1</td>\n",
       "      <td>0</td>\n",
       "      <td>0</td>\n",
       "    </tr>\n",
       "    <tr>\n",
       "      <th>29</th>\n",
       "      <td>-0.647453</td>\n",
       "      <td>-0.442713</td>\n",
       "      <td>0</td>\n",
       "      <td>0</td>\n",
       "      <td>1</td>\n",
       "      <td>0</td>\n",
       "      <td>0</td>\n",
       "    </tr>\n",
       "    <tr>\n",
       "      <th>...</th>\n",
       "      <td>...</td>\n",
       "      <td>...</td>\n",
       "      <td>...</td>\n",
       "      <td>...</td>\n",
       "      <td>...</td>\n",
       "      <td>...</td>\n",
       "      <td>...</td>\n",
       "    </tr>\n",
       "    <tr>\n",
       "      <th>420</th>\n",
       "      <td>1.950431</td>\n",
       "      <td>10.135620</td>\n",
       "      <td>2</td>\n",
       "      <td>0</td>\n",
       "      <td>0</td>\n",
       "      <td>0</td>\n",
       "      <td>1</td>\n",
       "    </tr>\n",
       "    <tr>\n",
       "      <th>421</th>\n",
       "      <td>1.412004</td>\n",
       "      <td>8.892618</td>\n",
       "      <td>2</td>\n",
       "      <td>0</td>\n",
       "      <td>0</td>\n",
       "      <td>0</td>\n",
       "      <td>1</td>\n",
       "    </tr>\n",
       "    <tr>\n",
       "      <th>422</th>\n",
       "      <td>1.685937</td>\n",
       "      <td>9.419684</td>\n",
       "      <td>2</td>\n",
       "      <td>0</td>\n",
       "      <td>0</td>\n",
       "      <td>0</td>\n",
       "      <td>1</td>\n",
       "    </tr>\n",
       "    <tr>\n",
       "      <th>423</th>\n",
       "      <td>1.663692</td>\n",
       "      <td>9.165744</td>\n",
       "      <td>2</td>\n",
       "      <td>0</td>\n",
       "      <td>0</td>\n",
       "      <td>0</td>\n",
       "      <td>1</td>\n",
       "    </tr>\n",
       "    <tr>\n",
       "      <th>424</th>\n",
       "      <td>1.145892</td>\n",
       "      <td>9.476095</td>\n",
       "      <td>2</td>\n",
       "      <td>0</td>\n",
       "      <td>0</td>\n",
       "      <td>0</td>\n",
       "      <td>1</td>\n",
       "    </tr>\n",
       "    <tr>\n",
       "      <th>425</th>\n",
       "      <td>3.057976</td>\n",
       "      <td>10.923110</td>\n",
       "      <td>2</td>\n",
       "      <td>0</td>\n",
       "      <td>0</td>\n",
       "      <td>0</td>\n",
       "      <td>1</td>\n",
       "    </tr>\n",
       "    <tr>\n",
       "      <th>426</th>\n",
       "      <td>1.137327</td>\n",
       "      <td>8.991950</td>\n",
       "      <td>2</td>\n",
       "      <td>0</td>\n",
       "      <td>0</td>\n",
       "      <td>0</td>\n",
       "      <td>1</td>\n",
       "    </tr>\n",
       "    <tr>\n",
       "      <th>427</th>\n",
       "      <td>1.933876</td>\n",
       "      <td>9.974511</td>\n",
       "      <td>2</td>\n",
       "      <td>0</td>\n",
       "      <td>0</td>\n",
       "      <td>0</td>\n",
       "      <td>1</td>\n",
       "    </tr>\n",
       "    <tr>\n",
       "      <th>428</th>\n",
       "      <td>1.963001</td>\n",
       "      <td>9.731862</td>\n",
       "      <td>2</td>\n",
       "      <td>0</td>\n",
       "      <td>0</td>\n",
       "      <td>0</td>\n",
       "      <td>1</td>\n",
       "    </tr>\n",
       "    <tr>\n",
       "      <th>429</th>\n",
       "      <td>1.687945</td>\n",
       "      <td>9.300519</td>\n",
       "      <td>2</td>\n",
       "      <td>0</td>\n",
       "      <td>0</td>\n",
       "      <td>0</td>\n",
       "      <td>1</td>\n",
       "    </tr>\n",
       "    <tr>\n",
       "      <th>430</th>\n",
       "      <td>2.377176</td>\n",
       "      <td>10.249229</td>\n",
       "      <td>2</td>\n",
       "      <td>0</td>\n",
       "      <td>0</td>\n",
       "      <td>0</td>\n",
       "      <td>1</td>\n",
       "    </tr>\n",
       "    <tr>\n",
       "      <th>431</th>\n",
       "      <td>1.767557</td>\n",
       "      <td>9.783800</td>\n",
       "      <td>2</td>\n",
       "      <td>0</td>\n",
       "      <td>0</td>\n",
       "      <td>0</td>\n",
       "      <td>1</td>\n",
       "    </tr>\n",
       "    <tr>\n",
       "      <th>432</th>\n",
       "      <td>2.632407</td>\n",
       "      <td>10.862070</td>\n",
       "      <td>2</td>\n",
       "      <td>0</td>\n",
       "      <td>0</td>\n",
       "      <td>0</td>\n",
       "      <td>1</td>\n",
       "    </tr>\n",
       "    <tr>\n",
       "      <th>433</th>\n",
       "      <td>1.913945</td>\n",
       "      <td>9.941588</td>\n",
       "      <td>2</td>\n",
       "      <td>0</td>\n",
       "      <td>0</td>\n",
       "      <td>0</td>\n",
       "      <td>1</td>\n",
       "    </tr>\n",
       "    <tr>\n",
       "      <th>434</th>\n",
       "      <td>2.235501</td>\n",
       "      <td>9.904563</td>\n",
       "      <td>2</td>\n",
       "      <td>0</td>\n",
       "      <td>0</td>\n",
       "      <td>0</td>\n",
       "      <td>1</td>\n",
       "    </tr>\n",
       "    <tr>\n",
       "      <th>435</th>\n",
       "      <td>1.554702</td>\n",
       "      <td>9.672159</td>\n",
       "      <td>2</td>\n",
       "      <td>0</td>\n",
       "      <td>0</td>\n",
       "      <td>0</td>\n",
       "      <td>1</td>\n",
       "    </tr>\n",
       "    <tr>\n",
       "      <th>436</th>\n",
       "      <td>1.850424</td>\n",
       "      <td>10.110892</td>\n",
       "      <td>2</td>\n",
       "      <td>0</td>\n",
       "      <td>0</td>\n",
       "      <td>0</td>\n",
       "      <td>1</td>\n",
       "    </tr>\n",
       "    <tr>\n",
       "      <th>437</th>\n",
       "      <td>1.568205</td>\n",
       "      <td>10.172158</td>\n",
       "      <td>2</td>\n",
       "      <td>0</td>\n",
       "      <td>0</td>\n",
       "      <td>0</td>\n",
       "      <td>1</td>\n",
       "    </tr>\n",
       "    <tr>\n",
       "      <th>438</th>\n",
       "      <td>1.881771</td>\n",
       "      <td>10.638145</td>\n",
       "      <td>2</td>\n",
       "      <td>0</td>\n",
       "      <td>0</td>\n",
       "      <td>0</td>\n",
       "      <td>1</td>\n",
       "    </tr>\n",
       "    <tr>\n",
       "      <th>439</th>\n",
       "      <td>1.780383</td>\n",
       "      <td>9.533719</td>\n",
       "      <td>2</td>\n",
       "      <td>0</td>\n",
       "      <td>0</td>\n",
       "      <td>0</td>\n",
       "      <td>1</td>\n",
       "    </tr>\n",
       "    <tr>\n",
       "      <th>440</th>\n",
       "      <td>1.300530</td>\n",
       "      <td>9.234923</td>\n",
       "      <td>2</td>\n",
       "      <td>0</td>\n",
       "      <td>0</td>\n",
       "      <td>0</td>\n",
       "      <td>1</td>\n",
       "    </tr>\n",
       "    <tr>\n",
       "      <th>441</th>\n",
       "      <td>1.819721</td>\n",
       "      <td>10.467634</td>\n",
       "      <td>2</td>\n",
       "      <td>0</td>\n",
       "      <td>0</td>\n",
       "      <td>0</td>\n",
       "      <td>1</td>\n",
       "    </tr>\n",
       "    <tr>\n",
       "      <th>442</th>\n",
       "      <td>0.886103</td>\n",
       "      <td>9.412910</td>\n",
       "      <td>2</td>\n",
       "      <td>0</td>\n",
       "      <td>0</td>\n",
       "      <td>0</td>\n",
       "      <td>1</td>\n",
       "    </tr>\n",
       "    <tr>\n",
       "      <th>443</th>\n",
       "      <td>2.303155</td>\n",
       "      <td>10.339345</td>\n",
       "      <td>2</td>\n",
       "      <td>0</td>\n",
       "      <td>0</td>\n",
       "      <td>0</td>\n",
       "      <td>1</td>\n",
       "    </tr>\n",
       "    <tr>\n",
       "      <th>444</th>\n",
       "      <td>2.061656</td>\n",
       "      <td>10.029960</td>\n",
       "      <td>2</td>\n",
       "      <td>0</td>\n",
       "      <td>0</td>\n",
       "      <td>0</td>\n",
       "      <td>1</td>\n",
       "    </tr>\n",
       "    <tr>\n",
       "      <th>445</th>\n",
       "      <td>1.042520</td>\n",
       "      <td>9.403372</td>\n",
       "      <td>2</td>\n",
       "      <td>0</td>\n",
       "      <td>0</td>\n",
       "      <td>0</td>\n",
       "      <td>1</td>\n",
       "    </tr>\n",
       "    <tr>\n",
       "      <th>446</th>\n",
       "      <td>2.195739</td>\n",
       "      <td>9.902871</td>\n",
       "      <td>2</td>\n",
       "      <td>0</td>\n",
       "      <td>0</td>\n",
       "      <td>0</td>\n",
       "      <td>1</td>\n",
       "    </tr>\n",
       "    <tr>\n",
       "      <th>447</th>\n",
       "      <td>2.051768</td>\n",
       "      <td>10.103682</td>\n",
       "      <td>2</td>\n",
       "      <td>0</td>\n",
       "      <td>0</td>\n",
       "      <td>0</td>\n",
       "      <td>1</td>\n",
       "    </tr>\n",
       "    <tr>\n",
       "      <th>448</th>\n",
       "      <td>1.481017</td>\n",
       "      <td>9.456280</td>\n",
       "      <td>2</td>\n",
       "      <td>0</td>\n",
       "      <td>0</td>\n",
       "      <td>0</td>\n",
       "      <td>1</td>\n",
       "    </tr>\n",
       "    <tr>\n",
       "      <th>449</th>\n",
       "      <td>2.945614</td>\n",
       "      <td>10.877440</td>\n",
       "      <td>2</td>\n",
       "      <td>0</td>\n",
       "      <td>0</td>\n",
       "      <td>0</td>\n",
       "      <td>1</td>\n",
       "    </tr>\n",
       "  </tbody>\n",
       "</table>\n",
       "<p>450 rows × 7 columns</p>\n",
       "</div>"
      ],
      "text/plain": [
       "            x          y  cluster  cluster_-1  cluster_0  cluster_1  cluster_2\n",
       "0    0.557432   0.902403        0           0          1          0          0\n",
       "1   -0.373525  -0.169038        0           0          1          0          0\n",
       "2    0.343327  -0.124670        0           0          1          0          0\n",
       "3    0.362998   0.734094        0           0          1          0          0\n",
       "4   -0.480773  -0.587646        0           0          1          0          0\n",
       "5   -1.609938  -1.137372        0           0          1          0          0\n",
       "6    0.188618   0.050647        0           0          1          0          0\n",
       "7    0.322186   1.038729        0           0          1          0          0\n",
       "8   -0.083398   0.368211        0           0          1          0          0\n",
       "9    0.951709   0.984040        0           0          1          0          0\n",
       "10  -0.453967  -0.651952        0           0          1          0          0\n",
       "11   0.306250   0.728363        0           0          1          0          0\n",
       "12  -0.124595   0.004206        0           0          1          0          0\n",
       "13  -0.358281  -0.314457        0           0          1          0          0\n",
       "14   0.805667   0.151633        0           0          1          0          0\n",
       "15  -0.809081  -0.698707        0           0          1          0          0\n",
       "16   0.134534   0.412507        0           0          1          0          0\n",
       "17   0.478670   0.320838        0           0          1          0          0\n",
       "18  -0.038697  -0.299953        0           0          1          0          0\n",
       "19   1.008362   0.519857        0           0          1          0          0\n",
       "20   0.044258   0.028430        0           0          1          0          0\n",
       "21   0.250212   0.616770        0           0          1          0          0\n",
       "22   0.610945   0.050171        0           0          1          0          0\n",
       "23   0.761616   0.780709        0           0          1          0          0\n",
       "24   0.434544   0.912627        0           0          1          0          0\n",
       "25   0.795841   0.881611        0           0          1          0          0\n",
       "26   0.603820   0.985242        0           0          1          0          0\n",
       "27  -1.277846  -0.952083        0           0          1          0          0\n",
       "28  -0.438654   0.226066        0           0          1          0          0\n",
       "29  -0.647453  -0.442713        0           0          1          0          0\n",
       "..        ...        ...      ...         ...        ...        ...        ...\n",
       "420  1.950431  10.135620        2           0          0          0          1\n",
       "421  1.412004   8.892618        2           0          0          0          1\n",
       "422  1.685937   9.419684        2           0          0          0          1\n",
       "423  1.663692   9.165744        2           0          0          0          1\n",
       "424  1.145892   9.476095        2           0          0          0          1\n",
       "425  3.057976  10.923110        2           0          0          0          1\n",
       "426  1.137327   8.991950        2           0          0          0          1\n",
       "427  1.933876   9.974511        2           0          0          0          1\n",
       "428  1.963001   9.731862        2           0          0          0          1\n",
       "429  1.687945   9.300519        2           0          0          0          1\n",
       "430  2.377176  10.249229        2           0          0          0          1\n",
       "431  1.767557   9.783800        2           0          0          0          1\n",
       "432  2.632407  10.862070        2           0          0          0          1\n",
       "433  1.913945   9.941588        2           0          0          0          1\n",
       "434  2.235501   9.904563        2           0          0          0          1\n",
       "435  1.554702   9.672159        2           0          0          0          1\n",
       "436  1.850424  10.110892        2           0          0          0          1\n",
       "437  1.568205  10.172158        2           0          0          0          1\n",
       "438  1.881771  10.638145        2           0          0          0          1\n",
       "439  1.780383   9.533719        2           0          0          0          1\n",
       "440  1.300530   9.234923        2           0          0          0          1\n",
       "441  1.819721  10.467634        2           0          0          0          1\n",
       "442  0.886103   9.412910        2           0          0          0          1\n",
       "443  2.303155  10.339345        2           0          0          0          1\n",
       "444  2.061656  10.029960        2           0          0          0          1\n",
       "445  1.042520   9.403372        2           0          0          0          1\n",
       "446  2.195739   9.902871        2           0          0          0          1\n",
       "447  2.051768  10.103682        2           0          0          0          1\n",
       "448  1.481017   9.456280        2           0          0          0          1\n",
       "449  2.945614  10.877440        2           0          0          0          1\n",
       "\n",
       "[450 rows x 7 columns]"
      ]
     },
     "execution_count": 93,
     "metadata": {},
     "output_type": "execute_result"
    }
   ],
   "source": [
    "#Note that -1 clusters are outliers.\n",
    "df[\"cluster\"] = labels\n",
    "df = pd.concat([df, pd.get_dummies(df['cluster'], prefix=\"cluster\")], axis=1)\n",
    "df"
   ]
  },
  {
   "cell_type": "markdown",
   "metadata": {},
   "source": [
    "#### Fit a linear model with clusters included."
   ]
  },
  {
   "cell_type": "code",
   "execution_count": 99,
   "metadata": {},
   "outputs": [
    {
     "name": "stdout",
     "output_type": "stream",
     "text": [
      "0.9926434659192575\n"
     ]
    }
   ],
   "source": [
    "from sklearn.linear_model import LinearRegression\n",
    "model = LinearRegression()\n",
    "X = df[[\"x\", \"cluster_0\", \"cluster_1\", \"cluster_2\"]]\n",
    "y = df['y']\n",
    "model.fit(X, y)\n",
    "\n",
    "print((model.score(X, y)))"
   ]
  },
  {
   "cell_type": "markdown",
   "metadata": {},
   "source": [
    "#### Plot the model."
   ]
  },
  {
   "cell_type": "code",
   "execution_count": 95,
   "metadata": {},
   "outputs": [
    {
     "data": {
      "image/png": "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\n",
      "text/plain": [
       "<matplotlib.figure.Figure at 0x1a154a7908>"
      ]
     },
     "metadata": {},
     "output_type": "display_data"
    }
   ],
   "source": [
    "colors = set_colors(labels)\n",
    "plt.scatter(df['x'], df['y'], c=colors)\n",
    "plt.xlabel(\"x\")\n",
    "plt.ylabel(\"y\")\n",
    "\n",
    "plt.scatter(df[\"x\"], model.predict(X), color='black')\n",
    "\n",
    "plt.show()"
   ]
  },
  {
   "cell_type": "markdown",
   "metadata": {},
   "source": [
    "#### What happens if we don't include the clusters we estimated?"
   ]
  },
  {
   "cell_type": "code",
   "execution_count": 96,
   "metadata": {},
   "outputs": [
    {
     "name": "stdout",
     "output_type": "stream",
     "text": [
      "0.7204455077474763\n"
     ]
    },
    {
     "data": {
      "image/png": "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\n",
      "text/plain": [
       "<matplotlib.figure.Figure at 0x1a16701da0>"
      ]
     },
     "metadata": {},
     "output_type": "display_data"
    }
   ],
   "source": [
    "\n",
    "model = LinearRegression()\n",
    "X = df[[\"x\"]]\n",
    "y = df['y']\n",
    "model.fit(X, y)\n",
    "print((model.score(X, y)))\n",
    "\n",
    "colors = set_colors(labels)\n",
    "plt.scatter(df['x'], df['y'], c=colors)\n",
    "plt.xlabel(\"x\")\n",
    "plt.ylabel(\"y\")\n",
    "\n",
    "plt.scatter(df[\"x\"], model.predict(X), color='black')\n",
    "\n",
    "plt.show()"
   ]
  },
  {
   "cell_type": "markdown",
   "metadata": {},
   "source": [
    "<a id=\"comparing-clustering-algorithms\"></a>\n",
    "## Comparing Clustering Algorithms\n",
    "\n",
    "- K-means\n",
    "  - Finds cluster centers.\n",
    "  - Must choose the number of clusters.\n",
    "  - Assumes clusters are isotropic.\n",
    "- DBSCAN\n",
    "  - Inspects local density to find clusters.\n",
    "  - Better than k-means for anisotropic clusters.\n",
    "  - Capable of finding outliers.\n",
    "- Hierarchical clustering\n",
    "  - Finds clusters by forming groups of groups of groups of points.\n",
    "  - Hierarchical clustering works well for non-spherical clusters.\n",
    "  - May be computationally expensive.\n",
    "  - Guaranteed to converge to the same solution (no random initialization)."
   ]
  },
  {
   "cell_type": "markdown",
   "metadata": {},
   "source": [
    "# Independent practice\n",
    "\n",
    "A) Repeat our clustering analysis for the foods nutrients dataset (below). There are no \"true\" labels for this one!\n",
    "\n",
    "B) Then go back up and separate our iris observations into *different* numbers of clusters.\n",
    "\n",
    "- How do the inertia and silhouette scores change?\n",
    "- What if you don't scale your features?\n",
    "- Is there a 'right' k? Why or why not?\n",
    "\n",
    "Repeat this for the foods nutrients dataset."
   ]
  },
  {
   "cell_type": "code",
   "execution_count": null,
   "metadata": {},
   "outputs": [],
   "source": [
    "# http://people.sc.fsu.edu/~jburkardt/datasets/hartigan/file06.txt\n",
    "import pandas as pd\n",
    "foods  = pd.read_csv('data/nutrients.txt', sep=r'\\s+')\n",
    "foods.head()"
   ]
  },
  {
   "cell_type": "markdown",
   "metadata": {},
   "source": [
    "<a id=\"lesson-summary\"></a>\n",
    "## Lesson Summary"
   ]
  },
  {
   "cell_type": "markdown",
   "metadata": {},
   "source": [
    "- Supervised learning vs. unsupervised learning\n",
    "    - The main difference between the two is whether we use response labels.\n",
    "- K-means, DBSCAN, and hierarchical clustering\n",
    "  - Can you summarize how each algorithm roughly works?\n",
    "- The Silhouette Coefficient\n",
    "  - What does the silhouette coefficient measure?\n",
    "- Using clustering along with supervised learning\n",
    "  - Why would we expect predictive power to improve when we include clusters?"
   ]
  }
 ],
 "metadata": {
  "kernelspec": {
   "display_name": "Python 3",
   "language": "python",
   "name": "python3"
  },
  "language_info": {
   "codemirror_mode": {
    "name": "ipython",
    "version": 3
   },
   "file_extension": ".py",
   "mimetype": "text/x-python",
   "name": "python",
   "nbconvert_exporter": "python",
   "pygments_lexer": "ipython3",
   "version": "3.6.4"
  }
 },
 "nbformat": 4,
 "nbformat_minor": 2
}
