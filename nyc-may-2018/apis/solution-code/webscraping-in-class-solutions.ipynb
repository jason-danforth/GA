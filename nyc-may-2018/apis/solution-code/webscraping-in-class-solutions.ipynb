{
 "cells": [
  {
   "cell_type": "markdown",
   "metadata": {
    "collapsed": true
   },
   "source": [
    "<img src=\"http://imgur.com/1ZcRyrc.png\" style=\"float: left; margin: 20px; height: 55px\">\n",
    "\n",
    "# Web Scraping: Solutions\n",
    "\n",
    "_Author: Joseph Nelson (DC)_\n",
    "\n",
    "---"
   ]
  },
  {
   "cell_type": "markdown",
   "metadata": {},
   "source": [
    "## Before Class\n",
    "\n",
    "#### Install Selenium\n",
    "\n",
    "Selenium is a headless browser. It allows us to render JavaScript just as a human-navigated browser would.\n",
    "\n",
    "To install Selenium, use one of the following:\n",
    "- **Anaconda:** `conda install -c conda-forge selenium`\n",
    "- **pip:** `pip install selenium`\n",
    "\n",
    "\n",
    "#### Install GeckoDriver\n",
    "\n",
    "You will also need GeckoDriver (this assumes you are using Homebrew for Mac): \n",
    "\n",
    "- ```brew install geckodriver```\n",
    "\n",
    "#### Install Firefox\n",
    "\n",
    "Additionally, you will need to have downloaded the [Firefox browser](https://www.mozilla.org/en-US/firefox/new/?utm_source=google&utm_medium=cpc&utm_campaign=Firefox-Brand-US-GGL-Exact&utm_term=firefox&utm_content=A144_A203_A006336&gclid=Cj0KEQjwnPLKBRC-j7nt1b7OlZwBEiQAv8lMLJUyReT6cPzSYdmEA6uD3YDoieuuuusddgAU7XH6smEaAoje8P8HAQ&gclsrc=aw.ds) for the application in this lesson."
   ]
  },
  {
   "cell_type": "markdown",
   "metadata": {},
   "source": [
    "## Learning Objectives\n",
    "- Revisit how to locate elements on a webpage\n",
    "- Aquire unstructure data from the internet using Beautiful soup.\n",
    "- Discuss limitations associated with simple requests and urllib libraries\n",
    "- Introduce Selenium as a solution, and implement a scraper using selenium"
   ]
  },
  {
   "cell_type": "markdown",
   "metadata": {},
   "source": [
    "## Lesson Guide\n",
    "\n",
    "- [Introduction](#intro)\n",
    "- [Building a web scraper](#building-scraper)\n",
    "- [Retrieving data from the HTML page](#retrieving-data)\n",
    "    - [Retrieving the restaurant names](#retrieving-names)\n",
    "    - [Challenge: Retrieving the restaurant locations](#retrieving-locations)\n",
    "    - [Retrieving the restaurant prices](#retrieving-prices)\n",
    "    - [Retrieving the restaurant number of bookings](#retrieving-bookings)\n",
    "\n",
    "\n",
    "- [Introducting Selenium](#selenium)\n",
    "    - [Running JavaScript before scraping](#selenium-js)\n",
    "    - [Using regex to only get digits](#selenium-regex)\n",
    "    - [Challenge: Use Pandas to create a DataFrame of bookings](#challenge-pandas)\n",
    "    - [Auto-typing using Selenium](#selenium-typing)\n",
    "\n",
    "\n",
    "- [Summary](#summary)"
   ]
  },
  {
   "cell_type": "markdown",
   "metadata": {},
   "source": [
    "<a id=\"intro\"></a>\n",
    "## Introduction\n",
    "\n",
    "In this codealong lesson, we'll build a web scraper using urllib and BeautifulSoup. We will also explore how to use a headless browser called Selenium.\n",
    "\n",
    "We'll begin by scraping OpenTable's DC listings. We're interested in knowing the restaurant's **name, location, price, and how many people booked it today.**\n",
    "\n",
    "OpenTable provides all of this information on this given page: http://www.opentable.com/washington-dc-restaurant-listings\n",
    "\n",
    "Let's inspect the elements of this page to assure we can find each of the bits of information in which we're interested.\n",
    "\n",
    "---"
   ]
  },
  {
   "cell_type": "markdown",
   "metadata": {},
   "source": [
    "<a id=\"building-scraper\"></a>\n",
    "## Building a web scraper\n",
    "\n",
    "Now, let's build a web scraper for OpenTable using urllib and Beautiful Soup:"
   ]
  },
  {
   "cell_type": "code",
   "execution_count": 1,
   "metadata": {
    "scrolled": false
   },
   "outputs": [],
   "source": [
    "# import our necessary first packages\n",
    "from bs4 import BeautifulSoup\n",
    "import requests"
   ]
  },
  {
   "cell_type": "code",
   "execution_count": 2,
   "metadata": {},
   "outputs": [],
   "source": [
    "# set the url we want to visit\n",
    "url = \"http://www.opentable.com/washington-dc-restaurant-listings\"\n",
    "\n",
    "# visit that url, and grab the html of said page\n",
    "html = requests.get(url, header={})"
   ]
  },
  {
   "cell_type": "markdown",
   "metadata": {},
   "source": [
    "At this point, what is in html?"
   ]
  },
  {
   "cell_type": "code",
   "execution_count": 3,
   "metadata": {},
   "outputs": [
    {
     "data": {
      "text/plain": [
       "'           <!DOCTYPE html><html lang=\"en\"><head><meta charset=\"utf-8\"/><meta http-equiv=\"X-UA-Compatible\" content=\"IE=9; IE=8; IE=7; IE=EDGE\"/> <title>Restaurant Reservation Availability</title>    <meta  name=\"robots\" content=\"noindex\" > </meta><link  rel=\"canonical\" href=\"https://www.opentable.com/washington-dc-restaurant-listings\" > </link>      <link rel=\"shortcut icon\" href=\"//components.otstatic.com/components/favicon/1.0.5/favicon/favicon.ico\" type=\"image/x-icon\"/><link rel=\"icon\" href=\"/'"
      ]
     },
     "execution_count": 3,
     "metadata": {},
     "output_type": "execute_result"
    }
   ],
   "source": [
    "# .text returns the request content in Unicode\n",
    "html.text[:500]"
   ]
  },
  {
   "cell_type": "markdown",
   "metadata": {},
   "source": [
    "We will need to convert this html objct into a soup object so we can parse it using python and BS4"
   ]
  },
  {
   "cell_type": "code",
   "execution_count": 4,
   "metadata": {},
   "outputs": [],
   "source": [
    "# convert this into a soup object\n",
    "soup = BeautifulSoup(html.text, 'html.parser')"
   ]
  },
  {
   "cell_type": "markdown",
   "metadata": {},
   "source": [
    "<a id=\"retrieving-data\"></a>\n",
    "### Retrieving data from the HTML page"
   ]
  },
  {
   "cell_type": "markdown",
   "metadata": {},
   "source": [
    "Let's first find each restaurant name listed on the page we've loaded. How do we find the page location of the restaurant? (Hint: We need to know where in the **HTML** the restaurant element is housed.) In order to find the HTML that renders the restaurant location, we can use Google Chrome's Inspect tool:\n",
    "\n",
    "> http://www.opentable.com/washington-dc-restaurant-listings\n",
    "\n",
    "> 1. Visit the URL above. \n",
    "\n",
    "> 2. Right-click on an element you are interested in, then choose Inspect (in Chrome). \n",
    "\n",
    "> 3. This will open the Developer Tools and show the HTML used to render the selected page element. \n",
    "\n",
    "> Throughout this lesson, we will use this method to find tags associated with elements of the page we want to scrape.\n",
    "\n",
    "See if you can find the restaurant name on the page. Keep in mind there are many restaurants loaded on the page."
   ]
  },
  {
   "cell_type": "code",
   "execution_count": 5,
   "metadata": {
    "scrolled": true
   },
   "outputs": [
    {
     "data": {
      "text/plain": [
       "[<span class=\"rest-row-name-text\">Accusantium Dibbert</span>,\n",
       " <span class=\"rest-row-name-text\">Madalyn Lights</span>,\n",
       " <span class=\"rest-row-name-text\">Dolores Valleys</span>,\n",
       " <span class=\"rest-row-name-text\">Fuga</span>,\n",
       " <span class=\"rest-row-name-text\">Porro</span>,\n",
       " <span class=\"rest-row-name-text\">Quis</span>,\n",
       " <span class=\"rest-row-name-text\">329 Harris</span>,\n",
       " <span class=\"rest-row-name-text\">1372 Walker</span>,\n",
       " <span class=\"rest-row-name-text\">425 Dach</span>,\n",
       " <span class=\"rest-row-name-text\">Similique Farrell</span>,\n",
       " <span class=\"rest-row-name-text\">Ex</span>,\n",
       " <span class=\"rest-row-name-text\">Thurman Doyle</span>,\n",
       " <span class=\"rest-row-name-text\">Beier Isle</span>,\n",
       " <span class=\"rest-row-name-text\">Enim Course</span>,\n",
       " <span class=\"rest-row-name-text\">Rowans</span>,\n",
       " <span class=\"rest-row-name-text\">Sunt Hodkiewicz</span>,\n",
       " <span class=\"rest-row-name-text\">Center</span>,\n",
       " <span class=\"rest-row-name-text\">760 Tromp</span>,\n",
       " <span class=\"rest-row-name-text\">Gateway</span>,\n",
       " <span class=\"rest-row-name-text\">Veum</span>,\n",
       " <span class=\"rest-row-name-text\">Noelia Rowe</span>,\n",
       " <span class=\"rest-row-name-text\">Corporis Street</span>,\n",
       " <span class=\"rest-row-name-text\">Rodriguez Stravenue</span>,\n",
       " <span class=\"rest-row-name-text\">Schinner Plains</span>,\n",
       " <span class=\"rest-row-name-text\">Eveniet Wehner</span>,\n",
       " <span class=\"rest-row-name-text\">Quidem Plaza</span>,\n",
       " <span class=\"rest-row-name-text\">Art Loaf</span>,\n",
       " <span class=\"rest-row-name-text\">Gutkowski Square</span>,\n",
       " <span class=\"rest-row-name-text\">Terrace</span>,\n",
       " <span class=\"rest-row-name-text\">Domenica O'Connell</span>,\n",
       " <span class=\"rest-row-name-text\">719 Rempel</span>,\n",
       " <span class=\"rest-row-name-text\">Nehas</span>,\n",
       " <span class=\"rest-row-name-text\">Dolor Gorczany</span>,\n",
       " <span class=\"rest-row-name-text\">Stravenue</span>,\n",
       " <span class=\"rest-row-name-text\">Est Huels</span>,\n",
       " <span class=\"rest-row-name-text\">Denesik</span>,\n",
       " <span class=\"rest-row-name-text\">Repudiandae Grove</span>,\n",
       " <span class=\"rest-row-name-text\">Quia Douglas</span>,\n",
       " <span class=\"rest-row-name-text\">Huels</span>,\n",
       " <span class=\"rest-row-name-text\">Veum Causeway</span>,\n",
       " <span class=\"rest-row-name-text\">Greens</span>,\n",
       " <span class=\"rest-row-name-text\">296 Bahringer</span>,\n",
       " <span class=\"rest-row-name-text\">Haleighs</span>,\n",
       " <span class=\"rest-row-name-text\">Rozellas</span>,\n",
       " <span class=\"rest-row-name-text\">810 Hahn</span>,\n",
       " <span class=\"rest-row-name-text\">1481 Hintz</span>,\n",
       " <span class=\"rest-row-name-text\">968 Botsford</span>,\n",
       " <span class=\"rest-row-name-text\">Parker Throughway</span>,\n",
       " <span class=\"rest-row-name-text\">Corrupti Hill</span>,\n",
       " <span class=\"rest-row-name-text\">Hic Cole</span>,\n",
       " <span class=\"rest-row-name-text\">Et</span>,\n",
       " <span class=\"rest-row-name-text\">Incidunt Oval</span>,\n",
       " <span class=\"rest-row-name-text\">Voluptas Hayes</span>,\n",
       " <span class=\"rest-row-name-text\">Temporibus Spur</span>,\n",
       " <span class=\"rest-row-name-text\">Emmy Falls</span>,\n",
       " <span class=\"rest-row-name-text\">Repellat Run</span>,\n",
       " <span class=\"rest-row-name-text\">Aut Trace</span>,\n",
       " <span class=\"rest-row-name-text\">1420 Stanton</span>,\n",
       " <span class=\"rest-row-name-text\">Ut Borer</span>,\n",
       " <span class=\"rest-row-name-text\">Necessitatibus O'Conner</span>,\n",
       " <span class=\"rest-row-name-text\">Port</span>,\n",
       " <span class=\"rest-row-name-text\">Voluptas</span>,\n",
       " <span class=\"rest-row-name-text\">Jeffereys</span>,\n",
       " <span class=\"rest-row-name-text\">Quo Fritsch</span>,\n",
       " <span class=\"rest-row-name-text\">Mews</span>,\n",
       " <span class=\"rest-row-name-text\">Distinctio Berge</span>,\n",
       " <span class=\"rest-row-name-text\">Court</span>,\n",
       " <span class=\"rest-row-name-text\">Deleniti</span>,\n",
       " <span class=\"rest-row-name-text\">Aliquid</span>,\n",
       " <span class=\"rest-row-name-text\">Agloe Bar &amp; Grill</span>,\n",
       " <span class=\"rest-row-name-text\">Aut</span>,\n",
       " <span class=\"rest-row-name-text\">Aut</span>,\n",
       " <span class=\"rest-row-name-text\">Hegmann Bridge</span>,\n",
       " <span class=\"rest-row-name-text\">Shemar Garden</span>,\n",
       " <span class=\"rest-row-name-text\">Quo</span>,\n",
       " <span class=\"rest-row-name-text\">Ex</span>,\n",
       " <span class=\"rest-row-name-text\">177 Barrows</span>,\n",
       " <span class=\"rest-row-name-text\">Reilly</span>,\n",
       " <span class=\"rest-row-name-text\">Cupiditate Viaduct</span>,\n",
       " <span class=\"rest-row-name-text\">Possimus Wyman</span>,\n",
       " <span class=\"rest-row-name-text\">Alisas</span>,\n",
       " <span class=\"rest-row-name-text\">Et Circles</span>,\n",
       " <span class=\"rest-row-name-text\">Hackett</span>,\n",
       " <span class=\"rest-row-name-text\">Quis</span>,\n",
       " <span class=\"rest-row-name-text\">63 Yost</span>,\n",
       " <span class=\"rest-row-name-text\">Keenan Lakin</span>,\n",
       " <span class=\"rest-row-name-text\">Ford</span>,\n",
       " <span class=\"rest-row-name-text\">Bashirian</span>,\n",
       " <span class=\"rest-row-name-text\">Brook</span>,\n",
       " <span class=\"rest-row-name-text\">Velit Sipes</span>,\n",
       " <span class=\"rest-row-name-text\">Adelines</span>,\n",
       " <span class=\"rest-row-name-text\">Soledad Extension</span>,\n",
       " <span class=\"rest-row-name-text\">Voluptas Towne</span>,\n",
       " <span class=\"rest-row-name-text\">649 Kihn</span>,\n",
       " <span class=\"rest-row-name-text\">Leuschke</span>,\n",
       " <span class=\"rest-row-name-text\">Cloviss</span>,\n",
       " <span class=\"rest-row-name-text\">Cum Bruen</span>,\n",
       " <span class=\"rest-row-name-text\">Molestias Considine</span>,\n",
       " <span class=\"rest-row-name-text\">A Wilkinson</span>,\n",
       " <span class=\"rest-row-name-text\">Blanda Plains</span>]"
      ]
     },
     "execution_count": 5,
     "metadata": {},
     "output_type": "execute_result"
    }
   ],
   "source": [
    "# print the restaurant names\n",
    "soup.find_all(name='span', attrs={'class':'rest-row-name-text'})"
   ]
  },
  {
   "cell_type": "markdown",
   "metadata": {},
   "source": [
    "It is important to always keep in mind the data types that were returned. Note this is a `list`, and we know that immediately by observing the outer square brackets and commas separating each tag.\n",
    "\n",
    "Next, note the elements of the list are `Tag` objects, not strings. (If they were strings, they would be surrounded by quotes.) The Beautiful Soup authors chose to display a `Tag` object visually as a text representation of the tag and its contents. However, being an object, it has many methods that we can call on it. For example, next we will use the `encode_contents()` method to return the tag's contents encoded as a Python string.\n",
    "\n",
    "<a id=\"retrieving-names\"></a>\n",
    "#### Retrieving the restaurant names\n",
    "\n",
    "Now that we found a list of tags containing the restaurant names, let's think how we can loop through them all one-by-one. In the following cell, we'll print out the name (and **only** the clean name, not the rest of the html) of each restaurant."
   ]
  },
  {
   "cell_type": "code",
   "execution_count": 6,
   "metadata": {},
   "outputs": [
    {
     "name": "stdout",
     "output_type": "stream",
     "text": [
      "Accusantium Dibbert\n",
      "Madalyn Lights\n",
      "Dolores Valleys\n",
      "Fuga\n",
      "Porro\n",
      "Quis\n",
      "329 Harris\n",
      "1372 Walker\n",
      "425 Dach\n",
      "Similique Farrell\n",
      "Ex\n",
      "Thurman Doyle\n",
      "Beier Isle\n",
      "Enim Course\n",
      "Rowans\n",
      "Sunt Hodkiewicz\n",
      "Center\n",
      "760 Tromp\n",
      "Gateway\n",
      "Veum\n",
      "Noelia Rowe\n",
      "Corporis Street\n",
      "Rodriguez Stravenue\n",
      "Schinner Plains\n",
      "Eveniet Wehner\n",
      "Quidem Plaza\n",
      "Art Loaf\n",
      "Gutkowski Square\n",
      "Terrace\n",
      "Domenica O'Connell\n",
      "719 Rempel\n",
      "Nehas\n",
      "Dolor Gorczany\n",
      "Stravenue\n",
      "Est Huels\n",
      "Denesik\n",
      "Repudiandae Grove\n",
      "Quia Douglas\n",
      "Huels\n",
      "Veum Causeway\n",
      "Greens\n",
      "296 Bahringer\n",
      "Haleighs\n",
      "Rozellas\n",
      "810 Hahn\n",
      "1481 Hintz\n",
      "968 Botsford\n",
      "Parker Throughway\n",
      "Corrupti Hill\n",
      "Hic Cole\n",
      "Et\n",
      "Incidunt Oval\n",
      "Voluptas Hayes\n",
      "Temporibus Spur\n",
      "Emmy Falls\n",
      "Repellat Run\n",
      "Aut Trace\n",
      "1420 Stanton\n",
      "Ut Borer\n",
      "Necessitatibus O'Conner\n",
      "Port\n",
      "Voluptas\n",
      "Jeffereys\n",
      "Quo Fritsch\n",
      "Mews\n",
      "Distinctio Berge\n",
      "Court\n",
      "Deleniti\n",
      "Aliquid\n",
      "Agloe Bar & Grill\n",
      "Aut\n",
      "Aut\n",
      "Hegmann Bridge\n",
      "Shemar Garden\n",
      "Quo\n",
      "Ex\n",
      "177 Barrows\n",
      "Reilly\n",
      "Cupiditate Viaduct\n",
      "Possimus Wyman\n",
      "Alisas\n",
      "Et Circles\n",
      "Hackett\n",
      "Quis\n",
      "63 Yost\n",
      "Keenan Lakin\n",
      "Ford\n",
      "Bashirian\n",
      "Brook\n",
      "Velit Sipes\n",
      "Adelines\n",
      "Soledad Extension\n",
      "Voluptas Towne\n",
      "649 Kihn\n",
      "Leuschke\n",
      "Cloviss\n",
      "Cum Bruen\n",
      "Molestias Considine\n",
      "A Wilkinson\n",
      "Blanda Plains\n"
     ]
    }
   ],
   "source": [
    "# for each element you find, print out the restaurant name\n",
    "for entry in soup.find_all(name='span', attrs={'class':'rest-row-name-text'}):\n",
    "    print(entry.text)"
   ]
  },
  {
   "cell_type": "markdown",
   "metadata": {},
   "source": [
    "Great!\n",
    "\n",
    "<a id=\"retrieving-locations\"></a>\n",
    "#### Challenge: Retrieving the restaurant locations\n",
    "\n",
    "Can you repeat that process for finding the location? For example, barmini by Jose Andres is in the location listed as \"Penn Quarter\" in our search results."
   ]
  },
  {
   "cell_type": "code",
   "execution_count": 7,
   "metadata": {},
   "outputs": [
    {
     "data": {
      "text/plain": [
       "[<span class=\"rest-row-meta--location rest-row-meta-text\">Rogahnchester</span>,\n",
       " <span class=\"rest-row-meta--location rest-row-meta-text\">Sigmundville</span>,\n",
       " <span class=\"rest-row-meta--location rest-row-meta-text\">Brekkeview</span>,\n",
       " <span class=\"rest-row-meta--location rest-row-meta-text\">Amiraburgh</span>,\n",
       " <span class=\"rest-row-meta--location rest-row-meta-text\">West Kennedy</span>,\n",
       " <span class=\"rest-row-meta--location rest-row-meta-text\">Braunville</span>,\n",
       " <span class=\"rest-row-meta--location rest-row-meta-text\">East Vivienneton</span>,\n",
       " <span class=\"rest-row-meta--location rest-row-meta-text\">Welchburgh</span>,\n",
       " <span class=\"rest-row-meta--location rest-row-meta-text\">Caspershire</span>,\n",
       " <span class=\"rest-row-meta--location rest-row-meta-text\">Schultzshire</span>,\n",
       " <span class=\"rest-row-meta--location rest-row-meta-text\">Lake Chazton</span>,\n",
       " <span class=\"rest-row-meta--location rest-row-meta-text\">Hartmannmouth</span>,\n",
       " <span class=\"rest-row-meta--location rest-row-meta-text\">East Eliane</span>,\n",
       " <span class=\"rest-row-meta--location rest-row-meta-text\">Hintzview</span>,\n",
       " <span class=\"rest-row-meta--location rest-row-meta-text\">South Jamie</span>,\n",
       " <span class=\"rest-row-meta--location rest-row-meta-text\">Jonatanborough</span>,\n",
       " <span class=\"rest-row-meta--location rest-row-meta-text\">West Haleighhaven</span>,\n",
       " <span class=\"rest-row-meta--location rest-row-meta-text\">East Etha</span>,\n",
       " <span class=\"rest-row-meta--location rest-row-meta-text\">West Lorenz</span>,\n",
       " <span class=\"rest-row-meta--location rest-row-meta-text\">Dorashire</span>,\n",
       " <span class=\"rest-row-meta--location rest-row-meta-text\">East Eula</span>,\n",
       " <span class=\"rest-row-meta--location rest-row-meta-text\">Deanport</span>,\n",
       " <span class=\"rest-row-meta--location rest-row-meta-text\">New Rosettabury</span>,\n",
       " <span class=\"rest-row-meta--location rest-row-meta-text\">East Darioberg</span>,\n",
       " <span class=\"rest-row-meta--location rest-row-meta-text\">Lake Joshuahmouth</span>,\n",
       " <span class=\"rest-row-meta--location rest-row-meta-text\">West Kristinmouth</span>,\n",
       " <span class=\"rest-row-meta--location rest-row-meta-text\">Nigelshire</span>,\n",
       " <span class=\"rest-row-meta--location rest-row-meta-text\">New Ayanaborough</span>,\n",
       " <span class=\"rest-row-meta--location rest-row-meta-text\">Romaguerabury</span>,\n",
       " <span class=\"rest-row-meta--location rest-row-meta-text\">Yundtburgh</span>,\n",
       " <span class=\"rest-row-meta--location rest-row-meta-text\">Port Solonhaven</span>,\n",
       " <span class=\"rest-row-meta--location rest-row-meta-text\">Lake Chad</span>,\n",
       " <span class=\"rest-row-meta--location rest-row-meta-text\">South Margaritatown</span>,\n",
       " <span class=\"rest-row-meta--location rest-row-meta-text\">Port Lizzie</span>,\n",
       " <span class=\"rest-row-meta--location rest-row-meta-text\">South Travon</span>,\n",
       " <span class=\"rest-row-meta--location rest-row-meta-text\">Lake Bennie</span>,\n",
       " <span class=\"rest-row-meta--location rest-row-meta-text\">Lake Alexandermouth</span>,\n",
       " <span class=\"rest-row-meta--location rest-row-meta-text\">Port Kellie</span>,\n",
       " <span class=\"rest-row-meta--location rest-row-meta-text\">West Cole</span>,\n",
       " <span class=\"rest-row-meta--location rest-row-meta-text\">Leiftown</span>,\n",
       " <span class=\"rest-row-meta--location rest-row-meta-text\">Bethanychester</span>,\n",
       " <span class=\"rest-row-meta--location rest-row-meta-text\">Port Milton</span>,\n",
       " <span class=\"rest-row-meta--location rest-row-meta-text\">Jayview</span>,\n",
       " <span class=\"rest-row-meta--location rest-row-meta-text\">Kihnborough</span>,\n",
       " <span class=\"rest-row-meta--location rest-row-meta-text\">Cristtown</span>,\n",
       " <span class=\"rest-row-meta--location rest-row-meta-text\">Marvintown</span>,\n",
       " <span class=\"rest-row-meta--location rest-row-meta-text\">Jermainside</span>,\n",
       " <span class=\"rest-row-meta--location rest-row-meta-text\">Sallieberg</span>,\n",
       " <span class=\"rest-row-meta--location rest-row-meta-text\">Lake Marvinland</span>,\n",
       " <span class=\"rest-row-meta--location rest-row-meta-text\">West Jerry</span>,\n",
       " <span class=\"rest-row-meta--location rest-row-meta-text\">Aliaport</span>,\n",
       " <span class=\"rest-row-meta--location rest-row-meta-text\">Lake Laurieberg</span>,\n",
       " <span class=\"rest-row-meta--location rest-row-meta-text\">Madilynfurt</span>,\n",
       " <span class=\"rest-row-meta--location rest-row-meta-text\">Kamronville</span>,\n",
       " <span class=\"rest-row-meta--location rest-row-meta-text\">Lake Gladysshire</span>,\n",
       " <span class=\"rest-row-meta--location rest-row-meta-text\">Hayesside</span>,\n",
       " <span class=\"rest-row-meta--location rest-row-meta-text\">Jeffreyport</span>,\n",
       " <span class=\"rest-row-meta--location rest-row-meta-text\">Shannonstad</span>,\n",
       " <span class=\"rest-row-meta--location rest-row-meta-text\">Americoville</span>,\n",
       " <span class=\"rest-row-meta--location rest-row-meta-text\">Davionstad</span>,\n",
       " <span class=\"rest-row-meta--location rest-row-meta-text\">Windlertown</span>,\n",
       " <span class=\"rest-row-meta--location rest-row-meta-text\">North Benjamin</span>,\n",
       " <span class=\"rest-row-meta--location rest-row-meta-text\">Lilianaport</span>,\n",
       " <span class=\"rest-row-meta--location rest-row-meta-text\">Lake Mittiestad</span>,\n",
       " <span class=\"rest-row-meta--location rest-row-meta-text\">Dinomouth</span>,\n",
       " <span class=\"rest-row-meta--location rest-row-meta-text\">Alfredoport</span>,\n",
       " <span class=\"rest-row-meta--location rest-row-meta-text\">South Toney</span>,\n",
       " <span class=\"rest-row-meta--location rest-row-meta-text\">Lake Abigayletown</span>,\n",
       " <span class=\"rest-row-meta--location rest-row-meta-text\">North Antonina</span>,\n",
       " <span class=\"rest-row-meta--location rest-row-meta-text\">Port Norrisside</span>,\n",
       " <span class=\"rest-row-meta--location rest-row-meta-text\">Kihnville</span>,\n",
       " <span class=\"rest-row-meta--location rest-row-meta-text\">New Kathrynfurt</span>,\n",
       " <span class=\"rest-row-meta--location rest-row-meta-text\">Rebeccafurt</span>,\n",
       " <span class=\"rest-row-meta--location rest-row-meta-text\">Harmonmouth</span>,\n",
       " <span class=\"rest-row-meta--location rest-row-meta-text\">Kundebury</span>,\n",
       " <span class=\"rest-row-meta--location rest-row-meta-text\">New Norberttown</span>,\n",
       " <span class=\"rest-row-meta--location rest-row-meta-text\">Hackettmouth</span>,\n",
       " <span class=\"rest-row-meta--location rest-row-meta-text\">East Ednaport</span>,\n",
       " <span class=\"rest-row-meta--location rest-row-meta-text\">Hoppeton</span>,\n",
       " <span class=\"rest-row-meta--location rest-row-meta-text\">Liamfort</span>,\n",
       " <span class=\"rest-row-meta--location rest-row-meta-text\">Wunschburgh</span>,\n",
       " <span class=\"rest-row-meta--location rest-row-meta-text\">Thadchester</span>,\n",
       " <span class=\"rest-row-meta--location rest-row-meta-text\">Jammieberg</span>,\n",
       " <span class=\"rest-row-meta--location rest-row-meta-text\">North Valentina</span>,\n",
       " <span class=\"rest-row-meta--location rest-row-meta-text\">Jarretside</span>,\n",
       " <span class=\"rest-row-meta--location rest-row-meta-text\">Barrowsstad</span>,\n",
       " <span class=\"rest-row-meta--location rest-row-meta-text\">Mosciskihaven</span>,\n",
       " <span class=\"rest-row-meta--location rest-row-meta-text\">West Brown</span>,\n",
       " <span class=\"rest-row-meta--location rest-row-meta-text\">South Gabrielle</span>,\n",
       " <span class=\"rest-row-meta--location rest-row-meta-text\">Manteport</span>,\n",
       " <span class=\"rest-row-meta--location rest-row-meta-text\">Virgieburgh</span>,\n",
       " <span class=\"rest-row-meta--location rest-row-meta-text\">Oberbrunnerburgh</span>,\n",
       " <span class=\"rest-row-meta--location rest-row-meta-text\">East Eugenefurt</span>,\n",
       " <span class=\"rest-row-meta--location rest-row-meta-text\">Quigleymouth</span>,\n",
       " <span class=\"rest-row-meta--location rest-row-meta-text\">Anastaciochester</span>,\n",
       " <span class=\"rest-row-meta--location rest-row-meta-text\">Port Lula</span>,\n",
       " <span class=\"rest-row-meta--location rest-row-meta-text\">West Andreanne</span>,\n",
       " <span class=\"rest-row-meta--location rest-row-meta-text\">Kilbackview</span>,\n",
       " <span class=\"rest-row-meta--location rest-row-meta-text\">Lake Crystal</span>,\n",
       " <span class=\"rest-row-meta--location rest-row-meta-text\">McDermottton</span>]"
      ]
     },
     "execution_count": 7,
     "metadata": {},
     "output_type": "execute_result"
    }
   ],
   "source": [
    "# first, see if you can identify the location for all elements -- print it out\n",
    "soup.find_all('span', {'class':'rest-row-meta--location rest-row-meta-text'})"
   ]
  },
  {
   "cell_type": "code",
   "execution_count": 17,
   "metadata": {},
   "outputs": [
    {
     "name": "stdout",
     "output_type": "stream",
     "text": [
      "Cristview\n",
      "Hermanshire\n",
      "Vernerville\n",
      "Lake Rosaliastad\n",
      "East Griffin\n",
      "Quinnshire\n",
      "Greggmouth\n",
      "Paxtonburgh\n",
      "Bahringerside\n",
      "West Jerald\n",
      "Lake Kennedi\n",
      "South Simeon\n",
      "Arielview\n",
      "Merlinville\n",
      "Port Clemens\n",
      "Faytown\n",
      "Port Wayneton\n",
      "West Agustin\n",
      "Port Erna\n",
      "Florineside\n",
      "North Janice\n",
      "North Sylvester\n",
      "West Abel\n",
      "Millsshire\n",
      "New Brendan\n",
      "Reillyport\n",
      "East Nelson\n",
      "Stantontown\n",
      "South Donato\n",
      "Janiyaton\n",
      "Bernadetteside\n",
      "New Mabelside\n",
      "South Clark\n",
      "Port Loyborough\n",
      "Malvinaville\n",
      "New Rodrick\n",
      "South Eldridgeborough\n",
      "Thadfort\n",
      "West Glendastad\n",
      "Cruickshankfurt\n",
      "Kaileyport\n",
      "West Janychester\n",
      "Satterfieldshire\n",
      "West Stephanie\n",
      "Port Olgaborough\n",
      "East Gabriellaton\n",
      "East Reannachester\n",
      "New Immanuel\n",
      "New Herbert\n",
      "East Maudie\n",
      "Toneychester\n",
      "Lake Aileenville\n",
      "Shemarview\n",
      "New Chynachester\n",
      "Stiedemannhaven\n",
      "Bernadineshire\n",
      "Port Gretchenchester\n",
      "Iantown\n",
      "Quintonberg\n",
      "North Joaquinshire\n",
      "Traceytown\n",
      "Stiedemannburgh\n",
      "West Jaylon\n",
      "West Patiencebury\n",
      "South Arloport\n",
      "South Giaview\n",
      "Port Ashton\n",
      "Lennaberg\n",
      "North Weldon\n",
      "Lake Quentin\n",
      "East Jessicafort\n",
      "Lake Julienport\n",
      "Westshire\n",
      "East Salvadorton\n",
      "Port Eunaville\n",
      "Lake Henderson\n",
      "Angelineborough\n",
      "Lake Chadrickland\n",
      "Lake Daphnebury\n",
      "Erichview\n",
      "Lake Zita\n",
      "West Eduardohaven\n",
      "Traceyfort\n",
      "Creminville\n",
      "Kalefort\n",
      "Zanderberg\n",
      "West Soniaborough\n",
      "Port Tatyana\n",
      "South Ludie\n",
      "North Harmonyshire\n",
      "Dachside\n",
      "Kamrontown\n",
      "Gerlachton\n",
      "North Shaylee\n",
      "South Wyattberg\n",
      "North Godfreystad\n",
      "Hanehaven\n",
      "Port Pearl\n",
      "Russelborough\n",
      "Jaydebury\n"
     ]
    }
   ],
   "source": [
    "# now print out EACH location for the restaurants\n",
    "for entry in soup.find_all('span', {'class':'rest-row-meta--location rest-row-meta-text'}):\n",
    "    print(entry.text)"
   ]
  },
  {
   "cell_type": "markdown",
   "metadata": {},
   "source": [
    "<a id=\"retrieving-prices\"></a>\n",
    "#### Retrieving the restaurant prices"
   ]
  },
  {
   "cell_type": "markdown",
   "metadata": {},
   "source": [
    "Ok, we've figured out the restaurant name and location. Now we need to grab the price (number of dollar signs on a scale of one to four) for each restaurant. We'll follow the same process."
   ]
  },
  {
   "cell_type": "code",
   "execution_count": 18,
   "metadata": {
    "scrolled": true
   },
   "outputs": [
    {
     "data": {
      "text/plain": [
       "[<div class=\"rest-row-pricing\"><i>  $    $    $    $  </i> </div>,\n",
       " <div class=\"rest-row-pricing\"><i>  $    $    $    </i>   $        </div>,\n",
       " <div class=\"rest-row-pricing\"><i>  $    $    $    $  </i> </div>,\n",
       " <div class=\"rest-row-pricing\"><i>  $    $      </i>   $    $      </div>,\n",
       " <div class=\"rest-row-pricing\"><i>  $    $    $    </i>   $        </div>,\n",
       " <div class=\"rest-row-pricing\"><i>  $    $    $    $  </i> </div>,\n",
       " <div class=\"rest-row-pricing\"><i>  $    $    $    </i>   $        </div>,\n",
       " <div class=\"rest-row-pricing\"><i>  $    $    $    $  </i> </div>,\n",
       " <div class=\"rest-row-pricing\"><i>  $    $      </i>   $    $      </div>,\n",
       " <div class=\"rest-row-pricing\"><i>  $    $      </i>   $    $      </div>,\n",
       " <div class=\"rest-row-pricing\"><i>  $    $    $    $  </i> </div>,\n",
       " <div class=\"rest-row-pricing\"><i>  $    $    $    $  </i> </div>,\n",
       " <div class=\"rest-row-pricing\"><i>  $    $    $    $  </i> </div>,\n",
       " <div class=\"rest-row-pricing\"><i>  $    $      </i>   $    $      </div>,\n",
       " <div class=\"rest-row-pricing\"><i>  $    $    $    $  </i> </div>,\n",
       " <div class=\"rest-row-pricing\"><i>  $    $      </i>   $    $      </div>,\n",
       " <div class=\"rest-row-pricing\"><i>  $    $    $    </i>   $        </div>,\n",
       " <div class=\"rest-row-pricing\"><i>  $    $      </i>   $    $      </div>,\n",
       " <div class=\"rest-row-pricing\"><i>  $    $    $    $  </i> </div>,\n",
       " <div class=\"rest-row-pricing\"><i>  $    $    $    $  </i> </div>,\n",
       " <div class=\"rest-row-pricing\"><i>  $    $    $    </i>   $        </div>,\n",
       " <div class=\"rest-row-pricing\"><i>  $    $      </i>   $    $      </div>,\n",
       " <div class=\"rest-row-pricing\"><i>  $    $    $    </i>   $        </div>,\n",
       " <div class=\"rest-row-pricing\"><i>  $    $    $    $  </i> </div>,\n",
       " <div class=\"rest-row-pricing\"><i>  $    $    $    </i>   $        </div>,\n",
       " <div class=\"rest-row-pricing\"><i>  $    $    $    </i>   $        </div>,\n",
       " <div class=\"rest-row-pricing\"><i>  $    $    $    </i>   $        </div>,\n",
       " <div class=\"rest-row-pricing\"><i>  $    $    $    </i>   $        </div>,\n",
       " <div class=\"rest-row-pricing\"><i>  $    $    $    </i>   $        </div>,\n",
       " <div class=\"rest-row-pricing\"><i>  $    $    $    $  </i> </div>,\n",
       " <div class=\"rest-row-pricing\"><i>  $    $    $    $  </i> </div>,\n",
       " <div class=\"rest-row-pricing\"><i>  $    $    $    $  </i> </div>,\n",
       " <div class=\"rest-row-pricing\"><i>  $    $      </i>   $    $      </div>,\n",
       " <div class=\"rest-row-pricing\"><i>  $    $      </i>   $    $      </div>,\n",
       " <div class=\"rest-row-pricing\"><i>  $    $    $    $  </i> </div>,\n",
       " <div class=\"rest-row-pricing\"><i>  $    $      </i>   $    $      </div>,\n",
       " <div class=\"rest-row-pricing\"><i>  $    $    $    $  </i> </div>,\n",
       " <div class=\"rest-row-pricing\"><i>  $    $    $    $  </i> </div>,\n",
       " <div class=\"rest-row-pricing\"><i>  $    $    $    </i>   $        </div>,\n",
       " <div class=\"rest-row-pricing\"><i>  $    $      </i>   $    $      </div>,\n",
       " <div class=\"rest-row-pricing\"><i>  $    $    $    </i>   $        </div>,\n",
       " <div class=\"rest-row-pricing\"><i>  $    $    $    $  </i> </div>,\n",
       " <div class=\"rest-row-pricing\"><i>  $    $    $    $  </i> </div>,\n",
       " <div class=\"rest-row-pricing\"><i>  $    $    $    $  </i> </div>,\n",
       " <div class=\"rest-row-pricing\"><i>  $    $      </i>   $    $      </div>,\n",
       " <div class=\"rest-row-pricing\"><i>  $    $      </i>   $    $      </div>,\n",
       " <div class=\"rest-row-pricing\"><i>  $    $      </i>   $    $      </div>,\n",
       " <div class=\"rest-row-pricing\"><i>  $    $    $    </i>   $        </div>,\n",
       " <div class=\"rest-row-pricing\"><i>  $    $      </i>   $    $      </div>,\n",
       " <div class=\"rest-row-pricing\"><i>  $    $      </i>   $    $      </div>,\n",
       " <div class=\"rest-row-pricing\"><i>  $    $      </i>   $    $      </div>,\n",
       " <div class=\"rest-row-pricing\"><i>  $    $      </i>   $    $      </div>,\n",
       " <div class=\"rest-row-pricing\"><i>  $    $    $    </i>   $        </div>,\n",
       " <div class=\"rest-row-pricing\"><i>  $    $      </i>   $    $      </div>,\n",
       " <div class=\"rest-row-pricing\"><i>  $    $    $    $  </i> </div>,\n",
       " <div class=\"rest-row-pricing\"><i>  $    $    $    </i>   $        </div>,\n",
       " <div class=\"rest-row-pricing\"><i>  $    $      </i>   $    $      </div>,\n",
       " <div class=\"rest-row-pricing\"><i>  $    $      </i>   $    $      </div>,\n",
       " <div class=\"rest-row-pricing\"><i>  $    $    $    $  </i> </div>,\n",
       " <div class=\"rest-row-pricing\"><i>  $    $      </i>   $    $      </div>,\n",
       " <div class=\"rest-row-pricing\"><i>  $    $      </i>   $    $      </div>,\n",
       " <div class=\"rest-row-pricing\"><i>  $    $    $    </i>   $        </div>,\n",
       " <div class=\"rest-row-pricing\"><i>  $    $    $    </i>   $        </div>,\n",
       " <div class=\"rest-row-pricing\"><i>  $    $      </i>   $    $      </div>,\n",
       " <div class=\"rest-row-pricing\"><i>  $    $    $    </i>   $        </div>,\n",
       " <div class=\"rest-row-pricing\"><i>  $    $    $    </i>   $        </div>,\n",
       " <div class=\"rest-row-pricing\"><i>  $    $      </i>   $    $      </div>,\n",
       " <div class=\"rest-row-pricing\"><i>  $    $    $    </i>   $        </div>,\n",
       " <div class=\"rest-row-pricing\"><i>  $    $      </i>   $    $      </div>,\n",
       " <div class=\"rest-row-pricing\"><i>  $    $    $    </i>   $        </div>,\n",
       " <div class=\"rest-row-pricing\"><i>  $    $    $    </i>   $        </div>,\n",
       " <div class=\"rest-row-pricing\"><i>  $    $    $    $  </i> </div>,\n",
       " <div class=\"rest-row-pricing\"><i>  $    $    $    </i>   $        </div>,\n",
       " <div class=\"rest-row-pricing\"><i>  $    $      </i>   $    $      </div>,\n",
       " <div class=\"rest-row-pricing\"><i>  $    $      </i>   $    $      </div>,\n",
       " <div class=\"rest-row-pricing\"><i>  $    $      </i>   $    $      </div>,\n",
       " <div class=\"rest-row-pricing\"><i>  $    $      </i>   $    $      </div>,\n",
       " <div class=\"rest-row-pricing\"><i>  $    $      </i>   $    $      </div>,\n",
       " <div class=\"rest-row-pricing\"><i>  $    $      </i>   $    $      </div>,\n",
       " <div class=\"rest-row-pricing\"><i>  $    $      </i>   $    $      </div>,\n",
       " <div class=\"rest-row-pricing\"><i>  $    $      </i>   $    $      </div>,\n",
       " <div class=\"rest-row-pricing\"><i>  $    $    $    </i>   $        </div>,\n",
       " <div class=\"rest-row-pricing\"><i>  $    $    $    $  </i> </div>,\n",
       " <div class=\"rest-row-pricing\"><i>  $    $    $    $  </i> </div>,\n",
       " <div class=\"rest-row-pricing\"><i>  $    $    $    $  </i> </div>,\n",
       " <div class=\"rest-row-pricing\"><i>  $    $    $    $  </i> </div>,\n",
       " <div class=\"rest-row-pricing\"><i>  $    $      </i>   $    $      </div>,\n",
       " <div class=\"rest-row-pricing\"><i>  $    $    $    </i>   $        </div>,\n",
       " <div class=\"rest-row-pricing\"><i>  $    $      </i>   $    $      </div>,\n",
       " <div class=\"rest-row-pricing\"><i>  $    $    $    </i>   $        </div>,\n",
       " <div class=\"rest-row-pricing\"><i>  $    $    $    </i>   $        </div>,\n",
       " <div class=\"rest-row-pricing\"><i>  $    $    $    $  </i> </div>,\n",
       " <div class=\"rest-row-pricing\"><i>  $    $      </i>   $    $      </div>,\n",
       " <div class=\"rest-row-pricing\"><i>  $    $    $    </i>   $        </div>,\n",
       " <div class=\"rest-row-pricing\"><i>  $    $    $    $  </i> </div>,\n",
       " <div class=\"rest-row-pricing\"><i>  $    $      </i>   $    $      </div>,\n",
       " <div class=\"rest-row-pricing\"><i>  $    $    $    $  </i> </div>,\n",
       " <div class=\"rest-row-pricing\"><i>  $    $      </i>   $    $      </div>,\n",
       " <div class=\"rest-row-pricing\"><i>  $    $      </i>   $    $      </div>,\n",
       " <div class=\"rest-row-pricing\"><i>  $    $    $    $  </i> </div>]"
      ]
     },
     "execution_count": 18,
     "metadata": {},
     "output_type": "execute_result"
    }
   ],
   "source": [
    "# print out all prices\n",
    "soup.find_all('div', {'class':'rest-row-pricing'})"
   ]
  },
  {
   "cell_type": "code",
   "execution_count": 19,
   "metadata": {},
   "outputs": [
    {
     "name": "stdout",
     "output_type": "stream",
     "text": [
      "  $    $    $    $  \n",
      "  $    $    $    \n",
      "  $    $    $    $  \n",
      "  $    $      \n",
      "  $    $    $    \n",
      "  $    $    $    $  \n",
      "  $    $    $    \n",
      "  $    $    $    $  \n",
      "  $    $      \n",
      "  $    $      \n",
      "  $    $    $    $  \n",
      "  $    $    $    $  \n",
      "  $    $    $    $  \n",
      "  $    $      \n",
      "  $    $    $    $  \n",
      "  $    $      \n",
      "  $    $    $    \n",
      "  $    $      \n",
      "  $    $    $    $  \n",
      "  $    $    $    $  \n",
      "  $    $    $    \n",
      "  $    $      \n",
      "  $    $    $    \n",
      "  $    $    $    $  \n",
      "  $    $    $    \n",
      "  $    $    $    \n",
      "  $    $    $    \n",
      "  $    $    $    \n",
      "  $    $    $    \n",
      "  $    $    $    $  \n",
      "  $    $    $    $  \n",
      "  $    $    $    $  \n",
      "  $    $      \n",
      "  $    $      \n",
      "  $    $    $    $  \n",
      "  $    $      \n",
      "  $    $    $    $  \n",
      "  $    $    $    $  \n",
      "  $    $    $    \n",
      "  $    $      \n",
      "  $    $    $    \n",
      "  $    $    $    $  \n",
      "  $    $    $    $  \n",
      "  $    $    $    $  \n",
      "  $    $      \n",
      "  $    $      \n",
      "  $    $      \n",
      "  $    $    $    \n",
      "  $    $      \n",
      "  $    $      \n",
      "  $    $      \n",
      "  $    $      \n",
      "  $    $    $    \n",
      "  $    $      \n",
      "  $    $    $    $  \n",
      "  $    $    $    \n",
      "  $    $      \n",
      "  $    $      \n",
      "  $    $    $    $  \n",
      "  $    $      \n",
      "  $    $      \n",
      "  $    $    $    \n",
      "  $    $    $    \n",
      "  $    $      \n",
      "  $    $    $    \n",
      "  $    $    $    \n",
      "  $    $      \n",
      "  $    $    $    \n",
      "  $    $      \n",
      "  $    $    $    \n",
      "  $    $    $    \n",
      "  $    $    $    $  \n",
      "  $    $    $    \n",
      "  $    $      \n",
      "  $    $      \n",
      "  $    $      \n",
      "  $    $      \n",
      "  $    $      \n",
      "  $    $      \n",
      "  $    $      \n",
      "  $    $      \n",
      "  $    $    $    \n",
      "  $    $    $    $  \n",
      "  $    $    $    $  \n",
      "  $    $    $    $  \n",
      "  $    $    $    $  \n",
      "  $    $      \n",
      "  $    $    $    \n",
      "  $    $      \n",
      "  $    $    $    \n",
      "  $    $    $    \n",
      "  $    $    $    $  \n",
      "  $    $      \n",
      "  $    $    $    \n",
      "  $    $    $    $  \n",
      "  $    $      \n",
      "  $    $    $    $  \n",
      "  $    $      \n",
      "  $    $      \n",
      "  $    $    $    $  \n"
     ]
    }
   ],
   "source": [
    "# print out EACH number of dollar signs per restaurant\n",
    "# this one is trickier to eliminate the html. Hint: try a nested find\n",
    "for entry in soup.find_all('div', {'class':'rest-row-pricing'}):\n",
    "    print(entry.find('i').text)"
   ]
  },
  {
   "cell_type": "markdown",
   "metadata": {},
   "source": [
    "That looks great, but what if I wanted just the number of dollar signs per restaurant? Can you figure out a way to simply print out the number of dollar signs per restaurant listed?"
   ]
  },
  {
   "cell_type": "code",
   "execution_count": 23,
   "metadata": {},
   "outputs": [
    {
     "name": "stdout",
     "output_type": "stream",
     "text": [
      "4\n",
      "3\n",
      "4\n",
      "2\n",
      "3\n",
      "4\n",
      "3\n",
      "4\n",
      "2\n",
      "2\n",
      "4\n",
      "4\n",
      "4\n",
      "2\n",
      "4\n",
      "2\n",
      "3\n",
      "2\n",
      "4\n",
      "4\n",
      "3\n",
      "2\n",
      "3\n",
      "4\n",
      "3\n",
      "3\n",
      "3\n",
      "3\n",
      "3\n",
      "4\n",
      "4\n",
      "4\n",
      "2\n",
      "2\n",
      "4\n",
      "2\n",
      "4\n",
      "4\n",
      "3\n",
      "2\n",
      "3\n",
      "4\n",
      "4\n",
      "4\n",
      "2\n",
      "2\n",
      "2\n",
      "3\n",
      "2\n",
      "2\n",
      "2\n",
      "2\n",
      "3\n",
      "2\n",
      "4\n",
      "3\n",
      "2\n",
      "2\n",
      "4\n",
      "2\n",
      "2\n",
      "3\n",
      "3\n",
      "2\n",
      "3\n",
      "3\n",
      "2\n",
      "3\n",
      "2\n",
      "3\n",
      "3\n",
      "4\n",
      "3\n",
      "2\n",
      "2\n",
      "2\n",
      "2\n",
      "2\n",
      "2\n",
      "2\n",
      "2\n",
      "3\n",
      "4\n",
      "4\n",
      "4\n",
      "4\n",
      "2\n",
      "3\n",
      "2\n",
      "3\n",
      "3\n",
      "4\n",
      "2\n",
      "3\n",
      "4\n",
      "2\n",
      "4\n",
      "2\n",
      "2\n",
      "4\n"
     ]
    }
   ],
   "source": [
    "# print the number of dollars signs per restaurant\n",
    "for entry in soup.find_all('div', {'class':'rest-row-pricing'}):\n",
    "    price = entry.find('i').text\n",
    "    print(price.count('$'))"
   ]
  },
  {
   "cell_type": "markdown",
   "metadata": {},
   "source": [
    "Phew, nice work. \n",
    "\n",
    "<a id=\"retrieving-bookings\"></a>\n",
    "#### Retrieving the restaurant number of bookings\n",
    "\n",
    "One more, right? We only need to find the number times a restaurant was booked. In the next cell, print out all objects that contain the number of times the restaurant was booked."
   ]
  },
  {
   "cell_type": "code",
   "execution_count": 24,
   "metadata": {},
   "outputs": [
    {
     "data": {
      "text/plain": [
       "[]"
      ]
     },
     "execution_count": 24,
     "metadata": {},
     "output_type": "execute_result"
    }
   ],
   "source": [
    "# print out all objects that contain the number of times the restaurant was booked\n",
    "soup.find_all('div', {'class':'booking'})"
   ]
  },
  {
   "cell_type": "markdown",
   "metadata": {},
   "source": [
    "That's weird -- an empty set. Did we find the wrong element? What's going on here? Discuss.\n",
    "\n",
    "How can we debug this? Any ideas?"
   ]
  },
  {
   "cell_type": "code",
   "execution_count": 8,
   "metadata": {},
   "outputs": [
    {
     "ename": "SyntaxError",
     "evalue": "Missing parentheses in call to 'print'. Did you mean print(int entry)? (<ipython-input-8-3bac4862800f>, line 6)",
     "output_type": "error",
     "traceback": [
      "\u001b[0;36m  File \u001b[0;32m\"<ipython-input-8-3bac4862800f>\"\u001b[0;36m, line \u001b[0;32m6\u001b[0m\n\u001b[0;31m    print entry\u001b[0m\n\u001b[0m              ^\u001b[0m\n\u001b[0;31mSyntaxError\u001b[0m\u001b[0;31m:\u001b[0m Missing parentheses in call to 'print'. Did you mean print(int entry)?\n"
     ]
    }
   ],
   "source": [
    "# let's first try printing out all 'div' objects\n",
    "#  NOTE: This is a too many objects to store in this notebook!\n",
    "#        So, uncomment the code below to run it.\n",
    "\n",
    "for entry in soup.find_all('div')[:50]:\n",
    "    print(entry"
   ]
  },
  {
   "cell_type": "markdown",
   "metadata": {},
   "source": [
    "I still don't see it. Let's search our entire soup object:"
   ]
  },
  {
   "cell_type": "code",
   "execution_count": 31,
   "metadata": {
    "collapsed": true
   },
   "outputs": [],
   "source": [
    "# print out soup, do command+f for \"booked \". \n",
    "#   Uncomment the below to run.\n",
    "\n",
    "# soup"
   ]
  },
  {
   "cell_type": "markdown",
   "metadata": {},
   "source": [
    "What do you notice? Why is this happening?"
   ]
  },
  {
   "cell_type": "markdown",
   "metadata": {},
   "source": [
    "<a id=\"selenium\"></a>\n",
    "## Introducing Selenium\n",
    "\n",
    "Selenium is a headless browser. It allows us to render JavaScript just as a human-navigated browser would.\n",
    "\n",
    "To install Selenium, use one of the following:\n",
    "- **Anaconda:** `conda install -c conda-forge selenium`\n",
    "- **pip:** `pip install selenium`\n",
    "\n",
    "You will also need GeckoDriver (this assumes you are using Homebrew for Mac): \n",
    "\n",
    "- ```brew install geckodriver```\n",
    "\n",
    "Additionally, you will need to have downloaded the [Firefox browser](https://www.mozilla.org/en-US/firefox/new/?utm_source=google&utm_medium=cpc&utm_campaign=Firefox-Brand-US-GGL-Exact&utm_term=firefox&utm_content=A144_A203_A006336&gclid=Cj0KEQjwnPLKBRC-j7nt1b7OlZwBEiQAv8lMLJUyReT6cPzSYdmEA6uD3YDoieuuuusddgAU7XH6smEaAoje8P8HAQ&gclsrc=aw.ds) for the application in this lesson."
   ]
  },
  {
   "cell_type": "code",
   "execution_count": 9,
   "metadata": {},
   "outputs": [],
   "source": [
    "# import\n",
    "from selenium import webdriver"
   ]
  },
  {
   "cell_type": "markdown",
   "metadata": {},
   "source": [
    "Selenium requires us to determine a default browser to run. I'm going to opt for Firefox, but Chromium is also a very common choice. http://selenium-python.readthedocs.io/faq.html"
   ]
  },
  {
   "cell_type": "code",
   "execution_count": 35,
   "metadata": {
    "collapsed": true
   },
   "outputs": [],
   "source": [
    "# STOP\n",
    "# what is going to happen when I run the next cell?"
   ]
  },
  {
   "cell_type": "code",
   "execution_count": 38,
   "metadata": {
    "collapsed": true
   },
   "outputs": [],
   "source": [
    "# create a driver called Firefox\n",
    "driver = webdriver.Firefox()"
   ]
  },
  {
   "cell_type": "markdown",
   "metadata": {},
   "source": [
    "Pretty crazy, right? Let's close that driver."
   ]
  },
  {
   "cell_type": "code",
   "execution_count": 39,
   "metadata": {
    "collapsed": true
   },
   "outputs": [],
   "source": [
    "# close it\n",
    "driver.close()"
   ]
  },
  {
   "cell_type": "code",
   "execution_count": 40,
   "metadata": {
    "collapsed": true
   },
   "outputs": [],
   "source": [
    "# let's boot it up, and visit a URL of our choice\n",
    "driver = webdriver.Firefox()\n",
    "driver.get(\"http://www.python.org\")"
   ]
  },
  {
   "cell_type": "markdown",
   "metadata": {},
   "source": [
    "Awesome. Now we're getting somewhere: programmatically controlling our browser like a human."
   ]
  },
  {
   "cell_type": "markdown",
   "metadata": {},
   "source": [
    "Let's return to our problem at hand. We need to visit the OpenTable listing for DC. Once there, we need to get the html to load. In the next cell, prove you can programmatically visit the page."
   ]
  },
  {
   "cell_type": "code",
   "execution_count": 41,
   "metadata": {
    "collapsed": true
   },
   "outputs": [],
   "source": [
    "# visit our OpenTable page\n",
    "driver = webdriver.Firefox()\n",
    "driver.get(\"http://www.opentable.com/washington-dc-restaurant-listings\")\n",
    "\n",
    "# always good to check we've got the page we think we do\n",
    "assert \"OpenTable\" in driver.title"
   ]
  },
  {
   "cell_type": "code",
   "execution_count": 42,
   "metadata": {},
   "outputs": [
    {
     "data": {
      "text/plain": [
       "u'Washington, D.C. Area Restaurants List | OpenTable'"
      ]
     },
     "execution_count": 42,
     "metadata": {},
     "output_type": "execute_result"
    }
   ],
   "source": [
    "driver.title"
   ]
  },
  {
   "cell_type": "code",
   "execution_count": 43,
   "metadata": {
    "collapsed": true
   },
   "outputs": [],
   "source": [
    "driver.close()"
   ]
  },
  {
   "cell_type": "markdown",
   "metadata": {},
   "source": [
    "<a id=\"selenium-js\"></a>\n",
    "### Running JavaScript before scraping\n",
    "\n",
    "Now, to resolve our JavaScript problem, there's a few things we can do. What I'll do in this case is request that the page load, wait one second, and then I'm going to grab the source html from the page. Because the page should believe I'm visiting from a live connection on a browser client, the JavaScript should render to be a part of the page source. I can then grab the page source."
   ]
  },
  {
   "cell_type": "code",
   "execution_count": 28,
   "metadata": {
    "collapsed": true
   },
   "outputs": [],
   "source": [
    "# import sleep\n",
    "from time import sleep"
   ]
  },
  {
   "cell_type": "code",
   "execution_count": 29,
   "metadata": {},
   "outputs": [],
   "source": [
    "# visit our relevant page\n",
    "driver = webdriver.Firefox()\n",
    "driver.get(\"http://www.opentable.com/washington-dc-restaurant-listings\")\n",
    "\n",
    "# wait one second\n",
    "sleep(1)\n",
    "\n",
    "#grab the page source\n",
    "html = driver.page_source"
   ]
  },
  {
   "cell_type": "markdown",
   "metadata": {},
   "source": [
    "**Pop Quiz:** What do we need to do with this HTML?"
   ]
  },
  {
   "cell_type": "code",
   "execution_count": 30,
   "metadata": {
    "collapsed": true
   },
   "outputs": [],
   "source": [
    "# BeautifulSoup it!\n",
    "html = BeautifulSoup(html, \"lxml\")"
   ]
  },
  {
   "cell_type": "markdown",
   "metadata": {},
   "source": [
    "Now, let's return to our earlier problem: How do we locate bookings on the page?"
   ]
  },
  {
   "cell_type": "code",
   "execution_count": 31,
   "metadata": {},
   "outputs": [
    {
     "data": {
      "text/plain": [
       "[<div class=\"booking\"><span class=\"tadpole\"></span>Booked 423 times today</div>,\n",
       " <div class=\"booking\"><span class=\"tadpole\"></span>Booked 259 times today</div>,\n",
       " <div class=\"booking\"><span class=\"tadpole\"></span>Booked 208 times today</div>,\n",
       " <div class=\"booking\"><span class=\"tadpole\"></span>Booked 247 times today</div>,\n",
       " <div class=\"booking\"><span class=\"tadpole\"></span>Booked 101 times today</div>,\n",
       " <div class=\"booking\"><span class=\"tadpole\"></span>Booked 73 times today</div>,\n",
       " <div class=\"booking\"><span class=\"tadpole\"></span>Booked 80 times today</div>,\n",
       " <div class=\"booking\"><span class=\"tadpole\"></span>Booked 112 times today</div>,\n",
       " <div class=\"booking\"><span class=\"tadpole\"></span>Booked 43 times today</div>,\n",
       " <div class=\"booking\"><span class=\"tadpole\"></span>Booked 31 times today</div>,\n",
       " <div class=\"booking\"><span class=\"tadpole\"></span>Booked 49 times today</div>,\n",
       " <div class=\"booking\"><span class=\"tadpole\"></span>Booked 43 times today</div>,\n",
       " <div class=\"booking\"><span class=\"tadpole\"></span>Booked 42 times today</div>,\n",
       " <div class=\"booking\"><span class=\"tadpole\"></span>Booked 59 times today</div>,\n",
       " <div class=\"booking\"><span class=\"tadpole\"></span>Booked 26 times today</div>,\n",
       " <div class=\"booking\"><span class=\"tadpole\"></span>Booked 67 times today</div>,\n",
       " <div class=\"booking\"><span class=\"tadpole\"></span>Booked 52 times today</div>,\n",
       " <div class=\"booking\"><span class=\"tadpole\"></span>Booked 55 times today</div>,\n",
       " <div class=\"booking\"><span class=\"tadpole\"></span>Booked 62 times today</div>,\n",
       " <div class=\"booking\"><span class=\"tadpole\"></span>Booked 47 times today</div>,\n",
       " <div class=\"booking\"><span class=\"tadpole\"></span>Booked 60 times today</div>,\n",
       " <div class=\"booking\"><span class=\"tadpole\"></span>Booked 50 times today</div>,\n",
       " <div class=\"booking\"><span class=\"tadpole\"></span>Booked 47 times today</div>,\n",
       " <div class=\"booking\"><span class=\"tadpole\"></span>Booked 42 times today</div>,\n",
       " <div class=\"booking\"><span class=\"tadpole\"></span>Booked 32 times today</div>,\n",
       " <div class=\"booking\"><span class=\"tadpole\"></span>Booked 34 times today</div>,\n",
       " <div class=\"booking\"><span class=\"tadpole\"></span>Booked 46 times today</div>,\n",
       " <div class=\"booking\"><span class=\"tadpole\"></span>Booked 52 times today</div>,\n",
       " <div class=\"booking\"><span class=\"tadpole\"></span>Booked 11 times today</div>,\n",
       " <div class=\"booking\"><span class=\"tadpole\"></span>Booked 12 times today</div>,\n",
       " <div class=\"booking\"><span class=\"tadpole\"></span>Booked 20 times today</div>,\n",
       " <div class=\"booking\"><span class=\"tadpole\"></span>Booked 15 times today</div>,\n",
       " <div class=\"booking\"><span class=\"tadpole\"></span>Booked 26 times today</div>,\n",
       " <div class=\"booking\"><span class=\"tadpole\"></span>Booked 19 times today</div>,\n",
       " <div class=\"booking\"><span class=\"tadpole\"></span>Booked 28 times today</div>,\n",
       " <div class=\"booking\"><span class=\"tadpole\"></span>Booked 40 times today</div>,\n",
       " <div class=\"booking\"><span class=\"tadpole\"></span>Booked 11 times today</div>,\n",
       " <div class=\"booking\"><span class=\"tadpole\"></span>Booked 49 times today</div>,\n",
       " <div class=\"booking\"><span class=\"tadpole\"></span>Booked 21 times today</div>,\n",
       " <div class=\"booking\"><span class=\"tadpole\"></span>Booked 26 times today</div>,\n",
       " <div class=\"booking\"><span class=\"tadpole\"></span>Booked 27 times today</div>,\n",
       " <div class=\"booking\"><span class=\"tadpole\"></span>Booked 13 times today</div>,\n",
       " <div class=\"booking\"><span class=\"tadpole\"></span>Booked 28 times today</div>,\n",
       " <div class=\"booking\"><span class=\"tadpole\"></span>Booked 40 times today</div>,\n",
       " <div class=\"booking\"><span class=\"tadpole\"></span>Booked 38 times today</div>,\n",
       " <div class=\"booking\"><span class=\"tadpole\"></span>Booked 27 times today</div>,\n",
       " <div class=\"booking\"><span class=\"tadpole\"></span>Booked 14 times today</div>,\n",
       " <div class=\"booking\"><span class=\"tadpole\"></span>Booked 16 times today</div>,\n",
       " <div class=\"booking\"><span class=\"tadpole\"></span>Booked 18 times today</div>,\n",
       " <div class=\"booking\"><span class=\"tadpole\"></span>Booked 15 times today</div>,\n",
       " <div class=\"booking\"><span class=\"tadpole\"></span>Booked 52 times today</div>,\n",
       " <div class=\"booking\"><span class=\"tadpole\"></span>Booked 49 times today</div>,\n",
       " <div class=\"booking\"><span class=\"tadpole\"></span>Booked 54 times today</div>,\n",
       " <div class=\"booking\"><span class=\"tadpole\"></span>Booked 13 times today</div>,\n",
       " <div class=\"booking\"><span class=\"tadpole\"></span>Booked 26 times today</div>,\n",
       " <div class=\"booking\"><span class=\"tadpole\"></span>Booked 1 times today</div>,\n",
       " <div class=\"booking\"><span class=\"tadpole\"></span>Booked 12 times today</div>,\n",
       " <div class=\"booking\"><span class=\"tadpole\"></span>Booked 35 times today</div>,\n",
       " <div class=\"booking\"><span class=\"tadpole\"></span>Booked 19 times today</div>,\n",
       " <div class=\"booking\"><span class=\"tadpole\"></span>Booked 24 times today</div>,\n",
       " <div class=\"booking\"><span class=\"tadpole\"></span>Booked 43 times today</div>,\n",
       " <div class=\"booking\"><span class=\"tadpole\"></span>Booked 13 times today</div>,\n",
       " <div class=\"booking\"><span class=\"tadpole\"></span>Booked 14 times today</div>,\n",
       " <div class=\"booking\"><span class=\"tadpole\"></span>Booked 23 times today</div>,\n",
       " <div class=\"booking\"><span class=\"tadpole\"></span>Booked 50 times today</div>,\n",
       " <div class=\"booking\"><span class=\"tadpole\"></span>Booked 19 times today</div>,\n",
       " <div class=\"booking\"><span class=\"tadpole\"></span>Booked 20 times today</div>,\n",
       " <div class=\"booking\"><span class=\"tadpole\"></span>Booked 18 times today</div>,\n",
       " <div class=\"booking\"><span class=\"tadpole\"></span>Booked 18 times today</div>,\n",
       " <div class=\"booking\"><span class=\"tadpole\"></span>Booked 25 times today</div>,\n",
       " <div class=\"booking\"><span class=\"tadpole\"></span>Booked 9 times today</div>,\n",
       " <div class=\"booking\"><span class=\"tadpole\"></span>Booked 27 times today</div>,\n",
       " <div class=\"booking\"><span class=\"tadpole\"></span>Booked 17 times today</div>,\n",
       " <div class=\"booking\"><span class=\"tadpole\"></span>Booked 20 times today</div>,\n",
       " <div class=\"booking\"><span class=\"tadpole\"></span>Booked 7 times today</div>,\n",
       " <div class=\"booking\"><span class=\"tadpole\"></span>Booked 9 times today</div>,\n",
       " <div class=\"booking\"><span class=\"tadpole\"></span>Booked 52 times today</div>,\n",
       " <div class=\"booking\"><span class=\"tadpole\"></span>Booked 23 times today</div>,\n",
       " <div class=\"booking\"><span class=\"tadpole\"></span>Booked 5 times today</div>,\n",
       " <div class=\"booking\"><span class=\"tadpole\"></span>Booked 23 times today</div>,\n",
       " <div class=\"booking\"><span class=\"tadpole\"></span>Booked 30 times today</div>,\n",
       " <div class=\"booking\"><span class=\"tadpole\"></span>Booked 19 times today</div>,\n",
       " <div class=\"booking\"><span class=\"tadpole\"></span>Booked 14 times today</div>,\n",
       " <div class=\"booking\"><span class=\"tadpole\"></span>Booked 99 times today</div>,\n",
       " <div class=\"booking\"><span class=\"tadpole\"></span>Booked 19 times today</div>,\n",
       " <div class=\"booking\"><span class=\"tadpole\"></span>Booked 12 times today</div>,\n",
       " <div class=\"booking\"><span class=\"tadpole\"></span>Booked 14 times today</div>,\n",
       " <div class=\"booking\"><span class=\"tadpole\"></span>Booked 2 times today</div>,\n",
       " <div class=\"booking\"><span class=\"tadpole\"></span>Booked 8 times today</div>,\n",
       " <div class=\"booking\"><span class=\"tadpole\"></span>Booked 18 times today</div>,\n",
       " <div class=\"booking\"><span class=\"tadpole\"></span>Booked 4 times today</div>,\n",
       " <div class=\"booking\"><span class=\"tadpole\"></span>Booked 7 times today</div>,\n",
       " <div class=\"booking\"><span class=\"tadpole\"></span>Booked 6 times today</div>,\n",
       " <div class=\"booking\"><span class=\"tadpole\"></span>Booked 11 times today</div>,\n",
       " <div class=\"booking\"><span class=\"tadpole\"></span>Booked 8 times today</div>,\n",
       " <div class=\"booking\"><span class=\"tadpole\"></span>Booked 25 times today</div>,\n",
       " <div class=\"booking\"><span class=\"tadpole\"></span>Booked 7 times today</div>,\n",
       " <div class=\"booking\"><span class=\"tadpole\"></span>Booked 6 times today</div>]"
      ]
     },
     "execution_count": 31,
     "metadata": {},
     "output_type": "execute_result"
    }
   ],
   "source": [
    "# print out the number bookings for all restaurants\n",
    "html.find_all('div', {'class':'booking'})"
   ]
  },
  {
   "cell_type": "code",
   "execution_count": 32,
   "metadata": {
    "scrolled": true
   },
   "outputs": [
    {
     "name": "stdout",
     "output_type": "stream",
     "text": [
      "<div class=\"booking\"><span class=\"tadpole\"></span>Booked 423 times today</div>\n",
      "<div class=\"booking\"><span class=\"tadpole\"></span>Booked 259 times today</div>\n",
      "<div class=\"booking\"><span class=\"tadpole\"></span>Booked 208 times today</div>\n",
      "<div class=\"booking\"><span class=\"tadpole\"></span>Booked 247 times today</div>\n",
      "<div class=\"booking\"><span class=\"tadpole\"></span>Booked 101 times today</div>\n",
      "<div class=\"booking\"><span class=\"tadpole\"></span>Booked 73 times today</div>\n",
      "<div class=\"booking\"><span class=\"tadpole\"></span>Booked 80 times today</div>\n",
      "<div class=\"booking\"><span class=\"tadpole\"></span>Booked 112 times today</div>\n",
      "<div class=\"booking\"><span class=\"tadpole\"></span>Booked 43 times today</div>\n",
      "<div class=\"booking\"><span class=\"tadpole\"></span>Booked 31 times today</div>\n",
      "<div class=\"booking\"><span class=\"tadpole\"></span>Booked 49 times today</div>\n",
      "<div class=\"booking\"><span class=\"tadpole\"></span>Booked 43 times today</div>\n",
      "<div class=\"booking\"><span class=\"tadpole\"></span>Booked 42 times today</div>\n",
      "<div class=\"booking\"><span class=\"tadpole\"></span>Booked 59 times today</div>\n",
      "<div class=\"booking\"><span class=\"tadpole\"></span>Booked 26 times today</div>\n",
      "<div class=\"booking\"><span class=\"tadpole\"></span>Booked 67 times today</div>\n",
      "<div class=\"booking\"><span class=\"tadpole\"></span>Booked 52 times today</div>\n",
      "<div class=\"booking\"><span class=\"tadpole\"></span>Booked 55 times today</div>\n",
      "<div class=\"booking\"><span class=\"tadpole\"></span>Booked 62 times today</div>\n",
      "<div class=\"booking\"><span class=\"tadpole\"></span>Booked 47 times today</div>\n",
      "<div class=\"booking\"><span class=\"tadpole\"></span>Booked 60 times today</div>\n",
      "<div class=\"booking\"><span class=\"tadpole\"></span>Booked 50 times today</div>\n",
      "<div class=\"booking\"><span class=\"tadpole\"></span>Booked 47 times today</div>\n",
      "<div class=\"booking\"><span class=\"tadpole\"></span>Booked 42 times today</div>\n",
      "<div class=\"booking\"><span class=\"tadpole\"></span>Booked 32 times today</div>\n",
      "<div class=\"booking\"><span class=\"tadpole\"></span>Booked 34 times today</div>\n",
      "<div class=\"booking\"><span class=\"tadpole\"></span>Booked 46 times today</div>\n",
      "<div class=\"booking\"><span class=\"tadpole\"></span>Booked 52 times today</div>\n",
      "<div class=\"booking\"><span class=\"tadpole\"></span>Booked 11 times today</div>\n",
      "<div class=\"booking\"><span class=\"tadpole\"></span>Booked 12 times today</div>\n",
      "<div class=\"booking\"><span class=\"tadpole\"></span>Booked 20 times today</div>\n",
      "<div class=\"booking\"><span class=\"tadpole\"></span>Booked 15 times today</div>\n",
      "<div class=\"booking\"><span class=\"tadpole\"></span>Booked 26 times today</div>\n",
      "<div class=\"booking\"><span class=\"tadpole\"></span>Booked 19 times today</div>\n",
      "<div class=\"booking\"><span class=\"tadpole\"></span>Booked 28 times today</div>\n",
      "<div class=\"booking\"><span class=\"tadpole\"></span>Booked 40 times today</div>\n",
      "<div class=\"booking\"><span class=\"tadpole\"></span>Booked 11 times today</div>\n",
      "<div class=\"booking\"><span class=\"tadpole\"></span>Booked 49 times today</div>\n",
      "<div class=\"booking\"><span class=\"tadpole\"></span>Booked 21 times today</div>\n",
      "<div class=\"booking\"><span class=\"tadpole\"></span>Booked 26 times today</div>\n",
      "<div class=\"booking\"><span class=\"tadpole\"></span>Booked 27 times today</div>\n",
      "<div class=\"booking\"><span class=\"tadpole\"></span>Booked 13 times today</div>\n",
      "<div class=\"booking\"><span class=\"tadpole\"></span>Booked 28 times today</div>\n",
      "<div class=\"booking\"><span class=\"tadpole\"></span>Booked 40 times today</div>\n",
      "<div class=\"booking\"><span class=\"tadpole\"></span>Booked 38 times today</div>\n",
      "<div class=\"booking\"><span class=\"tadpole\"></span>Booked 27 times today</div>\n",
      "<div class=\"booking\"><span class=\"tadpole\"></span>Booked 14 times today</div>\n",
      "<div class=\"booking\"><span class=\"tadpole\"></span>Booked 16 times today</div>\n",
      "<div class=\"booking\"><span class=\"tadpole\"></span>Booked 18 times today</div>\n",
      "<div class=\"booking\"><span class=\"tadpole\"></span>Booked 15 times today</div>\n",
      "<div class=\"booking\"><span class=\"tadpole\"></span>Booked 52 times today</div>\n",
      "<div class=\"booking\"><span class=\"tadpole\"></span>Booked 49 times today</div>\n",
      "<div class=\"booking\"><span class=\"tadpole\"></span>Booked 54 times today</div>\n",
      "<div class=\"booking\"><span class=\"tadpole\"></span>Booked 13 times today</div>\n",
      "<div class=\"booking\"><span class=\"tadpole\"></span>Booked 26 times today</div>\n",
      "<div class=\"booking\"><span class=\"tadpole\"></span>Booked 1 times today</div>\n",
      "<div class=\"booking\"><span class=\"tadpole\"></span>Booked 12 times today</div>\n",
      "<div class=\"booking\"><span class=\"tadpole\"></span>Booked 35 times today</div>\n",
      "<div class=\"booking\"><span class=\"tadpole\"></span>Booked 19 times today</div>\n",
      "<div class=\"booking\"><span class=\"tadpole\"></span>Booked 24 times today</div>\n",
      "<div class=\"booking\"><span class=\"tadpole\"></span>Booked 43 times today</div>\n",
      "<div class=\"booking\"><span class=\"tadpole\"></span>Booked 13 times today</div>\n",
      "<div class=\"booking\"><span class=\"tadpole\"></span>Booked 14 times today</div>\n",
      "<div class=\"booking\"><span class=\"tadpole\"></span>Booked 23 times today</div>\n",
      "<div class=\"booking\"><span class=\"tadpole\"></span>Booked 50 times today</div>\n",
      "<div class=\"booking\"><span class=\"tadpole\"></span>Booked 19 times today</div>\n",
      "<div class=\"booking\"><span class=\"tadpole\"></span>Booked 20 times today</div>\n",
      "<div class=\"booking\"><span class=\"tadpole\"></span>Booked 18 times today</div>\n",
      "<div class=\"booking\"><span class=\"tadpole\"></span>Booked 18 times today</div>\n",
      "<div class=\"booking\"><span class=\"tadpole\"></span>Booked 25 times today</div>\n",
      "<div class=\"booking\"><span class=\"tadpole\"></span>Booked 9 times today</div>\n",
      "<div class=\"booking\"><span class=\"tadpole\"></span>Booked 27 times today</div>\n",
      "<div class=\"booking\"><span class=\"tadpole\"></span>Booked 17 times today</div>\n",
      "<div class=\"booking\"><span class=\"tadpole\"></span>Booked 20 times today</div>\n",
      "<div class=\"booking\"><span class=\"tadpole\"></span>Booked 7 times today</div>\n",
      "<div class=\"booking\"><span class=\"tadpole\"></span>Booked 9 times today</div>\n",
      "<div class=\"booking\"><span class=\"tadpole\"></span>Booked 52 times today</div>\n",
      "<div class=\"booking\"><span class=\"tadpole\"></span>Booked 23 times today</div>\n",
      "<div class=\"booking\"><span class=\"tadpole\"></span>Booked 5 times today</div>\n",
      "<div class=\"booking\"><span class=\"tadpole\"></span>Booked 23 times today</div>\n",
      "<div class=\"booking\"><span class=\"tadpole\"></span>Booked 30 times today</div>\n",
      "<div class=\"booking\"><span class=\"tadpole\"></span>Booked 19 times today</div>\n",
      "<div class=\"booking\"><span class=\"tadpole\"></span>Booked 14 times today</div>\n",
      "<div class=\"booking\"><span class=\"tadpole\"></span>Booked 99 times today</div>\n",
      "<div class=\"booking\"><span class=\"tadpole\"></span>Booked 19 times today</div>\n",
      "<div class=\"booking\"><span class=\"tadpole\"></span>Booked 12 times today</div>\n",
      "<div class=\"booking\"><span class=\"tadpole\"></span>Booked 14 times today</div>\n",
      "<div class=\"booking\"><span class=\"tadpole\"></span>Booked 2 times today</div>\n",
      "<div class=\"booking\"><span class=\"tadpole\"></span>Booked 8 times today</div>\n",
      "<div class=\"booking\"><span class=\"tadpole\"></span>Booked 18 times today</div>\n",
      "<div class=\"booking\"><span class=\"tadpole\"></span>Booked 4 times today</div>\n",
      "<div class=\"booking\"><span class=\"tadpole\"></span>Booked 7 times today</div>\n",
      "<div class=\"booking\"><span class=\"tadpole\"></span>Booked 6 times today</div>\n",
      "<div class=\"booking\"><span class=\"tadpole\"></span>Booked 11 times today</div>\n",
      "<div class=\"booking\"><span class=\"tadpole\"></span>Booked 8 times today</div>\n",
      "<div class=\"booking\"><span class=\"tadpole\"></span>Booked 25 times today</div>\n",
      "<div class=\"booking\"><span class=\"tadpole\"></span>Booked 7 times today</div>\n",
      "<div class=\"booking\"><span class=\"tadpole\"></span>Booked 6 times today</div>\n"
     ]
    }
   ],
   "source": [
    "# now print out each booking for the listings using a loop\n",
    "for entry in html.find_all('div', {'class':'booking'}):\n",
    "    print(entry)"
   ]
  },
  {
   "cell_type": "markdown",
   "metadata": {},
   "source": [
    "Let's grab just the text of each of these entries."
   ]
  },
  {
   "cell_type": "code",
   "execution_count": 33,
   "metadata": {},
   "outputs": [
    {
     "name": "stdout",
     "output_type": "stream",
     "text": [
      "Booked 423 times today\n",
      "Booked 259 times today\n",
      "Booked 208 times today\n",
      "Booked 247 times today\n",
      "Booked 101 times today\n",
      "Booked 73 times today\n",
      "Booked 80 times today\n",
      "Booked 112 times today\n",
      "Booked 43 times today\n",
      "Booked 31 times today\n",
      "Booked 49 times today\n",
      "Booked 43 times today\n",
      "Booked 42 times today\n",
      "Booked 59 times today\n",
      "Booked 26 times today\n",
      "Booked 67 times today\n",
      "Booked 52 times today\n",
      "Booked 55 times today\n",
      "Booked 62 times today\n",
      "Booked 47 times today\n",
      "Booked 60 times today\n",
      "Booked 50 times today\n",
      "Booked 47 times today\n",
      "Booked 42 times today\n",
      "Booked 32 times today\n",
      "Booked 34 times today\n",
      "Booked 46 times today\n",
      "Booked 52 times today\n",
      "Booked 11 times today\n",
      "Booked 12 times today\n",
      "Booked 20 times today\n",
      "Booked 15 times today\n",
      "Booked 26 times today\n",
      "Booked 19 times today\n",
      "Booked 28 times today\n",
      "Booked 40 times today\n",
      "Booked 11 times today\n",
      "Booked 49 times today\n",
      "Booked 21 times today\n",
      "Booked 26 times today\n",
      "Booked 27 times today\n",
      "Booked 13 times today\n",
      "Booked 28 times today\n",
      "Booked 40 times today\n",
      "Booked 38 times today\n",
      "Booked 27 times today\n",
      "Booked 14 times today\n",
      "Booked 16 times today\n",
      "Booked 18 times today\n",
      "Booked 15 times today\n",
      "Booked 52 times today\n",
      "Booked 49 times today\n",
      "Booked 54 times today\n",
      "Booked 13 times today\n",
      "Booked 26 times today\n",
      "Booked 1 times today\n",
      "Booked 12 times today\n",
      "Booked 35 times today\n",
      "Booked 19 times today\n",
      "Booked 24 times today\n",
      "Booked 43 times today\n",
      "Booked 13 times today\n",
      "Booked 14 times today\n",
      "Booked 23 times today\n",
      "Booked 50 times today\n",
      "Booked 19 times today\n",
      "Booked 20 times today\n",
      "Booked 18 times today\n",
      "Booked 18 times today\n",
      "Booked 25 times today\n",
      "Booked 9 times today\n",
      "Booked 27 times today\n",
      "Booked 17 times today\n",
      "Booked 20 times today\n",
      "Booked 7 times today\n",
      "Booked 9 times today\n",
      "Booked 52 times today\n",
      "Booked 23 times today\n",
      "Booked 5 times today\n",
      "Booked 23 times today\n",
      "Booked 30 times today\n",
      "Booked 19 times today\n",
      "Booked 14 times today\n",
      "Booked 99 times today\n",
      "Booked 19 times today\n",
      "Booked 12 times today\n",
      "Booked 14 times today\n",
      "Booked 2 times today\n",
      "Booked 8 times today\n",
      "Booked 18 times today\n",
      "Booked 4 times today\n",
      "Booked 7 times today\n",
      "Booked 6 times today\n",
      "Booked 11 times today\n",
      "Booked 8 times today\n",
      "Booked 25 times today\n",
      "Booked 7 times today\n",
      "Booked 6 times today\n"
     ]
    }
   ],
   "source": [
    "# do the same as above, but grabbing only the text content\n",
    "for entry in html.find_all('div', {'class':'booking'}):\n",
    "    print(entry.text)"
   ]
  },
  {
   "cell_type": "code",
   "execution_count": 34,
   "metadata": {
    "collapsed": true
   },
   "outputs": [],
   "source": [
    "driver.close()"
   ]
  },
  {
   "cell_type": "markdown",
   "metadata": {},
   "source": [
    "We've succeeded!\n",
    "\n",
    "<a id=\"selenium-regex\"></a>\n",
    "### Using regex to only get digits\n",
    "\n",
    "But we can clean this up a little bit. We're going to use regular expressions (regex) to grab only the digits that are available in each of the text.\n",
    "\n",
    "The best way to get good at regex is to, well, just keep trying and testing: http://pythex.org/"
   ]
  },
  {
   "cell_type": "code",
   "execution_count": 35,
   "metadata": {
    "collapsed": true
   },
   "outputs": [],
   "source": [
    "# import regex\n",
    "import re"
   ]
  },
  {
   "cell_type": "markdown",
   "metadata": {},
   "source": [
    "Given we haven't covered regex, I'll show you how to use the search function to match any given digit."
   ]
  },
  {
   "cell_type": "code",
   "execution_count": 36,
   "metadata": {},
   "outputs": [
    {
     "name": "stdout",
     "output_type": "stream",
     "text": [
      "423\n",
      "259\n",
      "208\n",
      "247\n",
      "101\n",
      "73\n",
      "80\n",
      "112\n",
      "43\n",
      "31\n",
      "49\n",
      "43\n",
      "42\n",
      "59\n",
      "26\n",
      "67\n",
      "52\n",
      "55\n",
      "62\n",
      "47\n",
      "60\n",
      "50\n",
      "47\n",
      "42\n",
      "32\n",
      "34\n",
      "46\n",
      "52\n",
      "11\n",
      "12\n",
      "20\n",
      "15\n",
      "26\n",
      "19\n",
      "28\n",
      "40\n",
      "11\n",
      "49\n",
      "21\n",
      "26\n",
      "27\n",
      "13\n",
      "28\n",
      "40\n",
      "38\n",
      "27\n",
      "14\n",
      "16\n",
      "18\n",
      "15\n",
      "52\n",
      "49\n",
      "54\n",
      "13\n",
      "26\n",
      "1\n",
      "12\n",
      "35\n",
      "19\n",
      "24\n",
      "43\n",
      "13\n",
      "14\n",
      "23\n",
      "50\n",
      "19\n",
      "20\n",
      "18\n",
      "18\n",
      "25\n",
      "9\n",
      "27\n",
      "17\n",
      "20\n",
      "7\n",
      "9\n",
      "52\n",
      "23\n",
      "5\n",
      "23\n",
      "30\n",
      "19\n",
      "14\n",
      "99\n",
      "19\n",
      "12\n",
      "14\n",
      "2\n",
      "8\n",
      "18\n",
      "4\n",
      "7\n",
      "6\n",
      "11\n",
      "8\n",
      "25\n",
      "7\n",
      "6\n"
     ]
    }
   ],
   "source": [
    "# for each entry, grab the text\n",
    "for booking in html.find_all('div', {'class':'booking'}):\n",
    "    # match all digits\n",
    "    match = re.search(r'\\d+', booking.text)\n",
    "    \n",
    "    if match:\n",
    "        # print if found\n",
    "        print(match.group())\n",
    "    else:\n",
    "        # otherwise pass\n",
    "        pass"
   ]
  },
  {
   "cell_type": "markdown",
   "metadata": {},
   "source": [
    "Before we demonstrate all the other amazing things about headless browsers, let's finish up collecting the data we want from this current example. Do you suppose the html parsing we wrote above will still work on the page source we've grabbed from our headless browser?"
   ]
  },
  {
   "cell_type": "markdown",
   "metadata": {},
   "source": [
    "To be most efficient, we want to only do a single loop for each entry on the page. That means we want to find what element all of other other elements (name, location, price, bookings) is housed within. Where on the page is each entry located?"
   ]
  },
  {
   "cell_type": "code",
   "execution_count": 55,
   "metadata": {
    "collapsed": true
   },
   "outputs": [],
   "source": [
    "# print out all entries\n",
    "#   NOTE: Has many entries. Uncomment the below code to run it!\n",
    "\n",
    "# soup.find_all('div', {'class':'result content-section-list-row cf with-times'})"
   ]
  },
  {
   "cell_type": "markdown",
   "metadata": {},
   "source": [
    "Look over the page. Does every single entry have each element we're seeking?\n",
    "> I did this previously. I know for a fact that not every element has a number of recent bookings. That's probably exactly why OpenTable houses this in JavaScript: they want to continously update the number of bookings with the most relevant number of values."
   ]
  },
  {
   "cell_type": "code",
   "execution_count": 40,
   "metadata": {
    "scrolled": true
   },
   "outputs": [
    {
     "name": "stdout",
     "output_type": "stream",
     "text": [
      "None\n",
      "None\n",
      "<div class=\"booking\"><span class=\"tadpole\"></span>Booked 423 times today</div>\n",
      "<div class=\"booking\"><span class=\"tadpole\"></span>Booked 259 times today</div>\n",
      "<div class=\"booking\"><span class=\"tadpole\"></span>Booked 208 times today</div>\n",
      "<div class=\"booking\"><span class=\"tadpole\"></span>Booked 247 times today</div>\n",
      "<div class=\"booking\"><span class=\"tadpole\"></span>Booked 101 times today</div>\n",
      "<div class=\"booking\"><span class=\"tadpole\"></span>Booked 73 times today</div>\n",
      "<div class=\"booking\"><span class=\"tadpole\"></span>Booked 80 times today</div>\n",
      "<div class=\"booking\"><span class=\"tadpole\"></span>Booked 112 times today</div>\n",
      "<div class=\"booking\"><span class=\"tadpole\"></span>Booked 43 times today</div>\n",
      "<div class=\"booking\"><span class=\"tadpole\"></span>Booked 31 times today</div>\n",
      "<div class=\"booking\"><span class=\"tadpole\"></span>Booked 49 times today</div>\n",
      "<div class=\"booking\"><span class=\"tadpole\"></span>Booked 43 times today</div>\n",
      "<div class=\"booking\"><span class=\"tadpole\"></span>Booked 42 times today</div>\n",
      "<div class=\"booking\"><span class=\"tadpole\"></span>Booked 59 times today</div>\n",
      "<div class=\"booking\"><span class=\"tadpole\"></span>Booked 26 times today</div>\n",
      "<div class=\"booking\"><span class=\"tadpole\"></span>Booked 67 times today</div>\n",
      "<div class=\"booking\"><span class=\"tadpole\"></span>Booked 52 times today</div>\n",
      "<div class=\"booking\"><span class=\"tadpole\"></span>Booked 55 times today</div>\n",
      "<div class=\"booking\"><span class=\"tadpole\"></span>Booked 62 times today</div>\n",
      "<div class=\"booking\"><span class=\"tadpole\"></span>Booked 47 times today</div>\n",
      "<div class=\"booking\"><span class=\"tadpole\"></span>Booked 60 times today</div>\n",
      "<div class=\"booking\"><span class=\"tadpole\"></span>Booked 50 times today</div>\n",
      "<div class=\"booking\"><span class=\"tadpole\"></span>Booked 47 times today</div>\n",
      "<div class=\"booking\"><span class=\"tadpole\"></span>Booked 42 times today</div>\n",
      "<div class=\"booking\"><span class=\"tadpole\"></span>Booked 32 times today</div>\n",
      "<div class=\"booking\"><span class=\"tadpole\"></span>Booked 34 times today</div>\n",
      "<div class=\"booking\"><span class=\"tadpole\"></span>Booked 46 times today</div>\n",
      "<div class=\"booking\"><span class=\"tadpole\"></span>Booked 52 times today</div>\n",
      "<div class=\"booking\"><span class=\"tadpole\"></span>Booked 11 times today</div>\n",
      "<div class=\"booking\"><span class=\"tadpole\"></span>Booked 12 times today</div>\n",
      "<div class=\"booking\"><span class=\"tadpole\"></span>Booked 20 times today</div>\n",
      "<div class=\"booking\"><span class=\"tadpole\"></span>Booked 15 times today</div>\n",
      "<div class=\"booking\"><span class=\"tadpole\"></span>Booked 26 times today</div>\n",
      "<div class=\"booking\"><span class=\"tadpole\"></span>Booked 19 times today</div>\n",
      "<div class=\"booking\"><span class=\"tadpole\"></span>Booked 28 times today</div>\n",
      "<div class=\"booking\"><span class=\"tadpole\"></span>Booked 40 times today</div>\n",
      "<div class=\"booking\"><span class=\"tadpole\"></span>Booked 11 times today</div>\n",
      "<div class=\"booking\"><span class=\"tadpole\"></span>Booked 49 times today</div>\n",
      "<div class=\"booking\"><span class=\"tadpole\"></span>Booked 21 times today</div>\n",
      "<div class=\"booking\"><span class=\"tadpole\"></span>Booked 26 times today</div>\n",
      "<div class=\"booking\"><span class=\"tadpole\"></span>Booked 27 times today</div>\n",
      "<div class=\"booking\"><span class=\"tadpole\"></span>Booked 13 times today</div>\n",
      "<div class=\"booking\"><span class=\"tadpole\"></span>Booked 28 times today</div>\n",
      "<div class=\"booking\"><span class=\"tadpole\"></span>Booked 40 times today</div>\n",
      "<div class=\"booking\"><span class=\"tadpole\"></span>Booked 38 times today</div>\n",
      "<div class=\"booking\"><span class=\"tadpole\"></span>Booked 27 times today</div>\n",
      "<div class=\"booking\"><span class=\"tadpole\"></span>Booked 14 times today</div>\n",
      "<div class=\"booking\"><span class=\"tadpole\"></span>Booked 16 times today</div>\n",
      "<div class=\"booking\"><span class=\"tadpole\"></span>Booked 18 times today</div>\n",
      "<div class=\"booking\"><span class=\"tadpole\"></span>Booked 15 times today</div>\n",
      "<div class=\"booking\"><span class=\"tadpole\"></span>Booked 52 times today</div>\n",
      "<div class=\"booking\"><span class=\"tadpole\"></span>Booked 49 times today</div>\n",
      "<div class=\"booking\"><span class=\"tadpole\"></span>Booked 54 times today</div>\n",
      "<div class=\"booking\"><span class=\"tadpole\"></span>Booked 13 times today</div>\n",
      "<div class=\"booking\"><span class=\"tadpole\"></span>Booked 26 times today</div>\n",
      "<div class=\"booking\"><span class=\"tadpole\"></span>Booked 1 times today</div>\n",
      "<div class=\"booking\"><span class=\"tadpole\"></span>Booked 12 times today</div>\n",
      "<div class=\"booking\"><span class=\"tadpole\"></span>Booked 35 times today</div>\n",
      "<div class=\"booking\"><span class=\"tadpole\"></span>Booked 19 times today</div>\n",
      "<div class=\"booking\"><span class=\"tadpole\"></span>Booked 24 times today</div>\n",
      "<div class=\"booking\"><span class=\"tadpole\"></span>Booked 43 times today</div>\n",
      "<div class=\"booking\"><span class=\"tadpole\"></span>Booked 13 times today</div>\n",
      "<div class=\"booking\"><span class=\"tadpole\"></span>Booked 14 times today</div>\n",
      "<div class=\"booking\"><span class=\"tadpole\"></span>Booked 23 times today</div>\n",
      "<div class=\"booking\"><span class=\"tadpole\"></span>Booked 50 times today</div>\n",
      "<div class=\"booking\"><span class=\"tadpole\"></span>Booked 19 times today</div>\n",
      "<div class=\"booking\"><span class=\"tadpole\"></span>Booked 20 times today</div>\n",
      "<div class=\"booking\"><span class=\"tadpole\"></span>Booked 18 times today</div>\n",
      "<div class=\"booking\"><span class=\"tadpole\"></span>Booked 18 times today</div>\n",
      "<div class=\"booking\"><span class=\"tadpole\"></span>Booked 25 times today</div>\n",
      "<div class=\"booking\"><span class=\"tadpole\"></span>Booked 9 times today</div>\n",
      "<div class=\"booking\"><span class=\"tadpole\"></span>Booked 27 times today</div>\n",
      "<div class=\"booking\"><span class=\"tadpole\"></span>Booked 17 times today</div>\n",
      "<div class=\"booking\"><span class=\"tadpole\"></span>Booked 20 times today</div>\n",
      "<div class=\"booking\"><span class=\"tadpole\"></span>Booked 7 times today</div>\n",
      "<div class=\"booking\"><span class=\"tadpole\"></span>Booked 9 times today</div>\n",
      "<div class=\"booking\"><span class=\"tadpole\"></span>Booked 52 times today</div>\n",
      "<div class=\"booking\"><span class=\"tadpole\"></span>Booked 23 times today</div>\n",
      "<div class=\"booking\"><span class=\"tadpole\"></span>Booked 5 times today</div>\n",
      "<div class=\"booking\"><span class=\"tadpole\"></span>Booked 23 times today</div>\n",
      "<div class=\"booking\"><span class=\"tadpole\"></span>Booked 30 times today</div>\n",
      "<div class=\"booking\"><span class=\"tadpole\"></span>Booked 19 times today</div>\n",
      "<div class=\"booking\"><span class=\"tadpole\"></span>Booked 14 times today</div>\n",
      "<div class=\"booking\"><span class=\"tadpole\"></span>Booked 99 times today</div>\n",
      "<div class=\"booking\"><span class=\"tadpole\"></span>Booked 19 times today</div>\n",
      "<div class=\"booking\"><span class=\"tadpole\"></span>Booked 12 times today</div>\n",
      "<div class=\"booking\"><span class=\"tadpole\"></span>Booked 14 times today</div>\n",
      "<div class=\"booking\"><span class=\"tadpole\"></span>Booked 2 times today</div>\n",
      "<div class=\"booking\"><span class=\"tadpole\"></span>Booked 8 times today</div>\n",
      "<div class=\"booking\"><span class=\"tadpole\"></span>Booked 18 times today</div>\n",
      "<div class=\"booking\"><span class=\"tadpole\"></span>Booked 4 times today</div>\n",
      "<div class=\"booking\"><span class=\"tadpole\"></span>Booked 7 times today</div>\n",
      "<div class=\"booking\"><span class=\"tadpole\"></span>Booked 6 times today</div>\n",
      "<div class=\"booking\"><span class=\"tadpole\"></span>Booked 11 times today</div>\n",
      "<div class=\"booking\"><span class=\"tadpole\"></span>Booked 8 times today</div>\n",
      "<div class=\"booking\"><span class=\"tadpole\"></span>Booked 25 times today</div>\n",
      "<div class=\"booking\"><span class=\"tadpole\"></span>Booked 7 times today</div>\n",
      "<div class=\"booking\"><span class=\"tadpole\"></span>Booked 6 times today</div>\n"
     ]
    }
   ],
   "source": [
    "# We want to only retrieve the text of the bookings.\n",
    "# But what would happen if we just naively print the text of each node?\n",
    "\n",
    "for entry in html.find_all('div', {'class':'result content-section-list-row cf with-times'}):\n",
    "    print(entry.find('div', {'class':'booking'}))   # try adding .text"
   ]
  },
  {
   "cell_type": "code",
   "execution_count": 39,
   "metadata": {},
   "outputs": [
    {
     "name": "stdout",
     "output_type": "stream",
     "text": [
      "ZERO\n",
      "ZERO\n",
      "Booked 423 times today\n",
      "Booked 259 times today\n",
      "Booked 208 times today\n",
      "Booked 247 times today\n",
      "Booked 101 times today\n",
      "Booked 73 times today\n",
      "Booked 80 times today\n",
      "Booked 112 times today\n",
      "Booked 43 times today\n",
      "Booked 31 times today\n",
      "Booked 49 times today\n",
      "Booked 43 times today\n",
      "Booked 42 times today\n",
      "Booked 59 times today\n",
      "Booked 26 times today\n",
      "Booked 67 times today\n",
      "Booked 52 times today\n",
      "Booked 55 times today\n",
      "Booked 62 times today\n",
      "Booked 47 times today\n",
      "Booked 60 times today\n",
      "Booked 50 times today\n",
      "Booked 47 times today\n",
      "Booked 42 times today\n",
      "Booked 32 times today\n",
      "Booked 34 times today\n",
      "Booked 46 times today\n",
      "Booked 52 times today\n",
      "Booked 11 times today\n",
      "Booked 12 times today\n",
      "Booked 20 times today\n",
      "Booked 15 times today\n",
      "Booked 26 times today\n",
      "Booked 19 times today\n",
      "Booked 28 times today\n",
      "Booked 40 times today\n",
      "Booked 11 times today\n",
      "Booked 49 times today\n",
      "Booked 21 times today\n",
      "Booked 26 times today\n",
      "Booked 27 times today\n",
      "Booked 13 times today\n",
      "Booked 28 times today\n",
      "Booked 40 times today\n",
      "Booked 38 times today\n",
      "Booked 27 times today\n",
      "Booked 14 times today\n",
      "Booked 16 times today\n",
      "Booked 18 times today\n",
      "Booked 15 times today\n",
      "Booked 52 times today\n",
      "Booked 49 times today\n",
      "Booked 54 times today\n",
      "Booked 13 times today\n",
      "Booked 26 times today\n",
      "Booked 1 times today\n",
      "Booked 12 times today\n",
      "Booked 35 times today\n",
      "Booked 19 times today\n",
      "Booked 24 times today\n",
      "Booked 43 times today\n",
      "Booked 13 times today\n",
      "Booked 14 times today\n",
      "Booked 23 times today\n",
      "Booked 50 times today\n",
      "Booked 19 times today\n",
      "Booked 20 times today\n",
      "Booked 18 times today\n",
      "Booked 18 times today\n",
      "Booked 25 times today\n",
      "Booked 9 times today\n",
      "Booked 27 times today\n",
      "Booked 17 times today\n",
      "Booked 20 times today\n",
      "Booked 7 times today\n",
      "Booked 9 times today\n",
      "Booked 52 times today\n",
      "Booked 23 times today\n",
      "Booked 5 times today\n",
      "Booked 23 times today\n",
      "Booked 30 times today\n",
      "Booked 19 times today\n",
      "Booked 14 times today\n",
      "Booked 99 times today\n",
      "Booked 19 times today\n",
      "Booked 12 times today\n",
      "Booked 14 times today\n",
      "Booked 2 times today\n",
      "Booked 8 times today\n",
      "Booked 18 times today\n",
      "Booked 4 times today\n",
      "Booked 7 times today\n",
      "Booked 6 times today\n",
      "Booked 11 times today\n",
      "Booked 8 times today\n",
      "Booked 25 times today\n",
      "Booked 7 times today\n",
      "Booked 6 times today\n"
     ]
    }
   ],
   "source": [
    "# if we find the element we want, we print it. Otherwise, we print 'ZERO'\n",
    "for entry in html.find_all('div', {'class':'result content-section-list-row cf with-times'}):\n",
    "        divs = entry.find('div', {'class':'booking'})\n",
    "        \n",
    "        if divs:\n",
    "            print(divs.text)\n",
    "        else:\n",
    "            print('ZERO')"
   ]
  },
  {
   "cell_type": "markdown",
   "metadata": {},
   "source": [
    "What do you notice takes the place when booking is not found?\n",
    "\n",
    "We could use exception handling (`try`/`except` blocks) to resolve this. However, exceptions should only be used to handle rare or unexpected errors -- never for normal program flow.\n",
    "\n",
    "In this case, we expect that some entries will be zero. So, we can just use an `if` statement that tests whether there are any `divs` present; if not, display `'ZERO'`. Here's a demo:"
   ]
  },
  {
   "cell_type": "code",
   "execution_count": 42,
   "metadata": {},
   "outputs": [
    {
     "name": "stdout",
     "output_type": "stream",
     "text": [
      "ZERO\n",
      "ZERO\n",
      "Booked 423 times today\n",
      "Booked 259 times today\n",
      "Booked 208 times today\n",
      "Booked 247 times today\n",
      "Booked 101 times today\n",
      "Booked 73 times today\n",
      "Booked 80 times today\n",
      "Booked 112 times today\n",
      "Booked 43 times today\n",
      "Booked 31 times today\n",
      "Booked 49 times today\n",
      "Booked 43 times today\n",
      "Booked 42 times today\n",
      "Booked 59 times today\n",
      "Booked 26 times today\n",
      "Booked 67 times today\n",
      "Booked 52 times today\n",
      "Booked 55 times today\n",
      "Booked 62 times today\n",
      "Booked 47 times today\n",
      "Booked 60 times today\n",
      "Booked 50 times today\n",
      "Booked 47 times today\n",
      "Booked 42 times today\n",
      "Booked 32 times today\n",
      "Booked 34 times today\n",
      "Booked 46 times today\n",
      "Booked 52 times today\n",
      "Booked 11 times today\n",
      "Booked 12 times today\n",
      "Booked 20 times today\n",
      "Booked 15 times today\n",
      "Booked 26 times today\n",
      "Booked 19 times today\n",
      "Booked 28 times today\n",
      "Booked 40 times today\n",
      "Booked 11 times today\n",
      "Booked 49 times today\n",
      "Booked 21 times today\n",
      "Booked 26 times today\n",
      "Booked 27 times today\n",
      "Booked 13 times today\n",
      "Booked 28 times today\n",
      "Booked 40 times today\n",
      "Booked 38 times today\n",
      "Booked 27 times today\n",
      "Booked 14 times today\n",
      "Booked 16 times today\n",
      "Booked 18 times today\n",
      "Booked 15 times today\n",
      "Booked 52 times today\n",
      "Booked 49 times today\n",
      "Booked 54 times today\n",
      "Booked 13 times today\n",
      "Booked 26 times today\n",
      "Booked 1 times today\n",
      "Booked 12 times today\n",
      "Booked 35 times today\n",
      "Booked 19 times today\n",
      "Booked 24 times today\n",
      "Booked 43 times today\n",
      "Booked 13 times today\n",
      "Booked 14 times today\n",
      "Booked 23 times today\n",
      "Booked 50 times today\n",
      "Booked 19 times today\n",
      "Booked 20 times today\n",
      "Booked 18 times today\n",
      "Booked 18 times today\n",
      "Booked 25 times today\n",
      "Booked 9 times today\n",
      "Booked 27 times today\n",
      "Booked 17 times today\n",
      "Booked 20 times today\n",
      "Booked 7 times today\n",
      "Booked 9 times today\n",
      "Booked 52 times today\n",
      "Booked 23 times today\n",
      "Booked 5 times today\n",
      "Booked 23 times today\n",
      "Booked 30 times today\n",
      "Booked 19 times today\n",
      "Booked 14 times today\n",
      "Booked 99 times today\n",
      "Booked 19 times today\n",
      "Booked 12 times today\n",
      "Booked 14 times today\n",
      "Booked 2 times today\n",
      "Booked 8 times today\n",
      "Booked 18 times today\n",
      "Booked 4 times today\n",
      "Booked 7 times today\n",
      "Booked 6 times today\n",
      "Booked 11 times today\n",
      "Booked 8 times today\n",
      "Booked 25 times today\n",
      "Booked 7 times today\n",
      "Booked 6 times today\n"
     ]
    }
   ],
   "source": [
    "# if we find the element we want, we print it. Otherwise, we print 'ZERO'\n",
    "for entry in html.find_all('div', {'class':'result content-section-list-row cf with-times'}):\n",
    "    booking_tag = entry.find('div', {'class':'booking'})\n",
    "    \n",
    "    if booking_tag:\n",
    "        print(booking_tag.text)\n",
    "    else:\n",
    "        print('ZERO')"
   ]
  },
  {
   "cell_type": "markdown",
   "metadata": {},
   "source": [
    "After previously completing this, we observed that all other elements WILL be returned. This means we do not have to always handle these cases.\n",
    "\n",
    "<a id=\"challenge-pandas\"></a>\n",
    "### Challenge: Use Pandas to create a DataFrame of bookings\n",
    "\n",
    "However, the onus is on you to now put all the pieces together.\n",
    "\n",
    "Loop through each entry. For each entry, grab the relevant information we want (name, location, price, bookings). Produce a dataframe with the columns \"name\",\"location\",\"price\",\"bookings\" that contains the 100 entries we would like."
   ]
  },
  {
   "cell_type": "code",
   "execution_count": 43,
   "metadata": {
    "collapsed": true
   },
   "outputs": [],
   "source": [
    "import pandas as pd"
   ]
  },
  {
   "cell_type": "code",
   "execution_count": 56,
   "metadata": {
    "collapsed": true
   },
   "outputs": [],
   "source": [
    "# I'm going to create my empty df first\n",
    "dc_eats = pd.DataFrame(columns=[\"name\",\"location\",\"price\",\"bookings\"])"
   ]
  },
  {
   "cell_type": "code",
   "execution_count": 57,
   "metadata": {},
   "outputs": [],
   "source": [
    "for entry in html.find_all('div', {'class':'result content-section-list-row cf with-times'}):\n",
    "    # grab the name\n",
    "    name = entry.find('span', {'class':'rest-row-name-text'}).text\n",
    "    \n",
    "    # grab the location \n",
    "    location = entry.find('span', {'class':'rest-row-meta--location rest-row-meta-text'}).text\n",
    "    \n",
    "    # grab the price\n",
    "    price = entry.find('div', {'class':'rest-row-pricing'}).find('i').text.count('$')\n",
    "    \n",
    "    # try to find the number of bookings\n",
    "    bookings = 'NA'\n",
    "    booking_tag = entry.find('div', {'class':'booking'})\n",
    "    if booking_tag:\n",
    "        match = re.search('\\d+', booking_tag.text)\n",
    "        \n",
    "        if match:\n",
    "            bookings = match.group()\n",
    "    \n",
    "    dc_eats.loc[len(dc_eats)]=[name, location, price, bookings]"
   ]
  },
  {
   "cell_type": "code",
   "execution_count": 58,
   "metadata": {},
   "outputs": [
    {
     "data": {
      "text/html": [
       "<div>\n",
       "<style>\n",
       "    .dataframe thead tr:only-child th {\n",
       "        text-align: right;\n",
       "    }\n",
       "\n",
       "    .dataframe thead th {\n",
       "        text-align: left;\n",
       "    }\n",
       "\n",
       "    .dataframe tbody tr th {\n",
       "        vertical-align: top;\n",
       "    }\n",
       "</style>\n",
       "<table border=\"1\" class=\"dataframe\">\n",
       "  <thead>\n",
       "    <tr style=\"text-align: right;\">\n",
       "      <th></th>\n",
       "      <th>name</th>\n",
       "      <th>location</th>\n",
       "      <th>price</th>\n",
       "      <th>bookings</th>\n",
       "    </tr>\n",
       "  </thead>\n",
       "  <tbody>\n",
       "    <tr>\n",
       "      <th>0</th>\n",
       "      <td>Joe's Place Pizza and Pasta</td>\n",
       "      <td>Arlington</td>\n",
       "      <td>2</td>\n",
       "      <td>NA</td>\n",
       "    </tr>\n",
       "    <tr>\n",
       "      <th>1</th>\n",
       "      <td>Ruffino's - Arlington</td>\n",
       "      <td>Arlington</td>\n",
       "      <td>2</td>\n",
       "      <td>NA</td>\n",
       "    </tr>\n",
       "    <tr>\n",
       "      <th>2</th>\n",
       "      <td>Founding Farmers - DC</td>\n",
       "      <td>Foggy Bottom</td>\n",
       "      <td>2</td>\n",
       "      <td>423</td>\n",
       "    </tr>\n",
       "    <tr>\n",
       "      <th>3</th>\n",
       "      <td>Farmers Fishers Bakers</td>\n",
       "      <td>Georgetown</td>\n",
       "      <td>2</td>\n",
       "      <td>259</td>\n",
       "    </tr>\n",
       "    <tr>\n",
       "      <th>4</th>\n",
       "      <td>Filomena Ristorante</td>\n",
       "      <td>Georgetown</td>\n",
       "      <td>3</td>\n",
       "      <td>208</td>\n",
       "    </tr>\n",
       "  </tbody>\n",
       "</table>\n",
       "</div>"
      ],
      "text/plain": [
       "                          name      location price bookings\n",
       "0  Joe's Place Pizza and Pasta     Arlington     2       NA\n",
       "1        Ruffino's - Arlington     Arlington     2       NA\n",
       "2        Founding Farmers - DC  Foggy Bottom     2      423\n",
       "3       Farmers Fishers Bakers    Georgetown     2      259\n",
       "4          Filomena Ristorante    Georgetown     3      208"
      ]
     },
     "execution_count": 58,
     "metadata": {},
     "output_type": "execute_result"
    }
   ],
   "source": [
    "# check out our work\n",
    "dc_eats.head()"
   ]
  },
  {
   "cell_type": "markdown",
   "metadata": {},
   "source": [
    "Awesome! We succeeded.\n",
    "\n",
    "<a id=\"selenium-typing\"></a>\n",
    "### Auto-typing using Selenium\n",
    "\n",
    "Now, let's explore some of the other functionality of a webdriver. We've barely scratched the surface."
   ]
  },
  {
   "cell_type": "code",
   "execution_count": 65,
   "metadata": {
    "collapsed": true
   },
   "outputs": [],
   "source": [
    "# we can send keys as well\n",
    "# import\n",
    "from selenium.webdriver.common.keys import Keys"
   ]
  },
  {
   "cell_type": "code",
   "execution_count": 66,
   "metadata": {
    "collapsed": true
   },
   "outputs": [],
   "source": [
    "# open Firefox\n",
    "driver = webdriver.Firefox()\n",
    "# visit Python\n",
    "driver.get(\"http://www.python.org\")\n",
    "# verify we're in the right place\n",
    "assert \"Python\" in driver.title"
   ]
  },
  {
   "cell_type": "markdown",
   "metadata": {},
   "source": [
    "Let's try automatedly typing `pycon` in the search box and hitting the return key:"
   ]
  },
  {
   "cell_type": "code",
   "execution_count": 67,
   "metadata": {
    "collapsed": true
   },
   "outputs": [],
   "source": [
    "# find the search position\n",
    "elem = driver.find_element_by_name(\"q\")\n",
    "\n",
    "# clear it\n",
    "elem.clear()\n",
    "\n",
    "# type in pycon\n",
    "elem.send_keys(\"pycon\")\n",
    "\n",
    "# send those keys\n",
    "elem.send_keys(Keys.RETURN)"
   ]
  },
  {
   "cell_type": "code",
   "execution_count": 68,
   "metadata": {
    "collapsed": true
   },
   "outputs": [],
   "source": [
    "# close\n",
    "driver.close()"
   ]
  },
  {
   "cell_type": "code",
   "execution_count": 69,
   "metadata": {
    "collapsed": true
   },
   "outputs": [],
   "source": [
    "# all at once:\n",
    "driver = webdriver.Firefox()\n",
    "driver.get(\"http://www.python.org\")\n",
    "assert \"Python\" in driver.title\n",
    "\n",
    "elem = driver.find_element_by_name(\"q\")\n",
    "elem.clear()\n",
    "elem.send_keys(\"pycon\")\n",
    "elem.send_keys(Keys.RETURN)\n",
    "#assert \"No results found.\" not in driver.page_source\n",
    "driver.close()"
   ]
  },
  {
   "cell_type": "markdown",
   "metadata": {},
   "source": [
    "The above example (and many others) are available in the Selenium docs: http://selenium-python.readthedocs.io/getting-started.html\n",
    "\n",
    "What is especially important is exploring functionality like locating elements: http://selenium-python.readthedocs.io/locating-elements.html#locating-elements\n",
    "\n",
    "FAQ:\n",
    "http://selenium-python.readthedocs.io/faq.html"
   ]
  },
  {
   "cell_type": "markdown",
   "metadata": {},
   "source": [
    "### Summary\n",
    "\n",
    "In this lesson, we used the Beautiful Soup library to locate elements on a website then scrape their text. We also used the Selenium headless browser to run JavaScript first before retrieving the page contents."
   ]
  },
  {
   "cell_type": "code",
   "execution_count": null,
   "metadata": {
    "collapsed": true
   },
   "outputs": [],
   "source": []
  }
 ],
 "metadata": {
  "anaconda-cloud": {},
  "kernelspec": {
   "display_name": "Python 3",
   "language": "python",
   "name": "python3"
  },
  "language_info": {
   "codemirror_mode": {
    "name": "ipython",
    "version": 3
   },
   "file_extension": ".py",
   "mimetype": "text/x-python",
   "name": "python",
   "nbconvert_exporter": "python",
   "pygments_lexer": "ipython3",
   "version": "3.6.4"
  }
 },
 "nbformat": 4,
 "nbformat_minor": 1
}
