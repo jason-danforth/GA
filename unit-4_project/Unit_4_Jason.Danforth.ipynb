{
 "cells": [
  {
   "cell_type": "markdown",
   "metadata": {},
   "source": [
    "# IMPORT  AND CLEAN DATA"
   ]
  },
  {
   "cell_type": "code",
   "execution_count": 552,
   "metadata": {},
   "outputs": [],
   "source": [
    "# GENERAL\n",
    "import pandas as pd\n",
    "import seaborn as sns\n",
    "import numpy as np\n",
    "import matplotlib.pyplot as plt\n",
    "from IPython.display import HTML\n",
    "plt.style.use('fivethirtyeight')\n",
    "%matplotlib inline\n",
    "\n",
    "# SCALING\n",
    "from sklearn.preprocessing import StandardScaler\n",
    "from sklearn.preprocessing import MinMaxScaler\n",
    "\n",
    "# LINEAR REGRESSION\n",
    "from sklearn import linear_model\n",
    "from sklearn.linear_model import LinearRegression\n",
    "from sklearn import model_selection\n",
    "from sklearn.model_selection import train_test_split\n",
    "\n",
    "# POLYNOMIALS\n",
    "from sklearn.pipeline import make_pipeline\n",
    "from sklearn.preprocessing import PolynomialFeatures\n",
    "from sklearn.linear_model import Ridge\n",
    "\n",
    "# CLUSTERING\n",
    "from sklearn.metrics import pairwise_distances\n",
    "from sklearn import cluster, datasets, preprocessing, metrics\n",
    "from sklearn.cluster import DBSCAN\n",
    "from sklearn.metrics import silhouette_samples\n"
   ]
  },
  {
   "cell_type": "code",
   "execution_count": 553,
   "metadata": {},
   "outputs": [],
   "source": [
    "# TWO DATA SETS: OBSERVATIONS AND REMAINDER OF DESIGN SPACE\n",
    "data = pd.read_csv('./CSV/180702_output.csv')\n",
    "data_pred = pd.read_csv('./CSV/full_design_space.csv')"
   ]
  },
  {
   "cell_type": "code",
   "execution_count": 554,
   "metadata": {},
   "outputs": [],
   "source": [
    "data.drop(['img', 'img_pixelmap', 'img_thumb', 'pixelmap', 'threeD', 'name', 'score', 'out:GFA'], axis=1, inplace=True)"
   ]
  },
  {
   "cell_type": "code",
   "execution_count": 555,
   "metadata": {},
   "outputs": [],
   "source": [
    "data.columns = ['dist', 'den_multi', 'green', 'grid', 'iteration', 'park_attr_str', 'park_attr',\n",
    "               'street_width', 'bar_bldg', 'courtyard', 'extrusion', 'industrial', 'infill',\n",
    "                'small_mid', 'towers', 'comfort', 'daylighting', 'energy', 'view', 'street_area', 'surprise']\n",
    "\n",
    "data_pred.columns = ['iteration', 'grid', 'den_multi', 'dist', 'green', 'park_attr', 'street_width', 'park_attr_str']"
   ]
  },
  {
   "cell_type": "code",
   "execution_count": 556,
   "metadata": {},
   "outputs": [],
   "source": [
    "# CREATE DUMMY VARIABLES FOR GRID, PARK_ATTR\n",
    "\n",
    "grid_dummies = pd.get_dummies(data.grid, prefix='grid')\n",
    "data = pd.concat([data, grid_dummies], axis=1)\n",
    "data.drop('grid', axis=1, inplace=True)\n",
    "park_dummies = pd.get_dummies(data.park_attr, prefix='park_attr')\n",
    "data = pd.concat([data, park_dummies], axis=1)\n",
    "data.drop('park_attr', axis=1, inplace=True)\n",
    "\n",
    "grid_dummies2 = pd.get_dummies(data_pred.grid, prefix='grid')\n",
    "data_pred = pd.concat([data_pred, grid_dummies2], axis=1)\n",
    "data_pred.drop('grid', axis=1, inplace=True)\n",
    "park_dummies2 = pd.get_dummies(data_pred.park_attr, prefix='park_attr')\n",
    "data_pred = pd.concat([data_pred, park_dummies2], axis=1)\n",
    "data_pred.drop('park_attr', axis=1, inplace=True)"
   ]
  },
  {
   "cell_type": "code",
   "execution_count": null,
   "metadata": {},
   "outputs": [],
   "source": []
  },
  {
   "cell_type": "markdown",
   "metadata": {},
   "source": [
    "# EDA"
   ]
  },
  {
   "cell_type": "code",
   "execution_count": 557,
   "metadata": {},
   "outputs": [
    {
     "name": "stdout",
     "output_type": "stream",
     "text": [
      "<class 'pandas.core.frame.DataFrame'>\n",
      "RangeIndex: 8600 entries, 0 to 8599\n",
      "Data columns (total 28 columns):\n",
      "dist             8600 non-null float64\n",
      "den_multi        8600 non-null float64\n",
      "green            8600 non-null float64\n",
      "iteration        8600 non-null int64\n",
      "park_attr_str    8600 non-null float64\n",
      "street_width     8600 non-null float64\n",
      "bar_bldg         8600 non-null int64\n",
      "courtyard        8600 non-null int64\n",
      "extrusion        8600 non-null int64\n",
      "industrial       8600 non-null int64\n",
      "infill           8600 non-null int64\n",
      "small_mid        8600 non-null int64\n",
      "towers           8600 non-null int64\n",
      "comfort          8600 non-null int64\n",
      "daylighting      8600 non-null float64\n",
      "energy           8600 non-null float64\n",
      "view             8600 non-null int64\n",
      "street_area      8600 non-null int64\n",
      "surprise         8600 non-null float64\n",
      "grid_0           8600 non-null uint8\n",
      "grid_1           8600 non-null uint8\n",
      "grid_2           8600 non-null uint8\n",
      "grid_3           8600 non-null uint8\n",
      "grid_4           8600 non-null uint8\n",
      "grid_5           8600 non-null uint8\n",
      "park_attr_0      8600 non-null uint8\n",
      "park_attr_1      8600 non-null uint8\n",
      "park_attr_2      8600 non-null uint8\n",
      "dtypes: float64(8), int64(11), uint8(9)\n",
      "memory usage: 1.3 MB\n"
     ]
    }
   ],
   "source": [
    "data.info()"
   ]
  },
  {
   "cell_type": "code",
   "execution_count": 558,
   "metadata": {},
   "outputs": [
    {
     "name": "stdout",
     "output_type": "stream",
     "text": [
      "dist has 7 unique values\n",
      "den_multi has 5 unique values\n",
      "green has 5 unique values\n",
      "iteration has 8600 unique values\n",
      "park_attr_str has 4 unique values\n",
      "street_width has 7 unique values\n",
      "bar_bldg has 85 unique values\n",
      "courtyard has 80 unique values\n",
      "extrusion has 24 unique values\n",
      "industrial has 4 unique values\n",
      "infill has 463 unique values\n",
      "small_mid has 23 unique values\n",
      "towers has 56 unique values\n",
      "comfort has 359 unique values\n",
      "daylighting has 2448 unique values\n",
      "energy has 1 unique values\n",
      "view has 1002 unique values\n",
      "street_area has 7405 unique values\n",
      "surprise has 47 unique values\n",
      "grid_0 has 2 unique values\n",
      "grid_1 has 2 unique values\n",
      "grid_2 has 2 unique values\n",
      "grid_3 has 2 unique values\n",
      "grid_4 has 2 unique values\n",
      "grid_5 has 2 unique values\n",
      "park_attr_0 has 2 unique values\n",
      "park_attr_1 has 2 unique values\n",
      "park_attr_2 has 2 unique values\n"
     ]
    }
   ],
   "source": [
    "cols = data.columns\n",
    "for name in cols:\n",
    "    uniques = len(data[name].unique())\n",
    "    print(f'{name} has {uniques} unique values')"
   ]
  },
  {
   "cell_type": "code",
   "execution_count": 559,
   "metadata": {},
   "outputs": [
    {
     "name": "stdout",
     "output_type": "stream",
     "text": [
      "{'view': 1067.0, 'daylighting': 79.26, 'energy': 0.0, 'comfort': 595.6, 'surprise': 0.64}\n"
     ]
    }
   ],
   "source": [
    "# FIND TOP SCORES FOR EACH METRIC\n",
    "view = round(data.view.sort_values(ascending=False).head().mean(), 2)\n",
    "daylighting = round(data.daylighting.sort_values(ascending=False).head().mean(), 2)\n",
    "energy = round(data.energy.sort_values().head().mean(), 2)\n",
    "comfort = round(data.comfort.sort_values(ascending=False).head().mean(), 2)\n",
    "surprise = round(data.surprise.sort_values(ascending=False).head().mean(), 2)\n",
    "\n",
    "scores = {'view':view, 'daylighting':daylighting, 'energy':energy, 'comfort':comfort, 'surprise':surprise}\n",
    "print(scores)"
   ]
  },
  {
   "cell_type": "code",
   "execution_count": 560,
   "metadata": {},
   "outputs": [
    {
     "name": "stderr",
     "output_type": "stream",
     "text": [
      "C:\\Users\\jdanforth\\AppData\\Local\\Continuum\\anaconda3\\lib\\site-packages\\statsmodels\\nonparametric\\kde.py:494: RuntimeWarning: invalid value encountered in true_divide\n",
      "  binned = fast_linbin(X,a,b,gridsize)/(delta*nobs)\n",
      "C:\\Users\\jdanforth\\AppData\\Local\\Continuum\\anaconda3\\lib\\site-packages\\statsmodels\\nonparametric\\kdetools.py:34: RuntimeWarning: invalid value encountered in double_scalars\n",
      "  FAC1 = 2*(np.pi*bw/RANGE)**2\n",
      "C:\\Users\\jdanforth\\AppData\\Local\\Continuum\\anaconda3\\lib\\site-packages\\numpy\\core\\_methods.py:26: RuntimeWarning: invalid value encountered in reduce\n",
      "  return umr_maximum(a, axis, None, out, keepdims)\n"
     ]
    },
    {
     "data": {
      "image/png": "[encoded data removed]",
      "text/plain": [
       "<matplotlib.figure.Figure at 0x291c3e45390>"
      ]
     },
     "metadata": {},
     "output_type": "display_data"
    }
   ],
   "source": [
    "f, axes = plt.subplots(5, 1, figsize=(10, 7), sharex=False)\n",
    "sns.despine()\n",
    "sns.distplot(data[\"view\"], color=\"g\", ax=axes[0], axlabel=\"view\")\n",
    "sns.distplot(data[\"daylighting\"], color=\"b\", ax=axes[1], axlabel=\"daylighting\")\n",
    "sns.distplot(data[\"energy\"], color=\"m\", ax=axes[2], axlabel=\"energy\")\n",
    "sns.distplot(data[\"comfort\"], color=\"r\", ax=axes[3], axlabel=\"comfort\")\n",
    "sns.distplot(data[\"surprise\"], color=\"b\", ax=axes[4], axlabel=\"surprise\")\n",
    "plt.setp(axes, yticks=[])\n",
    "plt.tight_layout()"
   ]
  },
  {
   "cell_type": "code",
   "execution_count": 561,
   "metadata": {},
   "outputs": [],
   "source": [
    "# Why aren't surprise values smooth?"
   ]
  },
  {
   "cell_type": "code",
   "execution_count": 562,
   "metadata": {},
   "outputs": [
    {
     "data": {
      "text/plain": [
       "Index(['dist', 'den_multi', 'green', 'iteration', 'park_attr_str',\n",
       "       'street_width', 'bar_bldg', 'courtyard', 'extrusion', 'industrial',\n",
       "       'infill', 'small_mid', 'towers', 'comfort', 'daylighting', 'energy',\n",
       "       'view', 'street_area', 'surprise', 'grid_0', 'grid_1', 'grid_2',\n",
       "       'grid_3', 'grid_4', 'grid_5', 'park_attr_0', 'park_attr_1',\n",
       "       'park_attr_2'],\n",
       "      dtype='object')"
      ]
     },
     "execution_count": 562,
     "metadata": {},
     "output_type": "execute_result"
    }
   ],
   "source": [
    "data.columns"
   ]
  },
  {
   "cell_type": "code",
   "execution_count": 563,
   "metadata": {},
   "outputs": [],
   "source": [
    "hmap_df = pd.concat([data['dist'], data['den_multi'], data['green'], data['park_attr_str'], data['street_width'],\n",
    "                    data['grid_0'], data['grid_1'], data['grid_2'], data['grid_3'], data['grid_4'], data['grid_5'],\n",
    "                    data['park_attr_0'], data['park_attr_1'], data['park_attr_2'], data['towers'], data['extrusion'], \n",
    "                    data['courtyard'], data['bar_bldg'], data['industrial'], data['small_mid'], data['infill'],\n",
    "                    data['comfort'], data['view'], data['daylighting'], data['energy'], data['surprise']], axis=1, \n",
    "                    keys=['dist', 'den_multi', 'green', 'park_attr_str', 'street_width', 'grid_0', 'grid_1', 'grid_2',\n",
    "                         'grid_3', 'grid_4', 'grid_5', 'park_attr_0', 'park_attr_1', 'park_attr_2', 'towers', 'extrusion',\n",
    "                         'courtyard', 'bar_bldg', 'industrial', 'small_mid', 'infill', 'comfort', 'view', 'daylighting',\n",
    "                         'energy', 'surprise'])"
   ]
  },
  {
   "cell_type": "code",
   "execution_count": 564,
   "metadata": {},
   "outputs": [
    {
     "data": {
      "image/png": "[encoded data removed]",
      "text/plain": [
       "<matplotlib.figure.Figure at 0x291c3ddf278>"
      ]
     },
     "metadata": {},
     "output_type": "display_data"
    }
   ],
   "source": [
    "fig, ax = plt.subplots(figsize=(16,14))\n",
    "color = sns.diverging_palette(330, 250, n=7, s=99)\n",
    "\n",
    "heat = sns.heatmap(hmap_df.corr(), ax=ax, annot=True, vmin=-1, vmax=1, linewidths=0.25, cmap=color);"
   ]
  },
  {
   "cell_type": "code",
   "execution_count": 565,
   "metadata": {},
   "outputs": [],
   "source": [
    "#heat.get_figure().savefig(\"heatmap.png\", facecolor='white')\n",
    "# Note extra .get_figure() method required for heatmap (type different than pairplot)"
   ]
  },
  {
   "cell_type": "code",
   "execution_count": 566,
   "metadata": {},
   "outputs": [
    {
     "data": {
      "image/png": "[encoded data removed]",
      "text/plain": [
       "<matplotlib.figure.Figure at 0x291c4ddf780>"
      ]
     },
     "metadata": {},
     "output_type": "display_data"
    }
   ],
   "source": [
    "drop_cols = ['iteration', 'energy', 'view', 'park_attr_str', 'grid_0', 'grid_1', 'grid_2', 'grid_3', \n",
    "             'grid_4', 'grid_5', 'park_attr_0', 'park_attr_1', 'park_attr_2', 'dist', 'den_multi', \n",
    "            'green', 'street_width', 'bar_bldg', 'courtyard', 'extrusion', 'industrial', 'infill', \n",
    "            'small_mid', 'towers', 'street_area']\n",
    "fig, ax = plt.subplots(figsize=(6,5))\n",
    "color = sns.diverging_palette(330, 250, n=7, s=99)\n",
    "#sns.set_style(\"white\")\n",
    "\n",
    "heat = sns.heatmap(data.drop(drop_cols, axis=1).corr(), ax=ax, annot=True, vmin=-1, vmax=1, linewidths=0.25, cmap=color);"
   ]
  },
  {
   "cell_type": "code",
   "execution_count": 567,
   "metadata": {},
   "outputs": [
    {
     "data": {
      "text/plain": [
       "0.15450875895470745"
      ]
     },
     "execution_count": 567,
     "metadata": {},
     "output_type": "execute_result"
    }
   ],
   "source": [
    "#data[['comfort', 'surprise', 'daylighting']].corrwith(data[['park_attr_0', 'park_attr_1', 'park_attr_2']])\n",
    "data['daylighting'].corr(data['park_attr_2'])"
   ]
  },
  {
   "cell_type": "code",
   "execution_count": 568,
   "metadata": {},
   "outputs": [
    {
     "data": {
      "image/png": "[encoded data removed]",
      "text/plain": [
       "<matplotlib.figure.Figure at 0x291cb6f9400>"
      ]
     },
     "metadata": {},
     "output_type": "display_data"
    }
   ],
   "source": [
    "drop_cols = ['iteration', 'energy', 'view', 'park_attr_str', 'grid_0', 'grid_1', 'grid_2', 'grid_3', \n",
    "             'grid_4', 'grid_5', 'dist', 'den_multi', \n",
    "            'green', 'street_width', 'bar_bldg', 'courtyard', 'extrusion', 'industrial', 'infill', \n",
    "            'small_mid', 'towers', 'street_area']\n",
    "fig, ax = plt.subplots(figsize=(6,5))\n",
    "color = sns.diverging_palette(330, 250, n=7, s=99)\n",
    "#sns.set_style(\"white\")\n",
    "\n",
    "heat_crop = sns.heatmap(data.drop(drop_cols, axis=1).corr(), ax=ax, annot=True, vmin=-1, vmax=1, linewidths=0.25, cmap=color);"
   ]
  },
  {
   "cell_type": "code",
   "execution_count": 569,
   "metadata": {},
   "outputs": [],
   "source": [
    "heat_crop.get_figure().savefig(\"heatmap_crop.png\", facecolor='white')"
   ]
  },
  {
   "cell_type": "code",
   "execution_count": 570,
   "metadata": {},
   "outputs": [],
   "source": [
    "# if daylighting and surprise are correlated, I'd expect optimizing for top scores will privilege them\n",
    "# and punish comfort. "
   ]
  },
  {
   "cell_type": "code",
   "execution_count": 571,
   "metadata": {},
   "outputs": [],
   "source": [
    "def box_plotter(out_put):\n",
    "    global bplot\n",
    "    \n",
    "    corr = round(data[in_put].corr(data[out_put]), 3)\n",
    "    scores = round(data.groupby(in_put)[out_put].mean(), 2)\n",
    "\n",
    "    meanpointprops = dict(marker='D', markeredgecolor='black',markerfacecolor='firebrick')\n",
    "    boxprops = dict(linestyle='-', linewidth=3, color='darkgoldenrod')\n",
    "\n",
    "    bplot = data.boxplot(column=out_put, by=in_put, figsize=(6,6), notch=True, showmeans=True,\n",
    "                meanprops=meanpointprops, boxprops=boxprops);\n",
    "\n",
    "    plt.title('')\n",
    "    plt.suptitle('')\n",
    "    plt.ylabel(out_put)\n",
    "    plt.figtext(1, 0.5,'Correlation between {} and {}: {}\\n\\nMean Values:\\n\\n{}'.format(in_put, out_put, corr, scores.to_string()), \n",
    "                wrap=True, horizontalalignment='left', fontsize=13, name='ARIAL');\n",
    "    \n",
    "    "
   ]
  },
  {
   "cell_type": "markdown",
   "metadata": {},
   "source": [
    "## DENSITY"
   ]
  },
  {
   "cell_type": "code",
   "execution_count": 572,
   "metadata": {},
   "outputs": [],
   "source": [
    "in_put = 'den_multi'"
   ]
  },
  {
   "cell_type": "code",
   "execution_count": 573,
   "metadata": {},
   "outputs": [
    {
     "data": {
      "image/png": "[encoded data removed]",
      "text/plain": [
       "<matplotlib.figure.Figure at 0x291c4d77e10>"
      ]
     },
     "metadata": {},
     "output_type": "display_data"
    }
   ],
   "source": [
    "box_plotter('daylighting')"
   ]
  },
  {
   "cell_type": "code",
   "execution_count": 574,
   "metadata": {},
   "outputs": [],
   "source": [
    "bplot.get_figure().savefig(\"daylight_den_multi.png\", facecolor='white')"
   ]
  },
  {
   "cell_type": "code",
   "execution_count": 575,
   "metadata": {},
   "outputs": [
    {
     "data": {
      "image/png": "[encoded data removed]",
      "text/plain": [
       "<matplotlib.figure.Figure at 0x291c91b9470>"
      ]
     },
     "metadata": {},
     "output_type": "display_data"
    }
   ],
   "source": [
    "box_plotter('surprise')"
   ]
  },
  {
   "cell_type": "code",
   "execution_count": 576,
   "metadata": {},
   "outputs": [],
   "source": [
    "bplot.get_figure().savefig(\"surprise_den_multi.png\", facecolor='white')"
   ]
  },
  {
   "cell_type": "code",
   "execution_count": 577,
   "metadata": {},
   "outputs": [
    {
     "data": {
      "image/png": "[encoded data removed]",
      "text/plain": [
       "<matplotlib.figure.Figure at 0x291c7c3ccf8>"
      ]
     },
     "metadata": {},
     "output_type": "display_data"
    }
   ],
   "source": [
    "box_plotter('comfort')"
   ]
  },
  {
   "cell_type": "code",
   "execution_count": 578,
   "metadata": {},
   "outputs": [],
   "source": [
    "bplot.get_figure().savefig(\"comfort_den_multi.png\", facecolor='white')"
   ]
  },
  {
   "cell_type": "markdown",
   "metadata": {},
   "source": [
    "## GREEN"
   ]
  },
  {
   "cell_type": "code",
   "execution_count": 579,
   "metadata": {},
   "outputs": [],
   "source": [
    "in_put = 'green'"
   ]
  },
  {
   "cell_type": "code",
   "execution_count": 580,
   "metadata": {},
   "outputs": [
    {
     "data": {
      "image/png": "[encoded data removed]",
      "text/plain": [
       "<matplotlib.figure.Figure at 0x291c6d24e80>"
      ]
     },
     "metadata": {},
     "output_type": "display_data"
    }
   ],
   "source": [
    "box_plotter('daylighting')"
   ]
  },
  {
   "cell_type": "code",
   "execution_count": 581,
   "metadata": {},
   "outputs": [],
   "source": [
    "bplot.get_figure().savefig(\"daylight_green.png\", facecolor='white')"
   ]
  },
  {
   "cell_type": "code",
   "execution_count": 582,
   "metadata": {},
   "outputs": [
    {
     "data": {
      "image/png": "[encoded data removed]",
      "text/plain": [
       "<matplotlib.figure.Figure at 0x291c6b4bbe0>"
      ]
     },
     "metadata": {},
     "output_type": "display_data"
    }
   ],
   "source": [
    "box_plotter('comfort')"
   ]
  },
  {
   "cell_type": "code",
   "execution_count": 583,
   "metadata": {},
   "outputs": [],
   "source": [
    "bplot.get_figure().savefig(\"comfort_green.png\", facecolor='white')"
   ]
  },
  {
   "cell_type": "code",
   "execution_count": 584,
   "metadata": {},
   "outputs": [
    {
     "data": {
      "image/png": "[encoded data removed]",
      "text/plain": [
       "<matplotlib.figure.Figure at 0x291cab29630>"
      ]
     },
     "metadata": {},
     "output_type": "display_data"
    }
   ],
   "source": [
    "box_plotter('surprise')"
   ]
  },
  {
   "cell_type": "code",
   "execution_count": 585,
   "metadata": {},
   "outputs": [],
   "source": [
    "bplot.get_figure().savefig(\"surprise_green.png\", facecolor='white')"
   ]
  },
  {
   "cell_type": "markdown",
   "metadata": {},
   "source": [
    "# DATA TRANSFORMATION"
   ]
  },
  {
   "cell_type": "code",
   "execution_count": 586,
   "metadata": {},
   "outputs": [],
   "source": [
    "# FORMAT DATA FOR CLUSTERING TO DETERMINE TRENDS FOR EACH SCORING METHOD AT EACH DENSITY\n",
    "# CREATE A DATAFRAME WITH ALL THREE SCORES, OUTPUTS AS MIN/MAX VALUES, AND REAL-WORLD INPUTS\n",
    "# CLUSTER BEST PERFORMING OBSERVATIONS TO DISTILL TRENDS\n",
    "\n",
    "drop_cols = ['grid_0', 'grid_1', 'grid_2', 'grid_3', 'grid_4', 'grid_5', 'park_attr_0', \n",
    "             'park_attr_1', 'park_attr_2', 'bar_bldg', 'courtyard', 'extrusion', 'industrial', \n",
    "             'infill', 'small_mid', 'street_area', 'iteration', 'towers', 'energy', 'view', 'dist', \n",
    "            'den_multi', 'green', 'park_attr_str', 'street_width']\n",
    "\n",
    "data_drop = data.drop(drop_cols, axis=1)\n",
    "\n",
    "\n",
    "scaler = MinMaxScaler()\n",
    "X_scaled = scaler.fit_transform(data_drop)\n",
    "base_score = [x.sum() for x in X_scaled]\n",
    "X_exp = ((X_scaled*10)**3)\n",
    "exp_score = [x.sum() for x in X_exp]\n",
    "X_log = np.log((X_scaled*10)+1)\n",
    "log_score = [x.sum() for x in X_log]\n",
    "\n",
    "\n",
    "drop_cols = ['iteration', 'grid_0', 'grid_1', 'grid_2', 'grid_3', 'grid_4', 'grid_5', 'park_attr_0', \n",
    "             'park_attr_1', 'park_attr_2', 'bar_bldg', 'courtyard', 'extrusion', 'industrial', \n",
    "             'infill', 'small_mid', 'street_area', 'towers', 'energy', 'view', \n",
    "             'comfort', 'daylighting', 'surprise']\n",
    "\n",
    "df1 = data.drop(drop_cols, axis=1)\n",
    "df2 = pd.DataFrame(X_scaled, columns=['comfort', 'daylighting', 'surprise'])\n",
    "data_new = pd.concat([df1, df2], axis=1, join='inner')\n",
    "data_new['base_score'] = base_score\n",
    "data_new['exp_score'] = exp_score\n",
    "data_new['log_score'] = log_score"
   ]
  },
  {
   "cell_type": "code",
   "execution_count": 587,
   "metadata": {},
   "outputs": [],
   "source": [
    "# ISOLATE TOP SCORES PER APPROACH PER DENSITY \n",
    "Den_S_exp = data_new[data_new.den_multi == 0.8].sort_values(by='exp_score', ascending=False).head(100).drop(['base_score', 'log_score'], axis=1)\n",
    "Den_S_log = data_new[data_new.den_multi == 0.8].sort_values(by='log_score', ascending=False).head(100).drop(['base_score', 'exp_score'], axis=1)\n",
    "Den_M_exp = data_new[data_new.den_multi == 1].sort_values(by='exp_score', ascending=False).head(100).drop(['base_score', 'log_score'], axis=1)\n",
    "Den_M_log = data_new[data_new.den_multi == 1].sort_values(by='log_score', ascending=False).head(100).drop(['base_score', 'exp_score'], axis=1)\n",
    "Den_L_exp = data_new[data_new.den_multi == 1.2].sort_values(by='exp_score', ascending=False).head(100).drop(['base_score', 'log_score'], axis=1)\n",
    "Den_L_log = data_new[data_new.den_multi == 1.2].sort_values(by='log_score', ascending=False).head(100).drop(['base_score', 'exp_score'], axis=1)"
   ]
  },
  {
   "cell_type": "code",
   "execution_count": 588,
   "metadata": {},
   "outputs": [
    {
     "data": {
      "text/plain": [
       "8316"
      ]
     },
     "execution_count": 588,
     "metadata": {},
     "output_type": "execute_result"
    }
   ],
   "source": [
    "len(data_new.log_score.unique())"
   ]
  },
  {
   "cell_type": "markdown",
   "metadata": {},
   "source": [
    "# LASSO"
   ]
  },
  {
   "cell_type": "code",
   "execution_count": 589,
   "metadata": {},
   "outputs": [
    {
     "name": "stdout",
     "output_type": "stream",
     "text": [
      "Baseline RMSE:  251.28764399031667\n"
     ]
    }
   ],
   "source": [
    "# GOAL IS TO CREATE PREDICTIONS FOR EACH DENSITY FOR EACH APPROACH (EXP VS. LOG)\n",
    "metric = exp_score\n",
    "name = 'exp_score'\n",
    "density = 0.8\n",
    "\n",
    "# DROP OUTPUT COLUMNS THAT WON'T EXIST IN PREDICTION DATASET \n",
    "drop_cols = ['daylighting', 'energy', 'comfort', 'surprise', 'iteration', 'bar_bldg', 'courtyard', \n",
    "             'extrusion', 'industrial', 'infill', 'small_mid', 'towers', 'street_area']\n",
    "\n",
    "df = data.iloc[:, :].drop(drop_cols, axis=1)\n",
    "df[name] = metric\n",
    "df = df[df.den_multi == density]     # CREATE DENSITY-BASED SUBSET\n",
    "\n",
    "y = df[name]\n",
    "X = df.drop(name, axis=1)\n",
    "scaler = MinMaxScaler()\n",
    "X_scaled = scaler.fit_transform(X)\n",
    "X_train, X_test, y_train, y_test = train_test_split(X_scaled, y, random_state=1)\n",
    "y_null = np.zeros_like(y_test, dtype=float)\n",
    "y_null.fill(y_test.mean())\n",
    "y_null\n",
    "print('Baseline RMSE: ', np.sqrt(metrics.mean_squared_error(y_test, y_null)))"
   ]
  },
  {
   "cell_type": "code",
   "execution_count": 590,
   "metadata": {},
   "outputs": [
    {
     "name": "stdout",
     "output_type": "stream",
     "text": [
      "Model 1\n",
      "RMSE: 108.40318743583556\n",
      "R2: 0.8266114167784975\n",
      "\n",
      "Model 2\n",
      "RMSE: 114.53739509251223\n",
      "R2: 0.8260840737572678\n",
      "\n",
      "Model 3\n",
      "RMSE: 91.81566346653048\n",
      "R2: 0.8264862200750721\n",
      "\n",
      "Model 4\n",
      "RMSE: 103.21156989333727\n",
      "R2: 0.8268073516616278\n",
      "\n",
      "Model 5\n",
      "RMSE: 102.83345321149599\n",
      "R2: 0.8267761981238055\n",
      "\n",
      "Mean of RMSE for all folds: 104.16025381994231\n",
      "Mean of R2 for all folds: 0.8265530520792541\n"
     ]
    }
   ],
   "source": [
    "# K-FOLDS\n",
    "kf = model_selection.KFold(n_splits=5, shuffle=True)\n",
    "rmse_values = []\n",
    "scores = []\n",
    "n = 0\n",
    "\n",
    "for train_index, test_index in kf.split(X, y):\n",
    "    reg = linear_model.Lasso(alpha = 0.15)\n",
    "    reg.fit(X.iloc[train_index], y.iloc[train_index])\n",
    "    \n",
    "    rmse_values.append(np.sqrt(metrics.mean_squared_error(y.iloc[test_index], reg.predict(X.iloc[test_index]))))\n",
    "    scores.append(reg.score(X, y))\n",
    "    \n",
    "    n += 1\n",
    "    \n",
    "    print('Model {}'.format(n))\n",
    "    print('RMSE: {}'.format(rmse_values[n-1]))\n",
    "    print('R2: {}\\n'.format(scores[n-1]))\n",
    "\n",
    "print('Mean of RMSE for all folds: {}'.format(np.mean(rmse_values)))\n",
    "print('Mean of R2 for all folds: {}'.format(np.mean(scores)))\n",
    "\n"
   ]
  },
  {
   "cell_type": "code",
   "execution_count": 591,
   "metadata": {},
   "outputs": [
    {
     "data": {
      "text/plain": [
       "array([0.8])"
      ]
     },
     "execution_count": 591,
     "metadata": {},
     "output_type": "execute_result"
    }
   ],
   "source": [
    "from sklearn import linear_model\n",
    "reg = linear_model.Lasso(alpha = 0.1)\n",
    "reg.fit([[0, 0], [1, 1]], [0, 1])\n",
    "# Lasso(alpha=0.1, copy_X=True, fit_intercept=True, max_iter=1000,\n",
    "#    normalize=False, positive=False, precompute=False, random_state=None,\n",
    "#    selection='cyclic', tol=0.0001, warm_start=False)\n",
    "reg.predict([[1, 1]])\n",
    "#array([ 0.8])\n"
   ]
  },
  {
   "cell_type": "code",
   "execution_count": null,
   "metadata": {},
   "outputs": [],
   "source": []
  },
  {
   "cell_type": "markdown",
   "metadata": {},
   "source": [
    "# LINEAR REGRESSION"
   ]
  },
  {
   "cell_type": "markdown",
   "metadata": {},
   "source": [
    "### TEST EACH APPROACH"
   ]
  },
  {
   "cell_type": "code",
   "execution_count": 592,
   "metadata": {},
   "outputs": [],
   "source": [
    "results = []"
   ]
  },
  {
   "cell_type": "code",
   "execution_count": 593,
   "metadata": {},
   "outputs": [
    {
     "name": "stdout",
     "output_type": "stream",
     "text": [
      "Baseline RMSE:  0.6368592063006635\n"
     ]
    }
   ],
   "source": [
    "# GOAL IS TO CREATE PREDICTIONS FOR EACH DENSITY FOR EACH APPROACH (EXP VS. LOG)\n",
    "metric = log_score\n",
    "name = 'log_score'\n",
    "density = 1.2\n",
    "\n",
    "# DROP OUTPUT COLUMNS THAT WON'T EXIST IN PREDICTION DATASET \n",
    "drop_cols = ['daylighting', 'energy', 'comfort', 'surprise', 'iteration', 'bar_bldg', 'courtyard', \n",
    "             'extrusion', 'industrial', 'infill', 'small_mid', 'towers', 'street_area']\n",
    "\n",
    "df = data.iloc[:, :].drop(drop_cols, axis=1)\n",
    "df[name] = metric\n",
    "df = df[df.den_multi == density]     # CREATE DENSITY-BASED SUBSET\n",
    "\n",
    "y = df[name]\n",
    "X = df.drop(name, axis=1)\n",
    "scaler = MinMaxScaler()\n",
    "X_scaled = scaler.fit_transform(X)\n",
    "X_train, X_test, y_train, y_test = train_test_split(X_scaled, y, random_state=1)\n",
    "y_null = np.zeros_like(y_test, dtype=float)\n",
    "y_null.fill(y_test.mean())\n",
    "y_null\n",
    "print('Baseline RMSE: ', np.sqrt(metrics.mean_squared_error(y_test, y_null)))"
   ]
  },
  {
   "cell_type": "code",
   "execution_count": 594,
   "metadata": {},
   "outputs": [
    {
     "name": "stdout",
     "output_type": "stream",
     "text": [
      "Model 1\n",
      "RMSE: 0.28763580307728376\n",
      "R2: 0.7747956781547594\n",
      "\n",
      "Model 2\n",
      "RMSE: 0.30325942482976437\n",
      "R2: 0.7749504834080262\n",
      "\n",
      "Model 3\n",
      "RMSE: 0.30439359887672723\n",
      "R2: 0.7749464434682044\n",
      "\n",
      "Model 4\n",
      "RMSE: 0.3036036224369997\n",
      "R2: 0.7748557964308997\n",
      "\n",
      "Model 5\n",
      "RMSE: 0.29845032586384346\n",
      "R2: 0.7748721333050743\n",
      "\n",
      "Mean of RMSE for all folds: 0.2994685550169237\n",
      "Mean of R2 for all folds: 0.7748841069533928\n"
     ]
    }
   ],
   "source": [
    "# K-FOLDS\n",
    "kf = model_selection.KFold(n_splits=5, shuffle=True)\n",
    "rmse_values = []\n",
    "scores = []\n",
    "n = 0\n",
    "\n",
    "for train_index, test_index in kf.split(X, y):\n",
    "    lr = LinearRegression().fit(X.iloc[train_index], y.iloc[train_index])\n",
    "    \n",
    "    rmse_values.append(np.sqrt(metrics.mean_squared_error(y.iloc[test_index], lr.predict(X.iloc[test_index]))))\n",
    "    scores.append(lr.score(X, y))\n",
    "    \n",
    "    n += 1\n",
    "    \n",
    "    print('Model {}'.format(n))\n",
    "    print('RMSE: {}'.format(rmse_values[n-1]))\n",
    "    print('R2: {}\\n'.format(scores[n-1]))\n",
    "\n",
    "print('Mean of RMSE for all folds: {}'.format(np.mean(rmse_values)))\n",
    "print('Mean of R2 for all folds: {}'.format(np.mean(scores)))\n",
    "\n",
    "results.append({'name': name, 'density': density, 'RMSE': format(np.mean(rmse_values)), 'R2': format(np.mean(scores))})          "
   ]
  },
  {
   "cell_type": "code",
   "execution_count": 595,
   "metadata": {},
   "outputs": [
    {
     "data": {
      "text/plain": [
       "[{'R2': '0.7748841069533928',\n",
       "  'RMSE': '0.2994685550169237',\n",
       "  'density': 1.2,\n",
       "  'name': 'log_score'}]"
      ]
     },
     "execution_count": 595,
     "metadata": {},
     "output_type": "execute_result"
    }
   ],
   "source": [
    "results"
   ]
  },
  {
   "cell_type": "markdown",
   "metadata": {},
   "source": [
    "### CREATE LINEAR MODEL FOR EACH APPROACH"
   ]
  },
  {
   "cell_type": "code",
   "execution_count": 596,
   "metadata": {},
   "outputs": [],
   "source": [
    "# DROP OUTPUT COLUMNS THAT WON'T EXIST IN PREDICTION DATASET \n",
    "drop_cols = ['daylighting', 'energy', 'view', 'comfort', 'surprise', 'iteration', 'bar_bldg', 'courtyard', \n",
    "             'extrusion', 'industrial', 'infill', 'small_mid', 'towers', 'street_area']\n",
    "\n",
    "df = data.iloc[:, :].drop(drop_cols, axis=1)\n",
    "df['exp_score'] = exp_score\n",
    "df['log_score'] = log_score"
   ]
  },
  {
   "cell_type": "code",
   "execution_count": 597,
   "metadata": {},
   "outputs": [],
   "source": [
    "scaler = MinMaxScaler()\n",
    "\n",
    "# LOW DENSITY EXP\n",
    "df_low = df[df.den_multi == 0.8] \n",
    "y = df_low['exp_score']\n",
    "X = df_low.drop(['exp_score', 'log_score'], axis=1)\n",
    "X_scaled = scaler.fit_transform(X)\n",
    "lr_S_exp = LinearRegression().fit(X, y)\n",
    "\n",
    "# LOW DENSITY LOG\n",
    "y = df_low['log_score']\n",
    "X = df_low.drop(['exp_score', 'log_score'], axis=1)\n",
    "X_scaled = scaler.fit_transform(X)\n",
    "lr_S_log = LinearRegression().fit(X, y)\n",
    "\n",
    "# MID DENSITY EXP\n",
    "df_mid = df[df.den_multi == 1] \n",
    "y = df_mid['exp_score']\n",
    "X = df_mid.drop(['exp_score', 'log_score'], axis=1)\n",
    "X_scaled = scaler.fit_transform(X)\n",
    "lr_M_exp = LinearRegression().fit(X, y)\n",
    "\n",
    "# MID DENSITY LOG\n",
    "y = df_mid['log_score']\n",
    "X = df_mid.drop(['exp_score', 'log_score'], axis=1)\n",
    "X_scaled = scaler.fit_transform(X)\n",
    "lr_M_log = LinearRegression().fit(X, y)\n",
    "\n",
    "# HIGH DENSITY EXP\n",
    "df_high = df[df.den_multi == 1.2] \n",
    "y = df_high['exp_score']\n",
    "X = df_high.drop(['exp_score', 'log_score'], axis=1)\n",
    "X_scaled = scaler.fit_transform(X)\n",
    "lr_L_exp = LinearRegression().fit(X, y)\n",
    "\n",
    "# HIGH DENSITY LOG\n",
    "y = df_high['log_score']\n",
    "X = df_high.drop(['exp_score', 'log_score'], axis=1)\n",
    "X_scaled = scaler.fit_transform(X)\n",
    "lr_L_log = LinearRegression().fit(X, y)"
   ]
  },
  {
   "cell_type": "markdown",
   "metadata": {},
   "source": [
    "### MAKE PREDICTIONS"
   ]
  },
  {
   "cell_type": "code",
   "execution_count": 598,
   "metadata": {},
   "outputs": [],
   "source": [
    "# PREDICT ITERATIONS MOST LIKELY TO ACHIEVE HIGH SCORE FOR EACH APPROACH\n",
    "# CREATE ONE BIG LIST THAT CAN BE EXPORTED TO A CSV AND READ INTO GRASSHOPPER\n",
    "\n",
    "num_pred = 50\n",
    "predictions = []\n",
    "\n",
    "# LOW DENSITY EXP\n",
    "X = data_pred[data_pred.den_multi == 0.8].drop('iteration', axis=1)\n",
    "X_scaled = scaler.fit_transform(X)\n",
    "pred = lr_S_exp.predict(X_scaled)\n",
    "iterations = data_pred[data_pred.den_multi == 0.8].iteration\n",
    "scores = pd.DataFrame(iterations)\n",
    "scores['results'] = pred\n",
    "best_bets = scores.sort_values(by='results', ascending=False).iteration[:num_pred].tolist()\n",
    "for bet in best_bets:\n",
    "    predictions.append(bet)\n",
    "\n",
    "# LOW DENSITY LOG\n",
    "X = data_pred[data_pred.den_multi == 0.8].drop('iteration', axis=1)\n",
    "X_scaled = scaler.fit_transform(X)\n",
    "pred = lr_S_log.predict(X_scaled)\n",
    "iterations = data_pred[data_pred.den_multi == 0.8].iteration\n",
    "scores = pd.DataFrame(iterations)\n",
    "scores['results'] = pred\n",
    "best_bets = scores.sort_values(by='results', ascending=False).iteration[:num_pred].tolist()\n",
    "for bet in best_bets:\n",
    "    predictions.append(bet)\n",
    "\n",
    "# MID DENSITY EXP\n",
    "X = data_pred[data_pred.den_multi == 1].drop('iteration', axis=1)\n",
    "X_scaled = scaler.fit_transform(X)\n",
    "pred = lr_M_exp.predict(X_scaled)\n",
    "iterations = data_pred[data_pred.den_multi == 1].iteration\n",
    "scores = pd.DataFrame(iterations)\n",
    "scores['results'] = pred\n",
    "best_bets = scores.sort_values(by='results', ascending=False).iteration[:num_pred].tolist()\n",
    "for bet in best_bets:\n",
    "    predictions.append(bet)\n",
    "\n",
    "# MID DENSITY LOG\n",
    "X = data_pred[data_pred.den_multi == 1].drop('iteration', axis=1)\n",
    "X_scaled = scaler.fit_transform(X)\n",
    "pred = lr_M_log.predict(X_scaled)\n",
    "iterations = data_pred[data_pred.den_multi == 1].iteration\n",
    "scores = pd.DataFrame(iterations)\n",
    "scores['results'] = pred\n",
    "best_bets = scores.sort_values(by='results', ascending=False).iteration[:num_pred].tolist()\n",
    "for bet in best_bets:\n",
    "    predictions.append(bet)\n",
    "\n",
    "# HIGH DENSITY EXP\n",
    "X = data_pred[data_pred.den_multi == 1.2].drop('iteration', axis=1)\n",
    "X_scaled = scaler.fit_transform(X)\n",
    "pred = lr_L_exp.predict(X_scaled)\n",
    "iterations = data_pred[data_pred.den_multi == 1.2].iteration\n",
    "scores = pd.DataFrame(iterations)\n",
    "scores['results'] = pred\n",
    "best_bets = scores.sort_values(by='results', ascending=False).iteration[:num_pred].tolist()\n",
    "for bet in best_bets:\n",
    "    predictions.append(bet)\n",
    "\n",
    "# HIGH DENSITY LOG\n",
    "X = data_pred[data_pred.den_multi == 1.2].drop('iteration', axis=1)\n",
    "X_scaled = scaler.fit_transform(X)\n",
    "pred = lr_L_log.predict(X_scaled)\n",
    "iterations = data_pred[data_pred.den_multi == 1.2].iteration\n",
    "scores = pd.DataFrame(iterations)\n",
    "scores['results'] = pred\n",
    "best_bets = scores.sort_values(by='results', ascending=False).iteration[:num_pred].tolist()\n",
    "for bet in best_bets:\n",
    "    predictions.append(bet)"
   ]
  },
  {
   "cell_type": "code",
   "execution_count": 599,
   "metadata": {},
   "outputs": [
    {
     "ename": "PermissionError",
     "evalue": "[Errno 13] Permission denied: './CSV/predictions.csv'",
     "output_type": "error",
     "traceback": [
      "\u001b[1;31m---------------------------------------------------------------------------\u001b[0m",
      "\u001b[1;31mPermissionError\u001b[0m                           Traceback (most recent call last)",
      "\u001b[1;32m<ipython-input-599-25dced01bcee>\u001b[0m in \u001b[0;36m<module>\u001b[1;34m()\u001b[0m\n\u001b[0;32m      2\u001b[0m \u001b[0mfinal\u001b[0m \u001b[1;33m=\u001b[0m \u001b[0mlist\u001b[0m\u001b[1;33m(\u001b[0m\u001b[0mset\u001b[0m\u001b[1;33m(\u001b[0m\u001b[0mpredictions\u001b[0m\u001b[1;33m)\u001b[0m\u001b[1;33m)\u001b[0m \u001b[1;31m# kill duplicates\u001b[0m\u001b[1;33m\u001b[0m\u001b[0m\n\u001b[0;32m      3\u001b[0m \u001b[0mout_put\u001b[0m \u001b[1;33m=\u001b[0m \u001b[0mpd\u001b[0m\u001b[1;33m.\u001b[0m\u001b[0mDataFrame\u001b[0m\u001b[1;33m(\u001b[0m\u001b[0mfinal\u001b[0m\u001b[1;33m,\u001b[0m \u001b[0mcolumns\u001b[0m\u001b[1;33m=\u001b[0m\u001b[1;33m[\u001b[0m\u001b[1;34m'iterations'\u001b[0m\u001b[1;33m]\u001b[0m\u001b[1;33m)\u001b[0m\u001b[1;33m\u001b[0m\u001b[0m\n\u001b[1;32m----> 4\u001b[1;33m \u001b[0mout_put\u001b[0m\u001b[1;33m.\u001b[0m\u001b[0mto_csv\u001b[0m\u001b[1;33m(\u001b[0m\u001b[1;34m'./CSV/predictions.csv'\u001b[0m\u001b[1;33m)\u001b[0m\u001b[1;33m\u001b[0m\u001b[0m\n\u001b[0m",
      "\u001b[1;32m~\\AppData\\Local\\Continuum\\anaconda3\\lib\\site-packages\\pandas\\core\\frame.py\u001b[0m in \u001b[0;36mto_csv\u001b[1;34m(self, path_or_buf, sep, na_rep, float_format, columns, header, index, index_label, mode, encoding, compression, quoting, quotechar, line_terminator, chunksize, tupleize_cols, date_format, doublequote, escapechar, decimal)\u001b[0m\n\u001b[0;32m   1522\u001b[0m                                      \u001b[0mdoublequote\u001b[0m\u001b[1;33m=\u001b[0m\u001b[0mdoublequote\u001b[0m\u001b[1;33m,\u001b[0m\u001b[1;33m\u001b[0m\u001b[0m\n\u001b[0;32m   1523\u001b[0m                                      escapechar=escapechar, decimal=decimal)\n\u001b[1;32m-> 1524\u001b[1;33m         \u001b[0mformatter\u001b[0m\u001b[1;33m.\u001b[0m\u001b[0msave\u001b[0m\u001b[1;33m(\u001b[0m\u001b[1;33m)\u001b[0m\u001b[1;33m\u001b[0m\u001b[0m\n\u001b[0m\u001b[0;32m   1525\u001b[0m \u001b[1;33m\u001b[0m\u001b[0m\n\u001b[0;32m   1526\u001b[0m         \u001b[1;32mif\u001b[0m \u001b[0mpath_or_buf\u001b[0m \u001b[1;32mis\u001b[0m \u001b[1;32mNone\u001b[0m\u001b[1;33m:\u001b[0m\u001b[1;33m\u001b[0m\u001b[0m\n",
      "\u001b[1;32m~\\AppData\\Local\\Continuum\\anaconda3\\lib\\site-packages\\pandas\\io\\formats\\format.py\u001b[0m in \u001b[0;36msave\u001b[1;34m(self)\u001b[0m\n\u001b[0;32m   1635\u001b[0m             f, handles = _get_handle(self.path_or_buf, self.mode,\n\u001b[0;32m   1636\u001b[0m                                      \u001b[0mencoding\u001b[0m\u001b[1;33m=\u001b[0m\u001b[0mencoding\u001b[0m\u001b[1;33m,\u001b[0m\u001b[1;33m\u001b[0m\u001b[0m\n\u001b[1;32m-> 1637\u001b[1;33m                                      compression=self.compression)\n\u001b[0m\u001b[0;32m   1638\u001b[0m             \u001b[0mclose\u001b[0m \u001b[1;33m=\u001b[0m \u001b[1;32mTrue\u001b[0m\u001b[1;33m\u001b[0m\u001b[0m\n\u001b[0;32m   1639\u001b[0m \u001b[1;33m\u001b[0m\u001b[0m\n",
      "\u001b[1;32m~\\AppData\\Local\\Continuum\\anaconda3\\lib\\site-packages\\pandas\\io\\common.py\u001b[0m in \u001b[0;36m_get_handle\u001b[1;34m(path_or_buf, mode, encoding, compression, memory_map, is_text)\u001b[0m\n\u001b[0;32m    388\u001b[0m         \u001b[1;32melif\u001b[0m \u001b[0mencoding\u001b[0m\u001b[1;33m:\u001b[0m\u001b[1;33m\u001b[0m\u001b[0m\n\u001b[0;32m    389\u001b[0m             \u001b[1;31m# Python 3 and encoding\u001b[0m\u001b[1;33m\u001b[0m\u001b[1;33m\u001b[0m\u001b[0m\n\u001b[1;32m--> 390\u001b[1;33m             \u001b[0mf\u001b[0m \u001b[1;33m=\u001b[0m \u001b[0mopen\u001b[0m\u001b[1;33m(\u001b[0m\u001b[0mpath_or_buf\u001b[0m\u001b[1;33m,\u001b[0m \u001b[0mmode\u001b[0m\u001b[1;33m,\u001b[0m \u001b[0mencoding\u001b[0m\u001b[1;33m=\u001b[0m\u001b[0mencoding\u001b[0m\u001b[1;33m)\u001b[0m\u001b[1;33m\u001b[0m\u001b[0m\n\u001b[0m\u001b[0;32m    391\u001b[0m         \u001b[1;32melif\u001b[0m \u001b[0mis_text\u001b[0m\u001b[1;33m:\u001b[0m\u001b[1;33m\u001b[0m\u001b[0m\n\u001b[0;32m    392\u001b[0m             \u001b[1;31m# Python 3 and no explicit encoding\u001b[0m\u001b[1;33m\u001b[0m\u001b[1;33m\u001b[0m\u001b[0m\n",
      "\u001b[1;31mPermissionError\u001b[0m: [Errno 13] Permission denied: './CSV/predictions.csv'"
     ]
    }
   ],
   "source": [
    "# PREDICTIONS ARE THE ITERATIONS, NOT THE SCORES\n",
    "final = list(set(predictions)) # kill duplicates\n",
    "out_put = pd.DataFrame(final, columns=['iterations'])\n",
    "out_put.to_csv('./CSV/predictions.csv')"
   ]
  },
  {
   "cell_type": "code",
   "execution_count": null,
   "metadata": {},
   "outputs": [],
   "source": []
  },
  {
   "cell_type": "markdown",
   "metadata": {},
   "source": [
    "# ANALYZE PREDICTIONS"
   ]
  },
  {
   "cell_type": "code",
   "execution_count": null,
   "metadata": {},
   "outputs": [],
   "source": [
    "results = pd.read_csv('./CSV/results.csv')"
   ]
  },
  {
   "cell_type": "code",
   "execution_count": null,
   "metadata": {},
   "outputs": [],
   "source": [
    "drop_results = ['name', 'out:Landmark View', 'out:Energy Efficiency', 'out:#Towers', 'out:#Extrusions', 'out:#Industrial', \n",
    "                'out:#Courtyards', 'out:#Bar Bldgs', 'out:#Small Mid', 'out:#Infill', 'out:GFA', 'out:Street Area']\n",
    "\n",
    "results.drop(drop_results, axis=1, inplace=True)"
   ]
  },
  {
   "cell_type": "code",
   "execution_count": null,
   "metadata": {},
   "outputs": [],
   "source": [
    "results.columns = ['iteration', 'surprise', 'daylighting', 'comfort']"
   ]
  },
  {
   "cell_type": "code",
   "execution_count": null,
   "metadata": {},
   "outputs": [],
   "source": [
    "scaler = MinMaxScaler()\n",
    "X_scaled = scaler.fit_transform(results.drop('iteration', axis=1))\n",
    "X_exp = ((X_scaled*10)**3)\n",
    "exp_score = [x.sum() for x in X_exp]\n",
    "X_log = np.log((X_scaled*10)+1)\n",
    "log_score = [x.sum() for x in X_log]\n",
    "\n",
    "results['exp_score'] = exp_score\n",
    "results['log_score'] = log_score"
   ]
  },
  {
   "cell_type": "code",
   "execution_count": null,
   "metadata": {},
   "outputs": [],
   "source": [
    "results.sort_values(by='exp_score', ascending=False).head(20)"
   ]
  },
  {
   "cell_type": "code",
   "execution_count": null,
   "metadata": {},
   "outputs": [],
   "source": [
    "data['exp_score'] = data_new.exp_score\n",
    "data['log_score'] = data_new.log_score"
   ]
  },
  {
   "cell_type": "code",
   "execution_count": null,
   "metadata": {},
   "outputs": [],
   "source": [
    "data_scores = data[['surprise', 'daylighting', 'comfort', 'exp_score', 'log_score']]"
   ]
  },
  {
   "cell_type": "code",
   "execution_count": null,
   "metadata": {},
   "outputs": [],
   "source": [
    "data_scores.sort_values(by='exp_score', ascending=False).head(20)"
   ]
  },
  {
   "cell_type": "code",
   "execution_count": null,
   "metadata": {},
   "outputs": [],
   "source": [
    "data_scores.log_score.value_counts()"
   ]
  },
  {
   "cell_type": "code",
   "execution_count": null,
   "metadata": {},
   "outputs": [],
   "source": []
  },
  {
   "cell_type": "markdown",
   "metadata": {},
   "source": [
    "# IMPORT AND FORMAT NEW DATA "
   ]
  },
  {
   "cell_type": "code",
   "execution_count": null,
   "metadata": {},
   "outputs": [],
   "source": [
    "# PURELY FOR VISUALIZATION\n",
    "\n",
    "df = data_new.iloc[:, :]\n",
    "\n",
    "scaler = MinMaxScaler()\n",
    "X_scaled = scaler.fit_transform(df)\n",
    "k = 15\n",
    "kmeans = cluster.KMeans(n_clusters=k)\n",
    "kmeans.fit(X_scaled);\n",
    "clusters = kmeans.labels_\n",
    "df['cluster'] = clusters\n",
    "cols = ['comfort', 'daylighting', 'surprise']\n",
    "color = sns.diverging_palette(330, 250, n=7, s=99)\n",
    "#color = sns.cubehelix_palette(light=1)\n",
    "asdf = sns.pairplot(data_new, x_vars=cols, y_vars= cols, hue='cluster', palette=color,\n",
    "                    plot_kws={'alpha': 0.2, 's':40});\n",
    "asdf.fig.set_size_inches(22,16)"
   ]
  },
  {
   "cell_type": "code",
   "execution_count": null,
   "metadata": {},
   "outputs": [],
   "source": [
    "scores = [score**.7 for score in exp_score]\n",
    "cols = ['comfort', 'daylighting', 'surprise']\n",
    "\n",
    "asdf = sns.pairplot(data_new[data_new.den_multi==0.8], x_vars=cols, y_vars=cols, kind='reg', \n",
    "             plot_kws={'line_kws':{'color':'red', 'linewidth':1}, 'scatter_kws': {'alpha': 0.1, 's':scores}});\n",
    "asdf.fig.set_size_inches(20,16)"
   ]
  },
  {
   "cell_type": "code",
   "execution_count": null,
   "metadata": {},
   "outputs": [],
   "source": []
  },
  {
   "cell_type": "markdown",
   "metadata": {},
   "source": [
    "# K-MEANS"
   ]
  },
  {
   "cell_type": "code",
   "execution_count": null,
   "metadata": {},
   "outputs": [],
   "source": [
    "# ARE WE NORMALIZING THE INPUT VALUES????"
   ]
  },
  {
   "cell_type": "code",
   "execution_count": 616,
   "metadata": {},
   "outputs": [
    {
     "data": {
      "image/png": "[encoded data removed]",
      "text/plain": [
       "<matplotlib.figure.Figure at 0x291c4db3908>"
      ]
     },
     "metadata": {},
     "output_type": "display_data"
    },
    {
     "data": {
      "image/png": "[encoded data removed]",
      "text/plain": [
       "<matplotlib.figure.Figure at 0x291c5047cc0>"
      ]
     },
     "metadata": {},
     "output_type": "display_data"
    }
   ],
   "source": [
    "# NAME DENSITY AND SCORE METHOD TO CLUSTER\n",
    "df = Den_S_exp\n",
    "\n",
    "column_names = ['exp_score']\n",
    "Values = df.drop(column_names, axis=1)\n",
    "\n",
    "k_range = range(2,11)\n",
    "distortions = []\n",
    "scores = []\n",
    "for i in k_range:\n",
    "    km = cluster.KMeans(n_clusters=i, init='k-means++', n_init=10, max_iter=50, random_state=0)\n",
    "    # SHOULDN'T SETTING RANDOM_STATE TO AN INTEGER ENSURE THAT THE RESULTS ARE THE SAME EACH TIME?\n",
    "    km.fit(Values)\n",
    "    distortions.append(km.inertia_)\n",
    "    scores.append(metrics.silhouette_score(Values,km.labels_))\n",
    "    \n",
    "plt.plot(k_range, distortions, marker='o', linewidth=1)\n",
    "plt.xlabel('Number of clusters')\n",
    "plt.ylabel('Distortion')\n",
    "plt.tight_layout()\n",
    "plt.show()\n",
    "\n",
    "plt.plot(k_range, scores, linewidth=1)\n",
    "plt.xlabel('Number of clusters')\n",
    "plt.ylabel('silhouette coefficient')\n",
    "plt.tight_layout()\n",
    "plt.show()"
   ]
  },
  {
   "cell_type": "code",
   "execution_count": 618,
   "metadata": {},
   "outputs": [
    {
     "name": "stdout",
     "output_type": "stream",
     "text": [
      "2    29\n",
      "0    27\n",
      "4    18\n",
      "3    13\n",
      "1    13\n",
      "Name: cluster, dtype: int64\n"
     ]
    },
    {
     "data": {
      "text/html": [
       "<div>\n",
       "<style scoped>\n",
       "    .dataframe tbody tr th:only-of-type {\n",
       "        vertical-align: middle;\n",
       "    }\n",
       "\n",
       "    .dataframe tbody tr th {\n",
       "        vertical-align: top;\n",
       "    }\n",
       "\n",
       "    .dataframe thead th {\n",
       "        text-align: right;\n",
       "    }\n",
       "</style>\n",
       "<table border=\"1\" class=\"dataframe\">\n",
       "  <thead>\n",
       "    <tr style=\"text-align: right;\">\n",
       "      <th>cluster</th>\n",
       "      <th>0</th>\n",
       "      <th>1</th>\n",
       "      <th>2</th>\n",
       "      <th>3</th>\n",
       "      <th>4</th>\n",
       "    </tr>\n",
       "  </thead>\n",
       "  <tbody>\n",
       "    <tr>\n",
       "      <th>dist</th>\n",
       "      <td>1.888889</td>\n",
       "      <td>4.000000</td>\n",
       "      <td>1.267241</td>\n",
       "      <td>3.000000</td>\n",
       "      <td>1.347222</td>\n",
       "    </tr>\n",
       "    <tr>\n",
       "      <th>den_multi</th>\n",
       "      <td>0.800000</td>\n",
       "      <td>0.800000</td>\n",
       "      <td>0.800000</td>\n",
       "      <td>0.800000</td>\n",
       "      <td>0.800000</td>\n",
       "    </tr>\n",
       "    <tr>\n",
       "      <th>green</th>\n",
       "      <td>0.216667</td>\n",
       "      <td>0.211538</td>\n",
       "      <td>0.174138</td>\n",
       "      <td>0.215385</td>\n",
       "      <td>0.266667</td>\n",
       "    </tr>\n",
       "    <tr>\n",
       "      <th>park_attr_str</th>\n",
       "      <td>0.711111</td>\n",
       "      <td>0.650000</td>\n",
       "      <td>0.686207</td>\n",
       "      <td>0.719231</td>\n",
       "      <td>0.700000</td>\n",
       "    </tr>\n",
       "    <tr>\n",
       "      <th>street_width</th>\n",
       "      <td>1.074074</td>\n",
       "      <td>0.984615</td>\n",
       "      <td>0.931034</td>\n",
       "      <td>1.069231</td>\n",
       "      <td>1.266667</td>\n",
       "    </tr>\n",
       "    <tr>\n",
       "      <th>comfort</th>\n",
       "      <td>0.488408</td>\n",
       "      <td>0.491908</td>\n",
       "      <td>0.598925</td>\n",
       "      <td>0.485315</td>\n",
       "      <td>0.397114</td>\n",
       "    </tr>\n",
       "    <tr>\n",
       "      <th>daylighting</th>\n",
       "      <td>0.363361</td>\n",
       "      <td>0.395940</td>\n",
       "      <td>0.268161</td>\n",
       "      <td>0.402886</td>\n",
       "      <td>0.452103</td>\n",
       "    </tr>\n",
       "    <tr>\n",
       "      <th>surprise</th>\n",
       "      <td>0.926731</td>\n",
       "      <td>0.916388</td>\n",
       "      <td>0.912294</td>\n",
       "      <td>0.933110</td>\n",
       "      <td>0.922705</td>\n",
       "    </tr>\n",
       "    <tr>\n",
       "      <th>exp_score</th>\n",
       "      <td>995.497093</td>\n",
       "      <td>1001.306671</td>\n",
       "      <td>1019.256808</td>\n",
       "      <td>1033.477725</td>\n",
       "      <td>961.676745</td>\n",
       "    </tr>\n",
       "  </tbody>\n",
       "</table>\n",
       "</div>"
      ],
      "text/plain": [
       "cluster                 0            1            2            3           4\n",
       "dist             1.888889     4.000000     1.267241     3.000000    1.347222\n",
       "den_multi        0.800000     0.800000     0.800000     0.800000    0.800000\n",
       "green            0.216667     0.211538     0.174138     0.215385    0.266667\n",
       "park_attr_str    0.711111     0.650000     0.686207     0.719231    0.700000\n",
       "street_width     1.074074     0.984615     0.931034     1.069231    1.266667\n",
       "comfort          0.488408     0.491908     0.598925     0.485315    0.397114\n",
       "daylighting      0.363361     0.395940     0.268161     0.402886    0.452103\n",
       "surprise         0.926731     0.916388     0.912294     0.933110    0.922705\n",
       "exp_score      995.497093  1001.306671  1019.256808  1033.477725  961.676745"
      ]
     },
     "execution_count": 618,
     "metadata": {},
     "output_type": "execute_result"
    }
   ],
   "source": [
    "k = 5\n",
    "kmeans = cluster.KMeans(n_clusters=k, init='k-means++', n_init=10, max_iter=50, random_state=0)\n",
    "kmeans.fit(Values)\n",
    "clusters = kmeans.labels_\n",
    "df['cluster'] = clusters\n",
    "print(df.cluster.value_counts())\n",
    "\n",
    "df.groupby('cluster').mean().T"
   ]
  },
  {
   "cell_type": "code",
   "execution_count": 626,
   "metadata": {},
   "outputs": [],
   "source": [
    "# This is just giving us the mean values. \n",
    "\n",
    "# center_cols = Values.columns\n",
    "# centers = kmeans.cluster_centers_\n",
    "# centers_df = pd.DataFrame(centers, columns=center_cols)\n",
    "# centers_df"
   ]
  },
  {
   "cell_type": "code",
   "execution_count": 637,
   "metadata": {},
   "outputs": [
    {
     "data": {
      "text/html": [
       "<div>\n",
       "<style scoped>\n",
       "    .dataframe tbody tr th:only-of-type {\n",
       "        vertical-align: middle;\n",
       "    }\n",
       "\n",
       "    .dataframe tbody tr th {\n",
       "        vertical-align: top;\n",
       "    }\n",
       "\n",
       "    .dataframe thead th {\n",
       "        text-align: right;\n",
       "    }\n",
       "</style>\n",
       "<table border=\"1\" class=\"dataframe\">\n",
       "  <thead>\n",
       "    <tr style=\"text-align: right;\">\n",
       "      <th></th>\n",
       "      <th>dist</th>\n",
       "      <th>den_multi</th>\n",
       "      <th>green</th>\n",
       "      <th>park_attr_str</th>\n",
       "      <th>street_width</th>\n",
       "      <th>comfort</th>\n",
       "      <th>daylighting</th>\n",
       "      <th>surprise</th>\n",
       "      <th>error</th>\n",
       "    </tr>\n",
       "  </thead>\n",
       "  <tbody>\n",
       "    <tr>\n",
       "      <th>6692</th>\n",
       "      <td>1.25</td>\n",
       "      <td>0.8</td>\n",
       "      <td>0.10</td>\n",
       "      <td>0.80</td>\n",
       "      <td>0.9</td>\n",
       "      <td>0.636364</td>\n",
       "      <td>0.219020</td>\n",
       "      <td>0.891304</td>\n",
       "      <td>0.154799</td>\n",
       "    </tr>\n",
       "    <tr>\n",
       "      <th>4513</th>\n",
       "      <td>1.25</td>\n",
       "      <td>0.8</td>\n",
       "      <td>0.25</td>\n",
       "      <td>0.65</td>\n",
       "      <td>1.0</td>\n",
       "      <td>0.493506</td>\n",
       "      <td>0.323727</td>\n",
       "      <td>0.934783</td>\n",
       "      <td>0.163786</td>\n",
       "    </tr>\n",
       "    <tr>\n",
       "      <th>4978</th>\n",
       "      <td>1.25</td>\n",
       "      <td>0.8</td>\n",
       "      <td>0.10</td>\n",
       "      <td>0.80</td>\n",
       "      <td>0.8</td>\n",
       "      <td>0.646753</td>\n",
       "      <td>0.192843</td>\n",
       "      <td>0.891304</td>\n",
       "      <td>0.210507</td>\n",
       "    </tr>\n",
       "    <tr>\n",
       "      <th>6355</th>\n",
       "      <td>1.25</td>\n",
       "      <td>0.8</td>\n",
       "      <td>0.15</td>\n",
       "      <td>0.50</td>\n",
       "      <td>0.8</td>\n",
       "      <td>0.698701</td>\n",
       "      <td>0.236071</td>\n",
       "      <td>0.934783</td>\n",
       "      <td>0.253404</td>\n",
       "    </tr>\n",
       "    <tr>\n",
       "      <th>320</th>\n",
       "      <td>1.25</td>\n",
       "      <td>0.8</td>\n",
       "      <td>0.15</td>\n",
       "      <td>0.50</td>\n",
       "      <td>1.1</td>\n",
       "      <td>0.662338</td>\n",
       "      <td>0.254323</td>\n",
       "      <td>0.869565</td>\n",
       "      <td>0.264841</td>\n",
       "    </tr>\n",
       "  </tbody>\n",
       "</table>\n",
       "</div>"
      ],
      "text/plain": [
       "      dist  den_multi  green  park_attr_str  street_width   comfort  \\\n",
       "6692  1.25        0.8   0.10           0.80           0.9  0.636364   \n",
       "4513  1.25        0.8   0.25           0.65           1.0  0.493506   \n",
       "4978  1.25        0.8   0.10           0.80           0.8  0.646753   \n",
       "6355  1.25        0.8   0.15           0.50           0.8  0.698701   \n",
       "320   1.25        0.8   0.15           0.50           1.1  0.662338   \n",
       "\n",
       "      daylighting  surprise     error  \n",
       "6692     0.219020  0.891304  0.154799  \n",
       "4513     0.323727  0.934783  0.163786  \n",
       "4978     0.192843  0.891304  0.210507  \n",
       "6355     0.236071  0.934783  0.253404  \n",
       "320      0.254323  0.869565  0.264841  "
      ]
     },
     "execution_count": 637,
     "metadata": {},
     "output_type": "execute_result"
    }
   ],
   "source": [
    "# FIND THE MEDOID\n",
    "# CHOICE IS NOT CORRECT TO THE WAY THE \n",
    "\n",
    "choice = 2\n",
    "centers = kmeans.cluster_centers_\n",
    "center = centers[choice]\n",
    "points = df[df.cluster==choice].drop(['cluster', 'exp_score'], axis=1)\n",
    "errors = []\n",
    "\n",
    "for point in points.values:\n",
    "        dist = np.linalg.norm(point-center)\n",
    "        errors.append(dist)\n",
    "\n",
    "points['error'] = errors\n",
    "points.sort_values(by='error').head()"
   ]
  },
  {
   "cell_type": "code",
   "execution_count": 638,
   "metadata": {},
   "outputs": [
    {
     "data": {
      "text/html": [
       "<div>\n",
       "<style scoped>\n",
       "    .dataframe tbody tr th:only-of-type {\n",
       "        vertical-align: middle;\n",
       "    }\n",
       "\n",
       "    .dataframe tbody tr th {\n",
       "        vertical-align: top;\n",
       "    }\n",
       "\n",
       "    .dataframe thead th {\n",
       "        text-align: right;\n",
       "    }\n",
       "</style>\n",
       "<table border=\"1\" class=\"dataframe\">\n",
       "  <thead>\n",
       "    <tr style=\"text-align: right;\">\n",
       "      <th></th>\n",
       "      <th>dist</th>\n",
       "      <th>den_multi</th>\n",
       "      <th>green</th>\n",
       "      <th>park_attr_str</th>\n",
       "      <th>street_width</th>\n",
       "      <th>comfort</th>\n",
       "      <th>daylighting</th>\n",
       "      <th>surprise</th>\n",
       "      <th>error</th>\n",
       "    </tr>\n",
       "  </thead>\n",
       "  <tbody>\n",
       "    <tr>\n",
       "      <th>814</th>\n",
       "      <td>1.0</td>\n",
       "      <td>0.8</td>\n",
       "      <td>0.20</td>\n",
       "      <td>0.95</td>\n",
       "      <td>1.2</td>\n",
       "      <td>0.563636</td>\n",
       "      <td>0.287944</td>\n",
       "      <td>0.891304</td>\n",
       "      <td>0.464858</td>\n",
       "    </tr>\n",
       "    <tr>\n",
       "      <th>3231</th>\n",
       "      <td>1.0</td>\n",
       "      <td>0.8</td>\n",
       "      <td>0.15</td>\n",
       "      <td>0.95</td>\n",
       "      <td>1.2</td>\n",
       "      <td>0.631169</td>\n",
       "      <td>0.275937</td>\n",
       "      <td>0.913043</td>\n",
       "      <td>0.463714</td>\n",
       "    </tr>\n",
       "    <tr>\n",
       "      <th>290</th>\n",
       "      <td>1.5</td>\n",
       "      <td>0.8</td>\n",
       "      <td>0.30</td>\n",
       "      <td>0.95</td>\n",
       "      <td>0.8</td>\n",
       "      <td>0.428571</td>\n",
       "      <td>0.365274</td>\n",
       "      <td>0.934783</td>\n",
       "      <td>0.442416</td>\n",
       "    </tr>\n",
       "    <tr>\n",
       "      <th>6788</th>\n",
       "      <td>1.5</td>\n",
       "      <td>0.8</td>\n",
       "      <td>0.30</td>\n",
       "      <td>0.95</td>\n",
       "      <td>0.8</td>\n",
       "      <td>0.428571</td>\n",
       "      <td>0.365274</td>\n",
       "      <td>0.934783</td>\n",
       "      <td>0.442416</td>\n",
       "    </tr>\n",
       "    <tr>\n",
       "      <th>3104</th>\n",
       "      <td>1.5</td>\n",
       "      <td>0.8</td>\n",
       "      <td>0.25</td>\n",
       "      <td>0.95</td>\n",
       "      <td>0.8</td>\n",
       "      <td>0.438961</td>\n",
       "      <td>0.293948</td>\n",
       "      <td>0.934783</td>\n",
       "      <td>0.416471</td>\n",
       "    </tr>\n",
       "  </tbody>\n",
       "</table>\n",
       "</div>"
      ],
      "text/plain": [
       "      dist  den_multi  green  park_attr_str  street_width   comfort  \\\n",
       "814    1.0        0.8   0.20           0.95           1.2  0.563636   \n",
       "3231   1.0        0.8   0.15           0.95           1.2  0.631169   \n",
       "290    1.5        0.8   0.30           0.95           0.8  0.428571   \n",
       "6788   1.5        0.8   0.30           0.95           0.8  0.428571   \n",
       "3104   1.5        0.8   0.25           0.95           0.8  0.438961   \n",
       "\n",
       "      daylighting  surprise     error  \n",
       "814      0.287944  0.891304  0.464858  \n",
       "3231     0.275937  0.913043  0.463714  \n",
       "290      0.365274  0.934783  0.442416  \n",
       "6788     0.365274  0.934783  0.442416  \n",
       "3104     0.293948  0.934783  0.416471  "
      ]
     },
     "execution_count": 638,
     "metadata": {},
     "output_type": "execute_result"
    }
   ],
   "source": [
    "points.sort_values(by='error', ascending=False).head()"
   ]
  },
  {
   "cell_type": "code",
   "execution_count": null,
   "metadata": {},
   "outputs": [],
   "source": []
  },
  {
   "cell_type": "code",
   "execution_count": null,
   "metadata": {},
   "outputs": [],
   "source": []
  },
  {
   "cell_type": "code",
   "execution_count": 171,
   "metadata": {},
   "outputs": [],
   "source": [
    "# y_km = km.fit_predict(Values)\n",
    "# cluster_labels = np.unique(y_km)\n",
    "# n_clusters = cluster_labels.shape[0]\n",
    "# silhouette_vals = silhouette_samples(Values, y_km, metric='euclidean')\n",
    "# y_ax_lower, y_ax_upper = 0,0\n",
    "# y_ticks = []\n",
    "# for i, c in enumerate(cluster_labels):\n",
    "#     c_silhouette_vals = silhouette_vals(y_km == c)\n",
    "#     c_silhouette_vals.sort()\n",
    "#     y_ax_upper += len(c_silhouette_vals)\n",
    "#     color = cm.jet(i / n_clusters)\n",
    "#     plt.barh(range(y_ax_lower, y_ax_upper), c_silhouette_vals, height=1.0, edgecolor='none', color=color)\n",
    "#     yticks.append((y_ax_lower + y_ax_upper) / 2)\n",
    "#     y_ax_lower += len(c_silhouette_vals)\n",
    "# silhouette_avg = np.mean(silhouette_vals)\n",
    "# plt.axvline(silhouette_avg, color='red', linestyle='--')\n",
    "# plt.yticks(yticks, cluster_labels + 1)\n",
    "# plt.ylabel('Cluster')\n",
    "# plt.xlabel('Silhouette coefficient')\n",
    "# plt.show()"
   ]
  },
  {
   "cell_type": "code",
   "execution_count": null,
   "metadata": {},
   "outputs": [],
   "source": []
  },
  {
   "cell_type": "code",
   "execution_count": 317,
   "metadata": {},
   "outputs": [],
   "source": [
    "# from sklearn.metrics import pairwise_distances_argmin_min\n",
    "# closest, _ = pairwise_distances_argmin_min(km.cluster_centers_, Values)\n",
    "# closest"
   ]
  },
  {
   "cell_type": "code",
   "execution_count": 318,
   "metadata": {},
   "outputs": [],
   "source": [
    "drop_cols = ['bar_bldg', 'courtyard', 'industrial', 'small_mid', 'extrusion', 'infill', 'towers', 'view', 'energy']"
   ]
  },
  {
   "cell_type": "markdown",
   "metadata": {},
   "source": [
    "### Den_S_exp"
   ]
  },
  {
   "cell_type": "code",
   "execution_count": 315,
   "metadata": {},
   "outputs": [
    {
     "data": {
      "text/html": [
       "<div>\n",
       "<style scoped>\n",
       "    .dataframe tbody tr th:only-of-type {\n",
       "        vertical-align: middle;\n",
       "    }\n",
       "\n",
       "    .dataframe tbody tr th {\n",
       "        vertical-align: top;\n",
       "    }\n",
       "\n",
       "    .dataframe thead th {\n",
       "        text-align: right;\n",
       "    }\n",
       "</style>\n",
       "<table border=\"1\" class=\"dataframe\">\n",
       "  <thead>\n",
       "    <tr style=\"text-align: right;\">\n",
       "      <th></th>\n",
       "      <th>dist</th>\n",
       "      <th>den_multi</th>\n",
       "      <th>green</th>\n",
       "      <th>park_attr_str</th>\n",
       "      <th>street_width</th>\n",
       "      <th>comfort</th>\n",
       "      <th>daylighting</th>\n",
       "      <th>surprise</th>\n",
       "      <th>exp_score</th>\n",
       "      <th>cluster</th>\n",
       "    </tr>\n",
       "  </thead>\n",
       "  <tbody>\n",
       "  </tbody>\n",
       "</table>\n",
       "</div>"
      ],
      "text/plain": [
       "Empty DataFrame\n",
       "Columns: [dist, den_multi, green, park_attr_str, street_width, comfort, daylighting, surprise, exp_score, cluster]\n",
       "Index: []"
      ]
     },
     "execution_count": 315,
     "metadata": {},
     "output_type": "execute_result"
    }
   ],
   "source": [
    "# CONCLUSION Den_S_exp: k=5\n",
    "# Cluster O, Centroid is 6355 \n",
    "# 93 Surprise, 70 Comfort, 24 Daylighting \n",
    "df[(df.cluster == 1) & (df.dist == 1.25) & (df.green == 0.15)].head(1)"
   ]
  },
  {
   "cell_type": "code",
   "execution_count": 319,
   "metadata": {},
   "outputs": [
    {
     "data": {
      "text/html": [
       "<div>\n",
       "<style scoped>\n",
       "    .dataframe tbody tr th:only-of-type {\n",
       "        vertical-align: middle;\n",
       "    }\n",
       "\n",
       "    .dataframe tbody tr th {\n",
       "        vertical-align: top;\n",
       "    }\n",
       "\n",
       "    .dataframe thead th {\n",
       "        text-align: right;\n",
       "    }\n",
       "</style>\n",
       "<table border=\"1\" class=\"dataframe\">\n",
       "  <thead>\n",
       "    <tr style=\"text-align: right;\">\n",
       "      <th></th>\n",
       "      <th>dist</th>\n",
       "      <th>den_multi</th>\n",
       "      <th>green</th>\n",
       "      <th>iteration</th>\n",
       "      <th>park_attr_str</th>\n",
       "      <th>street_width</th>\n",
       "      <th>comfort</th>\n",
       "      <th>daylighting</th>\n",
       "      <th>street_area</th>\n",
       "      <th>surprise</th>\n",
       "      <th>grid_0</th>\n",
       "      <th>grid_1</th>\n",
       "      <th>grid_2</th>\n",
       "      <th>grid_3</th>\n",
       "      <th>grid_4</th>\n",
       "      <th>grid_5</th>\n",
       "      <th>park_attr_0</th>\n",
       "      <th>park_attr_1</th>\n",
       "      <th>park_attr_2</th>\n",
       "    </tr>\n",
       "  </thead>\n",
       "  <tbody>\n",
       "    <tr>\n",
       "      <th>6355</th>\n",
       "      <td>1.25</td>\n",
       "      <td>0.8</td>\n",
       "      <td>0.15</td>\n",
       "      <td>6355</td>\n",
       "      <td>0.5</td>\n",
       "      <td>0.8</td>\n",
       "      <td>485</td>\n",
       "      <td>48.64</td>\n",
       "      <td>245881</td>\n",
       "      <td>0.61</td>\n",
       "      <td>0</td>\n",
       "      <td>0</td>\n",
       "      <td>0</td>\n",
       "      <td>0</td>\n",
       "      <td>0</td>\n",
       "      <td>1</td>\n",
       "      <td>0</td>\n",
       "      <td>0</td>\n",
       "      <td>1</td>\n",
       "    </tr>\n",
       "  </tbody>\n",
       "</table>\n",
       "</div>"
      ],
      "text/plain": [
       "      dist  den_multi  green  iteration  park_attr_str  street_width  comfort  \\\n",
       "6355  1.25        0.8   0.15       6355            0.5           0.8      485   \n",
       "\n",
       "      daylighting  street_area  surprise  grid_0  grid_1  grid_2  grid_3  \\\n",
       "6355        48.64       245881      0.61       0       0       0       0   \n",
       "\n",
       "      grid_4  grid_5  park_attr_0  park_attr_1  park_attr_2  \n",
       "6355       0       1            0            0            1  "
      ]
     },
     "execution_count": 319,
     "metadata": {},
     "output_type": "execute_result"
    }
   ],
   "source": [
    "data[data.iteration == 6355].drop(drop_cols, axis=1)"
   ]
  },
  {
   "cell_type": "markdown",
   "metadata": {},
   "source": [
    "### Den_S_log"
   ]
  },
  {
   "cell_type": "code",
   "execution_count": 173,
   "metadata": {},
   "outputs": [
    {
     "data": {
      "text/html": [
       "<div>\n",
       "<style scoped>\n",
       "    .dataframe tbody tr th:only-of-type {\n",
       "        vertical-align: middle;\n",
       "    }\n",
       "\n",
       "    .dataframe tbody tr th {\n",
       "        vertical-align: top;\n",
       "    }\n",
       "\n",
       "    .dataframe thead th {\n",
       "        text-align: right;\n",
       "    }\n",
       "</style>\n",
       "<table border=\"1\" class=\"dataframe\">\n",
       "  <thead>\n",
       "    <tr style=\"text-align: right;\">\n",
       "      <th></th>\n",
       "      <th>dist</th>\n",
       "      <th>den_multi</th>\n",
       "      <th>green</th>\n",
       "      <th>park_attr_str</th>\n",
       "      <th>street_width</th>\n",
       "      <th>comfort</th>\n",
       "      <th>daylighting</th>\n",
       "      <th>surprise</th>\n",
       "      <th>log_score</th>\n",
       "      <th>cluster</th>\n",
       "    </tr>\n",
       "  </thead>\n",
       "  <tbody>\n",
       "    <tr>\n",
       "      <th>2384</th>\n",
       "      <td>4.0</td>\n",
       "      <td>0.8</td>\n",
       "      <td>0.25</td>\n",
       "      <td>0.80</td>\n",
       "      <td>0.9</td>\n",
       "      <td>0.514286</td>\n",
       "      <td>0.366955</td>\n",
       "      <td>0.782609</td>\n",
       "      <td>6.0</td>\n",
       "      <td>2</td>\n",
       "    </tr>\n",
       "    <tr>\n",
       "      <th>7163</th>\n",
       "      <td>4.0</td>\n",
       "      <td>0.8</td>\n",
       "      <td>0.25</td>\n",
       "      <td>0.65</td>\n",
       "      <td>1.4</td>\n",
       "      <td>0.415584</td>\n",
       "      <td>0.554275</td>\n",
       "      <td>0.673913</td>\n",
       "      <td>6.0</td>\n",
       "      <td>2</td>\n",
       "    </tr>\n",
       "    <tr>\n",
       "      <th>1481</th>\n",
       "      <td>4.0</td>\n",
       "      <td>0.8</td>\n",
       "      <td>0.25</td>\n",
       "      <td>0.65</td>\n",
       "      <td>1.4</td>\n",
       "      <td>0.423377</td>\n",
       "      <td>0.503122</td>\n",
       "      <td>0.826087</td>\n",
       "      <td>6.0</td>\n",
       "      <td>2</td>\n",
       "    </tr>\n",
       "    <tr>\n",
       "      <th>4433</th>\n",
       "      <td>4.0</td>\n",
       "      <td>0.8</td>\n",
       "      <td>0.25</td>\n",
       "      <td>0.50</td>\n",
       "      <td>1.2</td>\n",
       "      <td>0.451948</td>\n",
       "      <td>0.454611</td>\n",
       "      <td>0.739130</td>\n",
       "      <td>6.0</td>\n",
       "      <td>2</td>\n",
       "    </tr>\n",
       "  </tbody>\n",
       "</table>\n",
       "</div>"
      ],
      "text/plain": [
       "      dist  den_multi  green  park_attr_str  street_width   comfort  \\\n",
       "2384   4.0        0.8   0.25           0.80           0.9  0.514286   \n",
       "7163   4.0        0.8   0.25           0.65           1.4  0.415584   \n",
       "1481   4.0        0.8   0.25           0.65           1.4  0.423377   \n",
       "4433   4.0        0.8   0.25           0.50           1.2  0.451948   \n",
       "\n",
       "      daylighting  surprise  log_score  cluster  \n",
       "2384     0.366955  0.782609        6.0        2  \n",
       "7163     0.554275  0.673913        6.0        2  \n",
       "1481     0.503122  0.826087        6.0        2  \n",
       "4433     0.454611  0.739130        6.0        2  "
      ]
     },
     "execution_count": 173,
     "metadata": {},
     "output_type": "execute_result"
    }
   ],
   "source": [
    "# CONCLUSION Den_S_log: k=4\n",
    "# Cluster O, Medoid is 4433 \n",
    "# 74 Surprise, 45 Comfort, 46 Daylighting \n",
    "df[(df.cluster == 2) & (df.green == 0.25)].head()"
   ]
  },
  {
   "cell_type": "code",
   "execution_count": 320,
   "metadata": {},
   "outputs": [
    {
     "data": {
      "text/html": [
       "<div>\n",
       "<style scoped>\n",
       "    .dataframe tbody tr th:only-of-type {\n",
       "        vertical-align: middle;\n",
       "    }\n",
       "\n",
       "    .dataframe tbody tr th {\n",
       "        vertical-align: top;\n",
       "    }\n",
       "\n",
       "    .dataframe thead th {\n",
       "        text-align: right;\n",
       "    }\n",
       "</style>\n",
       "<table border=\"1\" class=\"dataframe\">\n",
       "  <thead>\n",
       "    <tr style=\"text-align: right;\">\n",
       "      <th></th>\n",
       "      <th>dist</th>\n",
       "      <th>den_multi</th>\n",
       "      <th>green</th>\n",
       "      <th>iteration</th>\n",
       "      <th>park_attr_str</th>\n",
       "      <th>street_width</th>\n",
       "      <th>comfort</th>\n",
       "      <th>daylighting</th>\n",
       "      <th>street_area</th>\n",
       "      <th>surprise</th>\n",
       "      <th>grid_0</th>\n",
       "      <th>grid_1</th>\n",
       "      <th>grid_2</th>\n",
       "      <th>grid_3</th>\n",
       "      <th>grid_4</th>\n",
       "      <th>grid_5</th>\n",
       "      <th>park_attr_0</th>\n",
       "      <th>park_attr_1</th>\n",
       "      <th>park_attr_2</th>\n",
       "    </tr>\n",
       "  </thead>\n",
       "  <tbody>\n",
       "    <tr>\n",
       "      <th>4433</th>\n",
       "      <td>4.0</td>\n",
       "      <td>0.8</td>\n",
       "      <td>0.25</td>\n",
       "      <td>4433</td>\n",
       "      <td>0.5</td>\n",
       "      <td>1.2</td>\n",
       "      <td>390</td>\n",
       "      <td>57.74</td>\n",
       "      <td>311698</td>\n",
       "      <td>0.52</td>\n",
       "      <td>0</td>\n",
       "      <td>0</td>\n",
       "      <td>0</td>\n",
       "      <td>0</td>\n",
       "      <td>1</td>\n",
       "      <td>0</td>\n",
       "      <td>0</td>\n",
       "      <td>0</td>\n",
       "      <td>1</td>\n",
       "    </tr>\n",
       "  </tbody>\n",
       "</table>\n",
       "</div>"
      ],
      "text/plain": [
       "      dist  den_multi  green  iteration  park_attr_str  street_width  comfort  \\\n",
       "4433   4.0        0.8   0.25       4433            0.5           1.2      390   \n",
       "\n",
       "      daylighting  street_area  surprise  grid_0  grid_1  grid_2  grid_3  \\\n",
       "4433        57.74       311698      0.52       0       0       0       0   \n",
       "\n",
       "      grid_4  grid_5  park_attr_0  park_attr_1  park_attr_2  \n",
       "4433       1       0            0            0            1  "
      ]
     },
     "execution_count": 320,
     "metadata": {},
     "output_type": "execute_result"
    }
   ],
   "source": [
    "data[data.iteration == 4433].drop(drop_cols, axis=1)"
   ]
  },
  {
   "cell_type": "markdown",
   "metadata": {},
   "source": [
    "### Den_M_exp"
   ]
  },
  {
   "cell_type": "code",
   "execution_count": 299,
   "metadata": {},
   "outputs": [
    {
     "data": {
      "text/html": [
       "<div>\n",
       "<style scoped>\n",
       "    .dataframe tbody tr th:only-of-type {\n",
       "        vertical-align: middle;\n",
       "    }\n",
       "\n",
       "    .dataframe tbody tr th {\n",
       "        vertical-align: top;\n",
       "    }\n",
       "\n",
       "    .dataframe thead th {\n",
       "        text-align: right;\n",
       "    }\n",
       "</style>\n",
       "<table border=\"1\" class=\"dataframe\">\n",
       "  <thead>\n",
       "    <tr style=\"text-align: right;\">\n",
       "      <th></th>\n",
       "      <th>dist</th>\n",
       "      <th>den_multi</th>\n",
       "      <th>green</th>\n",
       "      <th>park_attr_str</th>\n",
       "      <th>street_width</th>\n",
       "      <th>comfort</th>\n",
       "      <th>daylighting</th>\n",
       "      <th>surprise</th>\n",
       "      <th>exp_score</th>\n",
       "      <th>cluster</th>\n",
       "    </tr>\n",
       "  </thead>\n",
       "  <tbody>\n",
       "    <tr>\n",
       "      <th>4365</th>\n",
       "      <td>3.0</td>\n",
       "      <td>1.0</td>\n",
       "      <td>0.15</td>\n",
       "      <td>0.95</td>\n",
       "      <td>0.8</td>\n",
       "      <td>0.659740</td>\n",
       "      <td>0.277378</td>\n",
       "      <td>0.891304</td>\n",
       "      <td>1017.0</td>\n",
       "      <td>0</td>\n",
       "    </tr>\n",
       "    <tr>\n",
       "      <th>3732</th>\n",
       "      <td>3.0</td>\n",
       "      <td>1.0</td>\n",
       "      <td>0.15</td>\n",
       "      <td>0.95</td>\n",
       "      <td>0.8</td>\n",
       "      <td>0.659740</td>\n",
       "      <td>0.278098</td>\n",
       "      <td>0.891304</td>\n",
       "      <td>1017.0</td>\n",
       "      <td>0</td>\n",
       "    </tr>\n",
       "    <tr>\n",
       "      <th>3227</th>\n",
       "      <td>3.0</td>\n",
       "      <td>1.0</td>\n",
       "      <td>0.15</td>\n",
       "      <td>0.95</td>\n",
       "      <td>0.9</td>\n",
       "      <td>0.657143</td>\n",
       "      <td>0.292747</td>\n",
       "      <td>0.891304</td>\n",
       "      <td>1017.0</td>\n",
       "      <td>0</td>\n",
       "    </tr>\n",
       "  </tbody>\n",
       "</table>\n",
       "</div>"
      ],
      "text/plain": [
       "      dist  den_multi  green  park_attr_str  street_width   comfort  \\\n",
       "4365   3.0        1.0   0.15           0.95           0.8  0.659740   \n",
       "3732   3.0        1.0   0.15           0.95           0.8  0.659740   \n",
       "3227   3.0        1.0   0.15           0.95           0.9  0.657143   \n",
       "\n",
       "      daylighting  surprise  exp_score  cluster  \n",
       "4365     0.277378  0.891304     1017.0        0  \n",
       "3732     0.278098  0.891304     1017.0        0  \n",
       "3227     0.292747  0.891304     1017.0        0  "
      ]
     },
     "execution_count": 299,
     "metadata": {},
     "output_type": "execute_result"
    }
   ],
   "source": [
    "# CONCLUSION Den_M_exp: k=4\n",
    "# Cluster O, Medoid is 4365\n",
    "# 89 Surprise, 66 Comfort, 28 Daylighting \n",
    "df[(df.cluster == 0) & (df.dist == 3.0) & (df.green == 0.15)]"
   ]
  },
  {
   "cell_type": "code",
   "execution_count": 330,
   "metadata": {},
   "outputs": [
    {
     "data": {
      "text/html": [
       "<div>\n",
       "<style scoped>\n",
       "    .dataframe tbody tr th:only-of-type {\n",
       "        vertical-align: middle;\n",
       "    }\n",
       "\n",
       "    .dataframe tbody tr th {\n",
       "        vertical-align: top;\n",
       "    }\n",
       "\n",
       "    .dataframe thead th {\n",
       "        text-align: right;\n",
       "    }\n",
       "</style>\n",
       "<table border=\"1\" class=\"dataframe\">\n",
       "  <thead>\n",
       "    <tr style=\"text-align: right;\">\n",
       "      <th></th>\n",
       "      <th>dist</th>\n",
       "      <th>den_multi</th>\n",
       "      <th>green</th>\n",
       "      <th>iteration</th>\n",
       "      <th>park_attr_str</th>\n",
       "      <th>street_width</th>\n",
       "      <th>comfort</th>\n",
       "      <th>daylighting</th>\n",
       "      <th>street_area</th>\n",
       "      <th>surprise</th>\n",
       "      <th>grid_0</th>\n",
       "      <th>grid_1</th>\n",
       "      <th>grid_2</th>\n",
       "      <th>grid_3</th>\n",
       "      <th>grid_4</th>\n",
       "      <th>grid_5</th>\n",
       "      <th>park_attr_0</th>\n",
       "      <th>park_attr_1</th>\n",
       "      <th>park_attr_2</th>\n",
       "    </tr>\n",
       "  </thead>\n",
       "  <tbody>\n",
       "    <tr>\n",
       "      <th>4365</th>\n",
       "      <td>3.0</td>\n",
       "      <td>1.0</td>\n",
       "      <td>0.15</td>\n",
       "      <td>4365</td>\n",
       "      <td>0.95</td>\n",
       "      <td>0.8</td>\n",
       "      <td>470</td>\n",
       "      <td>50.36</td>\n",
       "      <td>210274</td>\n",
       "      <td>0.59</td>\n",
       "      <td>0</td>\n",
       "      <td>0</td>\n",
       "      <td>0</td>\n",
       "      <td>0</td>\n",
       "      <td>0</td>\n",
       "      <td>1</td>\n",
       "      <td>0</td>\n",
       "      <td>0</td>\n",
       "      <td>1</td>\n",
       "    </tr>\n",
       "  </tbody>\n",
       "</table>\n",
       "</div>"
      ],
      "text/plain": [
       "      dist  den_multi  green  iteration  park_attr_str  street_width  comfort  \\\n",
       "4365   3.0        1.0   0.15       4365           0.95           0.8      470   \n",
       "\n",
       "      daylighting  street_area  surprise  grid_0  grid_1  grid_2  grid_3  \\\n",
       "4365        50.36       210274      0.59       0       0       0       0   \n",
       "\n",
       "      grid_4  grid_5  park_attr_0  park_attr_1  park_attr_2  \n",
       "4365       0       1            0            0            1  "
      ]
     },
     "execution_count": 330,
     "metadata": {},
     "output_type": "execute_result"
    }
   ],
   "source": [
    "data[data.iteration == 4365].drop(drop_cols, axis=1)"
   ]
  },
  {
   "cell_type": "code",
   "execution_count": 332,
   "metadata": {},
   "outputs": [],
   "source": [
    "# data.iloc[4365, :]"
   ]
  },
  {
   "cell_type": "code",
   "execution_count": 325,
   "metadata": {},
   "outputs": [
    {
     "data": {
      "text/html": [
       "<div>\n",
       "<style scoped>\n",
       "    .dataframe tbody tr th:only-of-type {\n",
       "        vertical-align: middle;\n",
       "    }\n",
       "\n",
       "    .dataframe tbody tr th {\n",
       "        vertical-align: top;\n",
       "    }\n",
       "\n",
       "    .dataframe thead th {\n",
       "        text-align: right;\n",
       "    }\n",
       "</style>\n",
       "<table border=\"1\" class=\"dataframe\">\n",
       "  <thead>\n",
       "    <tr style=\"text-align: right;\">\n",
       "      <th></th>\n",
       "      <th>dist</th>\n",
       "      <th>den_multi</th>\n",
       "      <th>green</th>\n",
       "      <th>park_attr_str</th>\n",
       "      <th>street_width</th>\n",
       "      <th>comfort</th>\n",
       "      <th>daylighting</th>\n",
       "      <th>surprise</th>\n",
       "      <th>exp_score</th>\n",
       "      <th>cluster</th>\n",
       "    </tr>\n",
       "  </thead>\n",
       "  <tbody>\n",
       "    <tr>\n",
       "      <th>391</th>\n",
       "      <td>1.25</td>\n",
       "      <td>1.0</td>\n",
       "      <td>0.3</td>\n",
       "      <td>0.65</td>\n",
       "      <td>1.1</td>\n",
       "      <td>0.319481</td>\n",
       "      <td>0.527378</td>\n",
       "      <td>0.956522</td>\n",
       "      <td>1054.0</td>\n",
       "      <td>1</td>\n",
       "    </tr>\n",
       "    <tr>\n",
       "      <th>3556</th>\n",
       "      <td>1.25</td>\n",
       "      <td>1.0</td>\n",
       "      <td>0.3</td>\n",
       "      <td>0.95</td>\n",
       "      <td>0.8</td>\n",
       "      <td>0.298701</td>\n",
       "      <td>0.471182</td>\n",
       "      <td>0.956522</td>\n",
       "      <td>1006.0</td>\n",
       "      <td>1</td>\n",
       "    </tr>\n",
       "    <tr>\n",
       "      <th>7820</th>\n",
       "      <td>1.25</td>\n",
       "      <td>1.0</td>\n",
       "      <td>0.3</td>\n",
       "      <td>0.65</td>\n",
       "      <td>1.0</td>\n",
       "      <td>0.353247</td>\n",
       "      <td>0.663305</td>\n",
       "      <td>0.869565</td>\n",
       "      <td>993.0</td>\n",
       "      <td>1</td>\n",
       "    </tr>\n",
       "    <tr>\n",
       "      <th>8328</th>\n",
       "      <td>1.25</td>\n",
       "      <td>1.0</td>\n",
       "      <td>0.3</td>\n",
       "      <td>0.50</td>\n",
       "      <td>1.3</td>\n",
       "      <td>0.457143</td>\n",
       "      <td>0.733189</td>\n",
       "      <td>0.782609</td>\n",
       "      <td>969.0</td>\n",
       "      <td>1</td>\n",
       "    </tr>\n",
       "    <tr>\n",
       "      <th>4516</th>\n",
       "      <td>1.25</td>\n",
       "      <td>1.0</td>\n",
       "      <td>0.3</td>\n",
       "      <td>0.50</td>\n",
       "      <td>1.2</td>\n",
       "      <td>0.410390</td>\n",
       "      <td>0.685639</td>\n",
       "      <td>0.804348</td>\n",
       "      <td>912.0</td>\n",
       "      <td>1</td>\n",
       "    </tr>\n",
       "  </tbody>\n",
       "</table>\n",
       "</div>"
      ],
      "text/plain": [
       "      dist  den_multi  green  park_attr_str  street_width   comfort  \\\n",
       "391   1.25        1.0    0.3           0.65           1.1  0.319481   \n",
       "3556  1.25        1.0    0.3           0.95           0.8  0.298701   \n",
       "7820  1.25        1.0    0.3           0.65           1.0  0.353247   \n",
       "8328  1.25        1.0    0.3           0.50           1.3  0.457143   \n",
       "4516  1.25        1.0    0.3           0.50           1.2  0.410390   \n",
       "\n",
       "      daylighting  surprise  exp_score  cluster  \n",
       "391      0.527378  0.956522     1054.0        1  \n",
       "3556     0.471182  0.956522     1006.0        1  \n",
       "7820     0.663305  0.869565      993.0        1  \n",
       "8328     0.733189  0.782609      969.0        1  \n",
       "4516     0.685639  0.804348      912.0        1  "
      ]
     },
     "execution_count": 325,
     "metadata": {},
     "output_type": "execute_result"
    }
   ],
   "source": [
    "# Cluster 1, Medoid is row 7820, iteration 7930\n",
    "# 87 Surprise, 66 Daylighting, 35 Comfort\n",
    "df[(df.cluster == 1) & (df.green == 0.3) & (df.dist == 1.25)]"
   ]
  },
  {
   "cell_type": "code",
   "execution_count": 329,
   "metadata": {},
   "outputs": [
    {
     "data": {
      "text/plain": [
       "dist                  1.25\n",
       "den_multi             1.00\n",
       "green                 0.30\n",
       "iteration          7930.00\n",
       "park_attr_str         0.65\n",
       "street_width          1.00\n",
       "bar_bldg             36.00\n",
       "courtyard            33.00\n",
       "extrusion             0.00\n",
       "industrial            1.00\n",
       "infill                0.00\n",
       "small_mid             0.00\n",
       "towers                4.00\n",
       "comfort             352.00\n",
       "daylighting          66.43\n",
       "energy                0.00\n",
       "view                974.00\n",
       "street_area      265899.00\n",
       "surprise              0.58\n",
       "grid_0                1.00\n",
       "grid_1                0.00\n",
       "grid_2                0.00\n",
       "grid_3                0.00\n",
       "grid_4                0.00\n",
       "grid_5                0.00\n",
       "park_attr_0           0.00\n",
       "park_attr_1           0.00\n",
       "park_attr_2           1.00\n",
       "Name: 7820, dtype: float64"
      ]
     },
     "execution_count": 329,
     "metadata": {},
     "output_type": "execute_result"
    }
   ],
   "source": [
    "data.iloc[7820, :]"
   ]
  },
  {
   "cell_type": "markdown",
   "metadata": {},
   "source": [
    "### Den_M_Log"
   ]
  },
  {
   "cell_type": "code",
   "execution_count": 611,
   "metadata": {},
   "outputs": [
    {
     "data": {
      "text/html": [
       "<div>\n",
       "<style scoped>\n",
       "    .dataframe tbody tr th:only-of-type {\n",
       "        vertical-align: middle;\n",
       "    }\n",
       "\n",
       "    .dataframe tbody tr th {\n",
       "        vertical-align: top;\n",
       "    }\n",
       "\n",
       "    .dataframe thead th {\n",
       "        text-align: right;\n",
       "    }\n",
       "</style>\n",
       "<table border=\"1\" class=\"dataframe\">\n",
       "  <thead>\n",
       "    <tr style=\"text-align: right;\">\n",
       "      <th></th>\n",
       "      <th>dist</th>\n",
       "      <th>den_multi</th>\n",
       "      <th>green</th>\n",
       "      <th>park_attr_str</th>\n",
       "      <th>street_width</th>\n",
       "      <th>comfort</th>\n",
       "      <th>daylighting</th>\n",
       "      <th>surprise</th>\n",
       "      <th>log_score</th>\n",
       "      <th>cluster</th>\n",
       "    </tr>\n",
       "  </thead>\n",
       "  <tbody>\n",
       "    <tr>\n",
       "      <th>6702</th>\n",
       "      <td>2.0</td>\n",
       "      <td>1.0</td>\n",
       "      <td>0.2</td>\n",
       "      <td>0.5</td>\n",
       "      <td>1.4</td>\n",
       "      <td>0.631169</td>\n",
       "      <td>0.593420</td>\n",
       "      <td>0.630435</td>\n",
       "      <td>5.914409</td>\n",
       "      <td>2</td>\n",
       "    </tr>\n",
       "    <tr>\n",
       "      <th>726</th>\n",
       "      <td>1.5</td>\n",
       "      <td>1.0</td>\n",
       "      <td>0.2</td>\n",
       "      <td>0.8</td>\n",
       "      <td>1.4</td>\n",
       "      <td>0.561039</td>\n",
       "      <td>0.588617</td>\n",
       "      <td>0.673913</td>\n",
       "      <td>5.864447</td>\n",
       "      <td>2</td>\n",
       "    </tr>\n",
       "    <tr>\n",
       "      <th>3853</th>\n",
       "      <td>1.5</td>\n",
       "      <td>1.0</td>\n",
       "      <td>0.2</td>\n",
       "      <td>0.5</td>\n",
       "      <td>1.4</td>\n",
       "      <td>0.568831</td>\n",
       "      <td>0.549232</td>\n",
       "      <td>0.695652</td>\n",
       "      <td>5.844973</td>\n",
       "      <td>2</td>\n",
       "    </tr>\n",
       "    <tr>\n",
       "      <th>1910</th>\n",
       "      <td>2.0</td>\n",
       "      <td>1.0</td>\n",
       "      <td>0.2</td>\n",
       "      <td>0.8</td>\n",
       "      <td>1.4</td>\n",
       "      <td>0.545455</td>\n",
       "      <td>0.579251</td>\n",
       "      <td>0.673913</td>\n",
       "      <td>5.826894</td>\n",
       "      <td>2</td>\n",
       "    </tr>\n",
       "    <tr>\n",
       "      <th>5994</th>\n",
       "      <td>1.5</td>\n",
       "      <td>1.0</td>\n",
       "      <td>0.2</td>\n",
       "      <td>0.5</td>\n",
       "      <td>1.4</td>\n",
       "      <td>0.535065</td>\n",
       "      <td>0.576849</td>\n",
       "      <td>0.673913</td>\n",
       "      <td>5.807125</td>\n",
       "      <td>2</td>\n",
       "    </tr>\n",
       "  </tbody>\n",
       "</table>\n",
       "</div>"
      ],
      "text/plain": [
       "      dist  den_multi  green  park_attr_str  street_width   comfort  \\\n",
       "6702   2.0        1.0    0.2            0.5           1.4  0.631169   \n",
       "726    1.5        1.0    0.2            0.8           1.4  0.561039   \n",
       "3853   1.5        1.0    0.2            0.5           1.4  0.568831   \n",
       "1910   2.0        1.0    0.2            0.8           1.4  0.545455   \n",
       "5994   1.5        1.0    0.2            0.5           1.4  0.535065   \n",
       "\n",
       "      daylighting  surprise  log_score  cluster  \n",
       "6702     0.593420  0.630435   5.914409        2  \n",
       "726      0.588617  0.673913   5.864447        2  \n",
       "3853     0.549232  0.695652   5.844973        2  \n",
       "1910     0.579251  0.673913   5.826894        2  \n",
       "5994     0.576849  0.673913   5.807125        2  "
      ]
     },
     "execution_count": 611,
     "metadata": {},
     "output_type": "execute_result"
    }
   ],
   "source": [
    "# Cluster 1, Medoid is row 7820, iteration 7930\n",
    "# 87 Surprise, 66 Daylighting, 35 Comfort\n",
    "df[(df.cluster == 2) & (df.green == 0.2)]"
   ]
  },
  {
   "cell_type": "code",
   "execution_count": 615,
   "metadata": {},
   "outputs": [
    {
     "data": {
      "text/plain": [
       "6702    0.47\n",
       "Name: surprise, dtype: float64"
      ]
     },
     "execution_count": 615,
     "metadata": {},
     "output_type": "execute_result"
    }
   ],
   "source": [
    "data[(data.iteration == 6702)].surprise\n"
   ]
  },
  {
   "cell_type": "markdown",
   "metadata": {},
   "source": [
    "### Den_L_exp"
   ]
  },
  {
   "cell_type": "code",
   "execution_count": 344,
   "metadata": {},
   "outputs": [
    {
     "data": {
      "text/html": [
       "<div>\n",
       "<style scoped>\n",
       "    .dataframe tbody tr th:only-of-type {\n",
       "        vertical-align: middle;\n",
       "    }\n",
       "\n",
       "    .dataframe tbody tr th {\n",
       "        vertical-align: top;\n",
       "    }\n",
       "\n",
       "    .dataframe thead th {\n",
       "        text-align: right;\n",
       "    }\n",
       "</style>\n",
       "<table border=\"1\" class=\"dataframe\">\n",
       "  <thead>\n",
       "    <tr style=\"text-align: right;\">\n",
       "      <th></th>\n",
       "      <th>dist</th>\n",
       "      <th>den_multi</th>\n",
       "      <th>green</th>\n",
       "      <th>park_attr_str</th>\n",
       "      <th>street_width</th>\n",
       "      <th>comfort</th>\n",
       "      <th>daylighting</th>\n",
       "      <th>surprise</th>\n",
       "      <th>exp_score</th>\n",
       "      <th>cluster</th>\n",
       "    </tr>\n",
       "  </thead>\n",
       "  <tbody>\n",
       "    <tr>\n",
       "      <th>4519</th>\n",
       "      <td>1.5</td>\n",
       "      <td>1.2</td>\n",
       "      <td>0.3</td>\n",
       "      <td>0.65</td>\n",
       "      <td>1.3</td>\n",
       "      <td>0.470130</td>\n",
       "      <td>0.916667</td>\n",
       "      <td>0.717391</td>\n",
       "      <td>1243.0</td>\n",
       "      <td>0</td>\n",
       "    </tr>\n",
       "    <tr>\n",
       "      <th>3779</th>\n",
       "      <td>1.5</td>\n",
       "      <td>1.2</td>\n",
       "      <td>0.3</td>\n",
       "      <td>0.65</td>\n",
       "      <td>1.4</td>\n",
       "      <td>0.402597</td>\n",
       "      <td>0.737272</td>\n",
       "      <td>0.739130</td>\n",
       "      <td>870.0</td>\n",
       "      <td>0</td>\n",
       "    </tr>\n",
       "  </tbody>\n",
       "</table>\n",
       "</div>"
      ],
      "text/plain": [
       "      dist  den_multi  green  park_attr_str  street_width   comfort  \\\n",
       "4519   1.5        1.2    0.3           0.65           1.3  0.470130   \n",
       "3779   1.5        1.2    0.3           0.65           1.4  0.402597   \n",
       "\n",
       "      daylighting  surprise  exp_score  cluster  \n",
       "4519     0.916667  0.717391     1243.0        0  \n",
       "3779     0.737272  0.739130      870.0        0  "
      ]
     },
     "execution_count": 344,
     "metadata": {},
     "output_type": "execute_result"
    }
   ],
   "source": [
    "# Cluster 1, Medoid is row 7820, iteration 7930\n",
    "# 87 Surprise, 66 Daylighting, 35 Comfort\n",
    "df[(df.cluster == 0) & (df.green == 0.3) & (df.dist == 1.5) & (df.park_attr_str == 0.65)]"
   ]
  },
  {
   "cell_type": "code",
   "execution_count": 346,
   "metadata": {},
   "outputs": [
    {
     "data": {
      "text/html": [
       "<div>\n",
       "<style scoped>\n",
       "    .dataframe tbody tr th:only-of-type {\n",
       "        vertical-align: middle;\n",
       "    }\n",
       "\n",
       "    .dataframe tbody tr th {\n",
       "        vertical-align: top;\n",
       "    }\n",
       "\n",
       "    .dataframe thead th {\n",
       "        text-align: right;\n",
       "    }\n",
       "</style>\n",
       "<table border=\"1\" class=\"dataframe\">\n",
       "  <thead>\n",
       "    <tr style=\"text-align: right;\">\n",
       "      <th></th>\n",
       "      <th>dist</th>\n",
       "      <th>den_multi</th>\n",
       "      <th>green</th>\n",
       "      <th>iteration</th>\n",
       "      <th>park_attr_str</th>\n",
       "      <th>street_width</th>\n",
       "      <th>comfort</th>\n",
       "      <th>daylighting</th>\n",
       "      <th>street_area</th>\n",
       "      <th>surprise</th>\n",
       "      <th>grid_0</th>\n",
       "      <th>grid_1</th>\n",
       "      <th>grid_2</th>\n",
       "      <th>grid_3</th>\n",
       "      <th>grid_4</th>\n",
       "      <th>grid_5</th>\n",
       "      <th>park_attr_0</th>\n",
       "      <th>park_attr_1</th>\n",
       "      <th>park_attr_2</th>\n",
       "    </tr>\n",
       "  </thead>\n",
       "  <tbody>\n",
       "    <tr>\n",
       "      <th>4519</th>\n",
       "      <td>1.5</td>\n",
       "      <td>1.2</td>\n",
       "      <td>0.3</td>\n",
       "      <td>4519</td>\n",
       "      <td>0.65</td>\n",
       "      <td>1.3</td>\n",
       "      <td>397</td>\n",
       "      <td>76.98</td>\n",
       "      <td>291118</td>\n",
       "      <td>0.51</td>\n",
       "      <td>0</td>\n",
       "      <td>1</td>\n",
       "      <td>0</td>\n",
       "      <td>0</td>\n",
       "      <td>0</td>\n",
       "      <td>0</td>\n",
       "      <td>0</td>\n",
       "      <td>0</td>\n",
       "      <td>1</td>\n",
       "    </tr>\n",
       "  </tbody>\n",
       "</table>\n",
       "</div>"
      ],
      "text/plain": [
       "      dist  den_multi  green  iteration  park_attr_str  street_width  comfort  \\\n",
       "4519   1.5        1.2    0.3       4519           0.65           1.3      397   \n",
       "\n",
       "      daylighting  street_area  surprise  grid_0  grid_1  grid_2  grid_3  \\\n",
       "4519        76.98       291118      0.51       0       1       0       0   \n",
       "\n",
       "      grid_4  grid_5  park_attr_0  park_attr_1  park_attr_2  \n",
       "4519       0       0            0            0            1  "
      ]
     },
     "execution_count": 346,
     "metadata": {},
     "output_type": "execute_result"
    }
   ],
   "source": [
    "data[(data.iteration == 4519)].drop(drop_cols, axis=1)"
   ]
  },
  {
   "cell_type": "markdown",
   "metadata": {},
   "source": [
    "### Den_L_log"
   ]
  },
  {
   "cell_type": "code",
   "execution_count": 603,
   "metadata": {},
   "outputs": [
    {
     "data": {
      "text/html": [
       "<div>\n",
       "<style scoped>\n",
       "    .dataframe tbody tr th:only-of-type {\n",
       "        vertical-align: middle;\n",
       "    }\n",
       "\n",
       "    .dataframe tbody tr th {\n",
       "        vertical-align: top;\n",
       "    }\n",
       "\n",
       "    .dataframe thead th {\n",
       "        text-align: right;\n",
       "    }\n",
       "</style>\n",
       "<table border=\"1\" class=\"dataframe\">\n",
       "  <thead>\n",
       "    <tr style=\"text-align: right;\">\n",
       "      <th></th>\n",
       "      <th>dist</th>\n",
       "      <th>den_multi</th>\n",
       "      <th>green</th>\n",
       "      <th>park_attr_str</th>\n",
       "      <th>street_width</th>\n",
       "      <th>comfort</th>\n",
       "      <th>daylighting</th>\n",
       "      <th>surprise</th>\n",
       "      <th>log_score</th>\n",
       "      <th>cluster</th>\n",
       "    </tr>\n",
       "  </thead>\n",
       "  <tbody>\n",
       "    <tr>\n",
       "      <th>4052</th>\n",
       "      <td>3.0</td>\n",
       "      <td>1.2</td>\n",
       "      <td>0.25</td>\n",
       "      <td>0.8</td>\n",
       "      <td>1.3</td>\n",
       "      <td>0.498701</td>\n",
       "      <td>0.699328</td>\n",
       "      <td>0.739130</td>\n",
       "      <td>5.995389</td>\n",
       "      <td>2</td>\n",
       "    </tr>\n",
       "    <tr>\n",
       "      <th>4427</th>\n",
       "      <td>3.0</td>\n",
       "      <td>1.2</td>\n",
       "      <td>0.25</td>\n",
       "      <td>0.8</td>\n",
       "      <td>1.2</td>\n",
       "      <td>0.511688</td>\n",
       "      <td>0.693564</td>\n",
       "      <td>0.695652</td>\n",
       "      <td>5.956408</td>\n",
       "      <td>2</td>\n",
       "    </tr>\n",
       "    <tr>\n",
       "      <th>800</th>\n",
       "      <td>3.0</td>\n",
       "      <td>1.2</td>\n",
       "      <td>0.25</td>\n",
       "      <td>0.8</td>\n",
       "      <td>0.9</td>\n",
       "      <td>0.503896</td>\n",
       "      <td>0.650817</td>\n",
       "      <td>0.739130</td>\n",
       "      <td>5.941419</td>\n",
       "      <td>2</td>\n",
       "    </tr>\n",
       "  </tbody>\n",
       "</table>\n",
       "</div>"
      ],
      "text/plain": [
       "      dist  den_multi  green  park_attr_str  street_width   comfort  \\\n",
       "4052   3.0        1.2   0.25            0.8           1.3  0.498701   \n",
       "4427   3.0        1.2   0.25            0.8           1.2  0.511688   \n",
       "800    3.0        1.2   0.25            0.8           0.9  0.503896   \n",
       "\n",
       "      daylighting  surprise  log_score  cluster  \n",
       "4052     0.699328  0.739130   5.995389        2  \n",
       "4427     0.693564  0.695652   5.956408        2  \n",
       "800      0.650817  0.739130   5.941419        2  "
      ]
     },
     "execution_count": 603,
     "metadata": {},
     "output_type": "execute_result"
    }
   ],
   "source": [
    "# Cluster 2, \n",
    "# 87 Surprise, 66 Daylighting, 35 Comfort\n",
    "df[(df.cluster == 2) & (df.green == 0.25) & (df.dist == 3.0)]"
   ]
  },
  {
   "cell_type": "code",
   "execution_count": 604,
   "metadata": {},
   "outputs": [
    {
     "data": {
      "text/html": [
       "<div>\n",
       "<style scoped>\n",
       "    .dataframe tbody tr th:only-of-type {\n",
       "        vertical-align: middle;\n",
       "    }\n",
       "\n",
       "    .dataframe tbody tr th {\n",
       "        vertical-align: top;\n",
       "    }\n",
       "\n",
       "    .dataframe thead th {\n",
       "        text-align: right;\n",
       "    }\n",
       "</style>\n",
       "<table border=\"1\" class=\"dataframe\">\n",
       "  <thead>\n",
       "    <tr style=\"text-align: right;\">\n",
       "      <th></th>\n",
       "      <th>dist</th>\n",
       "      <th>den_multi</th>\n",
       "      <th>green</th>\n",
       "      <th>park_attr_str</th>\n",
       "      <th>street_width</th>\n",
       "      <th>grid_0</th>\n",
       "      <th>grid_1</th>\n",
       "      <th>grid_2</th>\n",
       "      <th>grid_3</th>\n",
       "      <th>grid_4</th>\n",
       "      <th>grid_5</th>\n",
       "      <th>park_attr_0</th>\n",
       "      <th>park_attr_1</th>\n",
       "      <th>park_attr_2</th>\n",
       "    </tr>\n",
       "  </thead>\n",
       "  <tbody>\n",
       "    <tr>\n",
       "      <th>4427</th>\n",
       "      <td>3.0</td>\n",
       "      <td>1.2</td>\n",
       "      <td>0.25</td>\n",
       "      <td>0.8</td>\n",
       "      <td>1.2</td>\n",
       "      <td>0</td>\n",
       "      <td>1</td>\n",
       "      <td>0</td>\n",
       "      <td>0</td>\n",
       "      <td>0</td>\n",
       "      <td>0</td>\n",
       "      <td>0</td>\n",
       "      <td>0</td>\n",
       "      <td>1</td>\n",
       "    </tr>\n",
       "  </tbody>\n",
       "</table>\n",
       "</div>"
      ],
      "text/plain": [
       "      dist  den_multi  green  park_attr_str  street_width  grid_0  grid_1  \\\n",
       "4427   3.0        1.2   0.25            0.8           1.2       0       1   \n",
       "\n",
       "      grid_2  grid_3  grid_4  grid_5  park_attr_0  park_attr_1  park_attr_2  \n",
       "4427       0       0       0       0            0            0            1  "
      ]
     },
     "execution_count": 604,
     "metadata": {},
     "output_type": "execute_result"
    }
   ],
   "source": [
    "data[(data.iteration == 4427)].drop(drop_cols, axis=1)"
   ]
  },
  {
   "cell_type": "code",
   "execution_count": 607,
   "metadata": {},
   "outputs": [
    {
     "data": {
      "text/plain": [
       "4427    0.5\n",
       "Name: surprise, dtype: float64"
      ]
     },
     "execution_count": 607,
     "metadata": {},
     "output_type": "execute_result"
    }
   ],
   "source": [
    "data[(data.iteration == 4427)].surprise\n"
   ]
  },
  {
   "cell_type": "code",
   "execution_count": null,
   "metadata": {},
   "outputs": [],
   "source": []
  }
 ],
 "metadata": {
  "kernelspec": {
   "display_name": "Python 3",
   "language": "python",
   "name": "python3"
  },
  "language_info": {
   "codemirror_mode": {
    "name": "ipython",
    "version": 3
   },
   "file_extension": ".py",
   "mimetype": "text/x-python",
   "name": "python",
   "nbconvert_exporter": "python",
   "pygments_lexer": "ipython3",
   "version": "3.6.4"
  }
 },
 "nbformat": 4,
 "nbformat_minor": 2
}
